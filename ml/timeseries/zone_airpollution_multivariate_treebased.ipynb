{
 "cells": [
  {
   "cell_type": "code",
   "execution_count": 1,
   "metadata": {},
   "outputs": [],
   "source": [
    "# https://machinelearningmastery.com/how-to-develop-a-probabilistic-forecasting-model-to-predict-air-pollution-days/\n",
    "\n",
    "\n",
    "# Following Ensemble Tree Prediction Models"
   ]
  },
  {
   "cell_type": "code",
   "execution_count": 1,
   "metadata": {},
   "outputs": [],
   "source": [
    "import pandas as pd\n",
    "import numpy as np\n",
    "import os\n",
    "import matplotlib.pyplot as plt\n",
    "\n",
    "import warnings\n",
    "warnings.filterwarnings('ignore')"
   ]
  },
  {
   "cell_type": "code",
   "execution_count": 19,
   "metadata": {},
   "outputs": [
    {
     "name": "stdout",
     "output_type": "stream",
     "text": [
      "(2534, 73)\n",
      "2\n",
      "73\n",
      "0.0    2374\n",
      "1.0     160\n",
      "dtype: int64\n",
      "Class=0, total=2374, percentage=93.686\n",
      "Class=1, total=160, percentage=6.314\n"
     ]
    }
   ],
   "source": [
    "# load dataset\n",
    "data = pd.read_csv('uci_ozone_data/eighthr.data', header=None, index_col=0, parse_dates=True, squeeze=True)\n",
    "print(data.shape)\n",
    "# summarize class counts\n",
    "counts = data.groupby(data.shape[1]).size()\n",
    "print(len(counts))\n",
    "print(counts)\n",
    "for i in range(len(counts)):\n",
    "\tpercent = counts[i] / data.shape[0] * 100\n",
    "\tprint('Class=%d, total=%d, percentage=%.3f' % (i, counts[i], percent))"
   ]
  },
  {
   "cell_type": "code",
   "execution_count": 4,
   "metadata": {},
   "outputs": [
    {
     "data": {
      "text/html": [
       "<div>\n",
       "<style scoped>\n",
       "    .dataframe tbody tr th:only-of-type {\n",
       "        vertical-align: middle;\n",
       "    }\n",
       "\n",
       "    .dataframe tbody tr th {\n",
       "        vertical-align: top;\n",
       "    }\n",
       "\n",
       "    .dataframe thead th {\n",
       "        text-align: right;\n",
       "    }\n",
       "</style>\n",
       "<table border=\"1\" class=\"dataframe\">\n",
       "  <thead>\n",
       "    <tr style=\"text-align: right;\">\n",
       "      <th></th>\n",
       "      <th>1</th>\n",
       "      <th>2</th>\n",
       "      <th>3</th>\n",
       "      <th>4</th>\n",
       "      <th>5</th>\n",
       "      <th>6</th>\n",
       "      <th>7</th>\n",
       "      <th>8</th>\n",
       "      <th>9</th>\n",
       "      <th>10</th>\n",
       "      <th>...</th>\n",
       "      <th>64</th>\n",
       "      <th>65</th>\n",
       "      <th>66</th>\n",
       "      <th>67</th>\n",
       "      <th>68</th>\n",
       "      <th>69</th>\n",
       "      <th>70</th>\n",
       "      <th>71</th>\n",
       "      <th>72</th>\n",
       "      <th>73</th>\n",
       "    </tr>\n",
       "    <tr>\n",
       "      <th>0</th>\n",
       "      <th></th>\n",
       "      <th></th>\n",
       "      <th></th>\n",
       "      <th></th>\n",
       "      <th></th>\n",
       "      <th></th>\n",
       "      <th></th>\n",
       "      <th></th>\n",
       "      <th></th>\n",
       "      <th></th>\n",
       "      <th></th>\n",
       "      <th></th>\n",
       "      <th></th>\n",
       "      <th></th>\n",
       "      <th></th>\n",
       "      <th></th>\n",
       "      <th></th>\n",
       "      <th></th>\n",
       "      <th></th>\n",
       "      <th></th>\n",
       "      <th></th>\n",
       "    </tr>\n",
       "  </thead>\n",
       "  <tbody>\n",
       "    <tr>\n",
       "      <th>1998-01-01</th>\n",
       "      <td>0.8</td>\n",
       "      <td>1.8</td>\n",
       "      <td>2.4</td>\n",
       "      <td>2.1</td>\n",
       "      <td>2</td>\n",
       "      <td>2.1</td>\n",
       "      <td>1.5</td>\n",
       "      <td>1.7</td>\n",
       "      <td>1.9</td>\n",
       "      <td>2.3</td>\n",
       "      <td>...</td>\n",
       "      <td>0.15</td>\n",
       "      <td>10.67</td>\n",
       "      <td>-1.56</td>\n",
       "      <td>5795</td>\n",
       "      <td>-12.1</td>\n",
       "      <td>17.9</td>\n",
       "      <td>10330</td>\n",
       "      <td>-55</td>\n",
       "      <td>0</td>\n",
       "      <td>0.0</td>\n",
       "    </tr>\n",
       "    <tr>\n",
       "      <th>1998-01-02</th>\n",
       "      <td>2.8</td>\n",
       "      <td>3.2</td>\n",
       "      <td>3.3</td>\n",
       "      <td>2.7</td>\n",
       "      <td>3.3</td>\n",
       "      <td>3.2</td>\n",
       "      <td>2.9</td>\n",
       "      <td>2.8</td>\n",
       "      <td>3.1</td>\n",
       "      <td>3.4</td>\n",
       "      <td>...</td>\n",
       "      <td>0.48</td>\n",
       "      <td>8.39</td>\n",
       "      <td>3.84</td>\n",
       "      <td>5805</td>\n",
       "      <td>14.05</td>\n",
       "      <td>29</td>\n",
       "      <td>10275</td>\n",
       "      <td>-55</td>\n",
       "      <td>0</td>\n",
       "      <td>0.0</td>\n",
       "    </tr>\n",
       "    <tr>\n",
       "      <th>1998-01-03</th>\n",
       "      <td>2.9</td>\n",
       "      <td>2.8</td>\n",
       "      <td>2.6</td>\n",
       "      <td>2.1</td>\n",
       "      <td>2.2</td>\n",
       "      <td>2.5</td>\n",
       "      <td>2.5</td>\n",
       "      <td>2.7</td>\n",
       "      <td>2.2</td>\n",
       "      <td>2.5</td>\n",
       "      <td>...</td>\n",
       "      <td>0.6</td>\n",
       "      <td>6.94</td>\n",
       "      <td>9.8</td>\n",
       "      <td>5790</td>\n",
       "      <td>17.9</td>\n",
       "      <td>41.3</td>\n",
       "      <td>10235</td>\n",
       "      <td>-40</td>\n",
       "      <td>0</td>\n",
       "      <td>0.0</td>\n",
       "    </tr>\n",
       "    <tr>\n",
       "      <th>1998-01-04</th>\n",
       "      <td>4.7</td>\n",
       "      <td>3.8</td>\n",
       "      <td>3.7</td>\n",
       "      <td>3.8</td>\n",
       "      <td>2.9</td>\n",
       "      <td>3.1</td>\n",
       "      <td>2.8</td>\n",
       "      <td>2.5</td>\n",
       "      <td>2.4</td>\n",
       "      <td>3.1</td>\n",
       "      <td>...</td>\n",
       "      <td>0.49</td>\n",
       "      <td>8.73</td>\n",
       "      <td>10.54</td>\n",
       "      <td>5775</td>\n",
       "      <td>31.15</td>\n",
       "      <td>51.7</td>\n",
       "      <td>10195</td>\n",
       "      <td>-40</td>\n",
       "      <td>2.08</td>\n",
       "      <td>0.0</td>\n",
       "    </tr>\n",
       "    <tr>\n",
       "      <th>1998-01-05</th>\n",
       "      <td>2.6</td>\n",
       "      <td>2.1</td>\n",
       "      <td>1.6</td>\n",
       "      <td>1.4</td>\n",
       "      <td>0.9</td>\n",
       "      <td>1.5</td>\n",
       "      <td>1.2</td>\n",
       "      <td>1.4</td>\n",
       "      <td>1.3</td>\n",
       "      <td>1.4</td>\n",
       "      <td>...</td>\n",
       "      <td>?</td>\n",
       "      <td>?</td>\n",
       "      <td>?</td>\n",
       "      <td>?</td>\n",
       "      <td>?</td>\n",
       "      <td>?</td>\n",
       "      <td>?</td>\n",
       "      <td>?</td>\n",
       "      <td>0.58</td>\n",
       "      <td>0.0</td>\n",
       "    </tr>\n",
       "  </tbody>\n",
       "</table>\n",
       "<p>5 rows × 73 columns</p>\n",
       "</div>"
      ],
      "text/plain": [
       "             1    2    3    4    5    6    7    8    9    10  ...    64  \\\n",
       "0                                                             ...         \n",
       "1998-01-01  0.8  1.8  2.4  2.1    2  2.1  1.5  1.7  1.9  2.3  ...  0.15   \n",
       "1998-01-02  2.8  3.2  3.3  2.7  3.3  3.2  2.9  2.8  3.1  3.4  ...  0.48   \n",
       "1998-01-03  2.9  2.8  2.6  2.1  2.2  2.5  2.5  2.7  2.2  2.5  ...   0.6   \n",
       "1998-01-04  4.7  3.8  3.7  3.8  2.9  3.1  2.8  2.5  2.4  3.1  ...  0.49   \n",
       "1998-01-05  2.6  2.1  1.6  1.4  0.9  1.5  1.2  1.4  1.3  1.4  ...     ?   \n",
       "\n",
       "               65     66    67     68    69     70   71    72   73  \n",
       "0                                                                   \n",
       "1998-01-01  10.67  -1.56  5795  -12.1  17.9  10330  -55     0  0.0  \n",
       "1998-01-02   8.39   3.84  5805  14.05    29  10275  -55     0  0.0  \n",
       "1998-01-03   6.94    9.8  5790   17.9  41.3  10235  -40     0  0.0  \n",
       "1998-01-04   8.73  10.54  5775  31.15  51.7  10195  -40  2.08  0.0  \n",
       "1998-01-05      ?      ?     ?      ?     ?      ?    ?  0.58  0.0  \n",
       "\n",
       "[5 rows x 73 columns]"
      ]
     },
     "execution_count": 4,
     "metadata": {},
     "output_type": "execute_result"
    }
   ],
   "source": [
    "data.head()"
   ]
  },
  {
   "cell_type": "code",
   "execution_count": 5,
   "metadata": {},
   "outputs": [
    {
     "data": {
      "image/png": "[encoded data removed]",
      "text/plain": [
       "<Figure size 432x288 with 1 Axes>"
      ]
     },
     "metadata": {
      "needs_background": "light"
     },
     "output_type": "display_data"
    }
   ],
   "source": [
    "# plot the data\n",
    "plt.plot(data.index, data.values[:, -1])\n",
    "plt.show()"
   ]
  },
  {
   "cell_type": "markdown",
   "metadata": {},
   "source": [
    "We can see that there are clusters of ozone days in the middle of each year: the summer or warmer months in the northern hemisphere."
   ]
  },
  {
   "cell_type": "code",
   "execution_count": null,
   "metadata": {},
   "outputs": [],
   "source": []
  },
  {
   "cell_type": "markdown",
   "metadata": {},
   "source": [
    "From briefly reviewing the observations, we can get some ideas of how we might prepare the data:\n",
    "\n",
    "- Missing data requires handling.\n",
    "- The simplest framing is to predict ozone day tomorrow based on observations today.\n",
    "- Temperature is likely correlated with season or time of year and may be a useful predictor.\n",
    "- Data variables may require scaling (normalization) and perhaps even standardization depending on the algorithm chosen.\n",
    "- Predicting probabilities will provide more nuance than predicting class values.\n",
    "- Perhaps we can use five years (about 72%) to train a model and test it on the remaining two years (about 28%)"
   ]
  },
  {
   "cell_type": "code",
   "execution_count": 11,
   "metadata": {},
   "outputs": [
    {
     "data": {
      "text/plain": [
       "2534"
      ]
     },
     "execution_count": 11,
     "metadata": {},
     "output_type": "execute_result"
    }
   ],
   "source": [
    "len(values)"
   ]
  },
  {
   "cell_type": "code",
   "execution_count": 15,
   "metadata": {},
   "outputs": [
    {
     "name": "stdout",
     "output_type": "stream",
     "text": [
      "['2.8' '3.2' '3.3' '2.7' '3.3' '3.2' '2.9' '2.8' '3.1' '3.4' '4.2' '4.5'\n",
      " '4.5' '4.3' '5.5' '5.1' '3.8' '3' '2.6' '3' '2.2' '2.3' '2.5' '2.8' '5.5'\n",
      " '3.4' '15.1' '15.3' '15.6' '15.6' '15.9' '16.2' '16.2' '16.2' '16.6'\n",
      " '17.8' '19.4' '20.6' '21.2' '21.8' '22.4' '22.1' '20.8' '19.1' '18.1'\n",
      " '17.2' '16.5' '16.1' '16' '16.2' '22.4' '17.8' '9' '0.25' '-0.41' '9.53'\n",
      " '1594.5' '-2.2' '0.96' '8.24' '7.3' '3172' '-14.5' '0.48' '8.39' '3.84'\n",
      " '5805' '14.05' '29' '10275' '-55' '0' 0.0]\n",
      "['2.8' '3.2' '3.3' '2.7' '3.3' '3.2' '2.9' '2.8' '3.1' '3.4' '4.2' '4.5'\n",
      " '4.5' '4.3' '5.5' '5.1' '3.8' '3' '2.6' '3' '2.2' '2.3' '2.5' '2.8' '5.5'\n",
      " '3.4' '15.1' '15.3' '15.6' '15.6' '15.9' '16.2' '16.2' '16.2' '16.6'\n",
      " '17.8' '19.4' '20.6' '21.2' '21.8' '22.4' '22.1' '20.8' '19.1' '18.1'\n",
      " '17.2' '16.5' '16.1' '16' '16.2' '22.4' '17.8' '9' '0.25' '-0.41' '9.53'\n",
      " '1594.5' '-2.2' '0.96' '8.24' '7.3' '3172' '-14.5' '0.48' '8.39' '3.84'\n",
      " '5805' '14.05' '29' '10275' '-55' '0']\n",
      "0.0\n",
      "73\n"
     ]
    }
   ],
   "source": [
    "values = data.values\n",
    "# replace missing observations with 0\n",
    "values[values=='?'] = 0.0\n",
    "print(values[1])\n",
    "X1, y1 = values[1, :-1], values[2,-1]\n",
    "print(X1)\n",
    "print(y1)\n",
    "row1 = np.hstack((X1,y1))\n",
    "print(len(row1))"
   ]
  },
  {
   "cell_type": "code",
   "execution_count": 10,
   "metadata": {},
   "outputs": [
    {
     "name": "stdout",
     "output_type": "stream",
     "text": [
      "(1803, 73) (730, 73)\n"
     ]
    }
   ],
   "source": [
    "# minimal data prep for now\n",
    "\n",
    "values = data.values\n",
    "# replace missing observations with 0\n",
    "values[values=='?'] = 0.0\n",
    "# frame as supervised learning\n",
    "supervised = list()\n",
    "for i in range(len(values) - 1):\n",
    "\tX, y = values[i, :-1], values[i + 1, -1]\n",
    "\trow = np.hstack((X,y))\n",
    "\tsupervised.append(row)\n",
    "supervised = np.array(supervised)\n",
    "# split into train-test\n",
    "split = 365 * 2\n",
    "train, test = supervised[:-split,:], supervised[-split:,:]\n",
    "train, test = train.astype('float32'), test.astype('float32')\n",
    "print(train.shape, test.shape)\n",
    "# save prepared datasets\n",
    "np.savetxt('train.csv', train, delimiter=',')\n",
    "np.savetxt('test.csv', test, delimiter=',')"
   ]
  },
  {
   "cell_type": "code",
   "execution_count": null,
   "metadata": {},
   "outputs": [],
   "source": []
  },
  {
   "cell_type": "code",
   "execution_count": null,
   "metadata": {},
   "outputs": [],
   "source": []
  },
  {
   "cell_type": "code",
   "execution_count": null,
   "metadata": {},
   "outputs": [],
   "source": []
  },
  {
   "cell_type": "code",
   "execution_count": null,
   "metadata": {},
   "outputs": [],
   "source": []
  },
  {
   "cell_type": "code",
   "execution_count": null,
   "metadata": {},
   "outputs": [],
   "source": []
  }
 ],
 "metadata": {
  "kernelspec": {
   "display_name": "Python 3",
   "language": "python",
   "name": "python3"
  },
  "language_info": {
   "codemirror_mode": {
    "name": "ipython",
    "version": 3
   },
   "file_extension": ".py",
   "mimetype": "text/x-python",
   "name": "python",
   "nbconvert_exporter": "python",
   "pygments_lexer": "ipython3",
   "version": "3.6.9"
  }
 },
 "nbformat": 4,
 "nbformat_minor": 4
}
