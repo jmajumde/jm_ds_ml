{
 "cells": [
  {
   "cell_type": "code",
   "execution_count": 186,
   "metadata": {},
   "outputs": [],
   "source": [
    "# import all required libraries\n",
    "\n",
    "import pandas as pd\n",
    "import numpy as np\n",
    "\n",
    "# For Visualisation\n",
    "import matplotlib.pyplot as plt\n",
    "import seaborn as sns\n",
    "%matplotlib inline\n",
    "\n",
    "# To Scale our data\n",
    "from sklearn.preprocessing import scale\n",
    "from sklearn.preprocessing import StandardScaler\n",
    "\n",
    "# PCA\n",
    "from sklearn.decomposition import PCA\n",
    "from sklearn.decomposition import IncrementalPCA\n",
    "\n",
    "# To perform KMeans clustering\n",
    "from sklearn.cluster import KMeans\n",
    "from sklearn.metrics import silhouette_score\n",
    "\n",
    "# To prform hierarchical clustering\n",
    "from scipy.cluster.hierarchy import dendrogram\n",
    "from scipy.cluster.hierarchy import linkage\n",
    "from scipy.cluster.hierarchy import cut_tree\n",
    "\n",
    "pd.set_option('display.max_columns',100)\n",
    "pd.set_option('display.max_rows',100)"
   ]
  },
  {
   "cell_type": "code",
   "execution_count": 3,
   "metadata": {},
   "outputs": [
    {
     "data": {
      "text/html": [
       "<div>\n",
       "<style scoped>\n",
       "    .dataframe tbody tr th:only-of-type {\n",
       "        vertical-align: middle;\n",
       "    }\n",
       "\n",
       "    .dataframe tbody tr th {\n",
       "        vertical-align: top;\n",
       "    }\n",
       "\n",
       "    .dataframe thead th {\n",
       "        text-align: right;\n",
       "    }\n",
       "</style>\n",
       "<table border=\"1\" class=\"dataframe\">\n",
       "  <thead>\n",
       "    <tr style=\"text-align: right;\">\n",
       "      <th></th>\n",
       "      <th>country</th>\n",
       "      <th>child_mort</th>\n",
       "      <th>exports</th>\n",
       "      <th>health</th>\n",
       "      <th>imports</th>\n",
       "      <th>income</th>\n",
       "      <th>inflation</th>\n",
       "      <th>life_expec</th>\n",
       "      <th>total_fer</th>\n",
       "      <th>gdpp</th>\n",
       "    </tr>\n",
       "  </thead>\n",
       "  <tbody>\n",
       "    <tr>\n",
       "      <td>0</td>\n",
       "      <td>Afghanistan</td>\n",
       "      <td>90.2</td>\n",
       "      <td>10.0</td>\n",
       "      <td>7.58</td>\n",
       "      <td>44.9</td>\n",
       "      <td>1610</td>\n",
       "      <td>9.44</td>\n",
       "      <td>56.2</td>\n",
       "      <td>5.82</td>\n",
       "      <td>553</td>\n",
       "    </tr>\n",
       "    <tr>\n",
       "      <td>1</td>\n",
       "      <td>Albania</td>\n",
       "      <td>16.6</td>\n",
       "      <td>28.0</td>\n",
       "      <td>6.55</td>\n",
       "      <td>48.6</td>\n",
       "      <td>9930</td>\n",
       "      <td>4.49</td>\n",
       "      <td>76.3</td>\n",
       "      <td>1.65</td>\n",
       "      <td>4090</td>\n",
       "    </tr>\n",
       "    <tr>\n",
       "      <td>2</td>\n",
       "      <td>Algeria</td>\n",
       "      <td>27.3</td>\n",
       "      <td>38.4</td>\n",
       "      <td>4.17</td>\n",
       "      <td>31.4</td>\n",
       "      <td>12900</td>\n",
       "      <td>16.10</td>\n",
       "      <td>76.5</td>\n",
       "      <td>2.89</td>\n",
       "      <td>4460</td>\n",
       "    </tr>\n",
       "    <tr>\n",
       "      <td>3</td>\n",
       "      <td>Angola</td>\n",
       "      <td>119.0</td>\n",
       "      <td>62.3</td>\n",
       "      <td>2.85</td>\n",
       "      <td>42.9</td>\n",
       "      <td>5900</td>\n",
       "      <td>22.40</td>\n",
       "      <td>60.1</td>\n",
       "      <td>6.16</td>\n",
       "      <td>3530</td>\n",
       "    </tr>\n",
       "    <tr>\n",
       "      <td>4</td>\n",
       "      <td>Antigua and Barbuda</td>\n",
       "      <td>10.3</td>\n",
       "      <td>45.5</td>\n",
       "      <td>6.03</td>\n",
       "      <td>58.9</td>\n",
       "      <td>19100</td>\n",
       "      <td>1.44</td>\n",
       "      <td>76.8</td>\n",
       "      <td>2.13</td>\n",
       "      <td>12200</td>\n",
       "    </tr>\n",
       "  </tbody>\n",
       "</table>\n",
       "</div>"
      ],
      "text/plain": [
       "               country  child_mort  exports  health  imports  income  \\\n",
       "0          Afghanistan        90.2     10.0    7.58     44.9    1610   \n",
       "1              Albania        16.6     28.0    6.55     48.6    9930   \n",
       "2              Algeria        27.3     38.4    4.17     31.4   12900   \n",
       "3               Angola       119.0     62.3    2.85     42.9    5900   \n",
       "4  Antigua and Barbuda        10.3     45.5    6.03     58.9   19100   \n",
       "\n",
       "   inflation  life_expec  total_fer   gdpp  \n",
       "0       9.44        56.2       5.82    553  \n",
       "1       4.49        76.3       1.65   4090  \n",
       "2      16.10        76.5       2.89   4460  \n",
       "3      22.40        60.1       6.16   3530  \n",
       "4       1.44        76.8       2.13  12200  "
      ]
     },
     "execution_count": 3,
     "metadata": {},
     "output_type": "execute_result"
    }
   ],
   "source": [
    "# load the data set\n",
    "countries_df = pd.read_csv(\"Country-data.csv\")\n",
    "countries_df.head()"
   ]
  },
  {
   "cell_type": "markdown",
   "metadata": {},
   "source": [
    "### Data Preparation"
   ]
  },
  {
   "cell_type": "code",
   "execution_count": 4,
   "metadata": {},
   "outputs": [
    {
     "name": "stdout",
     "output_type": "stream",
     "text": [
      "<class 'pandas.core.frame.DataFrame'>\n",
      "RangeIndex: 167 entries, 0 to 166\n",
      "Data columns (total 10 columns):\n",
      "country       167 non-null object\n",
      "child_mort    167 non-null float64\n",
      "exports       167 non-null float64\n",
      "health        167 non-null float64\n",
      "imports       167 non-null float64\n",
      "income        167 non-null int64\n",
      "inflation     167 non-null float64\n",
      "life_expec    167 non-null float64\n",
      "total_fer     167 non-null float64\n",
      "gdpp          167 non-null int64\n",
      "dtypes: float64(7), int64(2), object(1)\n",
      "memory usage: 13.2+ KB\n"
     ]
    }
   ],
   "source": [
    "countries_df.info()"
   ]
  },
  {
   "cell_type": "code",
   "execution_count": 5,
   "metadata": {},
   "outputs": [
    {
     "data": {
      "text/plain": [
       "(167, 10)"
      ]
     },
     "execution_count": 5,
     "metadata": {},
     "output_type": "execute_result"
    }
   ],
   "source": [
    "countries_df.shape"
   ]
  },
  {
   "cell_type": "code",
   "execution_count": 7,
   "metadata": {},
   "outputs": [
    {
     "data": {
      "text/html": [
       "<div>\n",
       "<style scoped>\n",
       "    .dataframe tbody tr th:only-of-type {\n",
       "        vertical-align: middle;\n",
       "    }\n",
       "\n",
       "    .dataframe tbody tr th {\n",
       "        vertical-align: top;\n",
       "    }\n",
       "\n",
       "    .dataframe thead th {\n",
       "        text-align: right;\n",
       "    }\n",
       "</style>\n",
       "<table border=\"1\" class=\"dataframe\">\n",
       "  <thead>\n",
       "    <tr style=\"text-align: right;\">\n",
       "      <th></th>\n",
       "      <th>child_mort</th>\n",
       "      <th>exports</th>\n",
       "      <th>health</th>\n",
       "      <th>imports</th>\n",
       "      <th>income</th>\n",
       "      <th>inflation</th>\n",
       "      <th>life_expec</th>\n",
       "      <th>total_fer</th>\n",
       "      <th>gdpp</th>\n",
       "    </tr>\n",
       "  </thead>\n",
       "  <tbody>\n",
       "    <tr>\n",
       "      <td>count</td>\n",
       "      <td>167.000000</td>\n",
       "      <td>167.000000</td>\n",
       "      <td>167.000000</td>\n",
       "      <td>167.000000</td>\n",
       "      <td>167.000000</td>\n",
       "      <td>167.000000</td>\n",
       "      <td>167.000000</td>\n",
       "      <td>167.000000</td>\n",
       "      <td>167.000000</td>\n",
       "    </tr>\n",
       "    <tr>\n",
       "      <td>mean</td>\n",
       "      <td>38.270060</td>\n",
       "      <td>41.108976</td>\n",
       "      <td>6.815689</td>\n",
       "      <td>46.890215</td>\n",
       "      <td>17144.688623</td>\n",
       "      <td>7.781832</td>\n",
       "      <td>70.555689</td>\n",
       "      <td>2.947964</td>\n",
       "      <td>12964.155689</td>\n",
       "    </tr>\n",
       "    <tr>\n",
       "      <td>std</td>\n",
       "      <td>40.328931</td>\n",
       "      <td>27.412010</td>\n",
       "      <td>2.746837</td>\n",
       "      <td>24.209589</td>\n",
       "      <td>19278.067698</td>\n",
       "      <td>10.570704</td>\n",
       "      <td>8.893172</td>\n",
       "      <td>1.513848</td>\n",
       "      <td>18328.704809</td>\n",
       "    </tr>\n",
       "    <tr>\n",
       "      <td>min</td>\n",
       "      <td>2.600000</td>\n",
       "      <td>0.109000</td>\n",
       "      <td>1.810000</td>\n",
       "      <td>0.065900</td>\n",
       "      <td>609.000000</td>\n",
       "      <td>-4.210000</td>\n",
       "      <td>32.100000</td>\n",
       "      <td>1.150000</td>\n",
       "      <td>231.000000</td>\n",
       "    </tr>\n",
       "    <tr>\n",
       "      <td>25%</td>\n",
       "      <td>8.250000</td>\n",
       "      <td>23.800000</td>\n",
       "      <td>4.920000</td>\n",
       "      <td>30.200000</td>\n",
       "      <td>3355.000000</td>\n",
       "      <td>1.810000</td>\n",
       "      <td>65.300000</td>\n",
       "      <td>1.795000</td>\n",
       "      <td>1330.000000</td>\n",
       "    </tr>\n",
       "    <tr>\n",
       "      <td>50%</td>\n",
       "      <td>19.300000</td>\n",
       "      <td>35.000000</td>\n",
       "      <td>6.320000</td>\n",
       "      <td>43.300000</td>\n",
       "      <td>9960.000000</td>\n",
       "      <td>5.390000</td>\n",
       "      <td>73.100000</td>\n",
       "      <td>2.410000</td>\n",
       "      <td>4660.000000</td>\n",
       "    </tr>\n",
       "    <tr>\n",
       "      <td>75%</td>\n",
       "      <td>62.100000</td>\n",
       "      <td>51.350000</td>\n",
       "      <td>8.600000</td>\n",
       "      <td>58.750000</td>\n",
       "      <td>22800.000000</td>\n",
       "      <td>10.750000</td>\n",
       "      <td>76.800000</td>\n",
       "      <td>3.880000</td>\n",
       "      <td>14050.000000</td>\n",
       "    </tr>\n",
       "    <tr>\n",
       "      <td>max</td>\n",
       "      <td>208.000000</td>\n",
       "      <td>200.000000</td>\n",
       "      <td>17.900000</td>\n",
       "      <td>174.000000</td>\n",
       "      <td>125000.000000</td>\n",
       "      <td>104.000000</td>\n",
       "      <td>82.800000</td>\n",
       "      <td>7.490000</td>\n",
       "      <td>105000.000000</td>\n",
       "    </tr>\n",
       "  </tbody>\n",
       "</table>\n",
       "</div>"
      ],
      "text/plain": [
       "       child_mort     exports      health     imports         income  \\\n",
       "count  167.000000  167.000000  167.000000  167.000000     167.000000   \n",
       "mean    38.270060   41.108976    6.815689   46.890215   17144.688623   \n",
       "std     40.328931   27.412010    2.746837   24.209589   19278.067698   \n",
       "min      2.600000    0.109000    1.810000    0.065900     609.000000   \n",
       "25%      8.250000   23.800000    4.920000   30.200000    3355.000000   \n",
       "50%     19.300000   35.000000    6.320000   43.300000    9960.000000   \n",
       "75%     62.100000   51.350000    8.600000   58.750000   22800.000000   \n",
       "max    208.000000  200.000000   17.900000  174.000000  125000.000000   \n",
       "\n",
       "        inflation  life_expec   total_fer           gdpp  \n",
       "count  167.000000  167.000000  167.000000     167.000000  \n",
       "mean     7.781832   70.555689    2.947964   12964.155689  \n",
       "std     10.570704    8.893172    1.513848   18328.704809  \n",
       "min     -4.210000   32.100000    1.150000     231.000000  \n",
       "25%      1.810000   65.300000    1.795000    1330.000000  \n",
       "50%      5.390000   73.100000    2.410000    4660.000000  \n",
       "75%     10.750000   76.800000    3.880000   14050.000000  \n",
       "max    104.000000   82.800000    7.490000  105000.000000  "
      ]
     },
     "execution_count": 7,
     "metadata": {},
     "output_type": "execute_result"
    }
   ],
   "source": [
    "countries_df.describe()"
   ]
  },
  {
   "cell_type": "markdown",
   "metadata": {},
   "source": [
    "Looking at the statistical data the standard deviation std for \"income\", \"gdpp\" has very high value compared to their mean. This arrtibutes might have outliers which is causing standard deviation to shot up so high. "
   ]
  },
  {
   "cell_type": "code",
   "execution_count": 61,
   "metadata": {},
   "outputs": [],
   "source": [
    "# Save Country column as ID for later use\n",
    "country_col_df = countries_df['country']"
   ]
  },
  {
   "cell_type": "code",
   "execution_count": 8,
   "metadata": {},
   "outputs": [
    {
     "data": {
      "text/html": [
       "<div>\n",
       "<style scoped>\n",
       "    .dataframe tbody tr th:only-of-type {\n",
       "        vertical-align: middle;\n",
       "    }\n",
       "\n",
       "    .dataframe tbody tr th {\n",
       "        vertical-align: top;\n",
       "    }\n",
       "\n",
       "    .dataframe thead th {\n",
       "        text-align: right;\n",
       "    }\n",
       "</style>\n",
       "<table border=\"1\" class=\"dataframe\">\n",
       "  <thead>\n",
       "    <tr style=\"text-align: right;\">\n",
       "      <th></th>\n",
       "      <th>child_mort</th>\n",
       "      <th>exports</th>\n",
       "      <th>health</th>\n",
       "      <th>imports</th>\n",
       "      <th>income</th>\n",
       "      <th>inflation</th>\n",
       "      <th>life_expec</th>\n",
       "      <th>total_fer</th>\n",
       "      <th>gdpp</th>\n",
       "    </tr>\n",
       "  </thead>\n",
       "  <tbody>\n",
       "    <tr>\n",
       "      <td>0</td>\n",
       "      <td>90.2</td>\n",
       "      <td>10.0</td>\n",
       "      <td>7.58</td>\n",
       "      <td>44.9</td>\n",
       "      <td>1610</td>\n",
       "      <td>9.44</td>\n",
       "      <td>56.2</td>\n",
       "      <td>5.82</td>\n",
       "      <td>553</td>\n",
       "    </tr>\n",
       "    <tr>\n",
       "      <td>1</td>\n",
       "      <td>16.6</td>\n",
       "      <td>28.0</td>\n",
       "      <td>6.55</td>\n",
       "      <td>48.6</td>\n",
       "      <td>9930</td>\n",
       "      <td>4.49</td>\n",
       "      <td>76.3</td>\n",
       "      <td>1.65</td>\n",
       "      <td>4090</td>\n",
       "    </tr>\n",
       "    <tr>\n",
       "      <td>2</td>\n",
       "      <td>27.3</td>\n",
       "      <td>38.4</td>\n",
       "      <td>4.17</td>\n",
       "      <td>31.4</td>\n",
       "      <td>12900</td>\n",
       "      <td>16.10</td>\n",
       "      <td>76.5</td>\n",
       "      <td>2.89</td>\n",
       "      <td>4460</td>\n",
       "    </tr>\n",
       "    <tr>\n",
       "      <td>3</td>\n",
       "      <td>119.0</td>\n",
       "      <td>62.3</td>\n",
       "      <td>2.85</td>\n",
       "      <td>42.9</td>\n",
       "      <td>5900</td>\n",
       "      <td>22.40</td>\n",
       "      <td>60.1</td>\n",
       "      <td>6.16</td>\n",
       "      <td>3530</td>\n",
       "    </tr>\n",
       "    <tr>\n",
       "      <td>4</td>\n",
       "      <td>10.3</td>\n",
       "      <td>45.5</td>\n",
       "      <td>6.03</td>\n",
       "      <td>58.9</td>\n",
       "      <td>19100</td>\n",
       "      <td>1.44</td>\n",
       "      <td>76.8</td>\n",
       "      <td>2.13</td>\n",
       "      <td>12200</td>\n",
       "    </tr>\n",
       "  </tbody>\n",
       "</table>\n",
       "</div>"
      ],
      "text/plain": [
       "   child_mort  exports  health  imports  income  inflation  life_expec  \\\n",
       "0        90.2     10.0    7.58     44.9    1610       9.44        56.2   \n",
       "1        16.6     28.0    6.55     48.6    9930       4.49        76.3   \n",
       "2        27.3     38.4    4.17     31.4   12900      16.10        76.5   \n",
       "3       119.0     62.3    2.85     42.9    5900      22.40        60.1   \n",
       "4        10.3     45.5    6.03     58.9   19100       1.44        76.8   \n",
       "\n",
       "   total_fer   gdpp  \n",
       "0       5.82    553  \n",
       "1       1.65   4090  \n",
       "2       2.89   4460  \n",
       "3       6.16   3530  \n",
       "4       2.13  12200  "
      ]
     },
     "execution_count": 8,
     "metadata": {},
     "output_type": "execute_result"
    }
   ],
   "source": [
    "# Making the country column as ID, as its a non-numeric categorical variable\n",
    "# This column later will used for cluster-proofing\n",
    "\n",
    "data_df = countries_df.drop(['country'],axis=1)\n",
    "data_df.head()"
   ]
  },
  {
   "cell_type": "code",
   "execution_count": 14,
   "metadata": {},
   "outputs": [
    {
     "data": {
      "text/plain": [
       "child_mort    0.0\n",
       "exports       0.0\n",
       "health        0.0\n",
       "imports       0.0\n",
       "income        0.0\n",
       "inflation     0.0\n",
       "life_expec    0.0\n",
       "total_fer     0.0\n",
       "gdpp          0.0\n",
       "dtype: float64"
      ]
     },
     "execution_count": 14,
     "metadata": {},
     "output_type": "execute_result"
    }
   ],
   "source": [
    "# Check and treate null/missing values\n",
    "round(100*(data_df.isnull().sum()/len(data_df.index)),2)\n"
   ]
  },
  {
   "cell_type": "markdown",
   "metadata": {},
   "source": [
    "The data set is clean as we don't have any missing values"
   ]
  },
  {
   "cell_type": "markdown",
   "metadata": {},
   "source": [
    "Now, we can standardize the data by fitting and transforming using a standard scaler"
   ]
  },
  {
   "cell_type": "code",
   "execution_count": 18,
   "metadata": {},
   "outputs": [
    {
     "data": {
      "text/plain": [
       "(167, 9)"
      ]
     },
     "execution_count": 18,
     "metadata": {},
     "output_type": "execute_result"
    }
   ],
   "source": [
    "# instantiate\n",
    "scaler = StandardScaler()\n",
    "\n",
    "# fit_transform\n",
    "scaled_df = scaler.fit_transform(data_df)\n",
    "scaled_df.shape"
   ]
  },
  {
   "cell_type": "markdown",
   "metadata": {},
   "source": [
    "### Performing PCA"
   ]
  },
  {
   "cell_type": "code",
   "execution_count": 25,
   "metadata": {},
   "outputs": [
    {
     "data": {
      "text/plain": [
       "PCA(copy=True, iterated_power='auto', n_components=None, random_state=50,\n",
       "    svd_solver='randomized', tol=0.0, whiten=False)"
      ]
     },
     "execution_count": 25,
     "metadata": {},
     "output_type": "execute_result"
    }
   ],
   "source": [
    "pca = PCA(svd_solver = 'randomized', random_state=50)\n",
    "pca.fit(scaled_df)\n"
   ]
  },
  {
   "cell_type": "code",
   "execution_count": 26,
   "metadata": {},
   "outputs": [
    {
     "data": {
      "text/plain": [
       "array([[-0.41951945,  0.28389698,  0.15083782,  0.16148244,  0.39844111,\n",
       "        -0.19317293,  0.42583938, -0.40372896,  0.39264482],\n",
       "       [ 0.19288394,  0.61316349, -0.24308678,  0.67182064,  0.02253553,\n",
       "        -0.00840447, -0.22270674,  0.15523311, -0.0460224 ],\n",
       "       [-0.02954353,  0.14476069, -0.59663237, -0.29992674,  0.3015475 ,\n",
       "         0.64251951,  0.11391854,  0.01954925,  0.12297749],\n",
       "       [ 0.37065326,  0.00309102,  0.4618975 , -0.07190746,  0.39215904,\n",
       "         0.15044176, -0.20379723,  0.37830365,  0.53199457],\n",
       "       [-0.16896968,  0.05761584,  0.51800037,  0.25537642, -0.2471496 ,\n",
       "         0.7148691 ,  0.1082198 , -0.13526221, -0.18016662],\n",
       "       [ 0.20062815, -0.05933283,  0.00727646, -0.03003154,  0.16034699,\n",
       "         0.06628537, -0.60112652, -0.75068875,  0.01677876],\n",
       "       [-0.07948854, -0.70730269, -0.24983051,  0.59218953,  0.09556237,\n",
       "         0.10463252,  0.01848639,  0.02882643,  0.24299776],\n",
       "       [-0.68274306, -0.01419742,  0.07249683, -0.02894642,  0.35262369,\n",
       "        -0.01153775, -0.50466425,  0.29335267, -0.24969636],\n",
       "       [ 0.3275418 , -0.12308207,  0.11308797,  0.09903717,  0.61298247,\n",
       "        -0.02523614,  0.29403981, -0.02633585, -0.62564572]])"
      ]
     },
     "execution_count": 26,
     "metadata": {},
     "output_type": "execute_result"
    }
   ],
   "source": [
    "pca.components_"
   ]
  },
  {
   "cell_type": "markdown",
   "metadata": {},
   "source": [
    "PC1 is given by the direction - [-0.41 0.28 0.15 0.16 and so on], PC2 by [0.19 0.61 -0.24 0.61 ....] and so on. The principal components of the same number as that of the original variables with each Principal Component explaining some amount of variance of the entire dataset. This information would enable us to know which Principal Components to keep and which to discard to perform Dimensionality Reduction"
   ]
  },
  {
   "cell_type": "code",
   "execution_count": 27,
   "metadata": {},
   "outputs": [
    {
     "data": {
      "text/plain": [
       "array([0.4595174 , 0.17181626, 0.13004259, 0.11053162, 0.07340211,\n",
       "       0.02484235, 0.0126043 , 0.00981282, 0.00743056])"
      ]
     },
     "execution_count": 27,
     "metadata": {},
     "output_type": "execute_result"
    }
   ],
   "source": [
    "# looking into the variance ratio\n",
    "pca.explained_variance_ratio_"
   ]
  },
  {
   "cell_type": "markdown",
   "metadata": {},
   "source": [
    "Here we can see the PC1 compoments [-0.41951945,  0.28389698,  0.15083782,  0.16148244,  0.39844111,-0.19317293,  0.42583938, -0.40372896,  0.39264482]  explains at least 45% variance of the data set followed by PC2 17%, PC3 13%, PC4 11%. From PC5 onwards the principal components explains lesser variance in decreaing order. \n",
    "\n",
    "We can plot the variance ratio to observe that Principal components PC1 to PC4 explains aout 94% of covariance of the data set. "
   ]
  },
  {
   "cell_type": "code",
   "execution_count": 29,
   "metadata": {},
   "outputs": [
    {
     "data": {
      "image/png": "[encoded data removed]",
      "text/plain": [
       "<Figure size 432x288 with 1 Axes>"
      ]
     },
     "metadata": {
      "needs_background": "light"
     },
     "output_type": "display_data"
    }
   ],
   "source": [
    "plt.bar(range(1,len(pca.explained_variance_ratio_)+1), pca.explained_variance_ratio_)\n",
    "plt.show()"
   ]
  },
  {
   "cell_type": "code",
   "execution_count": 33,
   "metadata": {},
   "outputs": [
    {
     "data": {
      "text/plain": [
       "array([0.4595174 , 0.63133365, 0.76137624, 0.87190786, 0.94530998,\n",
       "       0.97015232, 0.98275663, 0.99256944, 1.        ])"
      ]
     },
     "execution_count": 33,
     "metadata": {},
     "output_type": "execute_result"
    }
   ],
   "source": [
    "# Checking the cumulative variance \n",
    "var_cumu = np.cumsum(pca.explained_variance_ratio_)\n",
    "var_cumu"
   ]
  },
  {
   "cell_type": "markdown",
   "metadata": {},
   "source": [
    "The cumulative variance explained by the top 2 principal components is the sum of their individual variances, given by 0.45+0.17+0.13+0.11 ~= 94% %\n"
   ]
  },
  {
   "cell_type": "markdown",
   "metadata": {},
   "source": [
    "##### The scree plot"
   ]
  },
  {
   "cell_type": "code",
   "execution_count": 46,
   "metadata": {},
   "outputs": [
    {
     "data": {
      "image/png": "[encoded data removed]",
      "text/plain": [
       "<Figure size 576x432 with 1 Axes>"
      ]
     },
     "metadata": {
      "needs_background": "light"
     },
     "output_type": "display_data"
    }
   ],
   "source": [
    "fig = plt.figure(figsize=[8,6])\n",
    "plt.vlines(x=4.3, ymax=1, ymin=0, colors=\"r\", linestyles=\"--\")\n",
    "plt.hlines(y=0.95, xmax=9, xmin=0, colors=\"g\", linestyles=\"--\")\n",
    "plt.plot(var_cumu)\n",
    "plt.ylabel(\"Cumulative variance explained\")\n",
    "plt.xlabel(\"No of principal components\")\n",
    "plt.show()"
   ]
  },
  {
   "cell_type": "markdown",
   "metadata": {},
   "source": [
    "From teh Scree plot we can decide to keep ~=95% of variance so I can choose 5 principal components. Hence I can instantiate a new PCA function with the number of components as 5. This function will perform the dimensionality reduction on our dataset and reduce the number of columns from 9 to 5."
   ]
  },
  {
   "cell_type": "code",
   "execution_count": 48,
   "metadata": {},
   "outputs": [],
   "source": [
    "# dimenstionality reduction\n",
    "from sklearn.decomposition import IncrementalPCA\n",
    "pca_final = IncrementalPCA(n_components=5)"
   ]
  },
  {
   "cell_type": "code",
   "execution_count": 54,
   "metadata": {},
   "outputs": [
    {
     "data": {
      "text/plain": [
       "(167, 5)"
      ]
     },
     "execution_count": 54,
     "metadata": {},
     "output_type": "execute_result"
    }
   ],
   "source": [
    "# Transform the data here\n",
    "pca_nparr = pca_final.fit_transform(scaled_df)\n",
    "pca_nparr.shape"
   ]
  },
  {
   "cell_type": "code",
   "execution_count": 55,
   "metadata": {},
   "outputs": [
    {
     "data": {
      "text/plain": [
       "array([[-2.91299992e+00,  9.19694483e-02, -7.21242475e-01,\n",
       "         1.00183771e+00, -1.46764708e-01],\n",
       "       [ 4.29869882e-01, -5.89373005e-01, -3.28611009e-01,\n",
       "        -1.16501385e+00,  1.53205240e-01],\n",
       "       [-2.85288747e-01, -4.52138721e-01,  1.23205055e+00,\n",
       "        -8.57767020e-01,  1.91227155e-01],\n",
       "       [-2.93271361e+00,  1.69877055e+00,  1.52507602e+00,\n",
       "         8.55595497e-01, -2.14777969e-01],\n",
       "       [ 1.03337146e+00,  1.33852736e-01, -2.16699200e-01,\n",
       "        -8.46637655e-01, -1.93186250e-01],\n",
       "       [ 2.28903436e-02, -1.77273550e+00,  8.64499533e-01,\n",
       "        -3.67466174e-02,  9.97895254e-01],\n",
       "       [-1.01463164e-01, -5.67317984e-01,  2.48106950e-01,\n",
       "        -1.46602345e+00, -8.58319260e-02],\n",
       "       [ 2.34215326e+00, -1.98970971e+00,  1.98795068e-01,\n",
       "         1.11341263e+00, -7.10653789e-01],\n",
       "       [ 2.97384111e+00, -7.35152104e-01, -5.28284369e-01,\n",
       "         1.20110137e+00,  8.01665136e-02],\n",
       "       [-1.81302843e-01, -3.96894805e-01,  8.68398935e-01,\n",
       "        -4.35201409e-01,  1.20357259e-01],\n",
       "       [ 1.26873963e+00, -6.58657937e-01, -4.84554953e-01,\n",
       "         5.39449943e-02, -3.98859366e-01],\n",
       "       [ 1.67102427e+00,  5.63934168e-01,  9.97464453e-01,\n",
       "        -1.97912392e-01, -3.78990900e-01],\n",
       "       [-1.12397899e+00, -9.61082778e-01,  5.42963809e-01,\n",
       "        -1.18920365e+00, -6.88348042e-01],\n",
       "       [ 1.08119637e+00, -4.84982560e-01, -6.58991317e-01,\n",
       "        -5.26571013e-01, -8.86188668e-03],\n",
       "       [ 5.80574302e-01,  5.41405042e-01,  4.71986455e-01,\n",
       "        -1.04208482e+00,  7.84711773e-01],\n",
       "       [ 3.14375619e+00,  6.62482052e-01, -6.59854636e-01,\n",
       "         1.08764423e+00,  4.45979035e-01],\n",
       "       [ 2.10907505e-01,  6.95633425e-01, -2.61730632e-01,\n",
       "        -1.09424373e+00, -2.85266154e-01],\n",
       "       [-2.67300470e+00,  4.11199072e-01, -2.37232121e-01,\n",
       "         2.89667936e-01, -1.41185393e+00],\n",
       "       [-1.56696054e-01,  7.76113252e-01, -2.79266136e-01,\n",
       "        -1.04272371e+00,  9.75844361e-02],\n",
       "       [-7.94150509e-01, -1.20997052e-01,  4.14131931e-01,\n",
       "        -7.17824334e-01, -2.06041454e-01],\n",
       "       [ 9.95908594e-01, -9.74805774e-01, -1.53407143e+00,\n",
       "        -6.38487819e-01,  9.00375072e-01],\n",
       "       [-8.81575681e-01,  4.60255797e-01, -6.02232240e-01,\n",
       "         3.94024308e-01,  2.48934163e-01],\n",
       "       [ 1.41006684e-01, -2.14963065e+00, -1.69566628e-01,\n",
       "        -1.70219648e-01,  2.84365783e-01],\n",
       "       [ 2.46067532e+00,  2.82792015e-02,  3.02254870e+00,\n",
       "         8.01235872e-01, -1.01543030e+00],\n",
       "       [ 9.06504214e-01,  2.87277295e-02, -4.65601469e-01,\n",
       "        -9.99039157e-01, -1.89482014e-02],\n",
       "       [-3.12242958e+00,  3.41318479e-02, -4.48309279e-01,\n",
       "         1.08525589e+00, -7.05787992e-01],\n",
       "       [-2.89891128e+00, -4.26693503e-01, -1.36008579e+00,\n",
       "         1.80978172e+00,  7.42353358e-01],\n",
       "       [-5.82622058e-01,  8.92420216e-01, -4.94662141e-01,\n",
       "        -8.08601249e-01, -1.56297507e-01],\n",
       "       [-2.80833175e+00,  7.37051932e-02, -3.27757334e-01,\n",
       "         5.51091673e-01, -1.31392894e+00],\n",
       "       [ 2.54377573e+00, -1.72735691e+00, -4.01760072e-01,\n",
       "         1.33443430e+00,  7.04552786e-02],\n",
       "       [-1.56104788e-01,  3.46725943e-01, -2.77912049e-01,\n",
       "        -1.34177861e+00, -5.38942605e-01],\n",
       "       [-3.96515838e+00,  3.83684746e-01, -3.17098959e-01,\n",
       "         9.24644785e-01, -1.87171423e+00],\n",
       "       [-3.55824937e+00,  1.28368433e+00, -9.38996508e-02,\n",
       "         1.21920295e+00, -1.19388863e+00],\n",
       "       [ 9.51656073e-01, -1.07539028e+00,  1.55563242e-01,\n",
       "        -4.36591423e-01,  4.32359645e-01],\n",
       "       [ 5.74753018e-02, -1.18883740e+00,  4.41723153e-01,\n",
       "        -1.27265124e+00, -2.42616215e-01],\n",
       "       [ 1.21020692e-01, -1.77074113e+00, -2.30758621e-01,\n",
       "        -7.14390556e-01, -9.58410375e-02],\n",
       "       [-2.09401880e+00,  3.37787474e-01, -3.16710091e-01,\n",
       "        -1.13608041e-01, -7.95839364e-01],\n",
       "       [-3.17342051e+00,  1.05087981e+00, -1.63410227e-02,\n",
       "         1.57262513e+00,  6.93080630e-01],\n",
       "       [-1.72575439e+00,  2.18087468e+00,  1.49344977e+00,\n",
       "        -1.26988656e-01,  1.15642914e-01],\n",
       "       [ 9.37737821e-01, -1.35210885e+00, -8.21288718e-01,\n",
       "        -2.69325414e-01,  9.89464820e-01],\n",
       "       [-2.58213226e+00,  1.20457403e+00, -2.26754982e-01,\n",
       "         6.70365244e-01, -8.46253890e-01],\n",
       "       [ 1.14879637e+00, -8.46517178e-01, -4.00903642e-01,\n",
       "        -6.25046894e-01, -1.17320181e-01],\n",
       "       [ 2.17440691e+00, -4.71708491e-03,  2.61252498e-01,\n",
       "        -3.07912297e-01, -4.22070093e-01],\n",
       "       [ 2.05308311e+00,  4.20868833e-01, -5.40332595e-01,\n",
       "        -4.15479675e-01, -6.35007501e-02],\n",
       "       [ 3.01064195e+00, -8.65284500e-01, -3.47129034e-01,\n",
       "         1.78475498e+00,  1.13204205e-01],\n",
       "       [-2.31280333e-01, -8.82440867e-01, -2.50716663e-02,\n",
       "        -6.50734450e-01, -2.02160852e-01],\n",
       "       [ 9.44562646e-03, -1.04699064e+00, -2.65293953e-01,\n",
       "        -4.89875075e-01,  3.89733350e-01],\n",
       "       [-8.48190862e-01, -8.19519318e-01,  5.97770718e-01,\n",
       "        -7.37765294e-01, -2.79433575e-01],\n",
       "       [ 8.17296557e-02, -5.70935914e-01, -5.67211188e-01,\n",
       "        -9.80210075e-01,  3.60111747e-02],\n",
       "       [-1.29326387e+00,  2.37201687e+00,  1.75896172e+00,\n",
       "         1.74829314e+00,  9.18828993e-02],\n",
       "       [-2.47466417e+00, -6.18449501e-01,  8.21210257e-01,\n",
       "        -4.75887511e-01, -8.37692763e-01],\n",
       "       [ 1.65888622e+00,  1.02042827e+00, -1.06820046e-01,\n",
       "        -8.64010570e-01, -3.12606773e-02],\n",
       "       [-1.88839305e-01,  1.07088718e+00, -1.87079511e-01,\n",
       "        -9.82159285e-01, -1.80193479e-01],\n",
       "       [ 2.45893810e+00, -1.07756805e+00, -9.68980827e-02,\n",
       "         9.02880749e-01, -4.53488842e-01],\n",
       "       [ 2.25427195e+00, -1.86908554e+00, -7.12034312e-01,\n",
       "         1.22673062e+00,  1.25576011e-01],\n",
       "       [-1.42171558e+00,  3.24592383e-01,  1.54687885e+00,\n",
       "         2.03103399e-01, -4.99567228e-01],\n",
       "       [-2.21426701e+00,  2.16136050e-01, -3.75310396e-01,\n",
       "         2.97283977e-01, -6.41800657e-01],\n",
       "       [ 3.22159531e-01, -5.18124390e-01, -9.85504604e-01,\n",
       "        -4.82879990e-01,  1.14110863e+00],\n",
       "       [ 2.67152140e+00, -1.27425056e+00, -6.62272763e-01,\n",
       "         1.12051025e+00,  1.37977896e-01],\n",
       "       [-2.05401070e+00,  3.82366348e-01,  4.13181566e-01,\n",
       "         9.19391577e-02,  1.83948421e-01],\n",
       "       [ 1.77951251e+00, -1.76746680e+00, -6.81162361e-01,\n",
       "         2.58244205e-01,  6.99019646e-02],\n",
       "       [ 1.45471908e-01, -4.34458410e-01, -4.60228363e-01,\n",
       "        -9.72883530e-01, -4.06369343e-01],\n",
       "       [-6.63722172e-01, -6.17231820e-01, -3.20734028e-01,\n",
       "        -4.44445017e-01, -8.39810597e-02],\n",
       "       [-2.96956545e+00,  7.29508559e-01,  3.86106918e-01,\n",
       "         6.70772558e-01, -1.82807045e-01],\n",
       "       [-2.83380205e+00, -9.59609140e-02, -1.20662973e+00,\n",
       "         1.12775619e+00, -5.70452318e-01],\n",
       "       [-3.22705098e-01,  1.36063639e+00, -4.78030423e-01,\n",
       "        -8.58237065e-01,  1.24109481e-01],\n",
       "       [-4.40894114e+00,  1.74714888e+00, -1.51217746e+00,\n",
       "         1.77119341e+00, -1.10924377e+00],\n",
       "       [ 1.83912005e+00,  1.27306337e+00, -4.68814972e-01,\n",
       "        -7.87456647e-01,  3.65312943e-01],\n",
       "       [ 2.48086574e+00, -6.34860149e-01,  1.03015964e-01,\n",
       "         9.22553100e-01,  1.46518764e-01],\n",
       "       [-1.34279857e+00, -5.33472803e-01,  4.78064490e-01,\n",
       "        -7.83252672e-01, -5.49063506e-01],\n",
       "       [-9.54566740e-01, -7.27639065e-01,  1.38704244e+00,\n",
       "        -1.13266835e+00, -3.20451093e-01],\n",
       "       [-7.23935239e-04, -1.32855305e+00,  1.02545266e+00,\n",
       "        -7.50308119e-01,  2.80794594e-01],\n",
       "       [-1.02909667e+00, -2.82051979e-01,  1.90399927e-01,\n",
       "         5.63695275e-01,  7.70225146e-01],\n",
       "       [ 3.66826706e+00,  1.72632221e+00, -5.30388157e-01,\n",
       "         9.88469365e-01, -1.03747288e-01],\n",
       "       [ 1.48496139e+00, -1.05339963e+00,  9.48233906e-02,\n",
       "         3.30187695e-01, -4.26201904e-01],\n",
       "       [ 2.16579780e+00, -1.77397912e+00, -2.78349766e-01,\n",
       "         5.17782622e-01, -2.89742633e-01],\n",
       "       [ 1.86403333e-02, -2.38168321e-01,  3.38646233e-01,\n",
       "        -1.22134797e+00,  1.64131588e-01],\n",
       "       [ 2.26579070e+00, -2.43800802e+00, -2.17736863e-01,\n",
       "         7.17556134e-01, -6.65752670e-01],\n",
       "       [ 1.59899671e-01,  5.37445134e-01, -5.57465006e-01,\n",
       "        -3.81923364e-01,  8.26480080e-01],\n",
       "       [-2.92881985e-01, -2.29861114e-01,  1.49123111e+00,\n",
       "        -4.45909198e-01,  2.21694735e-01],\n",
       "       [-1.87501881e+00, -1.75944745e-01, -2.30612882e-01,\n",
       "        -2.79117466e-01, -9.66928903e-01],\n",
       "       [-1.23901187e+00,  3.63313719e-01, -2.39019262e+00,\n",
       "         5.67307872e-01,  6.72742042e-01],\n",
       "       [ 2.46592838e+00,  9.58409957e-02,  2.66389506e+00,\n",
       "         7.35404269e-01, -1.37304546e+00],\n",
       "       [-3.39910481e-01,  1.29751932e+00, -4.37452954e-01,\n",
       "        -8.26284703e-01,  7.11318206e-01],\n",
       "       [-1.52780047e+00,  5.46697118e-01,  1.35283879e-01,\n",
       "        -4.14866740e-01, -3.52583623e-01],\n",
       "       [ 1.18877530e+00,  1.60482592e-01, -4.82793536e-01,\n",
       "        -9.34911185e-01, -2.25082505e-01],\n",
       "       [ 1.17177257e+00, -2.59865394e-01, -6.12466599e-01,\n",
       "        -1.05841978e+00,  4.72561531e-02],\n",
       "       [-1.80245852e+00,  2.03759195e+00, -2.54536211e+00,\n",
       "         1.03713787e+00,  7.25375737e-01],\n",
       "       [-1.77352471e+00,  1.04688558e+00, -2.41917882e+00,\n",
       "         1.15430879e+00,  1.01592867e+00],\n",
       "       [ 8.18967572e-01,  3.94633641e-01,  1.49714520e+00,\n",
       "        -6.07826815e-01, -3.76778182e-02],\n",
       "       [ 1.40981474e+00,  7.29602186e-01, -4.10427796e-01,\n",
       "        -7.71121710e-01,  1.69461934e-01],\n",
       "       [ 6.91785070e+00,  4.85531273e+00,  9.60087142e-01,\n",
       "         3.13461098e+00, -2.67129027e-01],\n",
       "       [ 7.33216481e-01, -9.64392601e-02, -6.55871771e-01,\n",
       "        -1.14612949e+00,  1.92565059e-01],\n",
       "       [-2.13609109e+00,  3.40922114e-01,  2.45262910e-01,\n",
       "        -3.11189848e-01, -6.14801443e-01],\n",
       "       [-2.97972497e+00,  2.16436843e-01, -2.08393322e-01,\n",
       "         8.38092403e-01, -2.32220778e-01],\n",
       "       [ 1.23066037e+00,  1.60291282e+00,  5.43109561e-01,\n",
       "        -1.08311761e+00,  1.01098631e-01],\n",
       "       [ 1.10811161e+00,  1.00632624e+00, -2.60904177e-01,\n",
       "        -1.08966233e+00,  2.69616610e-01],\n",
       "       [-3.41300507e+00,  5.54316611e-01, -2.32638086e-01,\n",
       "         1.08507182e+00, -1.25541988e+00],\n",
       "       [ 3.67922643e+00,  4.76472577e+00, -1.05430308e+00,\n",
       "        -5.20945066e-01,  1.60260122e+00],\n",
       "       [-1.95422854e+00,  1.38442041e+00,  7.26003340e-01,\n",
       "         2.01550753e-01,  3.44335620e-01],\n",
       "       [ 8.99700523e-01,  4.15087647e-01, -3.78264732e-01,\n",
       "        -1.07608530e+00, -1.32753481e-01],\n",
       "       [-3.80656511e-01,  9.65361615e-02, -2.74296465e+00,\n",
       "         7.40099695e-01,  1.57664975e+00],\n",
       "       [ 5.10139100e-01,  1.64005573e-01, -1.60032467e+00,\n",
       "        -4.48193902e-01,  1.91940560e+00],\n",
       "       [-9.43812644e-01,  5.45567645e-01,  1.81642276e+00,\n",
       "        -4.01107476e-01,  2.22137664e+00],\n",
       "       [ 1.02666297e+00, -2.60756883e-01, -1.10614118e+00,\n",
       "        -7.27751657e-01,  5.64456074e-01],\n",
       "       [-2.33243111e-01, -2.85033571e-01, -2.44342567e-01,\n",
       "        -1.07323096e+00, -5.02190783e-01],\n",
       "       [-2.92071264e+00,  8.90296189e-01, -2.55651570e-01,\n",
       "         6.36759430e-01, -6.98310125e-01],\n",
       "       [-1.83726357e+00, -1.61216208e+00,  1.03329762e+00,\n",
       "        -1.10816828e+00, -1.39497982e+00],\n",
       "       [-1.04329981e+00,  1.00109669e+00, -7.37312434e-01,\n",
       "         8.47478585e-02, -2.56001118e-01],\n",
       "       [-1.30677284e+00, -7.85745136e-01,  3.85940111e-01,\n",
       "        -7.55140907e-01,  2.78927807e-01],\n",
       "       [ 3.37914362e+00,  1.14563526e-01, -7.52356961e-01,\n",
       "         1.53599747e+00,  3.79078110e-01],\n",
       "       [ 1.81570581e+00, -1.58619117e+00, -2.57365398e-01,\n",
       "         7.36224696e-01,  7.93782097e-02],\n",
       "       [-3.45099016e+00,  9.59644202e-01, -5.62642013e-01,\n",
       "         1.13734217e+00, -1.18964693e+00],\n",
       "       [-4.90948906e+00, -5.17731496e-02,  6.01005810e+00,\n",
       "         2.41487517e+00,  5.40453694e+00],\n",
       "       [ 3.72154059e+00, -1.44377751e+00,  8.78485867e-01,\n",
       "         2.77592867e+00, -7.47763137e-01],\n",
       "       [ 1.12752276e+00,  4.97622243e-01,  2.14333614e+00,\n",
       "        -1.57537488e-01, -4.40542980e-01],\n",
       "       [-2.36056280e+00, -4.78644053e-01,  1.02926117e+00,\n",
       "        -4.06709360e-01, -1.10024485e+00],\n",
       "       [ 1.16339143e+00,  1.11117536e+00, -7.90469336e-01,\n",
       "        -5.52013441e-01,  5.65136231e-01],\n",
       "       [ 1.17540210e-01,  3.59153039e-01, -3.69466132e-02,\n",
       "        -9.45684377e-01,  1.46190385e-01],\n",
       "       [-2.09763715e-02, -1.08858474e+00,  4.26926985e-01,\n",
       "        -1.06046967e+00, -3.41660559e-01],\n",
       "       [-7.83008632e-01, -9.88369050e-02,  3.29683740e-01,\n",
       "        -1.07384476e+00, -7.17055463e-01],\n",
       "       [ 1.21781290e+00, -6.60064470e-01, -3.04717409e-01,\n",
       "        -6.97655013e-01, -7.78325035e-02],\n",
       "       [ 1.81409565e+00, -1.45298305e+00, -9.43382406e-01,\n",
       "         1.85204228e-01,  3.45129760e-01],\n",
       "       [ 4.24288840e+00, -1.85167772e-01,  3.65567740e+00,\n",
       "         2.42959635e+00, -2.81524275e+00],\n",
       "       [ 5.72838023e-01, -6.37311813e-01,  9.62125034e-02,\n",
       "        -1.02855442e+00, -3.38599296e-01],\n",
       "       [ 1.64339105e-01, -1.05963020e+00,  1.09133416e+00,\n",
       "        -6.40936860e-01, -4.87020376e-02],\n",
       "       [-1.67992132e+00, -1.00796943e+00, -1.46372817e+00,\n",
       "         6.64997079e-01,  1.25502741e-01],\n",
       "       [-5.63301242e-01, -2.94840748e-02, -6.19939048e-01,\n",
       "        -5.30824162e-01, -1.75969058e-01],\n",
       "       [ 8.56252729e-01, -1.76841174e-01,  1.90763742e+00,\n",
       "         2.17376929e-01, -2.07892565e-01],\n",
       "       [-1.91264791e+00,  8.46795074e-02, -4.88359761e-01,\n",
       "         3.31674809e-02, -7.71567126e-01],\n",
       "       [ 8.32651886e-01, -8.69344238e-01, -1.02679944e+00,\n",
       "        -5.18550764e-01,  9.59661271e-01],\n",
       "       [ 1.60212798e+00,  2.93442309e+00, -3.80999705e-01,\n",
       "        -1.40092974e+00, -5.33968406e-01],\n",
       "       [-3.38142227e+00, -2.34851720e-01, -1.40062474e+00,\n",
       "         2.56326325e+00,  1.03804121e+00],\n",
       "       [ 5.78297222e+00,  6.68426754e+00,  6.28384597e-01,\n",
       "         9.00962075e-02,  2.54756240e-02],\n",
       "       [ 2.02966114e+00,  1.04900538e+00, -8.63287186e-01,\n",
       "        -3.82333405e-01,  4.42523471e-01],\n",
       "       [ 2.27929784e+00,  1.92449321e-01, -8.02426480e-01,\n",
       "        -7.39656844e-02,  2.39158918e-01],\n",
       "       [-8.06093472e-01,  1.29993701e+00, -1.24022669e+00,\n",
       "        -5.68427246e-02,  7.73508972e-01],\n",
       "       [-1.19124523e+00, -5.53842227e-01, -7.30236223e-01,\n",
       "         5.38689326e-01, -1.09323529e-01],\n",
       "       [ 1.91801644e+00, -4.27112248e-01,  1.45715813e-01,\n",
       "        -4.70615029e-01, -1.36313704e-01],\n",
       "       [ 2.01914279e+00, -1.78617895e+00, -3.73238351e-01,\n",
       "         2.64334386e-01, -1.94776736e-01],\n",
       "       [-5.75132370e-01, -9.89931832e-01,  1.75572555e+00,\n",
       "        -1.36930221e+00,  4.73650484e-01],\n",
       "       [ 2.66713544e-02, -1.69914939e-02, -3.30203103e-02,\n",
       "        -1.22534980e+00, -2.96905959e-01],\n",
       "       [-2.31944150e+00, -7.67380971e-01,  7.35848298e-01,\n",
       "         4.99157288e-01,  2.97273767e-01],\n",
       "       [ 1.71653940e-01, -9.42432875e-02,  1.65102902e-02,\n",
       "        -3.77212074e-01,  1.10093440e-01],\n",
       "       [ 2.81826323e+00, -9.15851058e-01, -1.01272978e-01,\n",
       "         1.24570132e+00, -3.09936510e-01],\n",
       "       [ 4.08862349e+00, -4.29290746e-01, -2.76359289e-01,\n",
       "         2.30671934e+00, -1.84680779e-01],\n",
       "       [-1.24437664e+00, -2.94036939e-02, -1.53757851e-01,\n",
       "        -4.85148185e-01,  4.17517599e-01],\n",
       "       [-2.55416977e+00, -2.17996078e-01, -7.79559614e-02,\n",
       "         4.67171108e-01, -4.44480180e-01],\n",
       "       [ 9.25809212e-01,  8.27978924e-01,  3.52726225e-01,\n",
       "        -1.59155907e+00, -1.93910844e-01],\n",
       "       [-2.37188873e+00, -1.17696614e+00,  3.92826765e-01,\n",
       "         1.15949344e+00,  1.41836650e+00],\n",
       "       [-1.99799358e+00,  9.52270839e-01, -1.21724111e+00,\n",
       "         5.55483496e-01, -3.95009532e-01],\n",
       "       [-7.55117190e-01, -9.33669091e-02, -4.10624172e-01,\n",
       "        -8.54012875e-01, -2.66629684e-01],\n",
       "       [ 6.01940492e-01,  1.71080852e-01, -2.34295966e-01,\n",
       "        -1.11893141e+00,  1.40118262e-01],\n",
       "       [ 4.01370474e-01, -1.41228570e+00,  2.37245999e-01,\n",
       "        -5.59341951e-01, -7.03775884e-02],\n",
       "       [-4.64511787e-01,  1.29070232e+00,  6.18455134e-01,\n",
       "        -9.27496643e-01, -1.08531242e+00],\n",
       "       [-2.85488139e+00, -3.55786620e-01, -6.99311167e-01,\n",
       "         1.29405961e+00,  8.95517218e-02],\n",
       "       [ 3.02727826e-01, -9.29957982e-02, -1.03870139e-01,\n",
       "        -8.90837086e-01,  1.03436786e+00],\n",
       "       [ 2.42749103e+00,  1.15910028e+00,  1.82299009e+00,\n",
       "         2.88815562e-01, -4.62769325e-01],\n",
       "       [ 2.06799873e+00, -1.53682819e+00, -2.49088007e-01,\n",
       "         7.92830044e-01, -2.23892583e-01],\n",
       "       [ 2.64164790e+00, -2.99869599e+00, -1.74103415e+00,\n",
       "         2.80982644e+00,  8.16417350e-01],\n",
       "       [ 6.17286574e-01, -1.43152533e+00, -2.35306865e-01,\n",
       "        -3.59603785e-01,  1.18536034e-01],\n",
       "       [-8.53238232e-01, -6.49520902e-01,  6.17276494e-01,\n",
       "        -7.22563704e-01,  4.92596881e-01],\n",
       "       [-8.20752622e-01,  6.36404045e-01, -3.79488292e-01,\n",
       "        -7.06886324e-01, -4.00380805e-01],\n",
       "       [-5.49894278e-01, -1.21501773e+00,  3.07455578e+00,\n",
       "        -1.08594330e-01,  2.11402493e+00],\n",
       "       [ 4.98569893e-01,  1.39277702e+00, -2.52848673e-01,\n",
       "        -1.08503705e+00,  1.15647077e+00],\n",
       "       [-1.88729445e+00, -1.05396586e-01,  1.10763936e+00,\n",
       "         6.26359434e-02,  6.65467015e-01],\n",
       "       [-2.86388548e+00,  4.87336130e-01,  2.21917897e-01,\n",
       "         8.18991322e-01, -2.65920807e-01]])"
      ]
     },
     "execution_count": 55,
     "metadata": {},
     "output_type": "execute_result"
    }
   ],
   "source": [
    "pca_nparr"
   ]
  },
  {
   "cell_type": "code",
   "execution_count": 58,
   "metadata": {},
   "outputs": [
    {
     "data": {
      "text/plain": [
       "array([-2.91299992e+00,  4.29869882e-01, -2.85288747e-01, -2.93271361e+00,\n",
       "        1.03337146e+00,  2.28903436e-02, -1.01463164e-01,  2.34215326e+00,\n",
       "        2.97384111e+00, -1.81302843e-01,  1.26873963e+00,  1.67102427e+00,\n",
       "       -1.12397899e+00,  1.08119637e+00,  5.80574302e-01,  3.14375619e+00,\n",
       "        2.10907505e-01, -2.67300470e+00, -1.56696054e-01, -7.94150509e-01,\n",
       "        9.95908594e-01, -8.81575681e-01,  1.41006684e-01,  2.46067532e+00,\n",
       "        9.06504214e-01, -3.12242958e+00, -2.89891128e+00, -5.82622058e-01,\n",
       "       -2.80833175e+00,  2.54377573e+00, -1.56104788e-01, -3.96515838e+00,\n",
       "       -3.55824937e+00,  9.51656073e-01,  5.74753018e-02,  1.21020692e-01,\n",
       "       -2.09401880e+00, -3.17342051e+00, -1.72575439e+00,  9.37737821e-01,\n",
       "       -2.58213226e+00,  1.14879637e+00,  2.17440691e+00,  2.05308311e+00,\n",
       "        3.01064195e+00, -2.31280333e-01,  9.44562646e-03, -8.48190862e-01,\n",
       "        8.17296557e-02, -1.29326387e+00, -2.47466417e+00,  1.65888622e+00,\n",
       "       -1.88839305e-01,  2.45893810e+00,  2.25427195e+00, -1.42171558e+00,\n",
       "       -2.21426701e+00,  3.22159531e-01,  2.67152140e+00, -2.05401070e+00,\n",
       "        1.77951251e+00,  1.45471908e-01, -6.63722172e-01, -2.96956545e+00,\n",
       "       -2.83380205e+00, -3.22705098e-01, -4.40894114e+00,  1.83912005e+00,\n",
       "        2.48086574e+00, -1.34279857e+00, -9.54566740e-01, -7.23935239e-04,\n",
       "       -1.02909667e+00,  3.66826706e+00,  1.48496139e+00,  2.16579780e+00,\n",
       "        1.86403333e-02,  2.26579070e+00,  1.59899671e-01, -2.92881985e-01,\n",
       "       -1.87501881e+00, -1.23901187e+00,  2.46592838e+00, -3.39910481e-01,\n",
       "       -1.52780047e+00,  1.18877530e+00,  1.17177257e+00, -1.80245852e+00,\n",
       "       -1.77352471e+00,  8.18967572e-01,  1.40981474e+00,  6.91785070e+00,\n",
       "        7.33216481e-01, -2.13609109e+00, -2.97972497e+00,  1.23066037e+00,\n",
       "        1.10811161e+00, -3.41300507e+00,  3.67922643e+00, -1.95422854e+00,\n",
       "        8.99700523e-01, -3.80656511e-01,  5.10139100e-01, -9.43812644e-01,\n",
       "        1.02666297e+00, -2.33243111e-01, -2.92071264e+00, -1.83726357e+00,\n",
       "       -1.04329981e+00, -1.30677284e+00,  3.37914362e+00,  1.81570581e+00,\n",
       "       -3.45099016e+00, -4.90948906e+00,  3.72154059e+00,  1.12752276e+00,\n",
       "       -2.36056280e+00,  1.16339143e+00,  1.17540210e-01, -2.09763715e-02,\n",
       "       -7.83008632e-01,  1.21781290e+00,  1.81409565e+00,  4.24288840e+00,\n",
       "        5.72838023e-01,  1.64339105e-01, -1.67992132e+00, -5.63301242e-01,\n",
       "        8.56252729e-01, -1.91264791e+00,  8.32651886e-01,  1.60212798e+00,\n",
       "       -3.38142227e+00,  5.78297222e+00,  2.02966114e+00,  2.27929784e+00,\n",
       "       -8.06093472e-01, -1.19124523e+00,  1.91801644e+00,  2.01914279e+00,\n",
       "       -5.75132370e-01,  2.66713544e-02, -2.31944150e+00,  1.71653940e-01,\n",
       "        2.81826323e+00,  4.08862349e+00, -1.24437664e+00, -2.55416977e+00,\n",
       "        9.25809212e-01, -2.37188873e+00, -1.99799358e+00, -7.55117190e-01,\n",
       "        6.01940492e-01,  4.01370474e-01, -4.64511787e-01, -2.85488139e+00,\n",
       "        3.02727826e-01,  2.42749103e+00,  2.06799873e+00,  2.64164790e+00,\n",
       "        6.17286574e-01, -8.53238232e-01, -8.20752622e-01, -5.49894278e-01,\n",
       "        4.98569893e-01, -1.88729445e+00, -2.86388548e+00])"
      ]
     },
     "execution_count": 58,
     "metadata": {},
     "output_type": "execute_result"
    }
   ],
   "source": [
    "# creating a dataframe out of it \n",
    "pca_np_transpose = np.transpose(pca_nparr)\n",
    "pca_np_transpose[0]"
   ]
  },
  {
   "cell_type": "code",
   "execution_count": 60,
   "metadata": {},
   "outputs": [
    {
     "data": {
      "text/html": [
       "<div>\n",
       "<style scoped>\n",
       "    .dataframe tbody tr th:only-of-type {\n",
       "        vertical-align: middle;\n",
       "    }\n",
       "\n",
       "    .dataframe tbody tr th {\n",
       "        vertical-align: top;\n",
       "    }\n",
       "\n",
       "    .dataframe thead th {\n",
       "        text-align: right;\n",
       "    }\n",
       "</style>\n",
       "<table border=\"1\" class=\"dataframe\">\n",
       "  <thead>\n",
       "    <tr style=\"text-align: right;\">\n",
       "      <th></th>\n",
       "      <th>PC1</th>\n",
       "      <th>PC2</th>\n",
       "      <th>PC3</th>\n",
       "      <th>PC4</th>\n",
       "      <th>PC5</th>\n",
       "    </tr>\n",
       "  </thead>\n",
       "  <tbody>\n",
       "    <tr>\n",
       "      <td>0</td>\n",
       "      <td>-2.913000</td>\n",
       "      <td>0.091969</td>\n",
       "      <td>-0.721242</td>\n",
       "      <td>1.001838</td>\n",
       "      <td>-0.146765</td>\n",
       "    </tr>\n",
       "    <tr>\n",
       "      <td>1</td>\n",
       "      <td>0.429870</td>\n",
       "      <td>-0.589373</td>\n",
       "      <td>-0.328611</td>\n",
       "      <td>-1.165014</td>\n",
       "      <td>0.153205</td>\n",
       "    </tr>\n",
       "    <tr>\n",
       "      <td>2</td>\n",
       "      <td>-0.285289</td>\n",
       "      <td>-0.452139</td>\n",
       "      <td>1.232051</td>\n",
       "      <td>-0.857767</td>\n",
       "      <td>0.191227</td>\n",
       "    </tr>\n",
       "    <tr>\n",
       "      <td>3</td>\n",
       "      <td>-2.932714</td>\n",
       "      <td>1.698771</td>\n",
       "      <td>1.525076</td>\n",
       "      <td>0.855595</td>\n",
       "      <td>-0.214778</td>\n",
       "    </tr>\n",
       "    <tr>\n",
       "      <td>4</td>\n",
       "      <td>1.033371</td>\n",
       "      <td>0.133853</td>\n",
       "      <td>-0.216699</td>\n",
       "      <td>-0.846638</td>\n",
       "      <td>-0.193186</td>\n",
       "    </tr>\n",
       "  </tbody>\n",
       "</table>\n",
       "</div>"
      ],
      "text/plain": [
       "        PC1       PC2       PC3       PC4       PC5\n",
       "0 -2.913000  0.091969 -0.721242  1.001838 -0.146765\n",
       "1  0.429870 -0.589373 -0.328611 -1.165014  0.153205\n",
       "2 -0.285289 -0.452139  1.232051 -0.857767  0.191227\n",
       "3 -2.932714  1.698771  1.525076  0.855595 -0.214778\n",
       "4  1.033371  0.133853 -0.216699 -0.846638 -0.193186"
      ]
     },
     "execution_count": 60,
     "metadata": {},
     "output_type": "execute_result"
    }
   ],
   "source": [
    "pca_df = pd.DataFrame({'PC1':pca_np_transpose[0], 'PC2':pca_np_transpose[1], \n",
    "                       'PC3':pca_np_transpose[2], 'PC4':pca_np_transpose[3],'PC5':pca_np_transpose[4]})\n",
    "pca_df.head()"
   ]
  },
  {
   "cell_type": "code",
   "execution_count": 62,
   "metadata": {},
   "outputs": [
    {
     "data": {
      "text/html": [
       "<div>\n",
       "<style scoped>\n",
       "    .dataframe tbody tr th:only-of-type {\n",
       "        vertical-align: middle;\n",
       "    }\n",
       "\n",
       "    .dataframe tbody tr th {\n",
       "        vertical-align: top;\n",
       "    }\n",
       "\n",
       "    .dataframe thead th {\n",
       "        text-align: right;\n",
       "    }\n",
       "</style>\n",
       "<table border=\"1\" class=\"dataframe\">\n",
       "  <thead>\n",
       "    <tr style=\"text-align: right;\">\n",
       "      <th></th>\n",
       "      <th>PC1</th>\n",
       "      <th>PC2</th>\n",
       "      <th>PC3</th>\n",
       "      <th>PC4</th>\n",
       "      <th>PC5</th>\n",
       "      <th>country</th>\n",
       "    </tr>\n",
       "  </thead>\n",
       "  <tbody>\n",
       "    <tr>\n",
       "      <td>0</td>\n",
       "      <td>-2.913000</td>\n",
       "      <td>0.091969</td>\n",
       "      <td>-0.721242</td>\n",
       "      <td>1.001838</td>\n",
       "      <td>-0.146765</td>\n",
       "      <td>Afghanistan</td>\n",
       "    </tr>\n",
       "    <tr>\n",
       "      <td>1</td>\n",
       "      <td>0.429870</td>\n",
       "      <td>-0.589373</td>\n",
       "      <td>-0.328611</td>\n",
       "      <td>-1.165014</td>\n",
       "      <td>0.153205</td>\n",
       "      <td>Albania</td>\n",
       "    </tr>\n",
       "    <tr>\n",
       "      <td>2</td>\n",
       "      <td>-0.285289</td>\n",
       "      <td>-0.452139</td>\n",
       "      <td>1.232051</td>\n",
       "      <td>-0.857767</td>\n",
       "      <td>0.191227</td>\n",
       "      <td>Algeria</td>\n",
       "    </tr>\n",
       "    <tr>\n",
       "      <td>3</td>\n",
       "      <td>-2.932714</td>\n",
       "      <td>1.698771</td>\n",
       "      <td>1.525076</td>\n",
       "      <td>0.855595</td>\n",
       "      <td>-0.214778</td>\n",
       "      <td>Angola</td>\n",
       "    </tr>\n",
       "    <tr>\n",
       "      <td>4</td>\n",
       "      <td>1.033371</td>\n",
       "      <td>0.133853</td>\n",
       "      <td>-0.216699</td>\n",
       "      <td>-0.846638</td>\n",
       "      <td>-0.193186</td>\n",
       "      <td>Antigua and Barbuda</td>\n",
       "    </tr>\n",
       "  </tbody>\n",
       "</table>\n",
       "</div>"
      ],
      "text/plain": [
       "        PC1       PC2       PC3       PC4       PC5              country\n",
       "0 -2.913000  0.091969 -0.721242  1.001838 -0.146765          Afghanistan\n",
       "1  0.429870 -0.589373 -0.328611 -1.165014  0.153205              Albania\n",
       "2 -0.285289 -0.452139  1.232051 -0.857767  0.191227              Algeria\n",
       "3 -2.932714  1.698771  1.525076  0.855595 -0.214778               Angola\n",
       "4  1.033371  0.133853 -0.216699 -0.846638 -0.193186  Antigua and Barbuda"
      ]
     },
     "execution_count": 62,
     "metadata": {},
     "output_type": "execute_result"
    }
   ],
   "source": [
    "# Adding back the ID column i.e. Country column to the given principal components\n",
    "pca_df = pd.concat([pca_df, country_col_df], axis=1)\n",
    "pca_df.head()"
   ]
  },
  {
   "cell_type": "markdown",
   "metadata": {},
   "source": [
    "### Outlier treatment"
   ]
  },
  {
   "cell_type": "code",
   "execution_count": 99,
   "metadata": {},
   "outputs": [],
   "source": [
    "# ploting box plots against each principal components to visualize the outliers\n",
    "\n",
    "def visualize_outliers(pca_df):\n",
    "    col_cnt=0\n",
    "    plt.figure(figsize=(20, 12))\n",
    "    for col in pca_df.columns:\n",
    "        if col_cnt == 5:\n",
    "            break        \n",
    "        if str(col) != \"conuntry\":\n",
    "            col_cnt+=1            \n",
    "            plt.subplot(2,3,col_cnt)\n",
    "            plt.boxplot(pca_df[col])\n",
    "            plt.xlabel(str(col))\n",
    "            \n",
    "    plt.show() \n",
    "\n"
   ]
  },
  {
   "cell_type": "code",
   "execution_count": 100,
   "metadata": {},
   "outputs": [
    {
     "data": {
      "image/png": "[encoded data removed]",
      "text/plain": [
       "<Figure size 1440x864 with 5 Axes>"
      ]
     },
     "metadata": {
      "needs_background": "light"
     },
     "output_type": "display_data"
    }
   ],
   "source": [
    "visualize_outliers(pca_df)"
   ]
  },
  {
   "cell_type": "markdown",
   "metadata": {},
   "source": [
    "For Principal components PC2, PC3 and PC5 there are data points lying outside the boundary of box plots which suggests there are outliers in the data.\n",
    "Also for PC4, the mean is not quitely centered towards '0' also could be an indication of ouliers in the data points. \n",
    "\n",
    "As a industry practice commonly used rule says a data points is a outliers if it is more than 1.5 * IQR. Implying the same rule here to treat the outliers"
   ]
  },
  {
   "cell_type": "code",
   "execution_count": 67,
   "metadata": {},
   "outputs": [
    {
     "data": {
      "text/plain": [
       "(167, 6)"
      ]
     },
     "execution_count": 67,
     "metadata": {},
     "output_type": "execute_result"
    }
   ],
   "source": [
    "pca_df.shape"
   ]
  },
  {
   "cell_type": "code",
   "execution_count": 68,
   "metadata": {},
   "outputs": [
    {
     "name": "stdout",
     "output_type": "stream",
     "text": [
      "<class 'pandas.core.frame.DataFrame'>\n",
      "RangeIndex: 167 entries, 0 to 166\n",
      "Data columns (total 6 columns):\n",
      "PC1        167 non-null float64\n",
      "PC2        167 non-null float64\n",
      "PC3        167 non-null float64\n",
      "PC4        167 non-null float64\n",
      "PC5        167 non-null float64\n",
      "country    167 non-null object\n",
      "dtypes: float64(5), object(1)\n",
      "memory usage: 8.0+ KB\n"
     ]
    }
   ],
   "source": [
    "pca_df.info()"
   ]
  },
  {
   "cell_type": "code",
   "execution_count": 101,
   "metadata": {},
   "outputs": [],
   "source": [
    "# removing (statistical) outliers for PC1\n",
    "# looping through PC1 to PC5 and trating outliers for 1.5 * IQR\n",
    "\n",
    "for col in pca_df.columns:\n",
    "    if str(col) == \"country\":\n",
    "        continue\n",
    "    Q1 = pca_df[col].quantile(0.05)\n",
    "    Q3 = pca_df[col].quantile(0.95)\n",
    "    IQR = Q3-Q1\n",
    "    pca_df = pca_df[(pca_df[col] >= Q1 - 1.5*IQR) & (pca_df[col] <= Q3 + 1.5*IQR)]\n",
    "        "
   ]
  },
  {
   "cell_type": "code",
   "execution_count": 102,
   "metadata": {},
   "outputs": [
    {
     "data": {
      "image/png": "[encoded data removed]",
      "text/plain": [
       "<Figure size 1440x864 with 5 Axes>"
      ]
     },
     "metadata": {
      "needs_background": "light"
     },
     "output_type": "display_data"
    }
   ],
   "source": [
    "# lets visualie outliers after outliers treatments again\n",
    "visualize_outliers(pca_df)"
   ]
  },
  {
   "cell_type": "markdown",
   "metadata": {},
   "source": [
    "### Clustering "
   ]
  },
  {
   "cell_type": "code",
   "execution_count": 104,
   "metadata": {},
   "outputs": [],
   "source": [
    "#Calculating the Hopkins statistic\n",
    "from sklearn.neighbors import NearestNeighbors\n",
    "from random import sample\n",
    "from numpy.random import uniform\n",
    "import numpy as np\n",
    "from math import isnan\n",
    " \n",
    "def hopkins(X):\n",
    "    d = X.shape[1]\n",
    "    #d = len(vars) # columns\n",
    "    n = len(X) # rows\n",
    "    m = int(0.1 * n) \n",
    "    nbrs = NearestNeighbors(n_neighbors=1).fit(X.values)\n",
    " \n",
    "    rand_X = sample(range(0, n, 1), m)\n",
    " \n",
    "    ujd = []\n",
    "    wjd = []\n",
    "    for j in range(0, m):\n",
    "        u_dist, _ = nbrs.kneighbors(uniform(np.amin(X,axis=0),np.amax(X,axis=0),d).reshape(1, -1), 2, return_distance=True)\n",
    "        ujd.append(u_dist[0][1])\n",
    "        w_dist, _ = nbrs.kneighbors(X.iloc[rand_X[j]].values.reshape(1, -1), 2, return_distance=True)\n",
    "        wjd.append(w_dist[0][1])\n",
    " \n",
    "    H = sum(ujd) / (sum(ujd) + sum(wjd))\n",
    "    if isnan(H):\n",
    "        print(ujd, wjd)\n",
    "        H = 0\n",
    " \n",
    "    return H"
   ]
  },
  {
   "cell_type": "code",
   "execution_count": 107,
   "metadata": {},
   "outputs": [
    {
     "data": {
      "text/plain": [
       "0.7965247938829062"
      ]
     },
     "execution_count": 107,
     "metadata": {},
     "output_type": "execute_result"
    }
   ],
   "source": [
    "#Let's check the Hopkins measure\n",
    "hopkins(pca_df.drop('country',axis=1))"
   ]
  },
  {
   "cell_type": "markdown",
   "metadata": {},
   "source": [
    "The Hopkins score shows =~ 80% variance suggests data points differ significantly which is a good indication of cluster tendency. According to Hopkins rule if the value is between {0.7, ..., 0.99}, it has a high tendency to cluster. Since in this case the score is =~ 80% suggests our data points have high tendency to form cluster."
   ]
  },
  {
   "cell_type": "markdown",
   "metadata": {},
   "source": [
    "#### K-Means Clustering"
   ]
  },
  {
   "cell_type": "code",
   "execution_count": 115,
   "metadata": {},
   "outputs": [
    {
     "name": "stdout",
     "output_type": "stream",
     "text": [
      "For n_cluster=2, silhouette score is 0.28735668921406704\n",
      "For n_cluster=3, silhouette score is 0.28329575683463126\n",
      "For n_cluster=4, silhouette score is 0.301375962376881\n",
      "For n_cluster=5, silhouette score is 0.3060544006436598\n",
      "For n_cluster=6, silhouette score is 0.23293312221599696\n",
      "For n_cluster=7, silhouette score is 0.24619713233523322\n",
      "For n_cluster=8, silhouette score is 0.25280751205410673\n"
     ]
    }
   ],
   "source": [
    "# checking silhouette score to figure out optimal cluster\n",
    "\n",
    "ss = []\n",
    "n_clusters = [2, 3, 4, 5, 6, 7, 8]\n",
    "for k in n_clusters:\n",
    "    # intialise kmeans\n",
    "    kmeans = KMeans(n_clusters=k, max_iter=50)\n",
    "    kmeans.fit(scaled_df)\n",
    "    \n",
    "    cls_labels = kmeans.labels_\n",
    "    silhouette_sc = silhouette_score(scaled_df,cls_labels)\n",
    "    ss.append([k,silhouette_sc])\n",
    "    print(\"For n_cluster={0}, silhouette score is {1}\".format(k,silhouette_sc))\n"
   ]
  },
  {
   "cell_type": "code",
   "execution_count": 116,
   "metadata": {},
   "outputs": [
    {
     "data": {
      "image/png": "[encoded data removed]",
      "text/plain": [
       "<Figure size 432x288 with 1 Axes>"
      ]
     },
     "metadata": {
      "needs_background": "light"
     },
     "output_type": "display_data"
    }
   ],
   "source": [
    "# plot silhouette score\n",
    "plt.plot(pd.DataFrame(ss)[0], pd.DataFrame(ss)[1])\n",
    "plt.show()\n",
    "    "
   ]
  },
  {
   "cell_type": "markdown",
   "metadata": {},
   "source": [
    "In Silhouette score plot we look for the peak, which is 5 here. So this suggests the optimal number of cluster probably be 5, hence we can choose k=5 for KMeans clustering"
   ]
  },
  {
   "cell_type": "code",
   "execution_count": 121,
   "metadata": {},
   "outputs": [
    {
     "data": {
      "text/plain": [
       "[1503.0,\n",
       " 1050.2145582853304,\n",
       " 831.4244352086874,\n",
       " 700.3917199643636,\n",
       " 631.2572342807227,\n",
       " 550.9303043026612,\n",
       " 496.0151442858558,\n",
       " 455.190162293776,\n",
       " 421.881196330525]"
      ]
     },
     "execution_count": 121,
     "metadata": {},
     "output_type": "execute_result"
    }
   ],
   "source": [
    "# Checking the Elbow curve plot via SSD (Sum of Squared distances) as well\n",
    "\n",
    "ssd=[]\n",
    "#n_clusters = [2, 3, 4, 5, 6, 7, 8]\n",
    "for k in range(1,10):\n",
    "    # intialise kmeans\n",
    "    kmeans = KMeans(n_clusters=k, max_iter=50)\n",
    "    kmeans.fit(scaled_df)\n",
    "    ssd.append(kmeans.inertia_)\n",
    "\n",
    "ssd    "
   ]
  },
  {
   "cell_type": "code",
   "execution_count": 122,
   "metadata": {},
   "outputs": [
    {
     "data": {
      "image/png": "[encoded data removed]",
      "text/plain": [
       "<Figure size 432x288 with 1 Axes>"
      ]
     },
     "metadata": {
      "needs_background": "light"
     },
     "output_type": "display_data"
    }
   ],
   "source": [
    "plt.plot(ssd)\n",
    "plt.show()"
   ]
  },
  {
   "cell_type": "markdown",
   "metadata": {},
   "source": [
    "The elbow break is in '1' and again in 2 and 3. This suggests that the optimal cluster could be either 4 ot 5, assuming 0 in x-axis represents 1 cluster, 1 in x-axis represents 2 clusters so on "
   ]
  },
  {
   "cell_type": "markdown",
   "metadata": {},
   "source": [
    "##### KMeans with the K the we have choosed"
   ]
  },
  {
   "cell_type": "code",
   "execution_count": 204,
   "metadata": {},
   "outputs": [
    {
     "data": {
      "text/plain": [
       "KMeans(algorithm='auto', copy_x=True, init='k-means++', max_iter=50,\n",
       "       n_clusters=4, n_init=10, n_jobs=None, precompute_distances='auto',\n",
       "       random_state=50, tol=0.0001, verbose=0)"
      ]
     },
     "execution_count": 204,
     "metadata": {},
     "output_type": "execute_result"
    }
   ],
   "source": [
    "# running final kmeans with K = 4, i.e. with 4 clusters\n",
    "kmeans_clus=KMeans(n_clusters=4,max_iter=50,random_state=50)\n",
    "kmeans_clus.fit(scaled_df)"
   ]
  },
  {
   "cell_type": "code",
   "execution_count": 242,
   "metadata": {},
   "outputs": [
    {
     "data": {
      "text/html": [
       "<div>\n",
       "<style scoped>\n",
       "    .dataframe tbody tr th:only-of-type {\n",
       "        vertical-align: middle;\n",
       "    }\n",
       "\n",
       "    .dataframe tbody tr th {\n",
       "        vertical-align: top;\n",
       "    }\n",
       "\n",
       "    .dataframe thead th {\n",
       "        text-align: right;\n",
       "    }\n",
       "</style>\n",
       "<table border=\"1\" class=\"dataframe\">\n",
       "  <thead>\n",
       "    <tr style=\"text-align: right;\">\n",
       "      <th></th>\n",
       "      <th>PC1</th>\n",
       "      <th>PC2</th>\n",
       "      <th>PC3</th>\n",
       "      <th>PC4</th>\n",
       "      <th>PC5</th>\n",
       "      <th>country</th>\n",
       "      <th>KM_ClusterID</th>\n",
       "    </tr>\n",
       "  </thead>\n",
       "  <tbody>\n",
       "    <tr>\n",
       "      <td>0</td>\n",
       "      <td>-2.913000</td>\n",
       "      <td>0.091969</td>\n",
       "      <td>-0.721242</td>\n",
       "      <td>1.001838</td>\n",
       "      <td>-0.146765</td>\n",
       "      <td>Afghanistan</td>\n",
       "      <td>1</td>\n",
       "    </tr>\n",
       "    <tr>\n",
       "      <td>1</td>\n",
       "      <td>0.429870</td>\n",
       "      <td>-0.589373</td>\n",
       "      <td>-0.328611</td>\n",
       "      <td>-1.165014</td>\n",
       "      <td>0.153205</td>\n",
       "      <td>Albania</td>\n",
       "      <td>2</td>\n",
       "    </tr>\n",
       "    <tr>\n",
       "      <td>2</td>\n",
       "      <td>-0.285289</td>\n",
       "      <td>-0.452139</td>\n",
       "      <td>1.232051</td>\n",
       "      <td>-0.857767</td>\n",
       "      <td>0.191227</td>\n",
       "      <td>Algeria</td>\n",
       "      <td>2</td>\n",
       "    </tr>\n",
       "    <tr>\n",
       "      <td>3</td>\n",
       "      <td>-2.932714</td>\n",
       "      <td>1.698771</td>\n",
       "      <td>1.525076</td>\n",
       "      <td>0.855595</td>\n",
       "      <td>-0.214778</td>\n",
       "      <td>Angola</td>\n",
       "      <td>1</td>\n",
       "    </tr>\n",
       "    <tr>\n",
       "      <td>4</td>\n",
       "      <td>1.033371</td>\n",
       "      <td>0.133853</td>\n",
       "      <td>-0.216699</td>\n",
       "      <td>-0.846638</td>\n",
       "      <td>-0.193186</td>\n",
       "      <td>Antigua and Barbuda</td>\n",
       "      <td>2</td>\n",
       "    </tr>\n",
       "  </tbody>\n",
       "</table>\n",
       "</div>"
      ],
      "text/plain": [
       "        PC1       PC2       PC3       PC4       PC5              country  \\\n",
       "0 -2.913000  0.091969 -0.721242  1.001838 -0.146765          Afghanistan   \n",
       "1  0.429870 -0.589373 -0.328611 -1.165014  0.153205              Albania   \n",
       "2 -0.285289 -0.452139  1.232051 -0.857767  0.191227              Algeria   \n",
       "3 -2.932714  1.698771  1.525076  0.855595 -0.214778               Angola   \n",
       "4  1.033371  0.133853 -0.216699 -0.846638 -0.193186  Antigua and Barbuda   \n",
       "\n",
       "   KM_ClusterID  \n",
       "0             1  \n",
       "1             2  \n",
       "2             2  \n",
       "3             1  \n",
       "4             2  "
      ]
     },
     "execution_count": 242,
     "metadata": {},
     "output_type": "execute_result"
    }
   ],
   "source": [
    "# merge the PC's into the pca dataframe with cluster id and country\n",
    "km_df = pd.concat([pca_df.reset_index().drop('index',axis=1),pd.Series(kmeans_clus.labels_)],axis=1)\n",
    "km_df.columns = ['PC1','PC2','PC3','PC4','PC5','country','KM_ClusterID']\n",
    "km_df.head()"
   ]
  },
  {
   "cell_type": "code",
   "execution_count": 243,
   "metadata": {},
   "outputs": [
    {
     "data": {
      "text/plain": [
       "2    88\n",
       "1    46\n",
       "0    30\n",
       "3     3\n",
       "Name: KM_ClusterID, dtype: int64"
      ]
     },
     "execution_count": 243,
     "metadata": {},
     "output_type": "execute_result"
    }
   ],
   "source": [
    "# Check the count of observation per cluster\n",
    "km_df['KM_ClusterID'].value_counts()"
   ]
  },
  {
   "cell_type": "code",
   "execution_count": 244,
   "metadata": {},
   "outputs": [
    {
     "data": {
      "text/plain": [
       "3    88\n",
       "2    46\n",
       "1    30\n",
       "4     3\n",
       "Name: KM_ClusterID, dtype: int64"
      ]
     },
     "execution_count": 244,
     "metadata": {},
     "output_type": "execute_result"
    }
   ],
   "source": [
    "km_df['KM_ClusterID'] = km_df['KM_ClusterID'].apply(lambda x: x+1)\n",
    "km_df['KM_ClusterID'].value_counts()"
   ]
  },
  {
   "cell_type": "code",
   "execution_count": 245,
   "metadata": {},
   "outputs": [
    {
     "data": {
      "text/plain": [
       "(167, 7)"
      ]
     },
     "execution_count": 245,
     "metadata": {},
     "output_type": "execute_result"
    }
   ],
   "source": [
    "km_df.shape"
   ]
  },
  {
   "cell_type": "code",
   "execution_count": 246,
   "metadata": {},
   "outputs": [
    {
     "data": {
      "text/html": [
       "<div>\n",
       "<style scoped>\n",
       "    .dataframe tbody tr th:only-of-type {\n",
       "        vertical-align: middle;\n",
       "    }\n",
       "\n",
       "    .dataframe tbody tr th {\n",
       "        vertical-align: top;\n",
       "    }\n",
       "\n",
       "    .dataframe thead th {\n",
       "        text-align: right;\n",
       "    }\n",
       "</style>\n",
       "<table border=\"1\" class=\"dataframe\">\n",
       "  <thead>\n",
       "    <tr style=\"text-align: right;\">\n",
       "      <th></th>\n",
       "      <th>PC1</th>\n",
       "      <th>PC2</th>\n",
       "      <th>PC3</th>\n",
       "      <th>PC4</th>\n",
       "      <th>PC5</th>\n",
       "      <th>KM_ClusterID</th>\n",
       "    </tr>\n",
       "  </thead>\n",
       "  <tbody>\n",
       "    <tr>\n",
       "      <td>count</td>\n",
       "      <td>166.00</td>\n",
       "      <td>166.00</td>\n",
       "      <td>166.00</td>\n",
       "      <td>166.00</td>\n",
       "      <td>166.00</td>\n",
       "      <td>167.00</td>\n",
       "    </tr>\n",
       "    <tr>\n",
       "      <td>mean</td>\n",
       "      <td>0.03</td>\n",
       "      <td>0.00</td>\n",
       "      <td>-0.04</td>\n",
       "      <td>-0.01</td>\n",
       "      <td>-0.03</td>\n",
       "      <td>2.38</td>\n",
       "    </tr>\n",
       "    <tr>\n",
       "      <td>std</td>\n",
       "      <td>2.01</td>\n",
       "      <td>1.25</td>\n",
       "      <td>0.98</td>\n",
       "      <td>0.99</td>\n",
       "      <td>0.70</td>\n",
       "      <td>0.80</td>\n",
       "    </tr>\n",
       "    <tr>\n",
       "      <td>min</td>\n",
       "      <td>-4.41</td>\n",
       "      <td>-3.00</td>\n",
       "      <td>-2.74</td>\n",
       "      <td>-1.59</td>\n",
       "      <td>-2.82</td>\n",
       "      <td>1.00</td>\n",
       "    </tr>\n",
       "    <tr>\n",
       "      <td>25%</td>\n",
       "      <td>-1.33</td>\n",
       "      <td>-0.76</td>\n",
       "      <td>-0.53</td>\n",
       "      <td>-0.79</td>\n",
       "      <td>-0.40</td>\n",
       "      <td>2.00</td>\n",
       "    </tr>\n",
       "    <tr>\n",
       "      <td>50%</td>\n",
       "      <td>0.02</td>\n",
       "      <td>-0.09</td>\n",
       "      <td>-0.23</td>\n",
       "      <td>-0.31</td>\n",
       "      <td>-0.07</td>\n",
       "      <td>3.00</td>\n",
       "    </tr>\n",
       "    <tr>\n",
       "      <td>75%</td>\n",
       "      <td>1.23</td>\n",
       "      <td>0.55</td>\n",
       "      <td>0.41</td>\n",
       "      <td>0.71</td>\n",
       "      <td>0.28</td>\n",
       "      <td>3.00</td>\n",
       "    </tr>\n",
       "    <tr>\n",
       "      <td>max</td>\n",
       "      <td>6.92</td>\n",
       "      <td>6.68</td>\n",
       "      <td>3.66</td>\n",
       "      <td>3.13</td>\n",
       "      <td>2.22</td>\n",
       "      <td>4.00</td>\n",
       "    </tr>\n",
       "  </tbody>\n",
       "</table>\n",
       "</div>"
      ],
      "text/plain": [
       "          PC1     PC2     PC3     PC4     PC5  KM_ClusterID\n",
       "count  166.00  166.00  166.00  166.00  166.00        167.00\n",
       "mean     0.03    0.00   -0.04   -0.01   -0.03          2.38\n",
       "std      2.01    1.25    0.98    0.99    0.70          0.80\n",
       "min     -4.41   -3.00   -2.74   -1.59   -2.82          1.00\n",
       "25%     -1.33   -0.76   -0.53   -0.79   -0.40          2.00\n",
       "50%      0.02   -0.09   -0.23   -0.31   -0.07          3.00\n",
       "75%      1.23    0.55    0.41    0.71    0.28          3.00\n",
       "max      6.92    6.68    3.66    3.13    2.22          4.00"
      ]
     },
     "execution_count": 246,
     "metadata": {},
     "output_type": "execute_result"
    }
   ],
   "source": [
    "round(km_df.describe(),2)"
   ]
  },
  {
   "cell_type": "code",
   "execution_count": 247,
   "metadata": {},
   "outputs": [
    {
     "data": {
      "text/plain": [
       "<function matplotlib.pyplot.show(*args, **kw)>"
      ]
     },
     "execution_count": 247,
     "metadata": {},
     "output_type": "execute_result"
    },
    {
     "data": {
      "image/png": "[encoded data removed]",
      "text/plain": [
       "<Figure size 434.25x360 with 1 Axes>"
      ]
     },
     "metadata": {
      "needs_background": "light"
     },
     "output_type": "display_data"
    }
   ],
   "source": [
    "## Visualizing the clusters with top two Principal Components PC1 and PC2 \n",
    "# chosen as X, Y axis in a pairplot \n",
    "\n",
    "#sns.scatterplot(x='PC1',y='PC2', hue = 'ClusterID',legend='full',data=km_df)\n",
    "#sns.pairplot(data=km_df, x_vars=[\"PC1\"], y_vars=[\"PC2\",\"PC3\"], hue = \"ClusterID\", height=5)\n",
    "sns.pairplot(data=km_df, x_vars=[\"PC1\"], y_vars=[\"PC2\"], hue = \"KM_ClusterID\", height=5)\n",
    "plt.show"
   ]
  },
  {
   "cell_type": "markdown",
   "metadata": {},
   "source": [
    "Here we csn see that most of the data points are segrerated between cluster 1 (blue), cluster 2 (orange), cluster 3 (green) with little overlaps. Where as cluster 4 denoted in red color looks quite scattered. Thats is not a good cluster representations."
   ]
  },
  {
   "cell_type": "markdown",
   "metadata": {},
   "source": [
    "##### KMeans Cluster Profiling"
   ]
  },
  {
   "cell_type": "code",
   "execution_count": 248,
   "metadata": {},
   "outputs": [
    {
     "data": {
      "text/html": [
       "<div>\n",
       "<style scoped>\n",
       "    .dataframe tbody tr th:only-of-type {\n",
       "        vertical-align: middle;\n",
       "    }\n",
       "\n",
       "    .dataframe tbody tr th {\n",
       "        vertical-align: top;\n",
       "    }\n",
       "\n",
       "    .dataframe thead th {\n",
       "        text-align: right;\n",
       "    }\n",
       "</style>\n",
       "<table border=\"1\" class=\"dataframe\">\n",
       "  <thead>\n",
       "    <tr style=\"text-align: right;\">\n",
       "      <th></th>\n",
       "      <th>country</th>\n",
       "      <th>child_mort</th>\n",
       "      <th>exports</th>\n",
       "      <th>health</th>\n",
       "      <th>imports</th>\n",
       "      <th>income</th>\n",
       "      <th>inflation</th>\n",
       "      <th>life_expec</th>\n",
       "      <th>total_fer</th>\n",
       "      <th>gdpp</th>\n",
       "      <th>KM_ClusterID</th>\n",
       "    </tr>\n",
       "  </thead>\n",
       "  <tbody>\n",
       "    <tr>\n",
       "      <td>0</td>\n",
       "      <td>Afghanistan</td>\n",
       "      <td>90.2</td>\n",
       "      <td>10.0</td>\n",
       "      <td>7.58</td>\n",
       "      <td>44.9</td>\n",
       "      <td>1610</td>\n",
       "      <td>9.44</td>\n",
       "      <td>56.2</td>\n",
       "      <td>5.82</td>\n",
       "      <td>553</td>\n",
       "      <td>2</td>\n",
       "    </tr>\n",
       "    <tr>\n",
       "      <td>1</td>\n",
       "      <td>Albania</td>\n",
       "      <td>16.6</td>\n",
       "      <td>28.0</td>\n",
       "      <td>6.55</td>\n",
       "      <td>48.6</td>\n",
       "      <td>9930</td>\n",
       "      <td>4.49</td>\n",
       "      <td>76.3</td>\n",
       "      <td>1.65</td>\n",
       "      <td>4090</td>\n",
       "      <td>3</td>\n",
       "    </tr>\n",
       "    <tr>\n",
       "      <td>2</td>\n",
       "      <td>Algeria</td>\n",
       "      <td>27.3</td>\n",
       "      <td>38.4</td>\n",
       "      <td>4.17</td>\n",
       "      <td>31.4</td>\n",
       "      <td>12900</td>\n",
       "      <td>16.10</td>\n",
       "      <td>76.5</td>\n",
       "      <td>2.89</td>\n",
       "      <td>4460</td>\n",
       "      <td>3</td>\n",
       "    </tr>\n",
       "    <tr>\n",
       "      <td>3</td>\n",
       "      <td>Angola</td>\n",
       "      <td>119.0</td>\n",
       "      <td>62.3</td>\n",
       "      <td>2.85</td>\n",
       "      <td>42.9</td>\n",
       "      <td>5900</td>\n",
       "      <td>22.40</td>\n",
       "      <td>60.1</td>\n",
       "      <td>6.16</td>\n",
       "      <td>3530</td>\n",
       "      <td>2</td>\n",
       "    </tr>\n",
       "    <tr>\n",
       "      <td>4</td>\n",
       "      <td>Antigua and Barbuda</td>\n",
       "      <td>10.3</td>\n",
       "      <td>45.5</td>\n",
       "      <td>6.03</td>\n",
       "      <td>58.9</td>\n",
       "      <td>19100</td>\n",
       "      <td>1.44</td>\n",
       "      <td>76.8</td>\n",
       "      <td>2.13</td>\n",
       "      <td>12200</td>\n",
       "      <td>3</td>\n",
       "    </tr>\n",
       "  </tbody>\n",
       "</table>\n",
       "</div>"
      ],
      "text/plain": [
       "               country  child_mort  exports  health  imports  income  \\\n",
       "0          Afghanistan        90.2     10.0    7.58     44.9    1610   \n",
       "1              Albania        16.6     28.0    6.55     48.6    9930   \n",
       "2              Algeria        27.3     38.4    4.17     31.4   12900   \n",
       "3               Angola       119.0     62.3    2.85     42.9    5900   \n",
       "4  Antigua and Barbuda        10.3     45.5    6.03     58.9   19100   \n",
       "\n",
       "   inflation  life_expec  total_fer   gdpp  KM_ClusterID  \n",
       "0       9.44        56.2       5.82    553             2  \n",
       "1       4.49        76.3       1.65   4090             3  \n",
       "2      16.10        76.5       2.89   4460             3  \n",
       "3      22.40        60.1       6.16   3530             2  \n",
       "4       1.44        76.8       2.13  12200             3  "
      ]
     },
     "execution_count": 248,
     "metadata": {},
     "output_type": "execute_result"
    }
   ],
   "source": [
    "#  merging the original data with the data(KM_ClusterID)\n",
    "km_clus_merged_df = pd.merge(countries_df,km_df,how='inner',on='country')\n",
    "km_clus_merged_df.drop([\"PC1\",\"PC2\",\"PC3\",\"PC4\",\"PC5\"],axis=1,inplace=True)\n",
    "km_clus_merged_df.head()"
   ]
  },
  {
   "cell_type": "code",
   "execution_count": 249,
   "metadata": {},
   "outputs": [
    {
     "data": {
      "text/html": [
       "<div>\n",
       "<style scoped>\n",
       "    .dataframe tbody tr th:only-of-type {\n",
       "        vertical-align: middle;\n",
       "    }\n",
       "\n",
       "    .dataframe tbody tr th {\n",
       "        vertical-align: top;\n",
       "    }\n",
       "\n",
       "    .dataframe thead th {\n",
       "        text-align: right;\n",
       "    }\n",
       "</style>\n",
       "<table border=\"1\" class=\"dataframe\">\n",
       "  <thead>\n",
       "    <tr style=\"text-align: right;\">\n",
       "      <th></th>\n",
       "      <th>country</th>\n",
       "      <th>child_mort</th>\n",
       "      <th>gdpp</th>\n",
       "      <th>income</th>\n",
       "      <th>KM_ClusterID</th>\n",
       "    </tr>\n",
       "  </thead>\n",
       "  <tbody>\n",
       "    <tr>\n",
       "      <td>0</td>\n",
       "      <td>Afghanistan</td>\n",
       "      <td>90.2</td>\n",
       "      <td>553</td>\n",
       "      <td>1610</td>\n",
       "      <td>2</td>\n",
       "    </tr>\n",
       "    <tr>\n",
       "      <td>1</td>\n",
       "      <td>Albania</td>\n",
       "      <td>16.6</td>\n",
       "      <td>4090</td>\n",
       "      <td>9930</td>\n",
       "      <td>3</td>\n",
       "    </tr>\n",
       "    <tr>\n",
       "      <td>2</td>\n",
       "      <td>Algeria</td>\n",
       "      <td>27.3</td>\n",
       "      <td>4460</td>\n",
       "      <td>12900</td>\n",
       "      <td>3</td>\n",
       "    </tr>\n",
       "    <tr>\n",
       "      <td>3</td>\n",
       "      <td>Angola</td>\n",
       "      <td>119.0</td>\n",
       "      <td>3530</td>\n",
       "      <td>5900</td>\n",
       "      <td>2</td>\n",
       "    </tr>\n",
       "    <tr>\n",
       "      <td>4</td>\n",
       "      <td>Antigua and Barbuda</td>\n",
       "      <td>10.3</td>\n",
       "      <td>12200</td>\n",
       "      <td>19100</td>\n",
       "      <td>3</td>\n",
       "    </tr>\n",
       "  </tbody>\n",
       "</table>\n",
       "</div>"
      ],
      "text/plain": [
       "               country  child_mort   gdpp  income  KM_ClusterID\n",
       "0          Afghanistan        90.2    553    1610             2\n",
       "1              Albania        16.6   4090    9930             3\n",
       "2              Algeria        27.3   4460   12900             3\n",
       "3               Angola       119.0   3530    5900             2\n",
       "4  Antigua and Barbuda        10.3  12200   19100             3"
      ]
     },
     "execution_count": 249,
     "metadata": {},
     "output_type": "execute_result"
    }
   ],
   "source": [
    "# considering only gdpp, child_mort and income variables\n",
    "clus_final_df = km_clus_merged_df[[\"country\",\"child_mort\",\"gdpp\",\"income\",\"KM_ClusterID\"]]\n",
    "clus_final_df.head()"
   ]
  },
  {
   "cell_type": "code",
   "execution_count": 250,
   "metadata": {},
   "outputs": [
    {
     "data": {
      "text/plain": [
       "(166, 5)"
      ]
     },
     "execution_count": 250,
     "metadata": {},
     "output_type": "execute_result"
    }
   ],
   "source": [
    "clus_final_df.shape"
   ]
  },
  {
   "cell_type": "code",
   "execution_count": 251,
   "metadata": {},
   "outputs": [
    {
     "data": {
      "text/plain": [
       "<Figure size 432x288 with 0 Axes>"
      ]
     },
     "metadata": {},
     "output_type": "display_data"
    },
    {
     "data": {
      "image/png": "[encoded data removed]",
      "text/plain": [
       "<Figure size 864x432 with 3 Axes>"
      ]
     },
     "metadata": {
      "needs_background": "light"
     },
     "output_type": "display_data"
    }
   ],
   "source": [
    "# plot boxplot with x-axis clusterID and y-axis income or child mortality rate to visualize\n",
    "# how the data is spread among 4 different clusters\n",
    "plt.figure(1)\n",
    "plt.figure(figsize=(12,6))\n",
    "\n",
    "plt.subplot(1,3,1)\n",
    "sns.boxplot(x='KM_ClusterID', y='income', data=clus_final_df)\n",
    "\n",
    "plt.subplot(1,3,2)\n",
    "sns.boxplot(x='KM_ClusterID', y='child_mort', data=clus_final_df)\n",
    "\n",
    "plt.subplot(1,3,3)\n",
    "sns.boxplot(x='KM_ClusterID', y='gdpp', data=clus_final_df)\n",
    "\n",
    "plt.tight_layout()\n",
    "plt.show()"
   ]
  },
  {
   "cell_type": "markdown",
   "metadata": {},
   "source": [
    "By looking into the above boxplots for the each clusters we can observe \n",
    "- Countries participated in Cluster-1 has very balanced income and gdpp mean nearly 40K with very very low child mortality rate\n",
    "- Countries participated in Cluster-2 has very high child mortality rate with low income ranges below 20K and low gdpp even less than 5K mean\n",
    "- Countries participated in Cluster-3 has decent income but compared to income the per capita gdp is low. Where as chil-mortality is high\n",
    "- Countries participated in Cluster-4 has very good income and gdpp mean arond roughly 30K with very very low kind of negligible child mortality rate. These country certainly not required any sort of aid or financial support\n",
    "\n",
    "These suggests that countries in Cluster-2 would require Aid/Financial support in terms of helping towards the gdpp and bring down child mortality rate. \n"
   ]
  },
  {
   "cell_type": "code",
   "execution_count": 252,
   "metadata": {},
   "outputs": [
    {
     "name": "stderr",
     "output_type": "stream",
     "text": [
      "/home/jmajumde/.local/lib/python3.6/site-packages/pandas/core/frame.py:4102: SettingWithCopyWarning: \n",
      "A value is trying to be set on a copy of a slice from a DataFrame\n",
      "\n",
      "See the caveats in the documentation: http://pandas.pydata.org/pandas-docs/stable/user_guide/indexing.html#returning-a-view-versus-a-copy\n",
      "  errors=errors,\n"
     ]
    }
   ],
   "source": [
    "# creating country specific data set group by each of these 4 clusters\n",
    "C1_km_df = clus_final_df[(clus_final_df['KM_ClusterID'] == 1)]\n",
    "C1_km_df.drop(['KM_ClusterID'],axis=1,inplace=True)\n",
    "\n",
    "C2_km_df = clus_final_df[(clus_final_df['KM_ClusterID'] == 2)]\n",
    "C2_km_df.drop(['KM_ClusterID'],axis=1,inplace=True)\n",
    "\n",
    "C3_km_df = clus_final_df[(clus_final_df['KM_ClusterID'] == 3)]\n",
    "C3_km_df.drop(['KM_ClusterID'],axis=1,inplace=True)\n",
    "\n",
    "C4_km_df = clus_final_df[(clus_final_df['KM_ClusterID'] == 4)]\n",
    "C4_km_df.drop(['KM_ClusterID'],axis=1,inplace=True)"
   ]
  },
  {
   "cell_type": "code",
   "execution_count": 255,
   "metadata": {},
   "outputs": [
    {
     "data": {
      "text/html": [
       "<div>\n",
       "<style scoped>\n",
       "    .dataframe tbody tr th:only-of-type {\n",
       "        vertical-align: middle;\n",
       "    }\n",
       "\n",
       "    .dataframe tbody tr th {\n",
       "        vertical-align: top;\n",
       "    }\n",
       "\n",
       "    .dataframe thead th {\n",
       "        text-align: right;\n",
       "    }\n",
       "</style>\n",
       "<table border=\"1\" class=\"dataframe\">\n",
       "  <thead>\n",
       "    <tr style=\"text-align: right;\">\n",
       "      <th></th>\n",
       "      <th>country</th>\n",
       "      <th>child_mort</th>\n",
       "      <th>gdpp</th>\n",
       "      <th>income</th>\n",
       "      <th>KM_ClusterID</th>\n",
       "    </tr>\n",
       "  </thead>\n",
       "  <tbody>\n",
       "    <tr>\n",
       "      <td>69</td>\n",
       "      <td>India</td>\n",
       "      <td>58.8</td>\n",
       "      <td>1350</td>\n",
       "      <td>4410</td>\n",
       "      <td>3</td>\n",
       "    </tr>\n",
       "  </tbody>\n",
       "</table>\n",
       "</div>"
      ],
      "text/plain": [
       "   country  child_mort  gdpp  income  KM_ClusterID\n",
       "69   India        58.8  1350    4410             3"
      ]
     },
     "execution_count": 255,
     "metadata": {},
     "output_type": "execute_result"
    }
   ],
   "source": [
    "# curious to see India data point\n",
    "India_df = clus_final_df[(clus_final_df['country'] == 'India')]\n",
    "India_df"
   ]
  },
  {
   "cell_type": "code",
   "execution_count": 256,
   "metadata": {},
   "outputs": [
    {
     "data": {
      "text/html": [
       "<div>\n",
       "<style scoped>\n",
       "    .dataframe tbody tr th:only-of-type {\n",
       "        vertical-align: middle;\n",
       "    }\n",
       "\n",
       "    .dataframe tbody tr th {\n",
       "        vertical-align: top;\n",
       "    }\n",
       "\n",
       "    .dataframe thead th {\n",
       "        text-align: right;\n",
       "    }\n",
       "</style>\n",
       "<table border=\"1\" class=\"dataframe\">\n",
       "  <thead>\n",
       "    <tr style=\"text-align: right;\">\n",
       "      <th></th>\n",
       "      <th>country</th>\n",
       "      <th>child_mort</th>\n",
       "      <th>gdpp</th>\n",
       "      <th>income</th>\n",
       "    </tr>\n",
       "  </thead>\n",
       "  <tbody>\n",
       "    <tr>\n",
       "      <td>66</td>\n",
       "      <td>Haiti</td>\n",
       "      <td>208.0</td>\n",
       "      <td>662</td>\n",
       "      <td>1500</td>\n",
       "    </tr>\n",
       "    <tr>\n",
       "      <td>32</td>\n",
       "      <td>Chad</td>\n",
       "      <td>150.0</td>\n",
       "      <td>897</td>\n",
       "      <td>1930</td>\n",
       "    </tr>\n",
       "    <tr>\n",
       "      <td>31</td>\n",
       "      <td>Central African Republic</td>\n",
       "      <td>149.0</td>\n",
       "      <td>446</td>\n",
       "      <td>888</td>\n",
       "    </tr>\n",
       "    <tr>\n",
       "      <td>97</td>\n",
       "      <td>Mali</td>\n",
       "      <td>137.0</td>\n",
       "      <td>708</td>\n",
       "      <td>1870</td>\n",
       "    </tr>\n",
       "    <tr>\n",
       "      <td>112</td>\n",
       "      <td>Niger</td>\n",
       "      <td>123.0</td>\n",
       "      <td>348</td>\n",
       "      <td>814</td>\n",
       "    </tr>\n",
       "    <tr>\n",
       "      <td>3</td>\n",
       "      <td>Angola</td>\n",
       "      <td>119.0</td>\n",
       "      <td>3530</td>\n",
       "      <td>5900</td>\n",
       "    </tr>\n",
       "    <tr>\n",
       "      <td>25</td>\n",
       "      <td>Burkina Faso</td>\n",
       "      <td>116.0</td>\n",
       "      <td>575</td>\n",
       "      <td>1430</td>\n",
       "    </tr>\n",
       "    <tr>\n",
       "      <td>37</td>\n",
       "      <td>Congo, Dem. Rep.</td>\n",
       "      <td>116.0</td>\n",
       "      <td>334</td>\n",
       "      <td>609</td>\n",
       "    </tr>\n",
       "    <tr>\n",
       "      <td>64</td>\n",
       "      <td>Guinea-Bissau</td>\n",
       "      <td>114.0</td>\n",
       "      <td>547</td>\n",
       "      <td>1390</td>\n",
       "    </tr>\n",
       "    <tr>\n",
       "      <td>17</td>\n",
       "      <td>Benin</td>\n",
       "      <td>111.0</td>\n",
       "      <td>758</td>\n",
       "      <td>1820</td>\n",
       "    </tr>\n",
       "    <tr>\n",
       "      <td>49</td>\n",
       "      <td>Equatorial Guinea</td>\n",
       "      <td>111.0</td>\n",
       "      <td>17100</td>\n",
       "      <td>33700</td>\n",
       "    </tr>\n",
       "    <tr>\n",
       "      <td>40</td>\n",
       "      <td>Cote d'Ivoire</td>\n",
       "      <td>111.0</td>\n",
       "      <td>1220</td>\n",
       "      <td>2690</td>\n",
       "    </tr>\n",
       "    <tr>\n",
       "      <td>63</td>\n",
       "      <td>Guinea</td>\n",
       "      <td>109.0</td>\n",
       "      <td>648</td>\n",
       "      <td>1190</td>\n",
       "    </tr>\n",
       "    <tr>\n",
       "      <td>28</td>\n",
       "      <td>Cameroon</td>\n",
       "      <td>108.0</td>\n",
       "      <td>1310</td>\n",
       "      <td>2660</td>\n",
       "    </tr>\n",
       "    <tr>\n",
       "      <td>106</td>\n",
       "      <td>Mozambique</td>\n",
       "      <td>101.0</td>\n",
       "      <td>419</td>\n",
       "      <td>918</td>\n",
       "    </tr>\n",
       "  </tbody>\n",
       "</table>\n",
       "</div>"
      ],
      "text/plain": [
       "                      country  child_mort   gdpp  income\n",
       "66                      Haiti       208.0    662    1500\n",
       "32                       Chad       150.0    897    1930\n",
       "31   Central African Republic       149.0    446     888\n",
       "97                       Mali       137.0    708    1870\n",
       "112                     Niger       123.0    348     814\n",
       "3                      Angola       119.0   3530    5900\n",
       "25               Burkina Faso       116.0    575    1430\n",
       "37           Congo, Dem. Rep.       116.0    334     609\n",
       "64              Guinea-Bissau       114.0    547    1390\n",
       "17                      Benin       111.0    758    1820\n",
       "49          Equatorial Guinea       111.0  17100   33700\n",
       "40              Cote d'Ivoire       111.0   1220    2690\n",
       "63                     Guinea       109.0    648    1190\n",
       "28                   Cameroon       108.0   1310    2660\n",
       "106                Mozambique       101.0    419     918"
      ]
     },
     "execution_count": 256,
     "metadata": {},
     "output_type": "execute_result"
    }
   ],
   "source": [
    "# list of countries which has low income, low gdpp and very high child mortality rate \n",
    "# can be seen below\n",
    "C2_km_df=C2_km_df.sort_values(by=['child_mort'], ascending=False)\n",
    "C2_km_df.head(15)"
   ]
  },
  {
   "cell_type": "markdown",
   "metadata": {},
   "source": [
    "#### Hierarchical Clustering"
   ]
  },
  {
   "cell_type": "code",
   "execution_count": 216,
   "metadata": {},
   "outputs": [
    {
     "data": {
      "text/plain": [
       "(166, 6)"
      ]
     },
     "execution_count": 216,
     "metadata": {},
     "output_type": "execute_result"
    }
   ],
   "source": [
    "pca_df.shape"
   ]
  },
  {
   "cell_type": "code",
   "execution_count": 217,
   "metadata": {},
   "outputs": [],
   "source": [
    "hierarchical_pca_df = pca_df.drop(['country'], axis=1)"
   ]
  },
  {
   "cell_type": "code",
   "execution_count": 218,
   "metadata": {},
   "outputs": [
    {
     "data": {
      "image/png": "[encoded data removed]",
      "text/plain": [
       "<Figure size 432x288 with 1 Axes>"
      ]
     },
     "metadata": {
      "needs_background": "light"
     },
     "output_type": "display_data"
    }
   ],
   "source": [
    "# single linkage\n",
    "mergings = linkage(hierarchical_pca_df, method=\"single\", metric='euclidean')\n",
    "dendrogram(mergings)\n",
    "plt.show()"
   ]
  },
  {
   "cell_type": "code",
   "execution_count": 221,
   "metadata": {},
   "outputs": [
    {
     "data": {
      "image/png": "[encoded data removed]",
      "text/plain": [
       "<Figure size 1080x576 with 1 Axes>"
      ]
     },
     "metadata": {
      "needs_background": "light"
     },
     "output_type": "display_data"
    }
   ],
   "source": [
    "# complete linkage\n",
    "plt.figure(figsize=(15,8))\n",
    "mergings = linkage(hierarchical_pca_df, method=\"complete\", metric='euclidean')\n",
    "dendrogram(mergings)\n",
    "plt.show()"
   ]
  },
  {
   "cell_type": "markdown",
   "metadata": {},
   "source": [
    "Looking at the Dendogram height the no of cluster we can get between threshold 6 to 8. If we cut the tree at threshold 6, we no of cluster=6, where as if we cut the tree at threshold 8 we get no of cluster = 3. \n",
    "\n",
    "We have done KMeans with no of cluster 4 and we found that the data points for 4rth cluster is kind of scattered. And most of the countries which were looking for aid is converged within cluster 1. Lets take the no of cluster as 6 and see if we can reach to similar conclusion. "
   ]
  },
  {
   "cell_type": "code",
   "execution_count": 257,
   "metadata": {},
   "outputs": [],
   "source": [
    "# consider no of cluster = 6 cutting the three to label the data points\n",
    "hierarchical_cluster_ids = cut_tree(mergings, n_clusters=6).reshape(-1, )\n",
    "hierarchical_cluster_ids = list(map(lambda x: x+1,hierarchical_cluster_ids))\n",
    "#hierarchical_cluster_ids"
   ]
  },
  {
   "cell_type": "code",
   "execution_count": 258,
   "metadata": {},
   "outputs": [
    {
     "name": "stderr",
     "output_type": "stream",
     "text": [
      "/home/jmajumde/.local/lib/python3.6/site-packages/ipykernel_launcher.py:2: SettingWithCopyWarning: \n",
      "A value is trying to be set on a copy of a slice from a DataFrame.\n",
      "Try using .loc[row_indexer,col_indexer] = value instead\n",
      "\n",
      "See the caveats in the documentation: http://pandas.pydata.org/pandas-docs/stable/user_guide/indexing.html#returning-a-view-versus-a-copy\n",
      "  \n"
     ]
    },
    {
     "data": {
      "text/html": [
       "<div>\n",
       "<style scoped>\n",
       "    .dataframe tbody tr th:only-of-type {\n",
       "        vertical-align: middle;\n",
       "    }\n",
       "\n",
       "    .dataframe tbody tr th {\n",
       "        vertical-align: top;\n",
       "    }\n",
       "\n",
       "    .dataframe thead th {\n",
       "        text-align: right;\n",
       "    }\n",
       "</style>\n",
       "<table border=\"1\" class=\"dataframe\">\n",
       "  <thead>\n",
       "    <tr style=\"text-align: right;\">\n",
       "      <th></th>\n",
       "      <th>country</th>\n",
       "      <th>child_mort</th>\n",
       "      <th>gdpp</th>\n",
       "      <th>income</th>\n",
       "      <th>KM_ClusterID</th>\n",
       "      <th>Hierarchical_ClusterID</th>\n",
       "    </tr>\n",
       "  </thead>\n",
       "  <tbody>\n",
       "    <tr>\n",
       "      <td>0</td>\n",
       "      <td>Afghanistan</td>\n",
       "      <td>90.2</td>\n",
       "      <td>553</td>\n",
       "      <td>1610</td>\n",
       "      <td>2</td>\n",
       "      <td>1</td>\n",
       "    </tr>\n",
       "    <tr>\n",
       "      <td>1</td>\n",
       "      <td>Albania</td>\n",
       "      <td>16.6</td>\n",
       "      <td>4090</td>\n",
       "      <td>9930</td>\n",
       "      <td>3</td>\n",
       "      <td>2</td>\n",
       "    </tr>\n",
       "    <tr>\n",
       "      <td>2</td>\n",
       "      <td>Algeria</td>\n",
       "      <td>27.3</td>\n",
       "      <td>4460</td>\n",
       "      <td>12900</td>\n",
       "      <td>3</td>\n",
       "      <td>2</td>\n",
       "    </tr>\n",
       "    <tr>\n",
       "      <td>3</td>\n",
       "      <td>Angola</td>\n",
       "      <td>119.0</td>\n",
       "      <td>3530</td>\n",
       "      <td>5900</td>\n",
       "      <td>2</td>\n",
       "      <td>1</td>\n",
       "    </tr>\n",
       "    <tr>\n",
       "      <td>4</td>\n",
       "      <td>Antigua and Barbuda</td>\n",
       "      <td>10.3</td>\n",
       "      <td>12200</td>\n",
       "      <td>19100</td>\n",
       "      <td>3</td>\n",
       "      <td>2</td>\n",
       "    </tr>\n",
       "  </tbody>\n",
       "</table>\n",
       "</div>"
      ],
      "text/plain": [
       "               country  child_mort   gdpp  income  KM_ClusterID  \\\n",
       "0          Afghanistan        90.2    553    1610             2   \n",
       "1              Albania        16.6   4090    9930             3   \n",
       "2              Algeria        27.3   4460   12900             3   \n",
       "3               Angola       119.0   3530    5900             2   \n",
       "4  Antigua and Barbuda        10.3  12200   19100             3   \n",
       "\n",
       "   Hierarchical_ClusterID  \n",
       "0                       1  \n",
       "1                       2  \n",
       "2                       2  \n",
       "3                       1  \n",
       "4                       2  "
      ]
     },
     "execution_count": 258,
     "metadata": {},
     "output_type": "execute_result"
    }
   ],
   "source": [
    "# assign cluster labels\n",
    "clus_final_df['Hierarchical_ClusterID'] = hierarchical_cluster_ids\n",
    "clus_final_df.head()"
   ]
  },
  {
   "cell_type": "markdown",
   "metadata": {},
   "source": [
    "##### Hierarchical Cluster Profiling"
   ]
  },
  {
   "cell_type": "code",
   "execution_count": 259,
   "metadata": {},
   "outputs": [
    {
     "data": {
      "text/plain": [
       "<Figure size 432x288 with 0 Axes>"
      ]
     },
     "metadata": {},
     "output_type": "display_data"
    },
    {
     "data": {
      "image/png": "[encoded data removed]",
      "text/plain": [
       "<Figure size 1080x432 with 3 Axes>"
      ]
     },
     "metadata": {
      "needs_background": "light"
     },
     "output_type": "display_data"
    }
   ],
   "source": [
    "# plot boxplot with x-axis clusterID and y-axis income or child mortality rate to visualize\n",
    "# how the data is spread among 6 different clusters for Hierarchical analysis\n",
    "plt.figure(1)\n",
    "plt.figure(figsize=(15,6))\n",
    "\n",
    "plt.subplot(1,3,1)\n",
    "sns.boxplot(x='Hierarchical_ClusterID', y='income', data=clus_final_df)\n",
    "\n",
    "plt.subplot(1,3,2)\n",
    "sns.boxplot(x='Hierarchical_ClusterID', y='child_mort', data=clus_final_df)\n",
    "\n",
    "plt.subplot(1,3,3)\n",
    "sns.boxplot(x='Hierarchical_ClusterID', y='gdpp', data=clus_final_df)\n",
    "\n",
    "plt.tight_layout()\n",
    "plt.show()"
   ]
  },
  {
   "cell_type": "markdown",
   "metadata": {},
   "source": [
    "Looking into the above boxplots we can observe that \n",
    "- Countries participated in Cluster-1 has very low income and gdpp with very very high child mortality rate"
   ]
  },
  {
   "cell_type": "code",
   "execution_count": 263,
   "metadata": {},
   "outputs": [],
   "source": [
    "# creating country specific data set group by cluster label = 1\n",
    "C1_hierar_df = clus_final_df[(clus_final_df['Hierarchical_ClusterID'] == 1)]\n",
    "C1_hierar_df.drop(['Hierarchical_ClusterID','KM_ClusterID'],axis=1,inplace=True)\n",
    "C1_hierar_df = C1_hierar_df.sort_values(['child_mort'], ascending=False)"
   ]
  },
  {
   "cell_type": "code",
   "execution_count": 265,
   "metadata": {},
   "outputs": [
    {
     "name": "stdout",
     "output_type": "stream",
     "text": [
      "                      country  child_mort  gdpp  income\n",
      "66                      Haiti       208.0   662    1500\n",
      "32                       Chad       150.0   897    1930\n",
      "31   Central African Republic       149.0   446     888\n",
      "97                       Mali       137.0   708    1870\n",
      "112                     Niger       123.0   348     814\n",
      "3                      Angola       119.0  3530    5900\n",
      "25               Burkina Faso       116.0   575    1430\n",
      "37           Congo, Dem. Rep.       116.0   334     609\n",
      "64              Guinea-Bissau       114.0   547    1390\n",
      "17                      Benin       111.0   758    1820\n",
      "\n",
      "\n",
      "                      country  child_mort  gdpp  income\n",
      "66                      Haiti       208.0   662    1500\n",
      "131              Sierra Leone       160.0   399    1220\n",
      "32                       Chad       150.0   897    1930\n",
      "31   Central African Republic       149.0   446     888\n",
      "97                       Mali       137.0   708    1870\n",
      "112                     Niger       123.0   348     814\n",
      "3                      Angola       119.0  3530    5900\n",
      "25               Burkina Faso       116.0   575    1430\n",
      "37           Congo, Dem. Rep.       116.0   334     609\n",
      "64              Guinea-Bissau       114.0   547    1390\n"
     ]
    }
   ],
   "source": [
    "# comparing C1_hierar_df cluster top 10 records with C2_km_df top 5 records\n",
    "print(C2_km_df.head(10))\n",
    "print(\"\\n\")\n",
    "print(C1_hierar_df.head(10))"
   ]
  },
  {
   "cell_type": "markdown",
   "metadata": {},
   "source": [
    "### Conclusion "
   ]
  },
  {
   "cell_type": "markdown",
   "metadata": {},
   "source": [
    "As we can see from the above data points from KMeans cluster analysis v/s Hierarchical cluster analysis we can come to a conclusion that top 10 (TEN) countries who are eligible to get the Aid/help from HELP International NGO are followings: \n",
    "    `Haiti`,`Sierra Leone`,`Chad`,`Central African Republic`,`Mali`,`Niger`,`Angola`,`Burkina Faso`,`Congo`,`Guinea-Bissau`."
   ]
  }
 ],
 "metadata": {
  "kernelspec": {
   "display_name": "Python 3",
   "language": "python",
   "name": "python3"
  },
  "language_info": {
   "codemirror_mode": {
    "name": "ipython",
    "version": 3
   },
   "file_extension": ".py",
   "mimetype": "text/x-python",
   "name": "python",
   "nbconvert_exporter": "python",
   "pygments_lexer": "ipython3",
   "version": "3.6.8"
  }
 },
 "nbformat": 4,
 "nbformat_minor": 2
}
