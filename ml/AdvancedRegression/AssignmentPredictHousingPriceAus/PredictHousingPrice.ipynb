{
 "cells": [
  {
   "cell_type": "markdown",
   "metadata": {},
   "source": [
    "### Problem Statement\n",
    "A US-based housing company named Surprise Housing has decided to enter the Australian market. The company uses data analytics to purchase houses at a price below their actual values and flip them on at a higher price. For the same purpose, the company has collected a data set from the sale of houses in Australia. The data is provided in the CSV file below.\n",
    "\n",
    "\n",
    "The company is looking at prospective properties to buy to enter the market. You are required to build a regression model using regularisation in order to predict the actual value of the prospective properties and decide whether to invest in them or not.\n",
    "\n",
    "The company wants to know:\n",
    "- Which variables are significant in predicting the price of a house, and\n",
    "- How well those variables describe the price of a house.\n",
    "\n",
    "Also, determine the optimal value of lambda for ridge and lasso regression.\n",
    "\n",
    "#### Business Goal \n",
    "You are required to model the price of houses with the available independent variables. This model will then be used by the management to understand how exactly the prices vary with the variables. They can accordingly manipulate the strategy of the firm and concentrate on areas that will yield high returns. Further, the model will be a good way for management to understand the pricing dynamics of a new market."
   ]
  },
  {
   "cell_type": "code",
   "execution_count": 531,
   "metadata": {},
   "outputs": [],
   "source": [
    "import pandas as pd\n",
    "import matplotlib.pyplot as plt\n",
    "import seaborn as sns\n",
    "import numpy as np\n",
    "\n",
    "from sklearn.preprocessing import StandardScaler\n",
    "\n",
    "from sklearn.model_selection import train_test_split\n",
    "from sklearn.model_selection import cross_val_score\n",
    "from sklearn.model_selection import KFold\n",
    "from sklearn.model_selection import GridSearchCV\n",
    "\n",
    "from sklearn.linear_model import Ridge\n",
    "from sklearn.linear_model import Lasso\n",
    "from sklearn.linear_model import LinearRegression\n",
    "\n",
    "from sklearn.pipeline import make_pipeline\n",
    "from sklearn import metrics\n",
    "\n",
    "\n",
    "# Data display coustomization\n",
    "pd.set_option('display.max_rows', 2000)\n",
    "pd.set_option('display.max_columns', 100)\n",
    "\n",
    "# hide warnings\n",
    "import warnings\n",
    "warnings.filterwarnings('ignore')"
   ]
  },
  {
   "cell_type": "markdown",
   "metadata": {},
   "source": [
    "#### Data Visualization and Understanding"
   ]
  },
  {
   "cell_type": "code",
   "execution_count": 532,
   "metadata": {},
   "outputs": [
    {
     "data": {
      "text/plain": [
       "(1460, 81)"
      ]
     },
     "execution_count": 532,
     "metadata": {},
     "output_type": "execute_result"
    }
   ],
   "source": [
    "housing_df = pd.read_csv(\"train.csv\")\n",
    "housing_df.shape"
   ]
  },
  {
   "cell_type": "code",
   "execution_count": 453,
   "metadata": {},
   "outputs": [
    {
     "name": "stdout",
     "output_type": "stream",
     "text": [
      "<class 'pandas.core.frame.DataFrame'>\n",
      "RangeIndex: 1460 entries, 0 to 1459\n",
      "Data columns (total 81 columns):\n",
      "Id               1460 non-null int64\n",
      "MSSubClass       1460 non-null int64\n",
      "MSZoning         1460 non-null object\n",
      "LotFrontage      1201 non-null float64\n",
      "LotArea          1460 non-null int64\n",
      "Street           1460 non-null object\n",
      "Alley            91 non-null object\n",
      "LotShape         1460 non-null object\n",
      "LandContour      1460 non-null object\n",
      "Utilities        1460 non-null object\n",
      "LotConfig        1460 non-null object\n",
      "LandSlope        1460 non-null object\n",
      "Neighborhood     1460 non-null object\n",
      "Condition1       1460 non-null object\n",
      "Condition2       1460 non-null object\n",
      "BldgType         1460 non-null object\n",
      "HouseStyle       1460 non-null object\n",
      "OverallQual      1460 non-null int64\n",
      "OverallCond      1460 non-null int64\n",
      "YearBuilt        1460 non-null int64\n",
      "YearRemodAdd     1460 non-null int64\n",
      "RoofStyle        1460 non-null object\n",
      "RoofMatl         1460 non-null object\n",
      "Exterior1st      1460 non-null object\n",
      "Exterior2nd      1460 non-null object\n",
      "MasVnrType       1452 non-null object\n",
      "MasVnrArea       1452 non-null float64\n",
      "ExterQual        1460 non-null object\n",
      "ExterCond        1460 non-null object\n",
      "Foundation       1460 non-null object\n",
      "BsmtQual         1423 non-null object\n",
      "BsmtCond         1423 non-null object\n",
      "BsmtExposure     1422 non-null object\n",
      "BsmtFinType1     1423 non-null object\n",
      "BsmtFinSF1       1460 non-null int64\n",
      "BsmtFinType2     1422 non-null object\n",
      "BsmtFinSF2       1460 non-null int64\n",
      "BsmtUnfSF        1460 non-null int64\n",
      "TotalBsmtSF      1460 non-null int64\n",
      "Heating          1460 non-null object\n",
      "HeatingQC        1460 non-null object\n",
      "CentralAir       1460 non-null object\n",
      "Electrical       1459 non-null object\n",
      "1stFlrSF         1460 non-null int64\n",
      "2ndFlrSF         1460 non-null int64\n",
      "LowQualFinSF     1460 non-null int64\n",
      "GrLivArea        1460 non-null int64\n",
      "BsmtFullBath     1460 non-null int64\n",
      "BsmtHalfBath     1460 non-null int64\n",
      "FullBath         1460 non-null int64\n",
      "HalfBath         1460 non-null int64\n",
      "BedroomAbvGr     1460 non-null int64\n",
      "KitchenAbvGr     1460 non-null int64\n",
      "KitchenQual      1460 non-null object\n",
      "TotRmsAbvGrd     1460 non-null int64\n",
      "Functional       1460 non-null object\n",
      "Fireplaces       1460 non-null int64\n",
      "FireplaceQu      770 non-null object\n",
      "GarageType       1379 non-null object\n",
      "GarageYrBlt      1379 non-null float64\n",
      "GarageFinish     1379 non-null object\n",
      "GarageCars       1460 non-null int64\n",
      "GarageArea       1460 non-null int64\n",
      "GarageQual       1379 non-null object\n",
      "GarageCond       1379 non-null object\n",
      "PavedDrive       1460 non-null object\n",
      "WoodDeckSF       1460 non-null int64\n",
      "OpenPorchSF      1460 non-null int64\n",
      "EnclosedPorch    1460 non-null int64\n",
      "3SsnPorch        1460 non-null int64\n",
      "ScreenPorch      1460 non-null int64\n",
      "PoolArea         1460 non-null int64\n",
      "PoolQC           7 non-null object\n",
      "Fence            281 non-null object\n",
      "MiscFeature      54 non-null object\n",
      "MiscVal          1460 non-null int64\n",
      "MoSold           1460 non-null int64\n",
      "YrSold           1460 non-null int64\n",
      "SaleType         1460 non-null object\n",
      "SaleCondition    1460 non-null object\n",
      "SalePrice        1460 non-null int64\n",
      "dtypes: float64(3), int64(35), object(43)\n",
      "memory usage: 924.0+ KB\n"
     ]
    }
   ],
   "source": [
    "housing_df.info()"
   ]
  },
  {
   "cell_type": "code",
   "execution_count": 533,
   "metadata": {},
   "outputs": [
    {
     "name": "stdout",
     "output_type": "stream",
     "text": [
      "categorical_vars:Index(['MSZoning', 'Street', 'Alley', 'LotShape', 'LandContour', 'Utilities',\n",
      "       'LotConfig', 'LandSlope', 'Neighborhood', 'Condition1', 'Condition2',\n",
      "       'BldgType', 'HouseStyle', 'RoofStyle', 'RoofMatl', 'Exterior1st',\n",
      "       'Exterior2nd', 'MasVnrType', 'ExterQual', 'ExterCond', 'Foundation',\n",
      "       'BsmtQual', 'BsmtCond', 'BsmtExposure', 'BsmtFinType1', 'BsmtFinType2',\n",
      "       'Heating', 'HeatingQC', 'CentralAir', 'Electrical', 'KitchenQual',\n",
      "       'Functional', 'FireplaceQu', 'GarageType', 'GarageFinish', 'GarageQual',\n",
      "       'GarageCond', 'PavedDrive', 'PoolQC', 'Fence', 'MiscFeature',\n",
      "       'SaleType', 'SaleCondition'],\n",
      "      dtype='object')\n",
      "numeric_vars:Index(['Id', 'MSSubClass', 'LotFrontage', 'LotArea', 'OverallQual',\n",
      "       'OverallCond', 'YearBuilt', 'YearRemodAdd', 'MasVnrArea', 'BsmtFinSF1',\n",
      "       'BsmtFinSF2', 'BsmtUnfSF', 'TotalBsmtSF', '1stFlrSF', '2ndFlrSF',\n",
      "       'LowQualFinSF', 'GrLivArea', 'BsmtFullBath', 'BsmtHalfBath', 'FullBath',\n",
      "       'HalfBath', 'BedroomAbvGr', 'KitchenAbvGr', 'TotRmsAbvGrd',\n",
      "       'Fireplaces', 'GarageYrBlt', 'GarageCars', 'GarageArea', 'WoodDeckSF',\n",
      "       'OpenPorchSF', 'EnclosedPorch', '3SsnPorch', 'ScreenPorch', 'PoolArea',\n",
      "       'MiscVal', 'MoSold', 'YrSold', 'SalePrice'],\n",
      "      dtype='object')\n"
     ]
    }
   ],
   "source": [
    "# Checking how many are categorial and how many numeric variable in the given data-set\n",
    "# to make sure this falls inline with the data-dictionary\n",
    "housing_categorical=housing_df.select_dtypes(include=['object'])\n",
    "housing_numeric=housing_df.select_dtypes(include=np.number)\n",
    "print(\"categorical_vars:\" + str(housing_categorical.columns))\n",
    "print(\"numeric_vars:\" +  str(housing_numeric.columns))"
   ]
  },
  {
   "cell_type": "markdown",
   "metadata": {},
   "source": [
    "#### Check if the data is normally distributed against target variable `SalePrice`"
   ]
  },
  {
   "cell_type": "code",
   "execution_count": 455,
   "metadata": {},
   "outputs": [
    {
     "data": {
      "text/plain": [
       "count      1460.0\n",
       "mean     180921.2\n",
       "std       79442.5\n",
       "min       34900.0\n",
       "25%      129975.0\n",
       "50%      163000.0\n",
       "75%      214000.0\n",
       "max      755000.0\n",
       "Name: SalePrice, dtype: float64"
      ]
     },
     "execution_count": 455,
     "metadata": {},
     "output_type": "execute_result"
    }
   ],
   "source": [
    "housing_df['SalePrice'].describe().round(2)"
   ]
  },
  {
   "cell_type": "code",
   "execution_count": 456,
   "metadata": {},
   "outputs": [
    {
     "data": {
      "image/png": "[encoded data removed]",
      "text/plain": [
       "<Figure size 432x288 with 1 Axes>"
      ]
     },
     "metadata": {
      "needs_background": "light"
     },
     "output_type": "display_data"
    }
   ],
   "source": [
    "# from the dist plot it we can see price column is not normally distributed, the Gussian curve is scewed towards left\n",
    "sns.distplot(housing_df['SalePrice'])\n",
    "#plt.hist(housing_df['SalePrice'])\n",
    "plt.show()"
   ]
  },
  {
   "cell_type": "markdown",
   "metadata": {},
   "source": [
    "Doing a normality test on target variable `SalePrice` using `Shapiro-Wilk` normality test from scipy module"
   ]
  },
  {
   "cell_type": "code",
   "execution_count": 457,
   "metadata": {},
   "outputs": [
    {
     "name": "stdout",
     "output_type": "stream",
     "text": [
      "Statistics=0.870, p=0.000\n",
      "SalePrice does not look following Gaussian (reject Null Hypothesis H0)\n"
     ]
    }
   ],
   "source": [
    "# perform normality test on target variable sale price\n",
    "from scipy.stats import shapiro\n",
    "def normality_test_price():\n",
    "    stat,p = shapiro(housing_df['SalePrice'])\n",
    "    alpha=0.05\n",
    "    print('Statistics=%.3f, p=%.3f' % (stat, p))\n",
    "    if p > alpha:\n",
    "        print('SalePrice looks following Gaussian (fail to reject Null Hypothesis H0)')\n",
    "    else:\n",
    "        print('SalePrice does not look following Gaussian (reject Null Hypothesis H0)')\n",
    "\n",
    "normality_test_price()"
   ]
  },
  {
   "cell_type": "code",
   "execution_count": 458,
   "metadata": {},
   "outputs": [
    {
     "data": {
      "text/plain": [
       "3    804\n",
       "2    358\n",
       "4    213\n",
       "1     50\n",
       "5     21\n",
       "6      7\n",
       "0      6\n",
       "8      1\n",
       "Name: BedroomAbvGr, dtype: int64"
      ]
     },
     "execution_count": 458,
     "metadata": {},
     "output_type": "execute_result"
    }
   ],
   "source": [
    "# lets see how house price varies based on number of bedroom above garage\n",
    "housing_df['BedroomAbvGr'].value_counts()"
   ]
  },
  {
   "cell_type": "code",
   "execution_count": 326,
   "metadata": {},
   "outputs": [
    {
     "data": {
      "image/png": "[encoded data removed]",
      "text/plain": [
       "<Figure size 432x288 with 1 Axes>"
      ]
     },
     "metadata": {
      "needs_background": "light"
     },
     "output_type": "display_data"
    }
   ],
   "source": [
    "sns.boxplot(x='BedroomAbvGr',y='SalePrice', data=housing_df)\n",
    "plt.show()"
   ]
  },
  {
   "cell_type": "code",
   "execution_count": 327,
   "metadata": {},
   "outputs": [
    {
     "data": {
      "image/png": "[encoded data removed]",
      "text/plain": [
       "<Figure size 432x288 with 1 Axes>"
      ]
     },
     "metadata": {
      "needs_background": "light"
     },
     "output_type": "display_data"
    }
   ],
   "source": [
    "sns.barplot(x='BedroomAbvGr',y='SalePrice', data=housing_df)\n",
    "plt.show()"
   ]
  },
  {
   "cell_type": "markdown",
   "metadata": {},
   "source": [
    "Looks like there is could be some data imbalance in the data set. Ideally house price should increase as number of bedroom increases. Here the trend is beyond 4 bedrooms the house price is not creasing. There culd be multiple reason for that. One reason could be locality/neighbourhood as well. "
   ]
  },
  {
   "cell_type": "code",
   "execution_count": 11,
   "metadata": {},
   "outputs": [
    {
     "data": {
      "text/plain": [
       "RL         1151\n",
       "RM          218\n",
       "FV           65\n",
       "RH           16\n",
       "C (all)      10\n",
       "Name: MSZoning, dtype: int64"
      ]
     },
     "execution_count": 11,
     "metadata": {},
     "output_type": "execute_result"
    }
   ],
   "source": [
    "# MSZoning: Identifies the general zoning classification of the sale\n",
    "housing_df['MSZoning'].value_counts()"
   ]
  },
  {
   "cell_type": "code",
   "execution_count": 15,
   "metadata": {},
   "outputs": [
    {
     "data": {
      "image/png": "[encoded data removed]",
      "text/plain": [
       "<Figure size 432x288 with 1 Axes>"
      ]
     },
     "metadata": {
      "needs_background": "light"
     },
     "output_type": "display_data"
    }
   ],
   "source": [
    "# Visualize how zoning relate to the target variable SalePrice \n",
    "sns.boxplot(x=housing_df['MSZoning'],y=housing_df['SalePrice'])\n",
    "plt.show()"
   ]
  },
  {
   "cell_type": "markdown",
   "metadata": {},
   "source": [
    "Most of the price distribution based on zoning category are lying within 400K mark. Very few residential property price is significantly high. We might need to consider those as `outliers` later."
   ]
  },
  {
   "cell_type": "code",
   "execution_count": 19,
   "metadata": {},
   "outputs": [
    {
     "data": {
      "text/plain": [
       "AllPub    1459\n",
       "NoSeWa       1\n",
       "Name: Utilities, dtype: int64"
      ]
     },
     "execution_count": 19,
     "metadata": {},
     "output_type": "execute_result"
    }
   ],
   "source": [
    "# Utilities: Type of utilities available\n",
    "housing_df['Utilities'].value_counts()\n"
   ]
  },
  {
   "cell_type": "code",
   "execution_count": 27,
   "metadata": {},
   "outputs": [
    {
     "data": {
      "image/png": "[encoded data removed]",
      "text/plain": [
       "<Figure size 576x432 with 2 Axes>"
      ]
     },
     "metadata": {
      "needs_background": "light"
     },
     "output_type": "display_data"
    }
   ],
   "source": [
    "# Lets see how contision's are effecting sale price if any to understand if this a important factor to decide upon pricing\n",
    "plt.figure(figsize=(8, 6))\n",
    "plt.subplot(1,2,1)\n",
    "sns.barplot(y='SalePrice',x='Condition1',data=housing_df)\n",
    "plt.xticks(rotation=80)\n",
    "\n",
    "plt.subplot(1,2,2)\n",
    "sns.barplot(y='SalePrice',x='Condition2',data=housing_df)\n",
    "plt.xticks(rotation=80)\n",
    "\n",
    "plt.tight_layout()\n",
    "plt.show()"
   ]
  },
  {
   "cell_type": "code",
   "execution_count": 33,
   "metadata": {},
   "outputs": [
    {
     "data": {
      "text/plain": [
       "20     536\n",
       "60     299\n",
       "50     144\n",
       "120     87\n",
       "30      69\n",
       "160     63\n",
       "70      60\n",
       "80      58\n",
       "90      52\n",
       "190     30\n",
       "85      20\n",
       "75      16\n",
       "45      12\n",
       "180     10\n",
       "40       4\n",
       "Name: MSSubClass, dtype: int64"
      ]
     },
     "execution_count": 33,
     "metadata": {},
     "output_type": "execute_result"
    }
   ],
   "source": [
    "# MSSubClass: Identifies the type of dwelling involved in the sale\n",
    "housing_df['MSSubClass'].value_counts()"
   ]
  },
  {
   "cell_type": "code",
   "execution_count": 34,
   "metadata": {},
   "outputs": [
    {
     "data": {
      "image/png": "[encoded data removed]",
      "text/plain": [
       "<Figure size 432x288 with 1 Axes>"
      ]
     },
     "metadata": {
      "needs_background": "light"
     },
     "output_type": "display_data"
    }
   ],
   "source": [
    "sns.distplot(housing_df['MSSubClass'])\n",
    "plt.show()"
   ]
  },
  {
   "cell_type": "code",
   "execution_count": 35,
   "metadata": {},
   "outputs": [
    {
     "data": {
      "image/png": "[encoded data removed]",
      "text/plain": [
       "<Figure size 720x432 with 1 Axes>"
      ]
     },
     "metadata": {
      "needs_background": "light"
     },
     "output_type": "display_data"
    }
   ],
   "source": [
    "# Neighborhood: Physical locations within Ames city limits\n",
    "plt.figure(figsize=(10, 6))\n",
    "sns.barplot(y='SalePrice',x='Neighborhood',data=housing_df)\n",
    "plt.xticks(rotation=60)\n",
    "plt.show()"
   ]
  },
  {
   "cell_type": "code",
   "execution_count": 36,
   "metadata": {},
   "outputs": [
    {
     "data": {
      "image/png": "[encoded data removed]",
      "text/plain": [
       "<Figure size 576x432 with 1 Axes>"
      ]
     },
     "metadata": {
      "needs_background": "light"
     },
     "output_type": "display_data"
    }
   ],
   "source": [
    "# BldgType: Type of dwelling\n",
    "plt.figure(figsize=(8, 6))\n",
    "sns.barplot(y='SalePrice',x='BldgType',data=housing_df)\n",
    "plt.xticks(rotation=60)\n",
    "plt.show()"
   ]
  },
  {
   "cell_type": "code",
   "execution_count": 37,
   "metadata": {},
   "outputs": [
    {
     "data": {
      "image/png": "[encoded data removed]",
      "text/plain": [
       "<Figure size 576x432 with 1 Axes>"
      ]
     },
     "metadata": {
      "needs_background": "light"
     },
     "output_type": "display_data"
    }
   ],
   "source": [
    "# HouseStyle: Style of dwelling\n",
    "plt.figure(figsize=(8, 6))\n",
    "sns.barplot(y='SalePrice',x='HouseStyle',data=housing_df)\n",
    "plt.xticks(rotation=60)\n",
    "plt.show()"
   ]
  },
  {
   "cell_type": "code",
   "execution_count": 38,
   "metadata": {},
   "outputs": [
    {
     "data": {
      "image/png": "[encoded data removed]",
      "text/plain": [
       "<Figure size 432x288 with 1 Axes>"
      ]
     },
     "metadata": {
      "needs_background": "light"
     },
     "output_type": "display_data"
    }
   ],
   "source": [
    "# LotArea: Lot size in square feet\n",
    "# visualise area-price relationship\n",
    "sns.regplot(x=\"LotArea\", y=\"SalePrice\", data=housing_df, fit_reg=False)\n",
    "plt.show()"
   ]
  },
  {
   "cell_type": "markdown",
   "metadata": {},
   "source": [
    "#### Data Exploration\n",
    "\n",
    "To perform linear regression, the (numeric) target variable should be linearly related to *at least one another numeric variable*. Let's see whether that's true in this case.\n",
    "\n",
    "\n",
    "We'll first subset the list of all (independent) numeric variables, and then make a **heatmap**"
   ]
  },
  {
   "cell_type": "code",
   "execution_count": 459,
   "metadata": {},
   "outputs": [
    {
     "data": {
      "text/html": [
       "<div>\n",
       "<style scoped>\n",
       "    .dataframe tbody tr th:only-of-type {\n",
       "        vertical-align: middle;\n",
       "    }\n",
       "\n",
       "    .dataframe tbody tr th {\n",
       "        vertical-align: top;\n",
       "    }\n",
       "\n",
       "    .dataframe thead th {\n",
       "        text-align: right;\n",
       "    }\n",
       "</style>\n",
       "<table border=\"1\" class=\"dataframe\">\n",
       "  <thead>\n",
       "    <tr style=\"text-align: right;\">\n",
       "      <th></th>\n",
       "      <th>Id</th>\n",
       "      <th>MSSubClass</th>\n",
       "      <th>LotFrontage</th>\n",
       "      <th>LotArea</th>\n",
       "      <th>OverallQual</th>\n",
       "      <th>OverallCond</th>\n",
       "      <th>YearBuilt</th>\n",
       "      <th>YearRemodAdd</th>\n",
       "      <th>MasVnrArea</th>\n",
       "      <th>BsmtFinSF1</th>\n",
       "      <th>BsmtFinSF2</th>\n",
       "      <th>BsmtUnfSF</th>\n",
       "      <th>TotalBsmtSF</th>\n",
       "      <th>1stFlrSF</th>\n",
       "      <th>2ndFlrSF</th>\n",
       "      <th>LowQualFinSF</th>\n",
       "      <th>GrLivArea</th>\n",
       "      <th>BsmtFullBath</th>\n",
       "      <th>BsmtHalfBath</th>\n",
       "      <th>FullBath</th>\n",
       "      <th>HalfBath</th>\n",
       "      <th>BedroomAbvGr</th>\n",
       "      <th>KitchenAbvGr</th>\n",
       "      <th>TotRmsAbvGrd</th>\n",
       "      <th>Fireplaces</th>\n",
       "      <th>GarageYrBlt</th>\n",
       "      <th>GarageCars</th>\n",
       "      <th>GarageArea</th>\n",
       "      <th>WoodDeckSF</th>\n",
       "      <th>OpenPorchSF</th>\n",
       "      <th>EnclosedPorch</th>\n",
       "      <th>3SsnPorch</th>\n",
       "      <th>ScreenPorch</th>\n",
       "      <th>PoolArea</th>\n",
       "      <th>MiscVal</th>\n",
       "      <th>MoSold</th>\n",
       "      <th>YrSold</th>\n",
       "      <th>SalePrice</th>\n",
       "    </tr>\n",
       "  </thead>\n",
       "  <tbody>\n",
       "    <tr>\n",
       "      <td>0</td>\n",
       "      <td>1</td>\n",
       "      <td>60</td>\n",
       "      <td>65.0</td>\n",
       "      <td>8450</td>\n",
       "      <td>7</td>\n",
       "      <td>5</td>\n",
       "      <td>2003</td>\n",
       "      <td>2003</td>\n",
       "      <td>196.0</td>\n",
       "      <td>706</td>\n",
       "      <td>0</td>\n",
       "      <td>150</td>\n",
       "      <td>856</td>\n",
       "      <td>856</td>\n",
       "      <td>854</td>\n",
       "      <td>0</td>\n",
       "      <td>1710</td>\n",
       "      <td>1</td>\n",
       "      <td>0</td>\n",
       "      <td>2</td>\n",
       "      <td>1</td>\n",
       "      <td>3</td>\n",
       "      <td>1</td>\n",
       "      <td>8</td>\n",
       "      <td>0</td>\n",
       "      <td>2003.0</td>\n",
       "      <td>2</td>\n",
       "      <td>548</td>\n",
       "      <td>0</td>\n",
       "      <td>61</td>\n",
       "      <td>0</td>\n",
       "      <td>0</td>\n",
       "      <td>0</td>\n",
       "      <td>0</td>\n",
       "      <td>0</td>\n",
       "      <td>2</td>\n",
       "      <td>2008</td>\n",
       "      <td>208500</td>\n",
       "    </tr>\n",
       "    <tr>\n",
       "      <td>1</td>\n",
       "      <td>2</td>\n",
       "      <td>20</td>\n",
       "      <td>80.0</td>\n",
       "      <td>9600</td>\n",
       "      <td>6</td>\n",
       "      <td>8</td>\n",
       "      <td>1976</td>\n",
       "      <td>1976</td>\n",
       "      <td>0.0</td>\n",
       "      <td>978</td>\n",
       "      <td>0</td>\n",
       "      <td>284</td>\n",
       "      <td>1262</td>\n",
       "      <td>1262</td>\n",
       "      <td>0</td>\n",
       "      <td>0</td>\n",
       "      <td>1262</td>\n",
       "      <td>0</td>\n",
       "      <td>1</td>\n",
       "      <td>2</td>\n",
       "      <td>0</td>\n",
       "      <td>3</td>\n",
       "      <td>1</td>\n",
       "      <td>6</td>\n",
       "      <td>1</td>\n",
       "      <td>1976.0</td>\n",
       "      <td>2</td>\n",
       "      <td>460</td>\n",
       "      <td>298</td>\n",
       "      <td>0</td>\n",
       "      <td>0</td>\n",
       "      <td>0</td>\n",
       "      <td>0</td>\n",
       "      <td>0</td>\n",
       "      <td>0</td>\n",
       "      <td>5</td>\n",
       "      <td>2007</td>\n",
       "      <td>181500</td>\n",
       "    </tr>\n",
       "    <tr>\n",
       "      <td>2</td>\n",
       "      <td>3</td>\n",
       "      <td>60</td>\n",
       "      <td>68.0</td>\n",
       "      <td>11250</td>\n",
       "      <td>7</td>\n",
       "      <td>5</td>\n",
       "      <td>2001</td>\n",
       "      <td>2002</td>\n",
       "      <td>162.0</td>\n",
       "      <td>486</td>\n",
       "      <td>0</td>\n",
       "      <td>434</td>\n",
       "      <td>920</td>\n",
       "      <td>920</td>\n",
       "      <td>866</td>\n",
       "      <td>0</td>\n",
       "      <td>1786</td>\n",
       "      <td>1</td>\n",
       "      <td>0</td>\n",
       "      <td>2</td>\n",
       "      <td>1</td>\n",
       "      <td>3</td>\n",
       "      <td>1</td>\n",
       "      <td>6</td>\n",
       "      <td>1</td>\n",
       "      <td>2001.0</td>\n",
       "      <td>2</td>\n",
       "      <td>608</td>\n",
       "      <td>0</td>\n",
       "      <td>42</td>\n",
       "      <td>0</td>\n",
       "      <td>0</td>\n",
       "      <td>0</td>\n",
       "      <td>0</td>\n",
       "      <td>0</td>\n",
       "      <td>9</td>\n",
       "      <td>2008</td>\n",
       "      <td>223500</td>\n",
       "    </tr>\n",
       "    <tr>\n",
       "      <td>3</td>\n",
       "      <td>4</td>\n",
       "      <td>70</td>\n",
       "      <td>60.0</td>\n",
       "      <td>9550</td>\n",
       "      <td>7</td>\n",
       "      <td>5</td>\n",
       "      <td>1915</td>\n",
       "      <td>1970</td>\n",
       "      <td>0.0</td>\n",
       "      <td>216</td>\n",
       "      <td>0</td>\n",
       "      <td>540</td>\n",
       "      <td>756</td>\n",
       "      <td>961</td>\n",
       "      <td>756</td>\n",
       "      <td>0</td>\n",
       "      <td>1717</td>\n",
       "      <td>1</td>\n",
       "      <td>0</td>\n",
       "      <td>1</td>\n",
       "      <td>0</td>\n",
       "      <td>3</td>\n",
       "      <td>1</td>\n",
       "      <td>7</td>\n",
       "      <td>1</td>\n",
       "      <td>1998.0</td>\n",
       "      <td>3</td>\n",
       "      <td>642</td>\n",
       "      <td>0</td>\n",
       "      <td>35</td>\n",
       "      <td>272</td>\n",
       "      <td>0</td>\n",
       "      <td>0</td>\n",
       "      <td>0</td>\n",
       "      <td>0</td>\n",
       "      <td>2</td>\n",
       "      <td>2006</td>\n",
       "      <td>140000</td>\n",
       "    </tr>\n",
       "    <tr>\n",
       "      <td>4</td>\n",
       "      <td>5</td>\n",
       "      <td>60</td>\n",
       "      <td>84.0</td>\n",
       "      <td>14260</td>\n",
       "      <td>8</td>\n",
       "      <td>5</td>\n",
       "      <td>2000</td>\n",
       "      <td>2000</td>\n",
       "      <td>350.0</td>\n",
       "      <td>655</td>\n",
       "      <td>0</td>\n",
       "      <td>490</td>\n",
       "      <td>1145</td>\n",
       "      <td>1145</td>\n",
       "      <td>1053</td>\n",
       "      <td>0</td>\n",
       "      <td>2198</td>\n",
       "      <td>1</td>\n",
       "      <td>0</td>\n",
       "      <td>2</td>\n",
       "      <td>1</td>\n",
       "      <td>4</td>\n",
       "      <td>1</td>\n",
       "      <td>9</td>\n",
       "      <td>1</td>\n",
       "      <td>2000.0</td>\n",
       "      <td>3</td>\n",
       "      <td>836</td>\n",
       "      <td>192</td>\n",
       "      <td>84</td>\n",
       "      <td>0</td>\n",
       "      <td>0</td>\n",
       "      <td>0</td>\n",
       "      <td>0</td>\n",
       "      <td>0</td>\n",
       "      <td>12</td>\n",
       "      <td>2008</td>\n",
       "      <td>250000</td>\n",
       "    </tr>\n",
       "  </tbody>\n",
       "</table>\n",
       "</div>"
      ],
      "text/plain": [
       "   Id  MSSubClass  LotFrontage  LotArea  OverallQual  OverallCond  YearBuilt  \\\n",
       "0   1          60         65.0     8450            7            5       2003   \n",
       "1   2          20         80.0     9600            6            8       1976   \n",
       "2   3          60         68.0    11250            7            5       2001   \n",
       "3   4          70         60.0     9550            7            5       1915   \n",
       "4   5          60         84.0    14260            8            5       2000   \n",
       "\n",
       "   YearRemodAdd  MasVnrArea  BsmtFinSF1  BsmtFinSF2  BsmtUnfSF  TotalBsmtSF  \\\n",
       "0          2003       196.0         706           0        150          856   \n",
       "1          1976         0.0         978           0        284         1262   \n",
       "2          2002       162.0         486           0        434          920   \n",
       "3          1970         0.0         216           0        540          756   \n",
       "4          2000       350.0         655           0        490         1145   \n",
       "\n",
       "   1stFlrSF  2ndFlrSF  LowQualFinSF  GrLivArea  BsmtFullBath  BsmtHalfBath  \\\n",
       "0       856       854             0       1710             1             0   \n",
       "1      1262         0             0       1262             0             1   \n",
       "2       920       866             0       1786             1             0   \n",
       "3       961       756             0       1717             1             0   \n",
       "4      1145      1053             0       2198             1             0   \n",
       "\n",
       "   FullBath  HalfBath  BedroomAbvGr  KitchenAbvGr  TotRmsAbvGrd  Fireplaces  \\\n",
       "0         2         1             3             1             8           0   \n",
       "1         2         0             3             1             6           1   \n",
       "2         2         1             3             1             6           1   \n",
       "3         1         0             3             1             7           1   \n",
       "4         2         1             4             1             9           1   \n",
       "\n",
       "   GarageYrBlt  GarageCars  GarageArea  WoodDeckSF  OpenPorchSF  \\\n",
       "0       2003.0           2         548           0           61   \n",
       "1       1976.0           2         460         298            0   \n",
       "2       2001.0           2         608           0           42   \n",
       "3       1998.0           3         642           0           35   \n",
       "4       2000.0           3         836         192           84   \n",
       "\n",
       "   EnclosedPorch  3SsnPorch  ScreenPorch  PoolArea  MiscVal  MoSold  YrSold  \\\n",
       "0              0          0            0         0        0       2    2008   \n",
       "1              0          0            0         0        0       5    2007   \n",
       "2              0          0            0         0        0       9    2008   \n",
       "3            272          0            0         0        0       2    2006   \n",
       "4              0          0            0         0        0      12    2008   \n",
       "\n",
       "   SalePrice  \n",
       "0     208500  \n",
       "1     181500  \n",
       "2     223500  \n",
       "3     140000  \n",
       "4     250000  "
      ]
     },
     "execution_count": 459,
     "metadata": {},
     "output_type": "execute_result"
    }
   ],
   "source": [
    "# all numeric (float and int) variables in the dataset\n",
    "housing_numeric = housing_df.select_dtypes(include=['float64', 'int64'])\n",
    "housing_numeric.head()"
   ]
  },
  {
   "cell_type": "code",
   "execution_count": 460,
   "metadata": {},
   "outputs": [
    {
     "data": {
      "text/plain": [
       "Id                 0\n",
       "MSSubClass         0\n",
       "LotFrontage      259\n",
       "LotArea            0\n",
       "OverallQual        0\n",
       "OverallCond        0\n",
       "YearBuilt          0\n",
       "YearRemodAdd       0\n",
       "MasVnrArea         8\n",
       "BsmtFinSF1         0\n",
       "BsmtFinSF2         0\n",
       "BsmtUnfSF          0\n",
       "TotalBsmtSF        0\n",
       "1stFlrSF           0\n",
       "2ndFlrSF           0\n",
       "LowQualFinSF       0\n",
       "GrLivArea          0\n",
       "BsmtFullBath       0\n",
       "BsmtHalfBath       0\n",
       "FullBath           0\n",
       "HalfBath           0\n",
       "BedroomAbvGr       0\n",
       "KitchenAbvGr       0\n",
       "TotRmsAbvGrd       0\n",
       "Fireplaces         0\n",
       "GarageYrBlt       81\n",
       "GarageCars         0\n",
       "GarageArea         0\n",
       "WoodDeckSF         0\n",
       "OpenPorchSF        0\n",
       "EnclosedPorch      0\n",
       "3SsnPorch          0\n",
       "ScreenPorch        0\n",
       "PoolArea           0\n",
       "MiscVal            0\n",
       "MoSold             0\n",
       "YrSold             0\n",
       "SalePrice          0\n",
       "dtype: int64"
      ]
     },
     "execution_count": 460,
     "metadata": {},
     "output_type": "execute_result"
    }
   ],
   "source": [
    "housing_numeric.isnull().sum()"
   ]
  },
  {
   "cell_type": "markdown",
   "metadata": {},
   "source": [
    "We can drop `GarageYrBlt` and `LotFrontage` variables as from the data dictionary these does not sounds to impact much in our model"
   ]
  },
  {
   "cell_type": "code",
   "execution_count": 534,
   "metadata": {},
   "outputs": [],
   "source": [
    "# dropping GarageYrBlt and LotFrontage along with ID \n",
    "housing_numeric = housing_numeric.drop(['LotFrontage','Id','GarageYrBlt'], axis=1)"
   ]
  },
  {
   "cell_type": "code",
   "execution_count": 493,
   "metadata": {},
   "outputs": [
    {
     "data": {
      "text/plain": [
       "0      1453\n",
       "738       1\n",
       "648       1\n",
       "576       1\n",
       "555       1\n",
       "519       1\n",
       "512       1\n",
       "480       1\n",
       "Name: PoolArea, dtype: int64"
      ]
     },
     "execution_count": 493,
     "metadata": {},
     "output_type": "execute_result"
    }
   ],
   "source": [
    "housing_numeric['PoolArea'].value_counts()"
   ]
  },
  {
   "cell_type": "code",
   "execution_count": 42,
   "metadata": {},
   "outputs": [
    {
     "data": {
      "text/plain": [
       "0      1344\n",
       "192       6\n",
       "224       5\n",
       "120       5\n",
       "189       4\n",
       "       ... \n",
       "182       1\n",
       "440       1\n",
       "178       1\n",
       "312       1\n",
       "480       1\n",
       "Name: ScreenPorch, Length: 76, dtype: int64"
      ]
     },
     "execution_count": 42,
     "metadata": {},
     "output_type": "execute_result"
    }
   ],
   "source": [
    "housing_numeric['ScreenPorch'].value_counts()"
   ]
  },
  {
   "cell_type": "code",
   "execution_count": 43,
   "metadata": {},
   "outputs": [
    {
     "data": {
      "text/plain": [
       "0      1436\n",
       "168       3\n",
       "216       2\n",
       "144       2\n",
       "180       2\n",
       "245       1\n",
       "238       1\n",
       "290       1\n",
       "196       1\n",
       "182       1\n",
       "407       1\n",
       "304       1\n",
       "162       1\n",
       "153       1\n",
       "320       1\n",
       "140       1\n",
       "130       1\n",
       "96        1\n",
       "23        1\n",
       "508       1\n",
       "Name: 3SsnPorch, dtype: int64"
      ]
     },
     "execution_count": 43,
     "metadata": {},
     "output_type": "execute_result"
    }
   ],
   "source": [
    "housing_numeric['3SsnPorch'].value_counts()"
   ]
  },
  {
   "cell_type": "markdown",
   "metadata": {},
   "source": [
    "As per data dictionary definition the variables `3SsnPorch`,`ScreenPorch`,`PoolArea` should have values in feet. But for most the data points these are having 0 feet which suggests either the corresponding property does not have these facilities or it has missing value. Probably we can drop such columns where majority of the value is '0'. These variables won't be significant enough for genelizing the housing price prediction. "
   ]
  },
  {
   "cell_type": "code",
   "execution_count": 535,
   "metadata": {},
   "outputs": [],
   "source": [
    "# replacing the value 0 with NaN to find how much percentage of such 0 value variables are there\n",
    "for col in housing_numeric.columns:\n",
    "    #print(col)\n",
    "    housing_numeric[col].replace(0,np.NaN,inplace=True)\n",
    "#housing_numeric.isnull().sum()"
   ]
  },
  {
   "cell_type": "code",
   "execution_count": 536,
   "metadata": {},
   "outputs": [
    {
     "data": {
      "text/plain": [
       "PoolArea         100.0\n",
       "3SsnPorch         98.0\n",
       "LowQualFinSF      98.0\n",
       "MiscVal           96.0\n",
       "BsmtHalfBath      94.0\n",
       "ScreenPorch       92.0\n",
       "BsmtFinSF2        89.0\n",
       "EnclosedPorch     86.0\n",
       "HalfBath          63.0\n",
       "MasVnrArea        60.0\n",
       "BsmtFullBath      59.0\n",
       "2ndFlrSF          57.0\n",
       "WoodDeckSF        52.0\n",
       "Fireplaces        47.0\n",
       "OpenPorchSF       45.0\n",
       "BsmtFinSF1        32.0\n",
       "BsmtUnfSF          8.0\n",
       "GarageCars         6.0\n",
       "GarageArea         6.0\n",
       "TotalBsmtSF        3.0\n",
       "FullBath           1.0\n",
       "dtype: float64"
      ]
     },
     "execution_count": 536,
     "metadata": {},
     "output_type": "execute_result"
    }
   ],
   "source": [
    "nullcols=(100*(housing_numeric.isnull().sum()/len(housing_numeric.index)).round(2)).sort_values(ascending=False)\n",
    "nullcols[nullcols>0]"
   ]
  },
  {
   "cell_type": "code",
   "execution_count": 357,
   "metadata": {},
   "outputs": [
    {
     "data": {
      "image/png": "[encoded data removed]",
      "text/plain": [
       "<Figure size 432x288 with 3 Axes>"
      ]
     },
     "metadata": {
      "needs_background": "light"
     },
     "output_type": "display_data"
    }
   ],
   "source": [
    "# for example check the distribusion of PoolArea, ScreenPorch, BsmtFinSF2 from original data set \n",
    "#plt.figure(figsize=(8, 6))\n",
    "plt.subplot(1,3,1)\n",
    "sns.distplot(housing_df['PoolArea'])\n",
    "\n",
    "plt.subplot(1,3,2)\n",
    "sns.distplot(housing_df['ScreenPorch'])\n",
    "\n",
    "plt.subplot(1,3,3)\n",
    "sns.distplot(housing_df['BsmtFinSF2'])\n",
    "plt.tight_layout()\n",
    "plt.show()\n"
   ]
  },
  {
   "cell_type": "markdown",
   "metadata": {},
   "source": [
    "From the above analysis we can clearly drop columns where encoded NaN for corresponding 0 value is more than 89% in data set\n"
   ]
  },
  {
   "cell_type": "code",
   "execution_count": 407,
   "metadata": {},
   "outputs": [
    {
     "data": {
      "text/plain": [
       "PoolArea        100.0\n",
       "3SsnPorch        98.0\n",
       "LowQualFinSF     98.0\n",
       "MiscVal          96.0\n",
       "BsmtHalfBath     94.0\n",
       "ScreenPorch      92.0\n",
       "BsmtFinSF2       89.0\n",
       "dtype: float64"
      ]
     },
     "execution_count": 407,
     "metadata": {},
     "output_type": "execute_result"
    }
   ],
   "source": [
    "nullcols[nullcols>88]\n",
    "#"
   ]
  },
  {
   "cell_type": "code",
   "execution_count": 537,
   "metadata": {},
   "outputs": [],
   "source": [
    "housing_numeric.drop(columns=['PoolArea','3SsnPorch','LowQualFinSF','MiscVal','BsmtHalfBath','ScreenPorch','BsmtFinSF2'],\n",
    "                     axis=1,inplace=True)"
   ]
  },
  {
   "cell_type": "code",
   "execution_count": 538,
   "metadata": {},
   "outputs": [
    {
     "data": {
      "text/plain": [
       "MasVnrArea        869\n",
       "BsmtFinSF1        467\n",
       "BsmtUnfSF         118\n",
       "TotalBsmtSF        37\n",
       "2ndFlrSF          829\n",
       "BsmtFullBath      856\n",
       "FullBath            9\n",
       "HalfBath          913\n",
       "BedroomAbvGr        6\n",
       "KitchenAbvGr        1\n",
       "Fireplaces        690\n",
       "GarageCars         81\n",
       "GarageArea         81\n",
       "WoodDeckSF        761\n",
       "OpenPorchSF       656\n",
       "EnclosedPorch    1252\n",
       "dtype: int64"
      ]
     },
     "execution_count": 538,
     "metadata": {},
     "output_type": "execute_result"
    }
   ],
   "source": [
    "# Now check for other null/missing values\n",
    "nullcols=housing_numeric.isnull().sum()\n",
    "nullcols[nullcols>0]"
   ]
  },
  {
   "cell_type": "code",
   "execution_count": 410,
   "metadata": {},
   "outputs": [
    {
     "data": {
      "text/plain": [
       "1.0281456953642385"
      ]
     },
     "execution_count": 410,
     "metadata": {},
     "output_type": "execute_result"
    }
   ],
   "source": [
    "#housing_numeric['EnclosedPorch'].median()\n",
    "housing_numeric['BsmtFullBath'].mean()"
   ]
  },
  {
   "cell_type": "code",
   "execution_count": 539,
   "metadata": {},
   "outputs": [
    {
     "data": {
      "text/plain": [
       "Series([], dtype: int64)"
      ]
     },
     "execution_count": 539,
     "metadata": {},
     "output_type": "execute_result"
    }
   ],
   "source": [
    "# impute the null/missing values with median of the corresponding data points \n",
    "for col in nullcols.index:\n",
    "    housing_numeric[col].fillna(housing_numeric[col].median(), inplace=True)\n",
    "nullcols=housing_numeric.isnull().sum()\n",
    "nullcols[nullcols>0]    "
   ]
  },
  {
   "cell_type": "markdown",
   "metadata": {},
   "source": [
    "There are few variables which has `year` column. We need to encode the year column to include that into the model creation, otherwise year values such as 1995, 2000, 1970 etc mignt effect the overall model performance. We can get a diff of these year column from the current year 2019 and process those\n"
   ]
  },
  {
   "cell_type": "code",
   "execution_count": 540,
   "metadata": {},
   "outputs": [
    {
     "data": {
      "text/html": [
       "<div>\n",
       "<style scoped>\n",
       "    .dataframe tbody tr th:only-of-type {\n",
       "        vertical-align: middle;\n",
       "    }\n",
       "\n",
       "    .dataframe tbody tr th {\n",
       "        vertical-align: top;\n",
       "    }\n",
       "\n",
       "    .dataframe thead th {\n",
       "        text-align: right;\n",
       "    }\n",
       "</style>\n",
       "<table border=\"1\" class=\"dataframe\">\n",
       "  <thead>\n",
       "    <tr style=\"text-align: right;\">\n",
       "      <th></th>\n",
       "      <th>MSSubClass</th>\n",
       "      <th>LotArea</th>\n",
       "      <th>OverallQual</th>\n",
       "      <th>OverallCond</th>\n",
       "      <th>MasVnrArea</th>\n",
       "      <th>BsmtFinSF1</th>\n",
       "      <th>BsmtUnfSF</th>\n",
       "      <th>TotalBsmtSF</th>\n",
       "      <th>1stFlrSF</th>\n",
       "      <th>2ndFlrSF</th>\n",
       "      <th>GrLivArea</th>\n",
       "      <th>BsmtFullBath</th>\n",
       "      <th>FullBath</th>\n",
       "      <th>HalfBath</th>\n",
       "      <th>BedroomAbvGr</th>\n",
       "      <th>KitchenAbvGr</th>\n",
       "      <th>TotRmsAbvGrd</th>\n",
       "      <th>Fireplaces</th>\n",
       "      <th>GarageCars</th>\n",
       "      <th>GarageArea</th>\n",
       "      <th>WoodDeckSF</th>\n",
       "      <th>OpenPorchSF</th>\n",
       "      <th>EnclosedPorch</th>\n",
       "      <th>MoSold</th>\n",
       "      <th>SalePrice</th>\n",
       "      <th>YearBuilt_diff_todate</th>\n",
       "      <th>YearRemodAdd_diff_todate</th>\n",
       "      <th>YrSold_diff_todate</th>\n",
       "    </tr>\n",
       "  </thead>\n",
       "  <tbody>\n",
       "    <tr>\n",
       "      <td>0</td>\n",
       "      <td>60</td>\n",
       "      <td>8450</td>\n",
       "      <td>7</td>\n",
       "      <td>5</td>\n",
       "      <td>196.0</td>\n",
       "      <td>706.0</td>\n",
       "      <td>150.0</td>\n",
       "      <td>856.0</td>\n",
       "      <td>856</td>\n",
       "      <td>854.0</td>\n",
       "      <td>1710</td>\n",
       "      <td>1.0</td>\n",
       "      <td>2.0</td>\n",
       "      <td>1.0</td>\n",
       "      <td>3.0</td>\n",
       "      <td>1.0</td>\n",
       "      <td>8</td>\n",
       "      <td>1.0</td>\n",
       "      <td>2.0</td>\n",
       "      <td>548.0</td>\n",
       "      <td>171.0</td>\n",
       "      <td>61.0</td>\n",
       "      <td>144.5</td>\n",
       "      <td>2</td>\n",
       "      <td>208500</td>\n",
       "      <td>16</td>\n",
       "      <td>16</td>\n",
       "      <td>11</td>\n",
       "    </tr>\n",
       "    <tr>\n",
       "      <td>1</td>\n",
       "      <td>20</td>\n",
       "      <td>9600</td>\n",
       "      <td>6</td>\n",
       "      <td>8</td>\n",
       "      <td>203.0</td>\n",
       "      <td>978.0</td>\n",
       "      <td>284.0</td>\n",
       "      <td>1262.0</td>\n",
       "      <td>1262</td>\n",
       "      <td>776.0</td>\n",
       "      <td>1262</td>\n",
       "      <td>1.0</td>\n",
       "      <td>2.0</td>\n",
       "      <td>1.0</td>\n",
       "      <td>3.0</td>\n",
       "      <td>1.0</td>\n",
       "      <td>6</td>\n",
       "      <td>1.0</td>\n",
       "      <td>2.0</td>\n",
       "      <td>460.0</td>\n",
       "      <td>298.0</td>\n",
       "      <td>63.0</td>\n",
       "      <td>144.5</td>\n",
       "      <td>5</td>\n",
       "      <td>181500</td>\n",
       "      <td>43</td>\n",
       "      <td>43</td>\n",
       "      <td>12</td>\n",
       "    </tr>\n",
       "    <tr>\n",
       "      <td>2</td>\n",
       "      <td>60</td>\n",
       "      <td>11250</td>\n",
       "      <td>7</td>\n",
       "      <td>5</td>\n",
       "      <td>162.0</td>\n",
       "      <td>486.0</td>\n",
       "      <td>434.0</td>\n",
       "      <td>920.0</td>\n",
       "      <td>920</td>\n",
       "      <td>866.0</td>\n",
       "      <td>1786</td>\n",
       "      <td>1.0</td>\n",
       "      <td>2.0</td>\n",
       "      <td>1.0</td>\n",
       "      <td>3.0</td>\n",
       "      <td>1.0</td>\n",
       "      <td>6</td>\n",
       "      <td>1.0</td>\n",
       "      <td>2.0</td>\n",
       "      <td>608.0</td>\n",
       "      <td>171.0</td>\n",
       "      <td>42.0</td>\n",
       "      <td>144.5</td>\n",
       "      <td>9</td>\n",
       "      <td>223500</td>\n",
       "      <td>18</td>\n",
       "      <td>17</td>\n",
       "      <td>11</td>\n",
       "    </tr>\n",
       "    <tr>\n",
       "      <td>3</td>\n",
       "      <td>70</td>\n",
       "      <td>9550</td>\n",
       "      <td>7</td>\n",
       "      <td>5</td>\n",
       "      <td>203.0</td>\n",
       "      <td>216.0</td>\n",
       "      <td>540.0</td>\n",
       "      <td>756.0</td>\n",
       "      <td>961</td>\n",
       "      <td>756.0</td>\n",
       "      <td>1717</td>\n",
       "      <td>1.0</td>\n",
       "      <td>1.0</td>\n",
       "      <td>1.0</td>\n",
       "      <td>3.0</td>\n",
       "      <td>1.0</td>\n",
       "      <td>7</td>\n",
       "      <td>1.0</td>\n",
       "      <td>3.0</td>\n",
       "      <td>642.0</td>\n",
       "      <td>171.0</td>\n",
       "      <td>35.0</td>\n",
       "      <td>272.0</td>\n",
       "      <td>2</td>\n",
       "      <td>140000</td>\n",
       "      <td>104</td>\n",
       "      <td>49</td>\n",
       "      <td>13</td>\n",
       "    </tr>\n",
       "    <tr>\n",
       "      <td>4</td>\n",
       "      <td>60</td>\n",
       "      <td>14260</td>\n",
       "      <td>8</td>\n",
       "      <td>5</td>\n",
       "      <td>350.0</td>\n",
       "      <td>655.0</td>\n",
       "      <td>490.0</td>\n",
       "      <td>1145.0</td>\n",
       "      <td>1145</td>\n",
       "      <td>1053.0</td>\n",
       "      <td>2198</td>\n",
       "      <td>1.0</td>\n",
       "      <td>2.0</td>\n",
       "      <td>1.0</td>\n",
       "      <td>4.0</td>\n",
       "      <td>1.0</td>\n",
       "      <td>9</td>\n",
       "      <td>1.0</td>\n",
       "      <td>3.0</td>\n",
       "      <td>836.0</td>\n",
       "      <td>192.0</td>\n",
       "      <td>84.0</td>\n",
       "      <td>144.5</td>\n",
       "      <td>12</td>\n",
       "      <td>250000</td>\n",
       "      <td>19</td>\n",
       "      <td>19</td>\n",
       "      <td>11</td>\n",
       "    </tr>\n",
       "  </tbody>\n",
       "</table>\n",
       "</div>"
      ],
      "text/plain": [
       "   MSSubClass  LotArea  OverallQual  OverallCond  MasVnrArea  BsmtFinSF1  \\\n",
       "0          60     8450            7            5       196.0       706.0   \n",
       "1          20     9600            6            8       203.0       978.0   \n",
       "2          60    11250            7            5       162.0       486.0   \n",
       "3          70     9550            7            5       203.0       216.0   \n",
       "4          60    14260            8            5       350.0       655.0   \n",
       "\n",
       "   BsmtUnfSF  TotalBsmtSF  1stFlrSF  2ndFlrSF  GrLivArea  BsmtFullBath  \\\n",
       "0      150.0        856.0       856     854.0       1710           1.0   \n",
       "1      284.0       1262.0      1262     776.0       1262           1.0   \n",
       "2      434.0        920.0       920     866.0       1786           1.0   \n",
       "3      540.0        756.0       961     756.0       1717           1.0   \n",
       "4      490.0       1145.0      1145    1053.0       2198           1.0   \n",
       "\n",
       "   FullBath  HalfBath  BedroomAbvGr  KitchenAbvGr  TotRmsAbvGrd  Fireplaces  \\\n",
       "0       2.0       1.0           3.0           1.0             8         1.0   \n",
       "1       2.0       1.0           3.0           1.0             6         1.0   \n",
       "2       2.0       1.0           3.0           1.0             6         1.0   \n",
       "3       1.0       1.0           3.0           1.0             7         1.0   \n",
       "4       2.0       1.0           4.0           1.0             9         1.0   \n",
       "\n",
       "   GarageCars  GarageArea  WoodDeckSF  OpenPorchSF  EnclosedPorch  MoSold  \\\n",
       "0         2.0       548.0       171.0         61.0          144.5       2   \n",
       "1         2.0       460.0       298.0         63.0          144.5       5   \n",
       "2         2.0       608.0       171.0         42.0          144.5       9   \n",
       "3         3.0       642.0       171.0         35.0          272.0       2   \n",
       "4         3.0       836.0       192.0         84.0          144.5      12   \n",
       "\n",
       "   SalePrice  YearBuilt_diff_todate  YearRemodAdd_diff_todate  \\\n",
       "0     208500                     16                        16   \n",
       "1     181500                     43                        43   \n",
       "2     223500                     18                        17   \n",
       "3     140000                    104                        49   \n",
       "4     250000                     19                        19   \n",
       "\n",
       "   YrSold_diff_todate  \n",
       "0                  11  \n",
       "1                  12  \n",
       "2                  11  \n",
       "3                  13  \n",
       "4                  11  "
      ]
     },
     "execution_count": 540,
     "metadata": {},
     "output_type": "execute_result"
    }
   ],
   "source": [
    "# processing year columns \n",
    "for yrCol in housing_numeric.columns:\n",
    "    if str(yrCol).startswith('Year') or str(yrCol).startswith('Yr'):\n",
    "        #print(yrCol)\n",
    "        housing_numeric[yrCol]=housing_numeric[yrCol].astype(int)\n",
    "        housing_numeric[yrCol+str('_diff_todate')]=housing_numeric[yrCol].apply(lambda x: int(2019)-int(x))\n",
    "        housing_numeric.drop(columns=[yrCol],axis=1,inplace=True)\n",
    "housing_numeric.head()        "
   ]
  },
  {
   "cell_type": "code",
   "execution_count": 421,
   "metadata": {},
   "outputs": [],
   "source": [
    "# check the heatmap now for correlation of numeric variables\n",
    "cor = housing_numeric.corr()\n",
    "#cor"
   ]
  },
  {
   "cell_type": "code",
   "execution_count": 422,
   "metadata": {
    "scrolled": true
   },
   "outputs": [
    {
     "data": {
      "image/png": "[encoded data removed]",
      "text/plain": [
       "<Figure size 1440x1080 with 2 Axes>"
      ]
     },
     "metadata": {
      "needs_background": "light"
     },
     "output_type": "display_data"
    }
   ],
   "source": [
    "# figure size\n",
    "plt.figure(figsize=(20,15))\n",
    "\n",
    "# heatmap\n",
    "sns.heatmap(cor, cmap=\"YlGnBu\", annot=True)\n",
    "plt.show()"
   ]
  },
  {
   "cell_type": "markdown",
   "metadata": {},
   "source": [
    "We can see SalesPrice has high corelation with variables like \n",
    "\n",
    "- GarageArea: Size of garage in square feet\n",
    "- GarageCars: Size of garage in car capacity\n",
    "- GrLivArea: Above grade (ground) living area square feet\n",
    "- 1stFlrSF: First Floor square feet\n",
    "- 2ndFlrSF: Second floor square feet\n",
    "\n",
    "There are multicolinearity as well like GarageCars highly correlated with GarageArea which is obvious"
   ]
  },
  {
   "cell_type": "code",
   "execution_count": 541,
   "metadata": {},
   "outputs": [
    {
     "data": {
      "text/plain": [
       "Alley           1369\n",
       "MasVnrType         8\n",
       "BsmtQual          37\n",
       "BsmtCond          37\n",
       "BsmtExposure      38\n",
       "BsmtFinType1      37\n",
       "BsmtFinType2      38\n",
       "Electrical         1\n",
       "FireplaceQu      690\n",
       "GarageType        81\n",
       "GarageFinish      81\n",
       "GarageQual        81\n",
       "GarageCond        81\n",
       "PoolQC          1453\n",
       "Fence           1179\n",
       "MiscFeature     1406\n",
       "dtype: int64"
      ]
     },
     "execution_count": 541,
     "metadata": {},
     "output_type": "execute_result"
    }
   ],
   "source": [
    "# check the null/missing values in categorical variables\n",
    "nullcols=housing_categorical.isnull().sum()\n",
    "nullcols[nullcols>0]"
   ]
  },
  {
   "cell_type": "code",
   "execution_count": 542,
   "metadata": {},
   "outputs": [],
   "source": [
    "#drop the columns which has high count of null or missing values\n",
    "housing_categorical.drop(columns=['Alley','Fence','PoolQC','MiscFeature'], axis=1, inplace=True)"
   ]
  },
  {
   "cell_type": "code",
   "execution_count": 544,
   "metadata": {},
   "outputs": [
    {
     "data": {
      "text/plain": [
       "MasVnrType        8\n",
       "BsmtQual         37\n",
       "BsmtCond         37\n",
       "BsmtExposure     38\n",
       "BsmtFinType1     37\n",
       "BsmtFinType2     38\n",
       "Electrical        1\n",
       "FireplaceQu     690\n",
       "GarageType       81\n",
       "GarageFinish     81\n",
       "GarageQual       81\n",
       "GarageCond       81\n",
       "dtype: int64"
      ]
     },
     "execution_count": 544,
     "metadata": {},
     "output_type": "execute_result"
    }
   ],
   "source": [
    "nullcols=housing_categorical.isnull().sum()\n",
    "nullcols[nullcols>0]"
   ]
  },
  {
   "cell_type": "markdown",
   "metadata": {},
   "source": [
    "Except `Electrical` all the other above variables can be imputed with no value like 'NA' or 'None' "
   ]
  },
  {
   "cell_type": "code",
   "execution_count": 545,
   "metadata": {},
   "outputs": [],
   "source": [
    "null_col_to_impute=nullcols[nullcols>1]\n",
    "for col in null_col_to_impute.index:\n",
    "    if col == \"MasVnrType\":\n",
    "        housing_categorical[col].fillna(\"None\", inplace=True)\n",
    "    else:\n",
    "        housing_categorical[col].fillna(\"NA\", inplace=True)"
   ]
  },
  {
   "cell_type": "code",
   "execution_count": 546,
   "metadata": {},
   "outputs": [
    {
     "data": {
      "text/plain": [
       "Electrical    1\n",
       "dtype: int64"
      ]
     },
     "execution_count": 546,
     "metadata": {},
     "output_type": "execute_result"
    }
   ],
   "source": [
    "nullcols=housing_categorical.isnull().sum()\n",
    "nullcols[nullcols>0]"
   ]
  },
  {
   "cell_type": "code",
   "execution_count": 547,
   "metadata": {},
   "outputs": [
    {
     "data": {
      "text/plain": [
       "SBrkr    1334\n",
       "FuseA      94\n",
       "FuseF      27\n",
       "FuseP       3\n",
       "Mix         1\n",
       "Name: Electrical, dtype: int64"
      ]
     },
     "execution_count": 547,
     "metadata": {},
     "output_type": "execute_result"
    }
   ],
   "source": [
    "housing_categorical['Electrical'].value_counts()"
   ]
  },
  {
   "cell_type": "code",
   "execution_count": 548,
   "metadata": {},
   "outputs": [],
   "source": [
    "# Imputing the row with Unknown for missing value for E;ectrical variable\n",
    "#housing_categorical=housing_categorical[~np.isnan(housing_categorical['Electrical'])]\n",
    "housing_categorical['Electrical'].fillna('Unknown', inplace=True)"
   ]
  },
  {
   "cell_type": "markdown",
   "metadata": {},
   "source": [
    "There are rating or quality related categorical variable whose values are having abbreviation like Ex for Excellent, Gd for Good etc. Where as the similar numerical variables like `OverallQual`, `OverallCond` has integer values for such ratings. We should encode such categorical variables like `ExterQual`, `ExterCond`,`BsmtQual`, `BsmtCond` etc in numeric format like `OverallQual`, `OverallCond`."
   ]
  },
  {
   "cell_type": "code",
   "execution_count": 430,
   "metadata": {},
   "outputs": [
    {
     "data": {
      "text/plain": [
       "TA    649\n",
       "Gd    618\n",
       "Ex    121\n",
       "NA     37\n",
       "Fa     35\n",
       "Name: BsmtQual, dtype: int64"
      ]
     },
     "execution_count": 430,
     "metadata": {},
     "output_type": "execute_result"
    }
   ],
   "source": [
    "housing_categorical['BsmtQual'].value_counts()"
   ]
  },
  {
   "cell_type": "code",
   "execution_count": 431,
   "metadata": {},
   "outputs": [
    {
     "data": {
      "text/plain": [
       "NA    690\n",
       "Gd    380\n",
       "TA    313\n",
       "Fa     33\n",
       "Ex     24\n",
       "Po     20\n",
       "Name: FireplaceQu, dtype: int64"
      ]
     },
     "execution_count": 431,
     "metadata": {},
     "output_type": "execute_result"
    }
   ],
   "source": [
    "housing_categorical['FireplaceQu'].value_counts()"
   ]
  },
  {
   "cell_type": "code",
   "execution_count": 549,
   "metadata": {},
   "outputs": [
    {
     "name": "stdout",
     "output_type": "stream",
     "text": [
      "39\n",
      "28\n"
     ]
    }
   ],
   "source": [
    "print(housing_categorical.shape[1])\n",
    "print(housing_numeric.shape[1])"
   ]
  },
  {
   "cell_type": "code",
   "execution_count": 550,
   "metadata": {},
   "outputs": [
    {
     "name": "stdout",
     "output_type": "stream",
     "text": [
      "32\n",
      "35\n"
     ]
    }
   ],
   "source": [
    "varlist =  ['BsmtQual', 'BsmtCond', 'ExterQual','ExterCond',\n",
    "            'FireplaceQu','KitchenQual','HeatingQC']\n",
    "\n",
    "# Defining the map function\n",
    "def encode_cat_to_numeric(x):\n",
    "    return x.map({'Ex': 9, \"Gd\": 7, \"TA\": 5, 'Fa': 3, 'NA': 0, 'Po': 2})\n",
    "\n",
    "# Applying the function to the housing list\n",
    "housing_numeric[varlist] = housing_categorical[varlist].apply(encode_cat_to_numeric)\n",
    "for var in varlist:\n",
    "    housing_numeric[var]=housing_numeric[var].astype(int)\n",
    "    housing_categorical.drop([var], axis=1, inplace=True)\n",
    "    \n",
    "print(housing_categorical.shape[1])\n",
    "print(housing_numeric.shape[1])   "
   ]
  },
  {
   "cell_type": "markdown",
   "metadata": {},
   "source": [
    "#### Data preparation"
   ]
  },
  {
   "cell_type": "markdown",
   "metadata": {},
   "source": [
    "Now its time to process the categorical variables by creating dummies "
   ]
  },
  {
   "cell_type": "code",
   "execution_count": 552,
   "metadata": {},
   "outputs": [
    {
     "data": {
      "text/html": [
       "<div>\n",
       "<style scoped>\n",
       "    .dataframe tbody tr th:only-of-type {\n",
       "        vertical-align: middle;\n",
       "    }\n",
       "\n",
       "    .dataframe tbody tr th {\n",
       "        vertical-align: top;\n",
       "    }\n",
       "\n",
       "    .dataframe thead th {\n",
       "        text-align: right;\n",
       "    }\n",
       "</style>\n",
       "<table border=\"1\" class=\"dataframe\">\n",
       "  <thead>\n",
       "    <tr style=\"text-align: right;\">\n",
       "      <th></th>\n",
       "      <th>MSZoning_FV</th>\n",
       "      <th>MSZoning_RH</th>\n",
       "      <th>MSZoning_RL</th>\n",
       "      <th>MSZoning_RM</th>\n",
       "      <th>Street_Pave</th>\n",
       "      <th>LotShape_IR2</th>\n",
       "      <th>LotShape_IR3</th>\n",
       "      <th>LotShape_Reg</th>\n",
       "      <th>LandContour_HLS</th>\n",
       "      <th>LandContour_Low</th>\n",
       "      <th>LandContour_Lvl</th>\n",
       "      <th>Utilities_NoSeWa</th>\n",
       "      <th>LotConfig_CulDSac</th>\n",
       "      <th>LotConfig_FR2</th>\n",
       "      <th>LotConfig_FR3</th>\n",
       "      <th>LotConfig_Inside</th>\n",
       "      <th>LandSlope_Mod</th>\n",
       "      <th>LandSlope_Sev</th>\n",
       "      <th>Neighborhood_Blueste</th>\n",
       "      <th>Neighborhood_BrDale</th>\n",
       "      <th>Neighborhood_BrkSide</th>\n",
       "      <th>Neighborhood_ClearCr</th>\n",
       "      <th>Neighborhood_CollgCr</th>\n",
       "      <th>Neighborhood_Crawfor</th>\n",
       "      <th>Neighborhood_Edwards</th>\n",
       "      <th>Neighborhood_Gilbert</th>\n",
       "      <th>Neighborhood_IDOTRR</th>\n",
       "      <th>Neighborhood_MeadowV</th>\n",
       "      <th>Neighborhood_Mitchel</th>\n",
       "      <th>Neighborhood_NAmes</th>\n",
       "      <th>Neighborhood_NPkVill</th>\n",
       "      <th>Neighborhood_NWAmes</th>\n",
       "      <th>Neighborhood_NoRidge</th>\n",
       "      <th>Neighborhood_NridgHt</th>\n",
       "      <th>Neighborhood_OldTown</th>\n",
       "      <th>Neighborhood_SWISU</th>\n",
       "      <th>Neighborhood_Sawyer</th>\n",
       "      <th>Neighborhood_SawyerW</th>\n",
       "      <th>Neighborhood_Somerst</th>\n",
       "      <th>Neighborhood_StoneBr</th>\n",
       "      <th>Neighborhood_Timber</th>\n",
       "      <th>Neighborhood_Veenker</th>\n",
       "      <th>Condition1_Feedr</th>\n",
       "      <th>Condition1_Norm</th>\n",
       "      <th>Condition1_PosA</th>\n",
       "      <th>Condition1_PosN</th>\n",
       "      <th>Condition1_RRAe</th>\n",
       "      <th>Condition1_RRAn</th>\n",
       "      <th>Condition1_RRNe</th>\n",
       "      <th>Condition1_RRNn</th>\n",
       "      <th>...</th>\n",
       "      <th>Heating_GasW</th>\n",
       "      <th>Heating_Grav</th>\n",
       "      <th>Heating_OthW</th>\n",
       "      <th>Heating_Wall</th>\n",
       "      <th>CentralAir_Y</th>\n",
       "      <th>Electrical_FuseF</th>\n",
       "      <th>Electrical_FuseP</th>\n",
       "      <th>Electrical_Mix</th>\n",
       "      <th>Electrical_SBrkr</th>\n",
       "      <th>Electrical_Unknown</th>\n",
       "      <th>Functional_Maj2</th>\n",
       "      <th>Functional_Min1</th>\n",
       "      <th>Functional_Min2</th>\n",
       "      <th>Functional_Mod</th>\n",
       "      <th>Functional_Sev</th>\n",
       "      <th>Functional_Typ</th>\n",
       "      <th>GarageType_Attchd</th>\n",
       "      <th>GarageType_Basment</th>\n",
       "      <th>GarageType_BuiltIn</th>\n",
       "      <th>GarageType_CarPort</th>\n",
       "      <th>GarageType_Detchd</th>\n",
       "      <th>GarageType_NA</th>\n",
       "      <th>GarageFinish_NA</th>\n",
       "      <th>GarageFinish_RFn</th>\n",
       "      <th>GarageFinish_Unf</th>\n",
       "      <th>GarageQual_Fa</th>\n",
       "      <th>GarageQual_Gd</th>\n",
       "      <th>GarageQual_NA</th>\n",
       "      <th>GarageQual_Po</th>\n",
       "      <th>GarageQual_TA</th>\n",
       "      <th>GarageCond_Fa</th>\n",
       "      <th>GarageCond_Gd</th>\n",
       "      <th>GarageCond_NA</th>\n",
       "      <th>GarageCond_Po</th>\n",
       "      <th>GarageCond_TA</th>\n",
       "      <th>PavedDrive_P</th>\n",
       "      <th>PavedDrive_Y</th>\n",
       "      <th>SaleType_CWD</th>\n",
       "      <th>SaleType_Con</th>\n",
       "      <th>SaleType_ConLD</th>\n",
       "      <th>SaleType_ConLI</th>\n",
       "      <th>SaleType_ConLw</th>\n",
       "      <th>SaleType_New</th>\n",
       "      <th>SaleType_Oth</th>\n",
       "      <th>SaleType_WD</th>\n",
       "      <th>SaleCondition_AdjLand</th>\n",
       "      <th>SaleCondition_Alloca</th>\n",
       "      <th>SaleCondition_Family</th>\n",
       "      <th>SaleCondition_Normal</th>\n",
       "      <th>SaleCondition_Partial</th>\n",
       "    </tr>\n",
       "  </thead>\n",
       "  <tbody>\n",
       "    <tr>\n",
       "      <td>1455</td>\n",
       "      <td>0</td>\n",
       "      <td>0</td>\n",
       "      <td>1</td>\n",
       "      <td>0</td>\n",
       "      <td>1</td>\n",
       "      <td>0</td>\n",
       "      <td>0</td>\n",
       "      <td>1</td>\n",
       "      <td>0</td>\n",
       "      <td>0</td>\n",
       "      <td>1</td>\n",
       "      <td>0</td>\n",
       "      <td>0</td>\n",
       "      <td>0</td>\n",
       "      <td>0</td>\n",
       "      <td>1</td>\n",
       "      <td>0</td>\n",
       "      <td>0</td>\n",
       "      <td>0</td>\n",
       "      <td>0</td>\n",
       "      <td>0</td>\n",
       "      <td>0</td>\n",
       "      <td>0</td>\n",
       "      <td>0</td>\n",
       "      <td>0</td>\n",
       "      <td>1</td>\n",
       "      <td>0</td>\n",
       "      <td>0</td>\n",
       "      <td>0</td>\n",
       "      <td>0</td>\n",
       "      <td>0</td>\n",
       "      <td>0</td>\n",
       "      <td>0</td>\n",
       "      <td>0</td>\n",
       "      <td>0</td>\n",
       "      <td>0</td>\n",
       "      <td>0</td>\n",
       "      <td>0</td>\n",
       "      <td>0</td>\n",
       "      <td>0</td>\n",
       "      <td>0</td>\n",
       "      <td>0</td>\n",
       "      <td>0</td>\n",
       "      <td>1</td>\n",
       "      <td>0</td>\n",
       "      <td>0</td>\n",
       "      <td>0</td>\n",
       "      <td>0</td>\n",
       "      <td>0</td>\n",
       "      <td>0</td>\n",
       "      <td>...</td>\n",
       "      <td>0</td>\n",
       "      <td>0</td>\n",
       "      <td>0</td>\n",
       "      <td>0</td>\n",
       "      <td>1</td>\n",
       "      <td>0</td>\n",
       "      <td>0</td>\n",
       "      <td>0</td>\n",
       "      <td>1</td>\n",
       "      <td>0</td>\n",
       "      <td>0</td>\n",
       "      <td>0</td>\n",
       "      <td>0</td>\n",
       "      <td>0</td>\n",
       "      <td>0</td>\n",
       "      <td>1</td>\n",
       "      <td>1</td>\n",
       "      <td>0</td>\n",
       "      <td>0</td>\n",
       "      <td>0</td>\n",
       "      <td>0</td>\n",
       "      <td>0</td>\n",
       "      <td>0</td>\n",
       "      <td>1</td>\n",
       "      <td>0</td>\n",
       "      <td>0</td>\n",
       "      <td>0</td>\n",
       "      <td>0</td>\n",
       "      <td>0</td>\n",
       "      <td>1</td>\n",
       "      <td>0</td>\n",
       "      <td>0</td>\n",
       "      <td>0</td>\n",
       "      <td>0</td>\n",
       "      <td>1</td>\n",
       "      <td>0</td>\n",
       "      <td>1</td>\n",
       "      <td>0</td>\n",
       "      <td>0</td>\n",
       "      <td>0</td>\n",
       "      <td>0</td>\n",
       "      <td>0</td>\n",
       "      <td>0</td>\n",
       "      <td>0</td>\n",
       "      <td>1</td>\n",
       "      <td>0</td>\n",
       "      <td>0</td>\n",
       "      <td>0</td>\n",
       "      <td>1</td>\n",
       "      <td>0</td>\n",
       "    </tr>\n",
       "    <tr>\n",
       "      <td>1456</td>\n",
       "      <td>0</td>\n",
       "      <td>0</td>\n",
       "      <td>1</td>\n",
       "      <td>0</td>\n",
       "      <td>1</td>\n",
       "      <td>0</td>\n",
       "      <td>0</td>\n",
       "      <td>1</td>\n",
       "      <td>0</td>\n",
       "      <td>0</td>\n",
       "      <td>1</td>\n",
       "      <td>0</td>\n",
       "      <td>0</td>\n",
       "      <td>0</td>\n",
       "      <td>0</td>\n",
       "      <td>1</td>\n",
       "      <td>0</td>\n",
       "      <td>0</td>\n",
       "      <td>0</td>\n",
       "      <td>0</td>\n",
       "      <td>0</td>\n",
       "      <td>0</td>\n",
       "      <td>0</td>\n",
       "      <td>0</td>\n",
       "      <td>0</td>\n",
       "      <td>0</td>\n",
       "      <td>0</td>\n",
       "      <td>0</td>\n",
       "      <td>0</td>\n",
       "      <td>0</td>\n",
       "      <td>0</td>\n",
       "      <td>1</td>\n",
       "      <td>0</td>\n",
       "      <td>0</td>\n",
       "      <td>0</td>\n",
       "      <td>0</td>\n",
       "      <td>0</td>\n",
       "      <td>0</td>\n",
       "      <td>0</td>\n",
       "      <td>0</td>\n",
       "      <td>0</td>\n",
       "      <td>0</td>\n",
       "      <td>0</td>\n",
       "      <td>1</td>\n",
       "      <td>0</td>\n",
       "      <td>0</td>\n",
       "      <td>0</td>\n",
       "      <td>0</td>\n",
       "      <td>0</td>\n",
       "      <td>0</td>\n",
       "      <td>...</td>\n",
       "      <td>0</td>\n",
       "      <td>0</td>\n",
       "      <td>0</td>\n",
       "      <td>0</td>\n",
       "      <td>1</td>\n",
       "      <td>0</td>\n",
       "      <td>0</td>\n",
       "      <td>0</td>\n",
       "      <td>1</td>\n",
       "      <td>0</td>\n",
       "      <td>0</td>\n",
       "      <td>1</td>\n",
       "      <td>0</td>\n",
       "      <td>0</td>\n",
       "      <td>0</td>\n",
       "      <td>0</td>\n",
       "      <td>1</td>\n",
       "      <td>0</td>\n",
       "      <td>0</td>\n",
       "      <td>0</td>\n",
       "      <td>0</td>\n",
       "      <td>0</td>\n",
       "      <td>0</td>\n",
       "      <td>0</td>\n",
       "      <td>1</td>\n",
       "      <td>0</td>\n",
       "      <td>0</td>\n",
       "      <td>0</td>\n",
       "      <td>0</td>\n",
       "      <td>1</td>\n",
       "      <td>0</td>\n",
       "      <td>0</td>\n",
       "      <td>0</td>\n",
       "      <td>0</td>\n",
       "      <td>1</td>\n",
       "      <td>0</td>\n",
       "      <td>1</td>\n",
       "      <td>0</td>\n",
       "      <td>0</td>\n",
       "      <td>0</td>\n",
       "      <td>0</td>\n",
       "      <td>0</td>\n",
       "      <td>0</td>\n",
       "      <td>0</td>\n",
       "      <td>1</td>\n",
       "      <td>0</td>\n",
       "      <td>0</td>\n",
       "      <td>0</td>\n",
       "      <td>1</td>\n",
       "      <td>0</td>\n",
       "    </tr>\n",
       "    <tr>\n",
       "      <td>1457</td>\n",
       "      <td>0</td>\n",
       "      <td>0</td>\n",
       "      <td>1</td>\n",
       "      <td>0</td>\n",
       "      <td>1</td>\n",
       "      <td>0</td>\n",
       "      <td>0</td>\n",
       "      <td>1</td>\n",
       "      <td>0</td>\n",
       "      <td>0</td>\n",
       "      <td>1</td>\n",
       "      <td>0</td>\n",
       "      <td>0</td>\n",
       "      <td>0</td>\n",
       "      <td>0</td>\n",
       "      <td>1</td>\n",
       "      <td>0</td>\n",
       "      <td>0</td>\n",
       "      <td>0</td>\n",
       "      <td>0</td>\n",
       "      <td>0</td>\n",
       "      <td>0</td>\n",
       "      <td>0</td>\n",
       "      <td>1</td>\n",
       "      <td>0</td>\n",
       "      <td>0</td>\n",
       "      <td>0</td>\n",
       "      <td>0</td>\n",
       "      <td>0</td>\n",
       "      <td>0</td>\n",
       "      <td>0</td>\n",
       "      <td>0</td>\n",
       "      <td>0</td>\n",
       "      <td>0</td>\n",
       "      <td>0</td>\n",
       "      <td>0</td>\n",
       "      <td>0</td>\n",
       "      <td>0</td>\n",
       "      <td>0</td>\n",
       "      <td>0</td>\n",
       "      <td>0</td>\n",
       "      <td>0</td>\n",
       "      <td>0</td>\n",
       "      <td>1</td>\n",
       "      <td>0</td>\n",
       "      <td>0</td>\n",
       "      <td>0</td>\n",
       "      <td>0</td>\n",
       "      <td>0</td>\n",
       "      <td>0</td>\n",
       "      <td>...</td>\n",
       "      <td>0</td>\n",
       "      <td>0</td>\n",
       "      <td>0</td>\n",
       "      <td>0</td>\n",
       "      <td>1</td>\n",
       "      <td>0</td>\n",
       "      <td>0</td>\n",
       "      <td>0</td>\n",
       "      <td>1</td>\n",
       "      <td>0</td>\n",
       "      <td>0</td>\n",
       "      <td>0</td>\n",
       "      <td>0</td>\n",
       "      <td>0</td>\n",
       "      <td>0</td>\n",
       "      <td>1</td>\n",
       "      <td>1</td>\n",
       "      <td>0</td>\n",
       "      <td>0</td>\n",
       "      <td>0</td>\n",
       "      <td>0</td>\n",
       "      <td>0</td>\n",
       "      <td>0</td>\n",
       "      <td>1</td>\n",
       "      <td>0</td>\n",
       "      <td>0</td>\n",
       "      <td>0</td>\n",
       "      <td>0</td>\n",
       "      <td>0</td>\n",
       "      <td>1</td>\n",
       "      <td>0</td>\n",
       "      <td>0</td>\n",
       "      <td>0</td>\n",
       "      <td>0</td>\n",
       "      <td>1</td>\n",
       "      <td>0</td>\n",
       "      <td>1</td>\n",
       "      <td>0</td>\n",
       "      <td>0</td>\n",
       "      <td>0</td>\n",
       "      <td>0</td>\n",
       "      <td>0</td>\n",
       "      <td>0</td>\n",
       "      <td>0</td>\n",
       "      <td>1</td>\n",
       "      <td>0</td>\n",
       "      <td>0</td>\n",
       "      <td>0</td>\n",
       "      <td>1</td>\n",
       "      <td>0</td>\n",
       "    </tr>\n",
       "    <tr>\n",
       "      <td>1458</td>\n",
       "      <td>0</td>\n",
       "      <td>0</td>\n",
       "      <td>1</td>\n",
       "      <td>0</td>\n",
       "      <td>1</td>\n",
       "      <td>0</td>\n",
       "      <td>0</td>\n",
       "      <td>1</td>\n",
       "      <td>0</td>\n",
       "      <td>0</td>\n",
       "      <td>1</td>\n",
       "      <td>0</td>\n",
       "      <td>0</td>\n",
       "      <td>0</td>\n",
       "      <td>0</td>\n",
       "      <td>1</td>\n",
       "      <td>0</td>\n",
       "      <td>0</td>\n",
       "      <td>0</td>\n",
       "      <td>0</td>\n",
       "      <td>0</td>\n",
       "      <td>0</td>\n",
       "      <td>0</td>\n",
       "      <td>0</td>\n",
       "      <td>0</td>\n",
       "      <td>0</td>\n",
       "      <td>0</td>\n",
       "      <td>0</td>\n",
       "      <td>0</td>\n",
       "      <td>1</td>\n",
       "      <td>0</td>\n",
       "      <td>0</td>\n",
       "      <td>0</td>\n",
       "      <td>0</td>\n",
       "      <td>0</td>\n",
       "      <td>0</td>\n",
       "      <td>0</td>\n",
       "      <td>0</td>\n",
       "      <td>0</td>\n",
       "      <td>0</td>\n",
       "      <td>0</td>\n",
       "      <td>0</td>\n",
       "      <td>0</td>\n",
       "      <td>1</td>\n",
       "      <td>0</td>\n",
       "      <td>0</td>\n",
       "      <td>0</td>\n",
       "      <td>0</td>\n",
       "      <td>0</td>\n",
       "      <td>0</td>\n",
       "      <td>...</td>\n",
       "      <td>0</td>\n",
       "      <td>0</td>\n",
       "      <td>0</td>\n",
       "      <td>0</td>\n",
       "      <td>1</td>\n",
       "      <td>0</td>\n",
       "      <td>0</td>\n",
       "      <td>0</td>\n",
       "      <td>0</td>\n",
       "      <td>0</td>\n",
       "      <td>0</td>\n",
       "      <td>0</td>\n",
       "      <td>0</td>\n",
       "      <td>0</td>\n",
       "      <td>0</td>\n",
       "      <td>1</td>\n",
       "      <td>1</td>\n",
       "      <td>0</td>\n",
       "      <td>0</td>\n",
       "      <td>0</td>\n",
       "      <td>0</td>\n",
       "      <td>0</td>\n",
       "      <td>0</td>\n",
       "      <td>0</td>\n",
       "      <td>1</td>\n",
       "      <td>0</td>\n",
       "      <td>0</td>\n",
       "      <td>0</td>\n",
       "      <td>0</td>\n",
       "      <td>1</td>\n",
       "      <td>0</td>\n",
       "      <td>0</td>\n",
       "      <td>0</td>\n",
       "      <td>0</td>\n",
       "      <td>1</td>\n",
       "      <td>0</td>\n",
       "      <td>1</td>\n",
       "      <td>0</td>\n",
       "      <td>0</td>\n",
       "      <td>0</td>\n",
       "      <td>0</td>\n",
       "      <td>0</td>\n",
       "      <td>0</td>\n",
       "      <td>0</td>\n",
       "      <td>1</td>\n",
       "      <td>0</td>\n",
       "      <td>0</td>\n",
       "      <td>0</td>\n",
       "      <td>1</td>\n",
       "      <td>0</td>\n",
       "    </tr>\n",
       "    <tr>\n",
       "      <td>1459</td>\n",
       "      <td>0</td>\n",
       "      <td>0</td>\n",
       "      <td>1</td>\n",
       "      <td>0</td>\n",
       "      <td>1</td>\n",
       "      <td>0</td>\n",
       "      <td>0</td>\n",
       "      <td>1</td>\n",
       "      <td>0</td>\n",
       "      <td>0</td>\n",
       "      <td>1</td>\n",
       "      <td>0</td>\n",
       "      <td>0</td>\n",
       "      <td>0</td>\n",
       "      <td>0</td>\n",
       "      <td>1</td>\n",
       "      <td>0</td>\n",
       "      <td>0</td>\n",
       "      <td>0</td>\n",
       "      <td>0</td>\n",
       "      <td>0</td>\n",
       "      <td>0</td>\n",
       "      <td>0</td>\n",
       "      <td>0</td>\n",
       "      <td>1</td>\n",
       "      <td>0</td>\n",
       "      <td>0</td>\n",
       "      <td>0</td>\n",
       "      <td>0</td>\n",
       "      <td>0</td>\n",
       "      <td>0</td>\n",
       "      <td>0</td>\n",
       "      <td>0</td>\n",
       "      <td>0</td>\n",
       "      <td>0</td>\n",
       "      <td>0</td>\n",
       "      <td>0</td>\n",
       "      <td>0</td>\n",
       "      <td>0</td>\n",
       "      <td>0</td>\n",
       "      <td>0</td>\n",
       "      <td>0</td>\n",
       "      <td>0</td>\n",
       "      <td>1</td>\n",
       "      <td>0</td>\n",
       "      <td>0</td>\n",
       "      <td>0</td>\n",
       "      <td>0</td>\n",
       "      <td>0</td>\n",
       "      <td>0</td>\n",
       "      <td>...</td>\n",
       "      <td>0</td>\n",
       "      <td>0</td>\n",
       "      <td>0</td>\n",
       "      <td>0</td>\n",
       "      <td>1</td>\n",
       "      <td>0</td>\n",
       "      <td>0</td>\n",
       "      <td>0</td>\n",
       "      <td>1</td>\n",
       "      <td>0</td>\n",
       "      <td>0</td>\n",
       "      <td>0</td>\n",
       "      <td>0</td>\n",
       "      <td>0</td>\n",
       "      <td>0</td>\n",
       "      <td>1</td>\n",
       "      <td>1</td>\n",
       "      <td>0</td>\n",
       "      <td>0</td>\n",
       "      <td>0</td>\n",
       "      <td>0</td>\n",
       "      <td>0</td>\n",
       "      <td>0</td>\n",
       "      <td>0</td>\n",
       "      <td>0</td>\n",
       "      <td>0</td>\n",
       "      <td>0</td>\n",
       "      <td>0</td>\n",
       "      <td>0</td>\n",
       "      <td>1</td>\n",
       "      <td>0</td>\n",
       "      <td>0</td>\n",
       "      <td>0</td>\n",
       "      <td>0</td>\n",
       "      <td>1</td>\n",
       "      <td>0</td>\n",
       "      <td>1</td>\n",
       "      <td>0</td>\n",
       "      <td>0</td>\n",
       "      <td>0</td>\n",
       "      <td>0</td>\n",
       "      <td>0</td>\n",
       "      <td>0</td>\n",
       "      <td>0</td>\n",
       "      <td>1</td>\n",
       "      <td>0</td>\n",
       "      <td>0</td>\n",
       "      <td>0</td>\n",
       "      <td>1</td>\n",
       "      <td>0</td>\n",
       "    </tr>\n",
       "  </tbody>\n",
       "</table>\n",
       "<p>5 rows × 184 columns</p>\n",
       "</div>"
      ],
      "text/plain": [
       "      MSZoning_FV  MSZoning_RH  MSZoning_RL  MSZoning_RM  Street_Pave  \\\n",
       "1455            0            0            1            0            1   \n",
       "1456            0            0            1            0            1   \n",
       "1457            0            0            1            0            1   \n",
       "1458            0            0            1            0            1   \n",
       "1459            0            0            1            0            1   \n",
       "\n",
       "      LotShape_IR2  LotShape_IR3  LotShape_Reg  LandContour_HLS  \\\n",
       "1455             0             0             1                0   \n",
       "1456             0             0             1                0   \n",
       "1457             0             0             1                0   \n",
       "1458             0             0             1                0   \n",
       "1459             0             0             1                0   \n",
       "\n",
       "      LandContour_Low  LandContour_Lvl  Utilities_NoSeWa  LotConfig_CulDSac  \\\n",
       "1455                0                1                 0                  0   \n",
       "1456                0                1                 0                  0   \n",
       "1457                0                1                 0                  0   \n",
       "1458                0                1                 0                  0   \n",
       "1459                0                1                 0                  0   \n",
       "\n",
       "      LotConfig_FR2  LotConfig_FR3  LotConfig_Inside  LandSlope_Mod  \\\n",
       "1455              0              0                 1              0   \n",
       "1456              0              0                 1              0   \n",
       "1457              0              0                 1              0   \n",
       "1458              0              0                 1              0   \n",
       "1459              0              0                 1              0   \n",
       "\n",
       "      LandSlope_Sev  Neighborhood_Blueste  Neighborhood_BrDale  \\\n",
       "1455              0                     0                    0   \n",
       "1456              0                     0                    0   \n",
       "1457              0                     0                    0   \n",
       "1458              0                     0                    0   \n",
       "1459              0                     0                    0   \n",
       "\n",
       "      Neighborhood_BrkSide  Neighborhood_ClearCr  Neighborhood_CollgCr  \\\n",
       "1455                     0                     0                     0   \n",
       "1456                     0                     0                     0   \n",
       "1457                     0                     0                     0   \n",
       "1458                     0                     0                     0   \n",
       "1459                     0                     0                     0   \n",
       "\n",
       "      Neighborhood_Crawfor  Neighborhood_Edwards  Neighborhood_Gilbert  \\\n",
       "1455                     0                     0                     1   \n",
       "1456                     0                     0                     0   \n",
       "1457                     1                     0                     0   \n",
       "1458                     0                     0                     0   \n",
       "1459                     0                     1                     0   \n",
       "\n",
       "      Neighborhood_IDOTRR  Neighborhood_MeadowV  Neighborhood_Mitchel  \\\n",
       "1455                    0                     0                     0   \n",
       "1456                    0                     0                     0   \n",
       "1457                    0                     0                     0   \n",
       "1458                    0                     0                     0   \n",
       "1459                    0                     0                     0   \n",
       "\n",
       "      Neighborhood_NAmes  Neighborhood_NPkVill  Neighborhood_NWAmes  \\\n",
       "1455                   0                     0                    0   \n",
       "1456                   0                     0                    1   \n",
       "1457                   0                     0                    0   \n",
       "1458                   1                     0                    0   \n",
       "1459                   0                     0                    0   \n",
       "\n",
       "      Neighborhood_NoRidge  Neighborhood_NridgHt  Neighborhood_OldTown  \\\n",
       "1455                     0                     0                     0   \n",
       "1456                     0                     0                     0   \n",
       "1457                     0                     0                     0   \n",
       "1458                     0                     0                     0   \n",
       "1459                     0                     0                     0   \n",
       "\n",
       "      Neighborhood_SWISU  Neighborhood_Sawyer  Neighborhood_SawyerW  \\\n",
       "1455                   0                    0                     0   \n",
       "1456                   0                    0                     0   \n",
       "1457                   0                    0                     0   \n",
       "1458                   0                    0                     0   \n",
       "1459                   0                    0                     0   \n",
       "\n",
       "      Neighborhood_Somerst  Neighborhood_StoneBr  Neighborhood_Timber  \\\n",
       "1455                     0                     0                    0   \n",
       "1456                     0                     0                    0   \n",
       "1457                     0                     0                    0   \n",
       "1458                     0                     0                    0   \n",
       "1459                     0                     0                    0   \n",
       "\n",
       "      Neighborhood_Veenker  Condition1_Feedr  Condition1_Norm  \\\n",
       "1455                     0                 0                1   \n",
       "1456                     0                 0                1   \n",
       "1457                     0                 0                1   \n",
       "1458                     0                 0                1   \n",
       "1459                     0                 0                1   \n",
       "\n",
       "      Condition1_PosA  Condition1_PosN  Condition1_RRAe  Condition1_RRAn  \\\n",
       "1455                0                0                0                0   \n",
       "1456                0                0                0                0   \n",
       "1457                0                0                0                0   \n",
       "1458                0                0                0                0   \n",
       "1459                0                0                0                0   \n",
       "\n",
       "      Condition1_RRNe  Condition1_RRNn  ...  Heating_GasW  Heating_Grav  \\\n",
       "1455                0                0  ...             0             0   \n",
       "1456                0                0  ...             0             0   \n",
       "1457                0                0  ...             0             0   \n",
       "1458                0                0  ...             0             0   \n",
       "1459                0                0  ...             0             0   \n",
       "\n",
       "      Heating_OthW  Heating_Wall  CentralAir_Y  Electrical_FuseF  \\\n",
       "1455             0             0             1                 0   \n",
       "1456             0             0             1                 0   \n",
       "1457             0             0             1                 0   \n",
       "1458             0             0             1                 0   \n",
       "1459             0             0             1                 0   \n",
       "\n",
       "      Electrical_FuseP  Electrical_Mix  Electrical_SBrkr  Electrical_Unknown  \\\n",
       "1455                 0               0                 1                   0   \n",
       "1456                 0               0                 1                   0   \n",
       "1457                 0               0                 1                   0   \n",
       "1458                 0               0                 0                   0   \n",
       "1459                 0               0                 1                   0   \n",
       "\n",
       "      Functional_Maj2  Functional_Min1  Functional_Min2  Functional_Mod  \\\n",
       "1455                0                0                0               0   \n",
       "1456                0                1                0               0   \n",
       "1457                0                0                0               0   \n",
       "1458                0                0                0               0   \n",
       "1459                0                0                0               0   \n",
       "\n",
       "      Functional_Sev  Functional_Typ  GarageType_Attchd  GarageType_Basment  \\\n",
       "1455               0               1                  1                   0   \n",
       "1456               0               0                  1                   0   \n",
       "1457               0               1                  1                   0   \n",
       "1458               0               1                  1                   0   \n",
       "1459               0               1                  1                   0   \n",
       "\n",
       "      GarageType_BuiltIn  GarageType_CarPort  GarageType_Detchd  \\\n",
       "1455                   0                   0                  0   \n",
       "1456                   0                   0                  0   \n",
       "1457                   0                   0                  0   \n",
       "1458                   0                   0                  0   \n",
       "1459                   0                   0                  0   \n",
       "\n",
       "      GarageType_NA  GarageFinish_NA  GarageFinish_RFn  GarageFinish_Unf  \\\n",
       "1455              0                0                 1                 0   \n",
       "1456              0                0                 0                 1   \n",
       "1457              0                0                 1                 0   \n",
       "1458              0                0                 0                 1   \n",
       "1459              0                0                 0                 0   \n",
       "\n",
       "      GarageQual_Fa  GarageQual_Gd  GarageQual_NA  GarageQual_Po  \\\n",
       "1455              0              0              0              0   \n",
       "1456              0              0              0              0   \n",
       "1457              0              0              0              0   \n",
       "1458              0              0              0              0   \n",
       "1459              0              0              0              0   \n",
       "\n",
       "      GarageQual_TA  GarageCond_Fa  GarageCond_Gd  GarageCond_NA  \\\n",
       "1455              1              0              0              0   \n",
       "1456              1              0              0              0   \n",
       "1457              1              0              0              0   \n",
       "1458              1              0              0              0   \n",
       "1459              1              0              0              0   \n",
       "\n",
       "      GarageCond_Po  GarageCond_TA  PavedDrive_P  PavedDrive_Y  SaleType_CWD  \\\n",
       "1455              0              1             0             1             0   \n",
       "1456              0              1             0             1             0   \n",
       "1457              0              1             0             1             0   \n",
       "1458              0              1             0             1             0   \n",
       "1459              0              1             0             1             0   \n",
       "\n",
       "      SaleType_Con  SaleType_ConLD  SaleType_ConLI  SaleType_ConLw  \\\n",
       "1455             0               0               0               0   \n",
       "1456             0               0               0               0   \n",
       "1457             0               0               0               0   \n",
       "1458             0               0               0               0   \n",
       "1459             0               0               0               0   \n",
       "\n",
       "      SaleType_New  SaleType_Oth  SaleType_WD  SaleCondition_AdjLand  \\\n",
       "1455             0             0            1                      0   \n",
       "1456             0             0            1                      0   \n",
       "1457             0             0            1                      0   \n",
       "1458             0             0            1                      0   \n",
       "1459             0             0            1                      0   \n",
       "\n",
       "      SaleCondition_Alloca  SaleCondition_Family  SaleCondition_Normal  \\\n",
       "1455                     0                     0                     1   \n",
       "1456                     0                     0                     1   \n",
       "1457                     0                     0                     1   \n",
       "1458                     0                     0                     1   \n",
       "1459                     0                     0                     1   \n",
       "\n",
       "      SaleCondition_Partial  \n",
       "1455                      0  \n",
       "1456                      0  \n",
       "1457                      0  \n",
       "1458                      0  \n",
       "1459                      0  \n",
       "\n",
       "[5 rows x 184 columns]"
      ]
     },
     "execution_count": 552,
     "metadata": {},
     "output_type": "execute_result"
    }
   ],
   "source": [
    "housing_dummies = pd.get_dummies(housing_categorical, drop_first=True)\n",
    "housing_dummies.tail()"
   ]
  },
  {
   "cell_type": "code",
   "execution_count": 553,
   "metadata": {},
   "outputs": [
    {
     "data": {
      "text/plain": [
       "(1460, 184)"
      ]
     },
     "execution_count": 553,
     "metadata": {},
     "output_type": "execute_result"
    }
   ],
   "source": [
    "housing_dummies.shape"
   ]
  },
  {
   "cell_type": "code",
   "execution_count": 562,
   "metadata": {},
   "outputs": [
    {
     "data": {
      "text/plain": [
       "(1460, 219)"
      ]
     },
     "execution_count": 562,
     "metadata": {},
     "output_type": "execute_result"
    }
   ],
   "source": [
    "# Concatenating all processed numerical and processed dummies for categorical\n",
    "# This is the data set we will use going forward for model building\n",
    "model_df = pd.concat([housing_numeric, housing_dummies], axis=1)\n",
    "model_df.shape"
   ]
  },
  {
   "cell_type": "code",
   "execution_count": 561,
   "metadata": {},
   "outputs": [
    {
     "data": {
      "text/plain": [
       "MSSubClass                  14\n",
       "LotArea                     14\n",
       "OverallQual                 14\n",
       "OverallCond                 14\n",
       "MasVnrArea                  14\n",
       "BsmtFinSF1                  14\n",
       "BsmtUnfSF                   14\n",
       "TotalBsmtSF                 14\n",
       "1stFlrSF                    14\n",
       "2ndFlrSF                    14\n",
       "GrLivArea                   14\n",
       "BsmtFullBath                14\n",
       "FullBath                    14\n",
       "HalfBath                    14\n",
       "BedroomAbvGr                14\n",
       "KitchenAbvGr                14\n",
       "TotRmsAbvGrd                14\n",
       "Fireplaces                  14\n",
       "GarageCars                  14\n",
       "GarageArea                  14\n",
       "WoodDeckSF                  14\n",
       "OpenPorchSF                 14\n",
       "EnclosedPorch               14\n",
       "MoSold                      14\n",
       "SalePrice                   14\n",
       "YearBuilt_diff_todate       14\n",
       "YearRemodAdd_diff_todate    14\n",
       "YrSold_diff_todate          14\n",
       "BsmtQual                    14\n",
       "BsmtCond                    14\n",
       "ExterQual                   14\n",
       "ExterCond                   14\n",
       "FireplaceQu                 14\n",
       "KitchenQual                 14\n",
       "HeatingQC                   14\n",
       "MSZoning_FV                 14\n",
       "MSZoning_RH                 14\n",
       "MSZoning_RL                 14\n",
       "MSZoning_RM                 14\n",
       "Street_Pave                 14\n",
       "LotShape_IR2                14\n",
       "LotShape_IR3                14\n",
       "LotShape_Reg                14\n",
       "LandContour_HLS             14\n",
       "LandContour_Low             14\n",
       "LandContour_Lvl             14\n",
       "Utilities_NoSeWa            14\n",
       "LotConfig_CulDSac           14\n",
       "LotConfig_FR2               14\n",
       "LotConfig_FR3               14\n",
       "LotConfig_Inside            14\n",
       "LandSlope_Mod               14\n",
       "LandSlope_Sev               14\n",
       "Neighborhood_Blueste        14\n",
       "Neighborhood_BrDale         14\n",
       "Neighborhood_BrkSide        14\n",
       "Neighborhood_ClearCr        14\n",
       "Neighborhood_CollgCr        14\n",
       "Neighborhood_Crawfor        14\n",
       "Neighborhood_Edwards        14\n",
       "Neighborhood_Gilbert        14\n",
       "Neighborhood_IDOTRR         14\n",
       "Neighborhood_MeadowV        14\n",
       "Neighborhood_Mitchel        14\n",
       "Neighborhood_NAmes          14\n",
       "Neighborhood_NPkVill        14\n",
       "Neighborhood_NWAmes         14\n",
       "Neighborhood_NoRidge        14\n",
       "Neighborhood_NridgHt        14\n",
       "Neighborhood_OldTown        14\n",
       "Neighborhood_SWISU          14\n",
       "Neighborhood_Sawyer         14\n",
       "Neighborhood_SawyerW        14\n",
       "Neighborhood_Somerst        14\n",
       "Neighborhood_StoneBr        14\n",
       "Neighborhood_Timber         14\n",
       "Neighborhood_Veenker        14\n",
       "Condition1_Feedr            14\n",
       "Condition1_Norm             14\n",
       "Condition1_PosA             14\n",
       "Condition1_PosN             14\n",
       "Condition1_RRAe             14\n",
       "Condition1_RRAn             14\n",
       "Condition1_RRNe             14\n",
       "Condition1_RRNn             14\n",
       "Condition2_Feedr            14\n",
       "Condition2_Norm             14\n",
       "Condition2_PosA             14\n",
       "Condition2_PosN             14\n",
       "Condition2_RRAe             14\n",
       "Condition2_RRAn             14\n",
       "Condition2_RRNn             14\n",
       "BldgType_2fmCon             14\n",
       "BldgType_Duplex             14\n",
       "BldgType_Twnhs              14\n",
       "BldgType_TwnhsE             14\n",
       "HouseStyle_1.5Unf           14\n",
       "HouseStyle_1Story           14\n",
       "HouseStyle_2.5Fin           14\n",
       "HouseStyle_2.5Unf           14\n",
       "HouseStyle_2Story           14\n",
       "HouseStyle_SFoyer           14\n",
       "HouseStyle_SLvl             14\n",
       "RoofStyle_Gable             14\n",
       "RoofStyle_Gambrel           14\n",
       "RoofStyle_Hip               14\n",
       "RoofStyle_Mansard           14\n",
       "RoofStyle_Shed              14\n",
       "RoofMatl_CompShg            14\n",
       "RoofMatl_Membran            14\n",
       "RoofMatl_Metal              14\n",
       "RoofMatl_Roll               14\n",
       "RoofMatl_Tar&Grv            14\n",
       "RoofMatl_WdShake            14\n",
       "RoofMatl_WdShngl            14\n",
       "Exterior1st_AsphShn         14\n",
       "Exterior1st_BrkComm         14\n",
       "Exterior1st_BrkFace         14\n",
       "Exterior1st_CBlock          14\n",
       "Exterior1st_CemntBd         14\n",
       "Exterior1st_HdBoard         14\n",
       "Exterior1st_ImStucc         14\n",
       "Exterior1st_MetalSd         14\n",
       "Exterior1st_Plywood         14\n",
       "Exterior1st_Stone           14\n",
       "Exterior1st_Stucco          14\n",
       "Exterior1st_VinylSd         14\n",
       "Exterior1st_Wd Sdng         14\n",
       "Exterior1st_WdShing         14\n",
       "Exterior2nd_AsphShn         14\n",
       "Exterior2nd_Brk Cmn         14\n",
       "Exterior2nd_BrkFace         14\n",
       "Exterior2nd_CBlock          14\n",
       "Exterior2nd_CmentBd         14\n",
       "Exterior2nd_HdBoard         14\n",
       "Exterior2nd_ImStucc         14\n",
       "Exterior2nd_MetalSd         14\n",
       "Exterior2nd_Other           14\n",
       "Exterior2nd_Plywood         14\n",
       "Exterior2nd_Stone           14\n",
       "Exterior2nd_Stucco          14\n",
       "Exterior2nd_VinylSd         14\n",
       "Exterior2nd_Wd Sdng         14\n",
       "Exterior2nd_Wd Shng         14\n",
       "MasVnrType_BrkFace          14\n",
       "MasVnrType_None             14\n",
       "MasVnrType_Stone            14\n",
       "Foundation_CBlock           14\n",
       "Foundation_PConc            14\n",
       "Foundation_Slab             14\n",
       "Foundation_Stone            14\n",
       "Foundation_Wood             14\n",
       "BsmtExposure_Gd             14\n",
       "BsmtExposure_Mn             14\n",
       "BsmtExposure_NA             14\n",
       "BsmtExposure_No             14\n",
       "BsmtFinType1_BLQ            14\n",
       "BsmtFinType1_GLQ            14\n",
       "BsmtFinType1_LwQ            14\n",
       "BsmtFinType1_NA             14\n",
       "BsmtFinType1_Rec            14\n",
       "BsmtFinType1_Unf            14\n",
       "BsmtFinType2_BLQ            14\n",
       "BsmtFinType2_GLQ            14\n",
       "BsmtFinType2_LwQ            14\n",
       "BsmtFinType2_NA             14\n",
       "BsmtFinType2_Rec            14\n",
       "BsmtFinType2_Unf            14\n",
       "Heating_GasA                14\n",
       "Heating_GasW                14\n",
       "Heating_Grav                14\n",
       "Heating_OthW                14\n",
       "Heating_Wall                14\n",
       "CentralAir_Y                14\n",
       "Electrical_FuseF            14\n",
       "Electrical_FuseP            14\n",
       "Electrical_Mix              14\n",
       "Electrical_SBrkr            14\n",
       "Electrical_Unknown          14\n",
       "Functional_Maj2             14\n",
       "Functional_Min1             14\n",
       "Functional_Min2             14\n",
       "Functional_Mod              14\n",
       "Functional_Sev              14\n",
       "Functional_Typ              14\n",
       "GarageType_Attchd           14\n",
       "GarageType_Basment          14\n",
       "GarageType_BuiltIn          14\n",
       "GarageType_CarPort          14\n",
       "GarageType_Detchd           14\n",
       "GarageType_NA               14\n",
       "GarageFinish_NA             14\n",
       "GarageFinish_RFn            14\n",
       "GarageFinish_Unf            14\n",
       "GarageQual_Fa               14\n",
       "GarageQual_Gd               14\n",
       "GarageQual_NA               14\n",
       "GarageQual_Po               14\n",
       "GarageQual_TA               14\n",
       "GarageCond_Fa               14\n",
       "GarageCond_Gd               14\n",
       "GarageCond_NA               14\n",
       "GarageCond_Po               14\n",
       "GarageCond_TA               14\n",
       "PavedDrive_P                14\n",
       "PavedDrive_Y                14\n",
       "SaleType_CWD                14\n",
       "SaleType_Con                14\n",
       "SaleType_ConLD              14\n",
       "SaleType_ConLI              14\n",
       "SaleType_ConLw              14\n",
       "SaleType_New                14\n",
       "SaleType_Oth                14\n",
       "SaleType_WD                 14\n",
       "SaleCondition_AdjLand       14\n",
       "SaleCondition_Alloca        14\n",
       "SaleCondition_Family        14\n",
       "SaleCondition_Normal        14\n",
       "SaleCondition_Partial       14\n",
       "dtype: int64"
      ]
     },
     "execution_count": 561,
     "metadata": {},
     "output_type": "execute_result"
    }
   ],
   "source": [
    "model_df.isnull().sum()"
   ]
  },
  {
   "cell_type": "code",
   "execution_count": 564,
   "metadata": {},
   "outputs": [],
   "source": [
    "# because of the concat for some reason I'm getting 14 rows of NaN values in the merged data set model_df\n",
    "# to adjust removing those rows\n",
    "model_df=model_df[~np.isnan(model_df['MSSubClass'])]\n",
    "#model_df.isnull().sum()"
   ]
  },
  {
   "cell_type": "code",
   "execution_count": 570,
   "metadata": {},
   "outputs": [
    {
     "data": {
      "text/plain": [
       "(1460, 219)"
      ]
     },
     "execution_count": 570,
     "metadata": {},
     "output_type": "execute_result"
    }
   ],
   "source": [
    "model_df.shape"
   ]
  },
  {
   "cell_type": "code",
   "execution_count": 565,
   "metadata": {},
   "outputs": [],
   "source": [
    "# split X and y \n",
    "y = model_df.loc[:, 'SalePrice']\n",
    "X = model_df.loc[:, model_df.columns != 'SalePrice']\n"
   ]
  },
  {
   "cell_type": "code",
   "execution_count": 566,
   "metadata": {},
   "outputs": [
    {
     "data": {
      "text/plain": [
       "array([[ 0.07337496, -0.20714171,  0.65147924, ..., -0.11785113,\n",
       "         0.4676514 , -0.30599503],\n",
       "       [-0.87256276, -0.09188637, -0.07183611, ..., -0.11785113,\n",
       "         0.4676514 , -0.30599503],\n",
       "       [ 0.07337496,  0.07347998,  0.65147924, ..., -0.11785113,\n",
       "         0.4676514 , -0.30599503],\n",
       "       ...,\n",
       "       [ 0.30985939, -0.14781027,  0.65147924, ..., -0.11785113,\n",
       "         0.4676514 , -0.30599503],\n",
       "       [-0.87256276, -0.08016039, -0.79515147, ..., -0.11785113,\n",
       "         0.4676514 , -0.30599503],\n",
       "       [-0.87256276, -0.05811155, -0.79515147, ..., -0.11785113,\n",
       "         0.4676514 , -0.30599503]])"
      ]
     },
     "execution_count": 566,
     "metadata": {},
     "output_type": "execute_result"
    }
   ],
   "source": [
    "# Scale the features using StnadardScaler\n",
    "# scale\n",
    "scaler = StandardScaler()\n",
    "#scaler.fit(X)\n",
    "scaler.fit_transform(X)"
   ]
  },
  {
   "cell_type": "code",
   "execution_count": 567,
   "metadata": {},
   "outputs": [],
   "source": [
    "# split into train and test set \n",
    "X_train, X_test, y_train, y_test = train_test_split(X, y, \n",
    "                                                    train_size=0.7,\n",
    "                                                    test_size = 0.3, random_state=100)"
   ]
  },
  {
   "cell_type": "markdown",
   "metadata": {},
   "source": [
    "#### Model Building and Evaluation\n",
    "\n",
    "Building models usoing both Ridge and Lasso technique"
   ]
  },
  {
   "cell_type": "markdown",
   "metadata": {},
   "source": [
    "#### Ridge Regression"
   ]
  },
  {
   "cell_type": "code",
   "execution_count": 581,
   "metadata": {},
   "outputs": [],
   "source": [
    "def ridge_n_lasso(ml_algo):\n",
    "    # list of alphas to tune\n",
    "    params = {'alpha': [0.0001, 0.001, 0.01, 0.05, 0.1, \n",
    " 0.2, 0.3, 0.4, 0.5, 0.6, 0.7, 0.8, 0.9, 1.0, 2.0, 3.0, \n",
    " 4.0, 5.0, 6.0, 7.0, 8.0, 9.0, 10.0, 20, 25, 40, 50]}\n",
    "\n",
    "    # cross validation\n",
    "    #folds = 5\n",
    "    # creating a KFold object with 5 splits \n",
    "    folds = KFold(n_splits = 5, shuffle = True, random_state = 100)\n",
    "\n",
    "    model_ridge = GridSearchCV(estimator = ml_algo, \n",
    "                        param_grid = params, \n",
    "                        scoring= 'neg_mean_absolute_error', \n",
    "                        cv = folds, \n",
    "                        return_train_score=True,\n",
    "                        verbose = 1)    \n",
    "    return model_ridge\n"
   ]
  },
  {
   "cell_type": "code",
   "execution_count": 582,
   "metadata": {},
   "outputs": [
    {
     "name": "stdout",
     "output_type": "stream",
     "text": [
      "Fitting 5 folds for each of 27 candidates, totalling 135 fits\n"
     ]
    },
    {
     "name": "stderr",
     "output_type": "stream",
     "text": [
      "[Parallel(n_jobs=1)]: Using backend SequentialBackend with 1 concurrent workers.\n",
      "[Parallel(n_jobs=1)]: Done 135 out of 135 | elapsed:    2.5s finished\n"
     ]
    },
    {
     "data": {
      "text/plain": [
       "GridSearchCV(cv=KFold(n_splits=5, random_state=100, shuffle=True),\n",
       "             error_score='raise-deprecating',\n",
       "             estimator=Ridge(alpha=1.0, copy_X=True, fit_intercept=True,\n",
       "                             max_iter=None, normalize=False, random_state=None,\n",
       "                             solver='auto', tol=0.001),\n",
       "             iid='warn', n_jobs=None,\n",
       "             param_grid={'alpha': [0.0001, 0.001, 0.01, 0.05, 0.1, 0.2, 0.3,\n",
       "                                   0.4, 0.5, 0.6, 0.7, 0.8, 0.9, 1.0, 2.0, 3.0,\n",
       "                                   4.0, 5.0, 6.0, 7.0, 8.0, 9.0, 10.0, 20, 25,\n",
       "                                   40, 50]},\n",
       "             pre_dispatch='2*n_jobs', refit=True, return_train_score=True,\n",
       "             scoring='neg_mean_absolute_error', verbose=1)"
      ]
     },
     "execution_count": 582,
     "metadata": {},
     "output_type": "execute_result"
    }
   ],
   "source": [
    "ridge = Ridge()\n",
    "model_ridge=ridge_n_lasso(ridge)\n",
    "model_ridge.fit(X_train, y_train) "
   ]
  },
  {
   "cell_type": "code",
   "execution_count": 583,
   "metadata": {},
   "outputs": [
    {
     "data": {
      "text/html": [
       "<div>\n",
       "<style scoped>\n",
       "    .dataframe tbody tr th:only-of-type {\n",
       "        vertical-align: middle;\n",
       "    }\n",
       "\n",
       "    .dataframe tbody tr th {\n",
       "        vertical-align: top;\n",
       "    }\n",
       "\n",
       "    .dataframe thead th {\n",
       "        text-align: right;\n",
       "    }\n",
       "</style>\n",
       "<table border=\"1\" class=\"dataframe\">\n",
       "  <thead>\n",
       "    <tr style=\"text-align: right;\">\n",
       "      <th></th>\n",
       "      <th>mean_fit_time</th>\n",
       "      <th>std_fit_time</th>\n",
       "      <th>mean_score_time</th>\n",
       "      <th>std_score_time</th>\n",
       "      <th>param_alpha</th>\n",
       "      <th>params</th>\n",
       "      <th>split0_test_score</th>\n",
       "      <th>split1_test_score</th>\n",
       "      <th>split2_test_score</th>\n",
       "      <th>split3_test_score</th>\n",
       "      <th>split4_test_score</th>\n",
       "      <th>mean_test_score</th>\n",
       "      <th>std_test_score</th>\n",
       "      <th>rank_test_score</th>\n",
       "      <th>split0_train_score</th>\n",
       "      <th>split1_train_score</th>\n",
       "      <th>split2_train_score</th>\n",
       "      <th>split3_train_score</th>\n",
       "      <th>split4_train_score</th>\n",
       "      <th>mean_train_score</th>\n",
       "      <th>std_train_score</th>\n",
       "    </tr>\n",
       "  </thead>\n",
       "  <tbody>\n",
       "    <tr>\n",
       "      <td>0</td>\n",
       "      <td>0.030818</td>\n",
       "      <td>0.015069</td>\n",
       "      <td>0.006603</td>\n",
       "      <td>0.004493</td>\n",
       "      <td>0.0001</td>\n",
       "      <td>{'alpha': 0.0001}</td>\n",
       "      <td>-22456.054552</td>\n",
       "      <td>-19438.182936</td>\n",
       "      <td>-22684.819371</td>\n",
       "      <td>-25493.975765</td>\n",
       "      <td>-18928.322699</td>\n",
       "      <td>-21800.913360</td>\n",
       "      <td>2394.054732</td>\n",
       "      <td>27</td>\n",
       "      <td>-12970.052380</td>\n",
       "      <td>-13994.037223</td>\n",
       "      <td>-13598.333186</td>\n",
       "      <td>-12882.337861</td>\n",
       "      <td>-13575.821352</td>\n",
       "      <td>-13404.116401</td>\n",
       "      <td>418.538826</td>\n",
       "    </tr>\n",
       "    <tr>\n",
       "      <td>1</td>\n",
       "      <td>0.032220</td>\n",
       "      <td>0.019469</td>\n",
       "      <td>0.003731</td>\n",
       "      <td>0.000899</td>\n",
       "      <td>0.001</td>\n",
       "      <td>{'alpha': 0.001}</td>\n",
       "      <td>-22453.360296</td>\n",
       "      <td>-19383.151956</td>\n",
       "      <td>-22595.902224</td>\n",
       "      <td>-25408.684246</td>\n",
       "      <td>-18881.778236</td>\n",
       "      <td>-21745.269598</td>\n",
       "      <td>2383.248749</td>\n",
       "      <td>26</td>\n",
       "      <td>-12970.696157</td>\n",
       "      <td>-13992.134882</td>\n",
       "      <td>-13601.548730</td>\n",
       "      <td>-12886.439231</td>\n",
       "      <td>-13581.727092</td>\n",
       "      <td>-13406.509219</td>\n",
       "      <td>417.637390</td>\n",
       "    </tr>\n",
       "    <tr>\n",
       "      <td>2</td>\n",
       "      <td>0.012295</td>\n",
       "      <td>0.001765</td>\n",
       "      <td>0.003154</td>\n",
       "      <td>0.000602</td>\n",
       "      <td>0.01</td>\n",
       "      <td>{'alpha': 0.01}</td>\n",
       "      <td>-22427.176359</td>\n",
       "      <td>-19043.353602</td>\n",
       "      <td>-22042.795278</td>\n",
       "      <td>-24732.822142</td>\n",
       "      <td>-19222.354197</td>\n",
       "      <td>-21494.614592</td>\n",
       "      <td>2135.879671</td>\n",
       "      <td>20</td>\n",
       "      <td>-12979.724271</td>\n",
       "      <td>-14082.862272</td>\n",
       "      <td>-13702.225692</td>\n",
       "      <td>-12960.079593</td>\n",
       "      <td>-13739.210362</td>\n",
       "      <td>-13492.820438</td>\n",
       "      <td>447.166279</td>\n",
       "    </tr>\n",
       "    <tr>\n",
       "      <td>3</td>\n",
       "      <td>0.008849</td>\n",
       "      <td>0.000643</td>\n",
       "      <td>0.002434</td>\n",
       "      <td>0.000126</td>\n",
       "      <td>0.05</td>\n",
       "      <td>{'alpha': 0.05}</td>\n",
       "      <td>-22295.478273</td>\n",
       "      <td>-19325.555620</td>\n",
       "      <td>-21441.099002</td>\n",
       "      <td>-23493.625375</td>\n",
       "      <td>-21044.730001</td>\n",
       "      <td>-21520.857087</td>\n",
       "      <td>1381.148081</td>\n",
       "      <td>21</td>\n",
       "      <td>-13031.450354</td>\n",
       "      <td>-14880.977581</td>\n",
       "      <td>-14372.861857</td>\n",
       "      <td>-13464.386713</td>\n",
       "      <td>-14510.395404</td>\n",
       "      <td>-14052.014382</td>\n",
       "      <td>690.954913</td>\n",
       "    </tr>\n",
       "    <tr>\n",
       "      <td>4</td>\n",
       "      <td>0.009133</td>\n",
       "      <td>0.000930</td>\n",
       "      <td>0.002668</td>\n",
       "      <td>0.000248</td>\n",
       "      <td>0.1</td>\n",
       "      <td>{'alpha': 0.1}</td>\n",
       "      <td>-22114.346561</td>\n",
       "      <td>-19747.681255</td>\n",
       "      <td>-21390.716805</td>\n",
       "      <td>-22970.920499</td>\n",
       "      <td>-22094.405781</td>\n",
       "      <td>-21664.055642</td>\n",
       "      <td>1080.586313</td>\n",
       "      <td>24</td>\n",
       "      <td>-13098.831496</td>\n",
       "      <td>-15446.909535</td>\n",
       "      <td>-14918.592203</td>\n",
       "      <td>-13950.062069</td>\n",
       "      <td>-15052.692339</td>\n",
       "      <td>-14493.417528</td>\n",
       "      <td>853.558924</td>\n",
       "    </tr>\n",
       "  </tbody>\n",
       "</table>\n",
       "</div>"
      ],
      "text/plain": [
       "   mean_fit_time  std_fit_time  mean_score_time  std_score_time param_alpha  \\\n",
       "0       0.030818      0.015069         0.006603        0.004493      0.0001   \n",
       "1       0.032220      0.019469         0.003731        0.000899       0.001   \n",
       "2       0.012295      0.001765         0.003154        0.000602        0.01   \n",
       "3       0.008849      0.000643         0.002434        0.000126        0.05   \n",
       "4       0.009133      0.000930         0.002668        0.000248         0.1   \n",
       "\n",
       "              params  split0_test_score  split1_test_score  split2_test_score  \\\n",
       "0  {'alpha': 0.0001}      -22456.054552      -19438.182936      -22684.819371   \n",
       "1   {'alpha': 0.001}      -22453.360296      -19383.151956      -22595.902224   \n",
       "2    {'alpha': 0.01}      -22427.176359      -19043.353602      -22042.795278   \n",
       "3    {'alpha': 0.05}      -22295.478273      -19325.555620      -21441.099002   \n",
       "4     {'alpha': 0.1}      -22114.346561      -19747.681255      -21390.716805   \n",
       "\n",
       "   split3_test_score  split4_test_score  mean_test_score  std_test_score  \\\n",
       "0      -25493.975765      -18928.322699    -21800.913360     2394.054732   \n",
       "1      -25408.684246      -18881.778236    -21745.269598     2383.248749   \n",
       "2      -24732.822142      -19222.354197    -21494.614592     2135.879671   \n",
       "3      -23493.625375      -21044.730001    -21520.857087     1381.148081   \n",
       "4      -22970.920499      -22094.405781    -21664.055642     1080.586313   \n",
       "\n",
       "   rank_test_score  split0_train_score  split1_train_score  \\\n",
       "0               27       -12970.052380       -13994.037223   \n",
       "1               26       -12970.696157       -13992.134882   \n",
       "2               20       -12979.724271       -14082.862272   \n",
       "3               21       -13031.450354       -14880.977581   \n",
       "4               24       -13098.831496       -15446.909535   \n",
       "\n",
       "   split2_train_score  split3_train_score  split4_train_score  \\\n",
       "0       -13598.333186       -12882.337861       -13575.821352   \n",
       "1       -13601.548730       -12886.439231       -13581.727092   \n",
       "2       -13702.225692       -12960.079593       -13739.210362   \n",
       "3       -14372.861857       -13464.386713       -14510.395404   \n",
       "4       -14918.592203       -13950.062069       -15052.692339   \n",
       "\n",
       "   mean_train_score  std_train_score  \n",
       "0     -13404.116401       418.538826  \n",
       "1     -13406.509219       417.637390  \n",
       "2     -13492.820438       447.166279  \n",
       "3     -14052.014382       690.954913  \n",
       "4     -14493.417528       853.558924  "
      ]
     },
     "execution_count": 583,
     "metadata": {},
     "output_type": "execute_result"
    }
   ],
   "source": [
    "ridge_results = pd.DataFrame(model_ridge.cv_results_)\n",
    "ridge_results.head()"
   ]
  },
  {
   "cell_type": "code",
   "execution_count": 584,
   "metadata": {},
   "outputs": [
    {
     "data": {
      "image/png": "[encoded data removed]",
      "text/plain": [
       "<Figure size 432x288 with 1 Axes>"
      ]
     },
     "metadata": {
      "needs_background": "light"
     },
     "output_type": "display_data"
    }
   ],
   "source": [
    "# plotting cv results\n",
    "#ridge_results['param_alpha'] = ridge_results['param_alpha'].astype('float')\n",
    "ridge_results['param_alpha'] = ridge_results['param_alpha'].astype('int32')\n",
    "\n",
    "# plotting\n",
    "plt.plot(ridge_results['param_alpha'], ridge_results['mean_train_score'])\n",
    "plt.plot(ridge_results['param_alpha'], ridge_results['mean_test_score'])\n",
    "plt.xlabel('alpha')\n",
    "plt.ylabel('Negative Mean Absolute Error')\n",
    "plt.title(\"Negative Mean Absolute Error and alpha\")\n",
    "plt.legend(['train score', 'test score'], loc='upper right')\n",
    "plt.show()"
   ]
  },
  {
   "cell_type": "markdown",
   "metadata": {},
   "source": [
    "We see from the plot that the test negative mean absolute error first increases and then follows a static trend. But the training negative mean absolute error keeps on decreasing as we increase the value of the hyperparameter, which is in accordance with the bias-variance trade-off."
   ]
  },
  {
   "cell_type": "markdown",
   "metadata": {},
   "source": [
    "Somewhere between alpha=8-10 test performs peak, hence the final model we would generate with alpha=9 we construct the objective function and re-run the regression algorithm on entire training data. The we can have our final model with optimal features."
   ]
  },
  {
   "cell_type": "code",
   "execution_count": 608,
   "metadata": {},
   "outputs": [
    {
     "data": {
      "text/plain": [
       "Ridge(alpha=9, copy_X=True, fit_intercept=True, max_iter=None, normalize=False,\n",
       "      random_state=None, solver='auto', tol=0.001)"
      ]
     },
     "execution_count": 608,
     "metadata": {},
     "output_type": "execute_result"
    }
   ],
   "source": [
    "alpha = 9\n",
    "ridge = Ridge(alpha=alpha)\n",
    "\n",
    "ridge.fit(X_train, y_train)"
   ]
  },
  {
   "cell_type": "code",
   "execution_count": 609,
   "metadata": {},
   "outputs": [
    {
     "name": "stdout",
     "output_type": "stream",
     "text": [
      "ridge train pred r2_score: 0.8826345775619088\n",
      "ridge test pred r2_score: 0.866495729272287\n"
     ]
    }
   ],
   "source": [
    "# ridge predict \n",
    "y_train_pred = ridge.predict(X_train)\n",
    "print(\"ridge train pred r2_score: \" + str(metrics.r2_score(y_true=y_train, y_pred=y_train_pred)))\n",
    "y_test_pred = ridge.predict(X_test)\n",
    "print(\"ridge test pred r2_score: \" + str(metrics.r2_score(y_true=y_test, y_pred=y_test_pred)))"
   ]
  },
  {
   "cell_type": "code",
   "execution_count": 610,
   "metadata": {},
   "outputs": [
    {
     "data": {
      "text/html": [
       "<div>\n",
       "<style scoped>\n",
       "    .dataframe tbody tr th:only-of-type {\n",
       "        vertical-align: middle;\n",
       "    }\n",
       "\n",
       "    .dataframe tbody tr th {\n",
       "        vertical-align: top;\n",
       "    }\n",
       "\n",
       "    .dataframe thead th {\n",
       "        text-align: right;\n",
       "    }\n",
       "</style>\n",
       "<table border=\"1\" class=\"dataframe\">\n",
       "  <thead>\n",
       "    <tr style=\"text-align: right;\">\n",
       "      <th></th>\n",
       "      <th>feature</th>\n",
       "      <th>model_coefficients</th>\n",
       "    </tr>\n",
       "  </thead>\n",
       "  <tbody>\n",
       "    <tr>\n",
       "      <td>67</td>\n",
       "      <td>Neighborhood_NridgHt</td>\n",
       "      <td>27644.272840</td>\n",
       "    </tr>\n",
       "    <tr>\n",
       "      <td>66</td>\n",
       "      <td>Neighborhood_NoRidge</td>\n",
       "      <td>25984.035574</td>\n",
       "    </tr>\n",
       "    <tr>\n",
       "      <td>113</td>\n",
       "      <td>RoofMatl_WdShngl</td>\n",
       "      <td>25917.171437</td>\n",
       "    </tr>\n",
       "    <tr>\n",
       "      <td>151</td>\n",
       "      <td>BsmtExposure_Gd</td>\n",
       "      <td>17864.974188</td>\n",
       "    </tr>\n",
       "    <tr>\n",
       "      <td>57</td>\n",
       "      <td>Neighborhood_Crawfor</td>\n",
       "      <td>14469.646771</td>\n",
       "    </tr>\n",
       "  </tbody>\n",
       "</table>\n",
       "</div>"
      ],
      "text/plain": [
       "                  feature  model_coefficients\n",
       "67   Neighborhood_NridgHt        27644.272840\n",
       "66   Neighborhood_NoRidge        25984.035574\n",
       "113      RoofMatl_WdShngl        25917.171437\n",
       "151       BsmtExposure_Gd        17864.974188\n",
       "57   Neighborhood_Crawfor        14469.646771"
      ]
     },
     "execution_count": 610,
     "metadata": {},
     "output_type": "execute_result"
    }
   ],
   "source": [
    "ridge_df=get_top_important_predictor_var(ridge)\n",
    "ridge_df.head(5)"
   ]
  },
  {
   "cell_type": "code",
   "execution_count": 611,
   "metadata": {},
   "outputs": [
    {
     "data": {
      "text/plain": [
       "Ridge(alpha=18, copy_X=True, fit_intercept=True, max_iter=None, normalize=False,\n",
       "      random_state=None, solver='auto', tol=0.001)"
      ]
     },
     "execution_count": 611,
     "metadata": {},
     "output_type": "execute_result"
    }
   ],
   "source": [
    "# doubling the alpha for Ridge\n",
    "alpha=18\n",
    "ridge=Ridge(alpha=alpha)\n",
    "ridge.fit(X_train,y_train)"
   ]
  },
  {
   "cell_type": "code",
   "execution_count": 612,
   "metadata": {},
   "outputs": [
    {
     "name": "stdout",
     "output_type": "stream",
     "text": [
      "ridge train pred r2_score: 0.8754148422544542\n",
      "ridge test pred r2_score: 0.8658353012848261\n"
     ]
    }
   ],
   "source": [
    "# ridge predict \n",
    "y_train_pred = ridge.predict(X_train)\n",
    "print(\"ridge train pred r2_score: \" + str(metrics.r2_score(y_true=y_train, y_pred=y_train_pred)))\n",
    "y_test_pred = ridge.predict(X_test)\n",
    "print(\"ridge test pred r2_score: \" + str(metrics.r2_score(y_true=y_test, y_pred=y_test_pred)))"
   ]
  },
  {
   "cell_type": "code",
   "execution_count": 613,
   "metadata": {},
   "outputs": [
    {
     "data": {
      "text/html": [
       "<div>\n",
       "<style scoped>\n",
       "    .dataframe tbody tr th:only-of-type {\n",
       "        vertical-align: middle;\n",
       "    }\n",
       "\n",
       "    .dataframe tbody tr th {\n",
       "        vertical-align: top;\n",
       "    }\n",
       "\n",
       "    .dataframe thead th {\n",
       "        text-align: right;\n",
       "    }\n",
       "</style>\n",
       "<table border=\"1\" class=\"dataframe\">\n",
       "  <thead>\n",
       "    <tr style=\"text-align: right;\">\n",
       "      <th></th>\n",
       "      <th>feature</th>\n",
       "      <th>model_coefficients</th>\n",
       "    </tr>\n",
       "  </thead>\n",
       "  <tbody>\n",
       "    <tr>\n",
       "      <td>67</td>\n",
       "      <td>Neighborhood_NridgHt</td>\n",
       "      <td>21550.333043</td>\n",
       "    </tr>\n",
       "    <tr>\n",
       "      <td>66</td>\n",
       "      <td>Neighborhood_NoRidge</td>\n",
       "      <td>20649.595561</td>\n",
       "    </tr>\n",
       "    <tr>\n",
       "      <td>151</td>\n",
       "      <td>BsmtExposure_Gd</td>\n",
       "      <td>16201.153533</td>\n",
       "    </tr>\n",
       "    <tr>\n",
       "      <td>113</td>\n",
       "      <td>RoofMatl_WdShngl</td>\n",
       "      <td>14563.197434</td>\n",
       "    </tr>\n",
       "    <tr>\n",
       "      <td>57</td>\n",
       "      <td>Neighborhood_Crawfor</td>\n",
       "      <td>11693.277195</td>\n",
       "    </tr>\n",
       "  </tbody>\n",
       "</table>\n",
       "</div>"
      ],
      "text/plain": [
       "                  feature  model_coefficients\n",
       "67   Neighborhood_NridgHt        21550.333043\n",
       "66   Neighborhood_NoRidge        20649.595561\n",
       "151       BsmtExposure_Gd        16201.153533\n",
       "113      RoofMatl_WdShngl        14563.197434\n",
       "57   Neighborhood_Crawfor        11693.277195"
      ]
     },
     "execution_count": 613,
     "metadata": {},
     "output_type": "execute_result"
    }
   ],
   "source": [
    "ridge_df=get_top_important_predictor_var(ridge)\n",
    "ridge_df.head(5)"
   ]
  },
  {
   "cell_type": "code",
   "execution_count": 575,
   "metadata": {},
   "outputs": [
    {
     "data": {
      "text/plain": [
       "218"
      ]
     },
     "execution_count": 575,
     "metadata": {},
     "output_type": "execute_result"
    }
   ],
   "source": [
    "# ridge model parameters\n",
    "ridge_model_parameters=list(ridge.coef_)\n",
    "len(ridge_model_parameters)\n",
    "#ridge.intercept_"
   ]
  },
  {
   "cell_type": "markdown",
   "metadata": {},
   "source": [
    "#### Lasso Regression"
   ]
  },
  {
   "cell_type": "code",
   "execution_count": 614,
   "metadata": {},
   "outputs": [
    {
     "name": "stdout",
     "output_type": "stream",
     "text": [
      "Fitting 5 folds for each of 27 candidates, totalling 135 fits\n"
     ]
    },
    {
     "name": "stderr",
     "output_type": "stream",
     "text": [
      "[Parallel(n_jobs=1)]: Using backend SequentialBackend with 1 concurrent workers.\n",
      "[Parallel(n_jobs=1)]: Done 135 out of 135 | elapsed:   19.2s finished\n"
     ]
    },
    {
     "data": {
      "text/plain": [
       "GridSearchCV(cv=KFold(n_splits=5, random_state=100, shuffle=True),\n",
       "             error_score='raise-deprecating',\n",
       "             estimator=Lasso(alpha=1.0, copy_X=True, fit_intercept=True,\n",
       "                             max_iter=1000, normalize=False, positive=False,\n",
       "                             precompute=False, random_state=None,\n",
       "                             selection='cyclic', tol=0.0001, warm_start=False),\n",
       "             iid='warn', n_jobs=None,\n",
       "             param_grid={'alpha': [0.0001, 0.001, 0.01, 0.05, 0.1, 0.2, 0.3,\n",
       "                                   0.4, 0.5, 0.6, 0.7, 0.8, 0.9, 1.0, 2.0, 3.0,\n",
       "                                   4.0, 5.0, 6.0, 7.0, 8.0, 9.0, 10.0, 20, 25,\n",
       "                                   40, 50]},\n",
       "             pre_dispatch='2*n_jobs', refit=True, return_train_score=True,\n",
       "             scoring='neg_mean_absolute_error', verbose=1)"
      ]
     },
     "execution_count": 614,
     "metadata": {},
     "output_type": "execute_result"
    }
   ],
   "source": [
    "lasso=Lasso()\n",
    "model_lasso=ridge_n_lasso(lasso)\n",
    "model_lasso.fit(X_train, y_train) "
   ]
  },
  {
   "cell_type": "code",
   "execution_count": 615,
   "metadata": {},
   "outputs": [
    {
     "data": {
      "text/html": [
       "<div>\n",
       "<style scoped>\n",
       "    .dataframe tbody tr th:only-of-type {\n",
       "        vertical-align: middle;\n",
       "    }\n",
       "\n",
       "    .dataframe tbody tr th {\n",
       "        vertical-align: top;\n",
       "    }\n",
       "\n",
       "    .dataframe thead th {\n",
       "        text-align: right;\n",
       "    }\n",
       "</style>\n",
       "<table border=\"1\" class=\"dataframe\">\n",
       "  <thead>\n",
       "    <tr style=\"text-align: right;\">\n",
       "      <th></th>\n",
       "      <th>mean_fit_time</th>\n",
       "      <th>std_fit_time</th>\n",
       "      <th>mean_score_time</th>\n",
       "      <th>std_score_time</th>\n",
       "      <th>param_alpha</th>\n",
       "      <th>params</th>\n",
       "      <th>split0_test_score</th>\n",
       "      <th>split1_test_score</th>\n",
       "      <th>split2_test_score</th>\n",
       "      <th>split3_test_score</th>\n",
       "      <th>split4_test_score</th>\n",
       "      <th>mean_test_score</th>\n",
       "      <th>std_test_score</th>\n",
       "      <th>rank_test_score</th>\n",
       "      <th>split0_train_score</th>\n",
       "      <th>split1_train_score</th>\n",
       "      <th>split2_train_score</th>\n",
       "      <th>split3_train_score</th>\n",
       "      <th>split4_train_score</th>\n",
       "      <th>mean_train_score</th>\n",
       "      <th>std_train_score</th>\n",
       "    </tr>\n",
       "  </thead>\n",
       "  <tbody>\n",
       "    <tr>\n",
       "      <td>0</td>\n",
       "      <td>0.195279</td>\n",
       "      <td>0.136348</td>\n",
       "      <td>0.002692</td>\n",
       "      <td>0.000252</td>\n",
       "      <td>0.0001</td>\n",
       "      <td>{'alpha': 0.0001}</td>\n",
       "      <td>-22368.567357</td>\n",
       "      <td>-19525.384618</td>\n",
       "      <td>-22793.386088</td>\n",
       "      <td>-25461.893646</td>\n",
       "      <td>-19216.546187</td>\n",
       "      <td>-21873.640801</td>\n",
       "      <td>2302.872364</td>\n",
       "      <td>27</td>\n",
       "      <td>-12974.280179</td>\n",
       "      <td>-13995.783141</td>\n",
       "      <td>-13598.784501</td>\n",
       "      <td>-12882.114600</td>\n",
       "      <td>-13574.942427</td>\n",
       "      <td>-13405.180969</td>\n",
       "      <td>418.183243</td>\n",
       "    </tr>\n",
       "    <tr>\n",
       "      <td>1</td>\n",
       "      <td>0.155852</td>\n",
       "      <td>0.041877</td>\n",
       "      <td>0.005612</td>\n",
       "      <td>0.005758</td>\n",
       "      <td>0.001</td>\n",
       "      <td>{'alpha': 0.001}</td>\n",
       "      <td>-22368.640773</td>\n",
       "      <td>-19524.978537</td>\n",
       "      <td>-22792.508294</td>\n",
       "      <td>-25455.048688</td>\n",
       "      <td>-19220.176162</td>\n",
       "      <td>-21872.756652</td>\n",
       "      <td>2299.920934</td>\n",
       "      <td>26</td>\n",
       "      <td>-12974.298723</td>\n",
       "      <td>-13995.780852</td>\n",
       "      <td>-13598.795261</td>\n",
       "      <td>-12882.111067</td>\n",
       "      <td>-13574.934993</td>\n",
       "      <td>-13405.184179</td>\n",
       "      <td>418.180051</td>\n",
       "    </tr>\n",
       "    <tr>\n",
       "      <td>2</td>\n",
       "      <td>0.130968</td>\n",
       "      <td>0.004422</td>\n",
       "      <td>0.002580</td>\n",
       "      <td>0.000090</td>\n",
       "      <td>0.01</td>\n",
       "      <td>{'alpha': 0.01}</td>\n",
       "      <td>-22369.400146</td>\n",
       "      <td>-19521.072400</td>\n",
       "      <td>-22783.744932</td>\n",
       "      <td>-25465.945156</td>\n",
       "      <td>-19208.001104</td>\n",
       "      <td>-21870.122236</td>\n",
       "      <td>2306.252406</td>\n",
       "      <td>25</td>\n",
       "      <td>-12974.542494</td>\n",
       "      <td>-13995.806609</td>\n",
       "      <td>-13598.987010</td>\n",
       "      <td>-12882.230363</td>\n",
       "      <td>-13574.923104</td>\n",
       "      <td>-13405.297916</td>\n",
       "      <td>418.124045</td>\n",
       "    </tr>\n",
       "    <tr>\n",
       "      <td>3</td>\n",
       "      <td>0.310048</td>\n",
       "      <td>0.140838</td>\n",
       "      <td>0.003560</td>\n",
       "      <td>0.001231</td>\n",
       "      <td>0.05</td>\n",
       "      <td>{'alpha': 0.05}</td>\n",
       "      <td>-22375.592085</td>\n",
       "      <td>-19502.860792</td>\n",
       "      <td>-22745.068487</td>\n",
       "      <td>-25457.009733</td>\n",
       "      <td>-19085.653621</td>\n",
       "      <td>-21833.768144</td>\n",
       "      <td>2332.892811</td>\n",
       "      <td>24</td>\n",
       "      <td>-12975.814958</td>\n",
       "      <td>-13996.133085</td>\n",
       "      <td>-13600.015773</td>\n",
       "      <td>-12882.798086</td>\n",
       "      <td>-13574.865786</td>\n",
       "      <td>-13405.925538</td>\n",
       "      <td>417.902912</td>\n",
       "    </tr>\n",
       "    <tr>\n",
       "      <td>4</td>\n",
       "      <td>0.303399</td>\n",
       "      <td>0.140561</td>\n",
       "      <td>0.002726</td>\n",
       "      <td>0.000201</td>\n",
       "      <td>0.1</td>\n",
       "      <td>{'alpha': 0.1}</td>\n",
       "      <td>-22370.863167</td>\n",
       "      <td>-19494.363613</td>\n",
       "      <td>-22696.744522</td>\n",
       "      <td>-25445.668887</td>\n",
       "      <td>-18969.597066</td>\n",
       "      <td>-21796.011031</td>\n",
       "      <td>2354.672633</td>\n",
       "      <td>23</td>\n",
       "      <td>-12977.738835</td>\n",
       "      <td>-13996.756195</td>\n",
       "      <td>-13601.322008</td>\n",
       "      <td>-12883.633277</td>\n",
       "      <td>-13574.792197</td>\n",
       "      <td>-13406.848502</td>\n",
       "      <td>417.589606</td>\n",
       "    </tr>\n",
       "  </tbody>\n",
       "</table>\n",
       "</div>"
      ],
      "text/plain": [
       "   mean_fit_time  std_fit_time  mean_score_time  std_score_time param_alpha  \\\n",
       "0       0.195279      0.136348         0.002692        0.000252      0.0001   \n",
       "1       0.155852      0.041877         0.005612        0.005758       0.001   \n",
       "2       0.130968      0.004422         0.002580        0.000090        0.01   \n",
       "3       0.310048      0.140838         0.003560        0.001231        0.05   \n",
       "4       0.303399      0.140561         0.002726        0.000201         0.1   \n",
       "\n",
       "              params  split0_test_score  split1_test_score  split2_test_score  \\\n",
       "0  {'alpha': 0.0001}      -22368.567357      -19525.384618      -22793.386088   \n",
       "1   {'alpha': 0.001}      -22368.640773      -19524.978537      -22792.508294   \n",
       "2    {'alpha': 0.01}      -22369.400146      -19521.072400      -22783.744932   \n",
       "3    {'alpha': 0.05}      -22375.592085      -19502.860792      -22745.068487   \n",
       "4     {'alpha': 0.1}      -22370.863167      -19494.363613      -22696.744522   \n",
       "\n",
       "   split3_test_score  split4_test_score  mean_test_score  std_test_score  \\\n",
       "0      -25461.893646      -19216.546187    -21873.640801     2302.872364   \n",
       "1      -25455.048688      -19220.176162    -21872.756652     2299.920934   \n",
       "2      -25465.945156      -19208.001104    -21870.122236     2306.252406   \n",
       "3      -25457.009733      -19085.653621    -21833.768144     2332.892811   \n",
       "4      -25445.668887      -18969.597066    -21796.011031     2354.672633   \n",
       "\n",
       "   rank_test_score  split0_train_score  split1_train_score  \\\n",
       "0               27       -12974.280179       -13995.783141   \n",
       "1               26       -12974.298723       -13995.780852   \n",
       "2               25       -12974.542494       -13995.806609   \n",
       "3               24       -12975.814958       -13996.133085   \n",
       "4               23       -12977.738835       -13996.756195   \n",
       "\n",
       "   split2_train_score  split3_train_score  split4_train_score  \\\n",
       "0       -13598.784501       -12882.114600       -13574.942427   \n",
       "1       -13598.795261       -12882.111067       -13574.934993   \n",
       "2       -13598.987010       -12882.230363       -13574.923104   \n",
       "3       -13600.015773       -12882.798086       -13574.865786   \n",
       "4       -13601.322008       -12883.633277       -13574.792197   \n",
       "\n",
       "   mean_train_score  std_train_score  \n",
       "0     -13405.180969       418.183243  \n",
       "1     -13405.184179       418.180051  \n",
       "2     -13405.297916       418.124045  \n",
       "3     -13405.925538       417.902912  \n",
       "4     -13406.848502       417.589606  "
      ]
     },
     "execution_count": 615,
     "metadata": {},
     "output_type": "execute_result"
    }
   ],
   "source": [
    "lasso_results=pd.DataFrame(model_lasso.cv_results_)\n",
    "lasso_results.head()"
   ]
  },
  {
   "cell_type": "code",
   "execution_count": 589,
   "metadata": {},
   "outputs": [
    {
     "data": {
      "image/png": "[encoded data removed]",
      "text/plain": [
       "<Figure size 432x288 with 1 Axes>"
      ]
     },
     "metadata": {
      "needs_background": "light"
     },
     "output_type": "display_data"
    }
   ],
   "source": [
    "lasso_results['param_alpha'] = lasso_results['param_alpha'].astype('int32')\n",
    "\n",
    "# plotting\n",
    "plt.plot(lasso_results['param_alpha'], lasso_results['mean_train_score'])\n",
    "plt.plot(lasso_results['param_alpha'], lasso_results['mean_test_score'])\n",
    "plt.xlabel('alpha')\n",
    "plt.ylabel('Negative Mean Absolute Error')\n",
    "plt.title(\"Negative Mean Absolute Error and alpha\")\n",
    "plt.legend(['train score', 'test score'], loc='upper right')\n",
    "plt.show()"
   ]
  },
  {
   "cell_type": "code",
   "execution_count": 616,
   "metadata": {},
   "outputs": [
    {
     "data": {
      "text/plain": [
       "Lasso(alpha=9, copy_X=True, fit_intercept=True, max_iter=1000, normalize=False,\n",
       "      positive=False, precompute=False, random_state=None, selection='cyclic',\n",
       "      tol=0.0001, warm_start=False)"
      ]
     },
     "execution_count": 616,
     "metadata": {},
     "output_type": "execute_result"
    }
   ],
   "source": [
    "# select the optimal alpha as 9 \n",
    "alpha = 9\n",
    "lasso = Lasso(alpha=alpha)\n",
    "lasso.fit(X_train, y_train)"
   ]
  },
  {
   "cell_type": "code",
   "execution_count": 617,
   "metadata": {},
   "outputs": [
    {
     "name": "stdout",
     "output_type": "stream",
     "text": [
      "lasso train pred r2_score: 0.9343831436100587\n",
      "lasso test pred r2_score: 0.8312355842656285\n"
     ]
    }
   ],
   "source": [
    "# lasso predict\n",
    "y_train_pred = lasso.predict(X_train)\n",
    "print(\"lasso train pred r2_score: \" + str(metrics.r2_score(y_true=y_train, y_pred=y_train_pred)))\n",
    "y_test_pred = lasso.predict(X_test)\n",
    "print(\"lasso test pred r2_score: \" + str(metrics.r2_score(y_true=y_test, y_pred=y_test_pred)))"
   ]
  },
  {
   "cell_type": "markdown",
   "metadata": {},
   "source": [
    "There is a significant difference between taining and test data set r2_score in `Lasso` regression. With `lambda=9`(alpha=9) `Ridge` model suggests r2_score is 86% which is much closer match the training data set r2_score. But `Lasso` model suggests r2_score is only 83% where as training data set r2_score is 93%. This shows `Lasso` model is `underfit` with `alpha=9`"
   ]
  },
  {
   "cell_type": "code",
   "execution_count": 618,
   "metadata": {},
   "outputs": [
    {
     "data": {
      "text/html": [
       "<div>\n",
       "<style scoped>\n",
       "    .dataframe tbody tr th:only-of-type {\n",
       "        vertical-align: middle;\n",
       "    }\n",
       "\n",
       "    .dataframe tbody tr th {\n",
       "        vertical-align: top;\n",
       "    }\n",
       "\n",
       "    .dataframe thead th {\n",
       "        text-align: right;\n",
       "    }\n",
       "</style>\n",
       "<table border=\"1\" class=\"dataframe\">\n",
       "  <thead>\n",
       "    <tr style=\"text-align: right;\">\n",
       "      <th></th>\n",
       "      <th>feature</th>\n",
       "      <th>model_coefficients</th>\n",
       "    </tr>\n",
       "  </thead>\n",
       "  <tbody>\n",
       "    <tr>\n",
       "      <td>113</td>\n",
       "      <td>RoofMatl_WdShngl</td>\n",
       "      <td>613913.194110</td>\n",
       "    </tr>\n",
       "    <tr>\n",
       "      <td>108</td>\n",
       "      <td>RoofMatl_Membran</td>\n",
       "      <td>566075.792513</td>\n",
       "    </tr>\n",
       "    <tr>\n",
       "      <td>107</td>\n",
       "      <td>RoofMatl_CompShg</td>\n",
       "      <td>543666.861094</td>\n",
       "    </tr>\n",
       "    <tr>\n",
       "      <td>109</td>\n",
       "      <td>RoofMatl_Metal</td>\n",
       "      <td>539081.567614</td>\n",
       "    </tr>\n",
       "    <tr>\n",
       "      <td>111</td>\n",
       "      <td>RoofMatl_Tar&amp;Grv</td>\n",
       "      <td>532691.993097</td>\n",
       "    </tr>\n",
       "  </tbody>\n",
       "</table>\n",
       "</div>"
      ],
      "text/plain": [
       "              feature  model_coefficients\n",
       "113  RoofMatl_WdShngl       613913.194110\n",
       "108  RoofMatl_Membran       566075.792513\n",
       "107  RoofMatl_CompShg       543666.861094\n",
       "109    RoofMatl_Metal       539081.567614\n",
       "111  RoofMatl_Tar&Grv       532691.993097"
      ]
     },
     "execution_count": 618,
     "metadata": {},
     "output_type": "execute_result"
    }
   ],
   "source": [
    "# top 5 predictor vaiable for lasso when alpha=9\n",
    "lasso_df=get_top_important_predictor_var(lasso)\n",
    "lasso_df.head(5)"
   ]
  },
  {
   "cell_type": "code",
   "execution_count": 619,
   "metadata": {},
   "outputs": [
    {
     "name": "stdout",
     "output_type": "stream",
     "text": [
      "lasso train pred r2_score: 0.9279924910225573\n",
      "lasso test pred r2_score: 0.8393765560695181\n"
     ]
    }
   ],
   "source": [
    "# adjusting the alpha to make it double \n",
    "alpha = 18\n",
    "lasso = Lasso(alpha=alpha)\n",
    "lasso.fit(X_train, y_train)\n",
    "\n",
    "y_train_pred = lasso.predict(X_train)\n",
    "print(\"lasso train pred r2_score: \" + str(metrics.r2_score(y_true=y_train, y_pred=y_train_pred)))\n",
    "y_test_pred = lasso.predict(X_test)\n",
    "print(\"lasso test pred r2_score: \" + str(metrics.r2_score(y_true=y_test, y_pred=y_test_pred)))"
   ]
  },
  {
   "cell_type": "code",
   "execution_count": 620,
   "metadata": {},
   "outputs": [
    {
     "data": {
      "text/html": [
       "<div>\n",
       "<style scoped>\n",
       "    .dataframe tbody tr th:only-of-type {\n",
       "        vertical-align: middle;\n",
       "    }\n",
       "\n",
       "    .dataframe tbody tr th {\n",
       "        vertical-align: top;\n",
       "    }\n",
       "\n",
       "    .dataframe thead th {\n",
       "        text-align: right;\n",
       "    }\n",
       "</style>\n",
       "<table border=\"1\" class=\"dataframe\">\n",
       "  <thead>\n",
       "    <tr style=\"text-align: right;\">\n",
       "      <th></th>\n",
       "      <th>feature</th>\n",
       "      <th>model_coefficients</th>\n",
       "    </tr>\n",
       "  </thead>\n",
       "  <tbody>\n",
       "    <tr>\n",
       "      <td>113</td>\n",
       "      <td>RoofMatl_WdShngl</td>\n",
       "      <td>464322.606528</td>\n",
       "    </tr>\n",
       "    <tr>\n",
       "      <td>107</td>\n",
       "      <td>RoofMatl_CompShg</td>\n",
       "      <td>395235.659841</td>\n",
       "    </tr>\n",
       "    <tr>\n",
       "      <td>108</td>\n",
       "      <td>RoofMatl_Membran</td>\n",
       "      <td>376521.872650</td>\n",
       "    </tr>\n",
       "    <tr>\n",
       "      <td>111</td>\n",
       "      <td>RoofMatl_Tar&amp;Grv</td>\n",
       "      <td>370027.574375</td>\n",
       "    </tr>\n",
       "    <tr>\n",
       "      <td>110</td>\n",
       "      <td>RoofMatl_Roll</td>\n",
       "      <td>368979.404766</td>\n",
       "    </tr>\n",
       "  </tbody>\n",
       "</table>\n",
       "</div>"
      ],
      "text/plain": [
       "              feature  model_coefficients\n",
       "113  RoofMatl_WdShngl       464322.606528\n",
       "107  RoofMatl_CompShg       395235.659841\n",
       "108  RoofMatl_Membran       376521.872650\n",
       "111  RoofMatl_Tar&Grv       370027.574375\n",
       "110     RoofMatl_Roll       368979.404766"
      ]
     },
     "execution_count": 620,
     "metadata": {},
     "output_type": "execute_result"
    }
   ],
   "source": [
    "# top 5 predictor vaiable for lasso when alpha=18\n",
    "lasso_df=get_top_important_predictor_var(lasso)\n",
    "lasso_df.head(5)"
   ]
  },
  {
   "cell_type": "code",
   "execution_count": 603,
   "metadata": {},
   "outputs": [
    {
     "name": "stdout",
     "output_type": "stream",
     "text": [
      "lasso train pred r2_score: 0.9079437886596565\n",
      "lasso test pred r2_score: 0.8454155310419142\n"
     ]
    }
   ],
   "source": [
    "# adjusting the alpha to make it 18*2=36\n",
    "alpha = 36\n",
    "lasso = Lasso(alpha=alpha)\n",
    "lasso.fit(X_train, y_train)\n",
    "\n",
    "y_train_pred = lasso.predict(X_train)\n",
    "print(\"lasso train pred r2_score: \" + str(metrics.r2_score(y_true=y_train, y_pred=y_train_pred)))\n",
    "y_test_pred = lasso.predict(X_test)\n",
    "print(\"lasso test pred r2_score: \" + str(metrics.r2_score(y_true=y_test, y_pred=y_test_pred)))"
   ]
  },
  {
   "cell_type": "code",
   "execution_count": 604,
   "metadata": {},
   "outputs": [
    {
     "data": {
      "text/html": [
       "<div>\n",
       "<style scoped>\n",
       "    .dataframe tbody tr th:only-of-type {\n",
       "        vertical-align: middle;\n",
       "    }\n",
       "\n",
       "    .dataframe tbody tr th {\n",
       "        vertical-align: top;\n",
       "    }\n",
       "\n",
       "    .dataframe thead th {\n",
       "        text-align: right;\n",
       "    }\n",
       "</style>\n",
       "<table border=\"1\" class=\"dataframe\">\n",
       "  <thead>\n",
       "    <tr style=\"text-align: right;\">\n",
       "      <th></th>\n",
       "      <th>feature</th>\n",
       "      <th>model_coefficients</th>\n",
       "    </tr>\n",
       "  </thead>\n",
       "  <tbody>\n",
       "    <tr>\n",
       "      <td>113</td>\n",
       "      <td>RoofMatl_WdShngl</td>\n",
       "      <td>186433.733644</td>\n",
       "    </tr>\n",
       "    <tr>\n",
       "      <td>107</td>\n",
       "      <td>RoofMatl_CompShg</td>\n",
       "      <td>117564.346121</td>\n",
       "    </tr>\n",
       "    <tr>\n",
       "      <td>112</td>\n",
       "      <td>RoofMatl_WdShake</td>\n",
       "      <td>81407.903798</td>\n",
       "    </tr>\n",
       "    <tr>\n",
       "      <td>111</td>\n",
       "      <td>RoofMatl_Tar&amp;Grv</td>\n",
       "      <td>75942.509302</td>\n",
       "    </tr>\n",
       "    <tr>\n",
       "      <td>110</td>\n",
       "      <td>RoofMatl_Roll</td>\n",
       "      <td>68375.171794</td>\n",
       "    </tr>\n",
       "  </tbody>\n",
       "</table>\n",
       "</div>"
      ],
      "text/plain": [
       "              feature  model_coefficients\n",
       "113  RoofMatl_WdShngl       186433.733644\n",
       "107  RoofMatl_CompShg       117564.346121\n",
       "112  RoofMatl_WdShake        81407.903798\n",
       "111  RoofMatl_Tar&Grv        75942.509302\n",
       "110     RoofMatl_Roll        68375.171794"
      ]
     },
     "execution_count": 604,
     "metadata": {},
     "output_type": "execute_result"
    }
   ],
   "source": [
    "# top 5 predictor vaiable for lasso when alpha=18*2=36\n",
    "lasso_df=get_top_important_predictor_var(lasso)\n",
    "lasso_df.head(5)"
   ]
  },
  {
   "cell_type": "code",
   "execution_count": 621,
   "metadata": {},
   "outputs": [
    {
     "name": "stdout",
     "output_type": "stream",
     "text": [
      "lasso train pred r2_score: 0.8959380007832307\n",
      "lasso test pred r2_score: 0.8563338291209158\n"
     ]
    }
   ],
   "source": [
    "# adjusting the alpha 36*2=72\n",
    "alpha = 72\n",
    "lasso = Lasso(alpha=alpha)\n",
    "\n",
    "lasso.fit(X_train, y_train)\n",
    "\n",
    "y_train_pred = lasso.predict(X_train)\n",
    "print(\"lasso train pred r2_score: \" + str(metrics.r2_score(y_true=y_train, y_pred=y_train_pred)))\n",
    "y_test_pred = lasso.predict(X_test)\n",
    "print(\"lasso test pred r2_score: \" + str(metrics.r2_score(y_true=y_test, y_pred=y_test_pred)))"
   ]
  },
  {
   "cell_type": "markdown",
   "metadata": {},
   "source": [
    "With alpha=72 model test r2_score 85% close matches (< than 5 degree diff) the training r2_score which is close to 90%. But the training r2_score fall below 90% beyond alpha > 40"
   ]
  },
  {
   "cell_type": "code",
   "execution_count": 622,
   "metadata": {},
   "outputs": [
    {
     "data": {
      "text/html": [
       "<div>\n",
       "<style scoped>\n",
       "    .dataframe tbody tr th:only-of-type {\n",
       "        vertical-align: middle;\n",
       "    }\n",
       "\n",
       "    .dataframe tbody tr th {\n",
       "        vertical-align: top;\n",
       "    }\n",
       "\n",
       "    .dataframe thead th {\n",
       "        text-align: right;\n",
       "    }\n",
       "</style>\n",
       "<table border=\"1\" class=\"dataframe\">\n",
       "  <thead>\n",
       "    <tr style=\"text-align: right;\">\n",
       "      <th></th>\n",
       "      <th>feature</th>\n",
       "      <th>model_coefficients</th>\n",
       "    </tr>\n",
       "  </thead>\n",
       "  <tbody>\n",
       "    <tr>\n",
       "      <td>113</td>\n",
       "      <td>RoofMatl_WdShngl</td>\n",
       "      <td>90101.229661</td>\n",
       "    </tr>\n",
       "    <tr>\n",
       "      <td>67</td>\n",
       "      <td>Neighborhood_NridgHt</td>\n",
       "      <td>38380.891299</td>\n",
       "    </tr>\n",
       "    <tr>\n",
       "      <td>66</td>\n",
       "      <td>Neighborhood_NoRidge</td>\n",
       "      <td>37301.698127</td>\n",
       "    </tr>\n",
       "    <tr>\n",
       "      <td>107</td>\n",
       "      <td>RoofMatl_CompShg</td>\n",
       "      <td>30448.521618</td>\n",
       "    </tr>\n",
       "    <tr>\n",
       "      <td>73</td>\n",
       "      <td>Neighborhood_StoneBr</td>\n",
       "      <td>23902.282064</td>\n",
       "    </tr>\n",
       "  </tbody>\n",
       "</table>\n",
       "</div>"
      ],
      "text/plain": [
       "                  feature  model_coefficients\n",
       "113      RoofMatl_WdShngl        90101.229661\n",
       "67   Neighborhood_NridgHt        38380.891299\n",
       "66   Neighborhood_NoRidge        37301.698127\n",
       "107      RoofMatl_CompShg        30448.521618\n",
       "73   Neighborhood_StoneBr        23902.282064"
      ]
     },
     "execution_count": 622,
     "metadata": {},
     "output_type": "execute_result"
    }
   ],
   "source": [
    "# top 5 predictor vaiable for lasso when alpha=36*2=72\n",
    "lasso_df=get_top_important_predictor_var(lasso)\n",
    "lasso_df.head(5)"
   ]
  },
  {
   "cell_type": "code",
   "execution_count": 260,
   "metadata": {},
   "outputs": [
    {
     "data": {
      "text/plain": [
       "[('constant', -93901.212),\n",
       " ('MSSubClass', -200.91),\n",
       " ('LotArea', 0.335),\n",
       " ('OverallQual', 12148.541),\n",
       " ('OverallCond', 4500.622),\n",
       " ('YearBuilt', 194.274),\n",
       " ('YearRemodAdd', 104.091),\n",
       " ('MasVnrArea', 21.75),\n",
       " ('BsmtFinSF1', -1.435),\n",
       " ('BsmtUnfSF', -10.757),\n",
       " ('TotalBsmtSF', 12.546),\n",
       " ('1stFlrSF', -6.92),\n",
       " ('2ndFlrSF', 25.388),\n",
       " ('GrLivArea', 60.894),\n",
       " ('BsmtFullBath', -3221.848),\n",
       " ('FullBath', 1736.238),\n",
       " ('HalfBath', -18005.305),\n",
       " ('BedroomAbvGr', -3723.222),\n",
       " ('KitchenAbvGr', -11719.015),\n",
       " ('TotRmsAbvGrd', 1554.766),\n",
       " ('Fireplaces', 3910.191),\n",
       " ('GarageCars', 13635.243),\n",
       " ('GarageArea', -10.996),\n",
       " ('WoodDeckSF', 15.64),\n",
       " ('OpenPorchSF', 22.918),\n",
       " ('EnclosedPorch', 6.323),\n",
       " ('MoSold', -273.451),\n",
       " ('YrSold', -313.249),\n",
       " ('MSZoning_FV', 0.0),\n",
       " ('MSZoning_RH', 2103.465),\n",
       " ('MSZoning_RL', 6961.223),\n",
       " ('MSZoning_RM', 1012.098),\n",
       " ('Street_Pave', 9713.479),\n",
       " ('LotShape_IR2', 0.0),\n",
       " ('LotShape_IR3', -29884.569),\n",
       " ('LotShape_Reg', 2369.94),\n",
       " ('LandContour_HLS', 13142.982),\n",
       " ('LandContour_Low', 5847.344),\n",
       " ('LandContour_Lvl', 9520.145),\n",
       " ('Utilities_NoSeWa', -0.0),\n",
       " ('LotConfig_CulDSac', 14187.242),\n",
       " ('LotConfig_FR2', -7093.561),\n",
       " ('LotConfig_FR3', -0.0),\n",
       " ('LotConfig_Inside', 276.884),\n",
       " ('LandSlope_Mod', 570.881),\n",
       " ('LandSlope_Sev', 10443.869),\n",
       " ('Neighborhood_Blueste', 0.0),\n",
       " ('Neighborhood_BrDale', 7654.184),\n",
       " ('Neighborhood_BrkSide', 4656.396),\n",
       " ('Neighborhood_ClearCr', 2753.336),\n",
       " ('Neighborhood_CollgCr', -992.442),\n",
       " ('Neighborhood_Crawfor', 23356.547),\n",
       " ('Neighborhood_Edwards', -9939.022),\n",
       " ('Neighborhood_Gilbert', -2051.484),\n",
       " ('Neighborhood_IDOTRR', -1533.103),\n",
       " ('Neighborhood_MeadowV', 0.0),\n",
       " ('Neighborhood_Mitchel', -9320.948),\n",
       " ('Neighborhood_NAmes', -5684.286),\n",
       " ('Neighborhood_NPkVill', 0.0),\n",
       " ('Neighborhood_NWAmes', -6586.74),\n",
       " ('Neighborhood_NoRidge', 35100.793),\n",
       " ('Neighborhood_NridgHt', 44521.819),\n",
       " ('Neighborhood_OldTown', -2328.441),\n",
       " ('Neighborhood_SWISU', 1868.36),\n",
       " ('Neighborhood_Sawyer', -0.0),\n",
       " ('Neighborhood_SawyerW', 0.0),\n",
       " ('Neighborhood_Somerst', 20662.467),\n",
       " ('Neighborhood_StoneBr', 25667.938),\n",
       " ('Neighborhood_Timber', -2466.07),\n",
       " ('Neighborhood_Veenker', 8283.46),\n",
       " ('Condition1_Feedr', -9904.146),\n",
       " ('Condition1_Norm', 6784.952),\n",
       " ('Condition1_PosA', 7833.739),\n",
       " ('Condition1_PosN', 809.949),\n",
       " ('Condition1_RRAe', -16471.813),\n",
       " ('Condition1_RRAn', 1870.771),\n",
       " ('Condition1_RRNe', -0.0),\n",
       " ('Condition1_RRNn', -0.0),\n",
       " ('Condition2_Feedr', -0.0),\n",
       " ('Condition2_Norm', -0.0),\n",
       " ('Condition2_PosA', 0.0),\n",
       " ('Condition2_PosN', -305999.141),\n",
       " ('Condition2_RRAe', -0.0),\n",
       " ('Condition2_RRAn', 0.0),\n",
       " ('Condition2_RRNn', 0.0),\n",
       " ('BldgType_2fmCon', 10397.228),\n",
       " ('BldgType_Duplex', -0.0),\n",
       " ('BldgType_Twnhs', -5257.267),\n",
       " ('BldgType_TwnhsE', -0.0),\n",
       " ('HouseStyle_1.5Unf', 0.0),\n",
       " ('HouseStyle_1Story', 1743.569),\n",
       " ('HouseStyle_2.5Fin', -28178.116),\n",
       " ('HouseStyle_2.5Unf', -16728.417),\n",
       " ('HouseStyle_2Story', -8883.157),\n",
       " ('HouseStyle_SFoyer', -0.0),\n",
       " ('HouseStyle_SLvl', -0.0),\n",
       " ('RoofStyle_Gable', -17485.353),\n",
       " ('RoofStyle_Gambrel', 0.0),\n",
       " ('RoofStyle_Hip', -14629.8),\n",
       " ('RoofStyle_Mansard', -0.0),\n",
       " ('RoofStyle_Shed', 0.0),\n",
       " ('RoofMatl_CompShg', 80648.108),\n",
       " ('RoofMatl_Membran', 8802.597),\n",
       " ('RoofMatl_Metal', 4542.206),\n",
       " ('RoofMatl_Roll', 29947.372),\n",
       " ('RoofMatl_Tar&Grv', 33121.172),\n",
       " ('RoofMatl_WdShake', 49324.554),\n",
       " ('RoofMatl_WdShngl', 150668.38),\n",
       " ('Exterior1st_AsphShn', -0.0),\n",
       " ('Exterior1st_BrkComm', -0.0),\n",
       " ('Exterior1st_BrkFace', 8106.419),\n",
       " ('Exterior1st_CBlock', -0.0),\n",
       " ('Exterior1st_CemntBd', -0.0),\n",
       " ('Exterior1st_HdBoard', -4894.283),\n",
       " ('Exterior1st_ImStucc', -0.0),\n",
       " ('Exterior1st_MetalSd', 0.0),\n",
       " ('Exterior1st_Plywood', -360.663),\n",
       " ('Exterior1st_Stone', 0.0),\n",
       " ('Exterior1st_Stucco', -1957.033),\n",
       " ('Exterior1st_VinylSd', 0.0),\n",
       " ('Exterior1st_Wd Sdng', 0.0),\n",
       " ('Exterior1st_WdShing', 7155.698),\n",
       " ('Exterior2nd_AsphShn', -0.0),\n",
       " ('Exterior2nd_Brk Cmn', 0.0),\n",
       " ('Exterior2nd_BrkFace', 10206.003),\n",
       " ('Exterior2nd_CBlock', -0.0),\n",
       " ('Exterior2nd_CmentBd', 10566.75),\n",
       " ('Exterior2nd_HdBoard', -0.0),\n",
       " ('Exterior2nd_ImStucc', 14537.674),\n",
       " ('Exterior2nd_MetalSd', 132.704),\n",
       " ('Exterior2nd_Other', 0.0),\n",
       " ('Exterior2nd_Plywood', -2900.107),\n",
       " ('Exterior2nd_Stone', -0.0),\n",
       " ('Exterior2nd_Stucco', -16989.789),\n",
       " ('Exterior2nd_VinylSd', 0.0),\n",
       " ('Exterior2nd_Wd Sdng', -3564.868),\n",
       " ('Exterior2nd_Wd Shng', -14994.829),\n",
       " ('MasVnrType_BrkFace', -1215.983),\n",
       " ('MasVnrType_None', 900.099),\n",
       " ('MasVnrType_Stone', 0.0),\n",
       " ('Foundation_CBlock', 3979.748),\n",
       " ('Foundation_PConc', 4352.609),\n",
       " ('Foundation_Slab', -0.0),\n",
       " ('Foundation_Stone', 0.0),\n",
       " ('Foundation_Wood', -0.0),\n",
       " ('BsmtExposure_Gd', 21101.897),\n",
       " ('BsmtExposure_Mn', -6309.601),\n",
       " ('BsmtExposure_NA', -8174.76),\n",
       " ('BsmtExposure_No', -9854.665),\n",
       " ('BsmtFinType1_BLQ', 315.975),\n",
       " ('BsmtFinType1_GLQ', 4267.054),\n",
       " ('BsmtFinType1_LwQ', -2270.675),\n",
       " ('BsmtFinType1_NA', -0.0),\n",
       " ('BsmtFinType1_Rec', -2470.571),\n",
       " ('BsmtFinType1_Unf', -5288.178),\n",
       " ('BsmtFinType2_BLQ', -4027.21),\n",
       " ('BsmtFinType2_GLQ', 2038.712),\n",
       " ('BsmtFinType2_LwQ', -982.318),\n",
       " ('BsmtFinType2_NA', -3430.484),\n",
       " ('BsmtFinType2_Rec', -3016.91),\n",
       " ('BsmtFinType2_Unf', 2751.376),\n",
       " ('Heating_GasA', -428.247),\n",
       " ('Heating_GasW', 5503.776),\n",
       " ('Heating_Grav', 0.0),\n",
       " ('Heating_OthW', -42490.624),\n",
       " ('Heating_Wall', 0.0),\n",
       " ('CentralAir_Y', 661.852),\n",
       " ('Electrical_FuseF', 267.006),\n",
       " ('Electrical_FuseP', 0.0),\n",
       " ('Electrical_Mix', 0.0),\n",
       " ('Electrical_SBrkr', 0.0),\n",
       " ('Electrical_Unknown', 0.0),\n",
       " ('Functional_Maj2', -4272.46),\n",
       " ('Functional_Min1', 4220.059),\n",
       " ('Functional_Min2', 2829.275),\n",
       " ('Functional_Mod', -0.0),\n",
       " ('Functional_Sev', -0.0),\n",
       " ('Functional_Typ', 10088.855),\n",
       " ('GarageType_Attchd', 0.0),\n",
       " ('GarageType_Basment', -0.0),\n",
       " ('GarageType_BuiltIn', -1880.212),\n",
       " ('GarageType_CarPort', 0.0),\n",
       " ('GarageType_Detchd', 640.335),\n",
       " ('GarageType_NA', -3566.369),\n",
       " ('GarageFinish_NA', -0.0),\n",
       " ('GarageFinish_RFn', -7298.468),\n",
       " ('GarageFinish_Unf', -4866.959),\n",
       " ('GarageQual_Fa', -576.668),\n",
       " ('GarageQual_Gd', 11374.818),\n",
       " ('GarageQual_NA', -3008.753),\n",
       " ('GarageQual_Po', -0.0),\n",
       " ('GarageQual_TA', 476.181),\n",
       " ('GarageCond_Fa', 5316.909),\n",
       " ('GarageCond_Gd', -0.0),\n",
       " ('GarageCond_NA', -1574.049),\n",
       " ('GarageCond_Po', -0.0),\n",
       " ('GarageCond_TA', 4010.747),\n",
       " ('PavedDrive_P', 1740.721),\n",
       " ('PavedDrive_Y', 295.215),\n",
       " ('SaleType_CWD', 0.0),\n",
       " ('SaleType_Con', 0.0),\n",
       " ('SaleType_ConLD', 0.0),\n",
       " ('SaleType_ConLI', 0.0),\n",
       " ('SaleType_ConLw', -0.0),\n",
       " ('SaleType_New', 15566.47),\n",
       " ('SaleType_Oth', 0.0),\n",
       " ('SaleType_WD', 924.47),\n",
       " ('SaleCondition_AdjLand', 0.0),\n",
       " ('SaleCondition_Alloca', -0.0),\n",
       " ('SaleCondition_Family', 0.0),\n",
       " ('SaleCondition_Normal', 3207.952),\n",
       " ('SaleCondition_Partial', 3747.245)]"
      ]
     },
     "execution_count": 260,
     "metadata": {},
     "output_type": "execute_result"
    }
   ],
   "source": [
    "# Check the lasso model parameters\n",
    "lasso_model_parameters = list(lasso.coef_)\n",
    "lasso_model_parameters.insert(0, lasso.intercept_)\n",
    "lasso_model_parameters = [round(x, 3) for x in lasso_model_parameters]\n",
    "cols = X.columns\n",
    "cols = cols.insert(0, \"constant\")\n",
    "list(zip(cols, lasso_model_parameters))"
   ]
  },
  {
   "cell_type": "code",
   "execution_count": 607,
   "metadata": {},
   "outputs": [],
   "source": [
    "def get_top_important_predictor_var(regModel):\n",
    "    cols = X.columns\n",
    "    #cols\n",
    "    model_parameters = list(regModel.coef_)\n",
    "    df=pd.DataFrame(list(zip(cols, model_parameters)))\n",
    "    \n",
    "    df['feature']=df[0]\n",
    "    df['model_coefficients']=df[1]\n",
    "    df.drop([0,1],inplace=True,axis=1)\n",
    "    df=df.sort_values(by='model_coefficients',ascending=False)\n",
    "    return df"
   ]
  }
 ],
 "metadata": {
  "kernelspec": {
   "display_name": "Python 3",
   "language": "python",
   "name": "python3"
  },
  "language_info": {
   "codemirror_mode": {
    "name": "ipython",
    "version": 3
   },
   "file_extension": ".py",
   "mimetype": "text/x-python",
   "name": "python",
   "nbconvert_exporter": "python",
   "pygments_lexer": "ipython3",
   "version": "3.6.8"
  }
 },
 "nbformat": 4,
 "nbformat_minor": 2
}
