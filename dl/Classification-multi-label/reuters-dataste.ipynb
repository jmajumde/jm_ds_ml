{
 "cells": [
  {
   "cell_type": "markdown",
   "metadata": {},
   "source": [
    "In this section, you’ll build a network to classify Reuters newswires into **46 mutually\n",
    "exclusive topics**. Because you have many classes, this problem is an instance of multi-\n",
    "class classification; and because each data point should be classified into only one cate-\n",
    "gory, the problem is more specifically an instance of `single-label, multiclass classification`.\n",
    "If each data point could belong to multiple categories (in this case, topics), you’d be\n",
    "facing a multilabel, multiclass classification problem.\n",
    "3.5.1\n",
    "#### The Reuters dataset\n",
    "You’ll work with the Reuters dataset, a set of short newswires and their topics, published\n",
    "by Reuters in 1986. It’s a simple, widely used toy dataset for text classification. There\n",
    "are 46 different topics; some topics are more represented than others, but each topic\n",
    "has at least 10 examples in the training set."
   ]
  },
  {
   "cell_type": "code",
   "execution_count": 2,
   "metadata": {},
   "outputs": [
    {
     "name": "stdout",
     "output_type": "stream",
     "text": [
      "Downloading data from https://s3.amazonaws.com/text-datasets/reuters.npz\n",
      "2113536/2110848 [==============================] - 3s 1us/step\n"
     ]
    }
   ],
   "source": [
    "import keras\n",
    "from keras.datasets import reuters\n",
    "\n",
    "# the argument num_words=10000 restricts the data to the\n",
    "#10,000 most frequently occurring words found in the data.\n",
    "(train_data,train_labels),(test_data,test_labels)=reuters.load_data(num_words=10000)"
   ]
  },
  {
   "cell_type": "code",
   "execution_count": 5,
   "metadata": {},
   "outputs": [
    {
     "name": "stdout",
     "output_type": "stream",
     "text": [
      "8982\n",
      "2246\n"
     ]
    }
   ],
   "source": [
    "print(len(train_data))\n",
    "print(len(test_data))"
   ]
  },
  {
   "cell_type": "markdown",
   "metadata": {},
   "source": [
    "As with the IMDB reviews, each example is a `list of integers (word indices)`:"
   ]
  },
  {
   "cell_type": "code",
   "execution_count": null,
   "metadata": {},
   "outputs": [],
   "source": [
    "#train_data[5]"
   ]
  },
  {
   "cell_type": "markdown",
   "metadata": {},
   "source": [
    "Reverses it, mapping integer indices to words.\n",
    "Decodes the review. Note that the indices are offset by 3 because 0, 1, and 2 are reserved indices for “padding,” “start of sequence,” and “unknown.”"
   ]
  },
  {
   "cell_type": "code",
   "execution_count": null,
   "metadata": {},
   "outputs": [],
   "source": [
    "# Listing 3.13 Decoding newswires back to text\n",
    "word_indx=reuters.get_word_index()\n",
    "rev_word_indx=dict([(key,val) for (key,val) in word_indx.items()])\n",
    "#print(rev_word_indx.get(10))\n",
    "decoded_news = ' '.join([rev_word_indx.get(i - 3, 'we') for i in train_data[5]])\n",
    "#print(decoded_news)"
   ]
  },
  {
   "cell_type": "code",
   "execution_count": null,
   "metadata": {},
   "outputs": [],
   "source": [
    "# The label associated with an example is an integer between 0 and 45—a topic index:\n",
    "train_labels[10]"
   ]
  },
  {
   "cell_type": "markdown",
   "metadata": {},
   "source": [
    "#### Preparing the data"
   ]
  },
  {
   "cell_type": "code",
   "execution_count": null,
   "metadata": {},
   "outputs": [],
   "source": [
    "train_data.shape"
   ]
  },
  {
   "cell_type": "code",
   "execution_count": 4,
   "metadata": {},
   "outputs": [
    {
     "name": "stdout",
     "output_type": "stream",
     "text": [
      "hello world\n",
      "{'a': 0, 'b': 1, 'c': 2, 'd': 3, 'e': 4, 'f': 5, 'g': 6, 'h': 7, 'i': 8, 'j': 9, 'k': 10, 'l': 11, 'm': 12, 'n': 13, 'o': 14, 'p': 15, 'q': 16, 'r': 17, 's': 18, 't': 19, 'u': 20, 'v': 21, 'w': 22, 'x': 23, 'y': 24, 'z': 25, ' ': 26}\n",
      "[7, 4, 11, 11, 14, 26, 22, 14, 17, 11, 3]\n",
      "[0. 0. 0. 0. 0. 0. 0. 0. 0. 0. 0. 1. 0. 0. 0. 0. 0. 0. 0. 0. 0. 0. 0. 0.\n",
      " 0. 0. 0.]\n"
     ]
    }
   ],
   "source": [
    "# Encode the data like the way below example \n",
    "\n",
    "#data=\"my name is jmajumde saying hello to the world\"\n",
    "data=\"hello world\"\n",
    "print(data)\n",
    "alphabet='abcdefghijklmnopqrstuvwxyz '\n",
    "int2char=dict((i,c) for i,c in enumerate(alphabet))\n",
    "char2int=dict((c,i) for i,c in enumerate(alphabet))\n",
    "\n",
    "print(char2int)\n",
    "# integer encoded data\n",
    "int_encoded=[char2int[char] for char in data]\n",
    "print(int_encoded)\n",
    "\n",
    "# now vectorize this\n",
    "# to vectorize and use one-hot encoder our matrix dimention should be [27,27] per alphabet\n",
    "import numpy as np\n",
    "def vectorize_seq(sequences,dimen):\n",
    "    np_arr=np.zeros((len(sequences),dimen))\n",
    "    for i, sq in enumerate(sequences):\n",
    "        np_arr[i,sq]=1\n",
    "    return np_arr\n",
    "\n",
    "print(vectorize_seq(int_encoded,len(alphabet))[2])"
   ]
  },
  {
   "cell_type": "markdown",
   "metadata": {},
   "source": [
    "Similarly vectorize the train data"
   ]
  },
  {
   "cell_type": "code",
   "execution_count": 7,
   "metadata": {},
   "outputs": [],
   "source": [
    "dimen=10000   # since we have restricted data to 10,000 frequently occurring words\n",
    "x_train=vectorize_seq(train_data,dimen)\n",
    "x_test=vectorize_seq(test_data,dimen)"
   ]
  },
  {
   "cell_type": "markdown",
   "metadata": {},
   "source": [
    "To vectorize the labels, there are two possibilities: you can cast the `label list as an integer tensor`, or you can use `one-hot encoding`. \n",
    "One-hot encoding is a widely used for-mat for categorical data, also called categorical encoding. For a more detailed explanation of one-hot encoding, see section 6.1. In this case, one-hot encoding of the labels consists of embedding each label as an all-zero vector with a 1 in the place of the label index."
   ]
  },
  {
   "cell_type": "code",
   "execution_count": 15,
   "metadata": {},
   "outputs": [],
   "source": [
    "# using one-hot encoding for labels\n",
    "def one_hot(labels,dimen=46):\n",
    "    res=np.zeros((len(labels),dimen))\n",
    "    for i, lbl in enumerate(labels):\n",
    "        res[i,lbl]=1\n",
    "    return res"
   ]
  },
  {
   "cell_type": "code",
   "execution_count": 16,
   "metadata": {},
   "outputs": [],
   "source": [
    "y_train=one_hot(train_labels)\n",
    "y_test=one_hot(test_labels)"
   ]
  },
  {
   "cell_type": "code",
   "execution_count": null,
   "metadata": {},
   "outputs": [],
   "source": [
    "# using integer tensor for label encoding\n",
    "y_train=np.array(train_labels)\n",
    "y_test=np.array(test_labels)\n"
   ]
  },
  {
   "cell_type": "markdown",
   "metadata": {},
   "source": [
    "The only thing this approach would change is the choice of the loss function. The loss function used in listing 3.21, `categorical_crossentropy` , expects the labels to follow a `categorical encoding`. With integer labels, you should use `sparse_categorical_crossentropy` :"
   ]
  },
  {
   "cell_type": "markdown",
   "metadata": {},
   "source": [
    "Using keras in-build library `to_categorical` to do one-hot encoding for labels"
   ]
  },
  {
   "cell_type": "code",
   "execution_count": 13,
   "metadata": {},
   "outputs": [],
   "source": [
    "from keras.utils.np_utils import to_categorical\n",
    "y_train=to_categorical(train_labels)\n",
    "y_test=to_categorical(test_labels)"
   ]
  },
  {
   "cell_type": "markdown",
   "metadata": {},
   "source": [
    "#### Model building"
   ]
  },
  {
   "cell_type": "code",
   "execution_count": 14,
   "metadata": {},
   "outputs": [],
   "source": [
    "from keras import models\n",
    "from keras import layers\n"
   ]
  },
  {
   "cell_type": "code",
   "execution_count": 20,
   "metadata": {},
   "outputs": [
    {
     "name": "stdout",
     "output_type": "stream",
     "text": [
      "(8982, 10000)\n",
      "(10000,)\n"
     ]
    }
   ],
   "source": [
    "print(x_train.shape)\n",
    "print(x_train.shape[1:])"
   ]
  },
  {
   "cell_type": "markdown",
   "metadata": {},
   "source": [
    "The last layer uses a `softmax activation`. It means the network will output a probability distribution over the `46`\n",
    "different output classes—for every input sample, the network will produce a `46-dimensional output vector`, where output[i] is the probability that the sample belongs to class i . The 46 scores will sum to 1."
   ]
  },
  {
   "cell_type": "code",
   "execution_count": 21,
   "metadata": {},
   "outputs": [],
   "source": [
    "# build a simple model first with two dense layers\n",
    "model=models.Sequential()\n",
    "model.add(layers.Dense(64,activation='relu',input_shape=x_train.shape[1:]))\n",
    "model.add(layers.Dense(64,activation='relu'))\n",
    "model.add(layers.Dense(46,activation='softmax'))  # last layers with 46 neurons, as the output label is 46\n",
    "\n"
   ]
  },
  {
   "cell_type": "markdown",
   "metadata": {},
   "source": [
    "The best loss function to use in this case is `categorical_crossentropy` . It measures the distance between two probability distributions: here, between the probability distribution output by the network and the true distribution of the labels. By minimizing the distance between these two distributions, you train the network to output something as close as possible to the true labels."
   ]
  },
  {
   "cell_type": "code",
   "execution_count": 43,
   "metadata": {},
   "outputs": [],
   "source": [
    "#model.compile(optimizer='sgd', loss='categorical_crossentropy',metrics=['accuracy'])\n",
    "model.compile(optimizer='rmsprop', loss='categorical_crossentropy',metrics=['accuracy'])\n",
    "#model.compile(optimizer='rmsprop', loss='sparse_categorical_crossentropy',metrics=['accuracy'])\n"
   ]
  },
  {
   "cell_type": "markdown",
   "metadata": {},
   "source": [
    "##### Validating \n",
    "Let’s set apart 1,000 samples in the training data to use as a validation set."
   ]
  },
  {
   "cell_type": "code",
   "execution_count": 25,
   "metadata": {},
   "outputs": [],
   "source": [
    "x_val=x_train[:1000]\n",
    "x_train_partial=x_train[1000:]\n",
    "\n",
    "y_val=y_train[:1000]\n",
    "y_train_partial=y_train[1000:]\n"
   ]
  },
  {
   "cell_type": "code",
   "execution_count": 44,
   "metadata": {},
   "outputs": [
    {
     "name": "stdout",
     "output_type": "stream",
     "text": [
      "Train on 7982 samples, validate on 1000 samples\n",
      "Epoch 1/20\n",
      "7982/7982 [==============================] - 6s 772us/step - loss: 0.6501 - accuracy: 0.8533 - val_loss: 0.9453 - val_accuracy: 0.8180\n",
      "Epoch 2/20\n",
      "7982/7982 [==============================] - 5s 664us/step - loss: 0.4262 - accuracy: 0.9078 - val_loss: 0.9573 - val_accuracy: 0.8130\n",
      "Epoch 3/20\n",
      "7982/7982 [==============================] - 6s 782us/step - loss: 0.3173 - accuracy: 0.9318 - val_loss: 1.0602 - val_accuracy: 0.7970\n",
      "Epoch 4/20\n",
      "7982/7982 [==============================] - 7s 848us/step - loss: 0.2572 - accuracy: 0.9430 - val_loss: 1.0909 - val_accuracy: 0.8090\n",
      "Epoch 5/20\n",
      "7982/7982 [==============================] - 5s 677us/step - loss: 0.2267 - accuracy: 0.9493 - val_loss: 1.1437 - val_accuracy: 0.8080\n",
      "Epoch 6/20\n",
      "7982/7982 [==============================] - 5s 659us/step - loss: 0.2007 - accuracy: 0.9530 - val_loss: 1.2162 - val_accuracy: 0.7890\n",
      "Epoch 7/20\n",
      "7982/7982 [==============================] - 5s 638us/step - loss: 0.1838 - accuracy: 0.9543 - val_loss: 1.2578 - val_accuracy: 0.8000\n",
      "Epoch 8/20\n",
      "7982/7982 [==============================] - 5s 669us/step - loss: 0.1798 - accuracy: 0.9543 - val_loss: 1.3488 - val_accuracy: 0.7920\n",
      "Epoch 9/20\n",
      "7982/7982 [==============================] - 5s 678us/step - loss: 0.1660 - accuracy: 0.9555 - val_loss: 1.3503 - val_accuracy: 0.8070\n",
      "Epoch 10/20\n",
      "7982/7982 [==============================] - 5s 674us/step - loss: 0.1591 - accuracy: 0.9569 - val_loss: 1.4579 - val_accuracy: 0.7860\n",
      "Epoch 11/20\n",
      "7982/7982 [==============================] - 5s 655us/step - loss: 0.1541 - accuracy: 0.9578 - val_loss: 1.4728 - val_accuracy: 0.7890\n",
      "Epoch 12/20\n",
      "7982/7982 [==============================] - 6s 701us/step - loss: 0.1406 - accuracy: 0.9569 - val_loss: 1.4987 - val_accuracy: 0.7990\n",
      "Epoch 13/20\n",
      "7982/7982 [==============================] - 6s 697us/step - loss: 0.1443 - accuracy: 0.9583 - val_loss: 1.6453 - val_accuracy: 0.7940\n",
      "Epoch 14/20\n",
      "7982/7982 [==============================] - 6s 699us/step - loss: 0.1376 - accuracy: 0.9600 - val_loss: 1.6243 - val_accuracy: 0.7910\n",
      "Epoch 15/20\n",
      "7982/7982 [==============================] - 6s 691us/step - loss: 0.1361 - accuracy: 0.9589 - val_loss: 1.7765 - val_accuracy: 0.7950\n",
      "Epoch 16/20\n",
      "7982/7982 [==============================] - 5s 654us/step - loss: 0.1296 - accuracy: 0.9587 - val_loss: 1.8674 - val_accuracy: 0.7830\n",
      "Epoch 17/20\n",
      "7982/7982 [==============================] - 5s 668us/step - loss: 0.1299 - accuracy: 0.9590 - val_loss: 1.8423 - val_accuracy: 0.7870\n",
      "Epoch 18/20\n",
      "7982/7982 [==============================] - 6s 721us/step - loss: 0.1262 - accuracy: 0.9603 - val_loss: 2.1161 - val_accuracy: 0.7870\n",
      "Epoch 19/20\n",
      "7982/7982 [==============================] - 8s 949us/step - loss: 0.1265 - accuracy: 0.9587 - val_loss: 2.1024 - val_accuracy: 0.7870\n",
      "Epoch 20/20\n",
      "7982/7982 [==============================] - 7s 823us/step - loss: 0.1175 - accuracy: 0.9582 - val_loss: 2.3542 - val_accuracy: 0.7870\n"
     ]
    }
   ],
   "source": [
    "# Now, let’s train the network for 20 epochs.\n",
    "history=model.fit(x_train_partial, y_train_partial,epochs=20,batch_size=25,\n",
    "         validation_data=(x_val,y_val))"
   ]
  },
  {
   "cell_type": "code",
   "execution_count": 50,
   "metadata": {},
   "outputs": [
    {
     "data": {
      "image/png": "[encoded data removed]",
      "text/plain": [
       "<Figure size 864x432 with 2 Axes>"
      ]
     },
     "metadata": {
      "needs_background": "light"
     },
     "output_type": "display_data"
    }
   ],
   "source": [
    "import matplotlib.pyplot as plt\n",
    "def plot_train_vs_val(history,epochs=20):\n",
    "    plt.figure(figsize=(12,6))\n",
    "    \n",
    "    # plot training v/s validation loss\n",
    "    plt.subplot(1,2,1)\n",
    "    loss=history.history['loss']\n",
    "    val_loss=history.history['val_loss']\n",
    "    epochs=range(1,len(loss)+1)\n",
    "    plt.plot(epochs,loss,'bo',label='training loss')\n",
    "    plt.plot(epochs,val_loss,'b',label='validation loss')\n",
    "    plt.title('Traning & Validation loss')\n",
    "    plt.xlabel('Epochs')\n",
    "    plt.ylabel('Loss')\n",
    "    plt.legend()\n",
    "    \n",
    "    # plot training v/s validation accuracy\n",
    "    plt.subplot(1,2,2)\n",
    "    acc=history.history['accuracy']\n",
    "    val_acc=history.history['val_accuracy']\n",
    "    plt.plot(epochs,acc,'bo',label='training accuracy')\n",
    "    plt.plot(epochs,val_acc,'b',label='validation accuracy')\n",
    "    plt.title('Traning & Validation accuracy')\n",
    "    plt.xlabel('Epochs')\n",
    "    plt.ylabel('Accuracy')\n",
    "    plt.legend()\n",
    "    \n",
    "    #general    \n",
    "    plt.tight_layout()\n",
    "    plt.show()\n",
    "    \n",
    "    \n",
    "plot_train_vs_val(history,20)\n",
    "    \n",
    "    "
   ]
  },
  {
   "cell_type": "markdown",
   "metadata": {},
   "source": [
    "After 9/10 epochs validation accuracy start falling down and the validation loss steadily has upward trend. This is clear symbol of model overfits. So we need another model with lesser epochs say 9 may be ."
   ]
  },
  {
   "cell_type": "code",
   "execution_count": 51,
   "metadata": {},
   "outputs": [
    {
     "name": "stdout",
     "output_type": "stream",
     "text": [
      "Train on 7982 samples, validate on 1000 samples\n",
      "Epoch 1/9\n",
      "7982/7982 [==============================] - 2s 257us/step - loss: 2.5903 - accuracy: 0.5040 - val_loss: 1.7247 - val_accuracy: 0.6320\n",
      "Epoch 2/9\n",
      "7982/7982 [==============================] - 2s 225us/step - loss: 1.3928 - accuracy: 0.7176 - val_loss: 1.2909 - val_accuracy: 0.7200\n",
      "Epoch 3/9\n",
      "7982/7982 [==============================] - 2s 218us/step - loss: 1.0324 - accuracy: 0.7815 - val_loss: 1.1353 - val_accuracy: 0.7510\n",
      "Epoch 4/9\n",
      "7982/7982 [==============================] - 1s 179us/step - loss: 0.8187 - accuracy: 0.8264 - val_loss: 1.0293 - val_accuracy: 0.7850\n",
      "Epoch 5/9\n",
      "7982/7982 [==============================] - 2s 211us/step - loss: 0.6496 - accuracy: 0.8673 - val_loss: 1.0017 - val_accuracy: 0.7820\n",
      "Epoch 6/9\n",
      "7982/7982 [==============================] - 2s 202us/step - loss: 0.5243 - accuracy: 0.8939 - val_loss: 0.9278 - val_accuracy: 0.8160\n",
      "Epoch 7/9\n",
      "7982/7982 [==============================] - 1s 154us/step - loss: 0.4218 - accuracy: 0.9141 - val_loss: 0.9670 - val_accuracy: 0.7940\n",
      "Epoch 8/9\n",
      "7982/7982 [==============================] - 1s 144us/step - loss: 0.3444 - accuracy: 0.9276 - val_loss: 0.9375 - val_accuracy: 0.8040\n",
      "Epoch 9/9\n",
      "7982/7982 [==============================] - 1s 154us/step - loss: 0.2877 - accuracy: 0.9386 - val_loss: 0.9008 - val_accuracy: 0.8180\n"
     ]
    },
    {
     "data": {
      "image/png": "[encoded data removed]",
      "text/plain": [
       "<Figure size 864x432 with 2 Axes>"
      ]
     },
     "metadata": {
      "needs_background": "light"
     },
     "output_type": "display_data"
    }
   ],
   "source": [
    "epochs=9\n",
    "model=models.Sequential()\n",
    "model.add(layers.Dense(64,activation='relu',input_shape=x_train.shape[1:]))\n",
    "model.add(layers.Dense(64,activation='relu'))\n",
    "model.add(layers.Dense(46,activation='softmax'))\n",
    "\n",
    "model.compile(optimizer='rmsprop', loss='categorical_crossentropy',metrics=['accuracy'])\n",
    "\n",
    "history=model.fit(x_train_partial, y_train_partial,epochs=epochs,batch_size=512,\n",
    "         validation_data=(x_val,y_val))\n",
    "\n",
    "plot_train_vs_val(history,epochs)"
   ]
  },
  {
   "cell_type": "markdown",
   "metadata": {},
   "source": [
    "This is much better model compared to previous one, now we can evaluate the model against test data"
   ]
  },
  {
   "cell_type": "code",
   "execution_count": 52,
   "metadata": {},
   "outputs": [
    {
     "name": "stdout",
     "output_type": "stream",
     "text": [
      "2246/2246 [==============================] - 1s 259us/step\n"
     ]
    },
    {
     "data": {
      "text/plain": [
       "[0.9887019742947015, 0.7920747995376587]"
      ]
     },
     "execution_count": 52,
     "metadata": {},
     "output_type": "execute_result"
    }
   ],
   "source": [
    "res=model.evaluate(x_test,y_test)\n",
    "res"
   ]
  },
  {
   "cell_type": "markdown",
   "metadata": {},
   "source": [
    "This approach reaches an accuracy of `~80%`. With a `balanced binary classification` problem, the accuracy reached by a purely `random classifier would be 50%`. But in this case it’s closer to `19%`, so the results seem pretty good, at least when compared to a `random baseline`:"
   ]
  },
  {
   "cell_type": "code",
   "execution_count": 53,
   "metadata": {},
   "outputs": [
    {
     "data": {
      "text/plain": [
       "0.1918967052537845"
      ]
     },
     "execution_count": 53,
     "metadata": {},
     "output_type": "execute_result"
    }
   ],
   "source": [
    "import copy\n",
    "test_labels_cp=copy.copy(test_labels)\n",
    "np.random.shuffle(test_labels_cp)\n",
    "hits_arr=np.array(test_labels) == np.array(test_labels_cp)\n",
    "float(np.sum(hits_arr)/len(test_labels))"
   ]
  },
  {
   "cell_type": "markdown",
   "metadata": {},
   "source": [
    "#### Generating predictions on new data\n"
   ]
  },
  {
   "cell_type": "code",
   "execution_count": 55,
   "metadata": {},
   "outputs": [
    {
     "data": {
      "text/plain": [
       "(2246, 46)"
      ]
     },
     "execution_count": 55,
     "metadata": {},
     "output_type": "execute_result"
    }
   ],
   "source": [
    "predictions=model.predict(x_test)\n",
    "predictions.shape"
   ]
  },
  {
   "cell_type": "code",
   "execution_count": 57,
   "metadata": {},
   "outputs": [
    {
     "name": "stdout",
     "output_type": "stream",
     "text": [
      "prediction vector length: (46,)\n",
      "The coefficients of vector sum:  0.99999994\n",
      "The highest probability class: 3\n"
     ]
    }
   ],
   "source": [
    "# Each entry in predictions is a vector of length 46:\n",
    "print(\"prediction vector length:\", predictions[0].shape)\n",
    "\n",
    "# The coefficients in this vector sum to 1:\n",
    "print(\"The coefficients of vector sum: \", np.sum(predictions[0]))\n",
    "\n",
    "# The largest entry is the predicted class—the class with the highest probability:\n",
    "print(\"The highest probability class:\", np.argmax(predictions[0]))"
   ]
  },
  {
   "cell_type": "markdown",
   "metadata": {},
   "source": [
    "### Trying to use smaller dimension intermediate layers\n",
    "\n",
    "because the final outputs are 46-dimensional, you should avoid intermediate layers with many fewer than 46 hidden units. Now let’s see what happens when you introduce an information bottleneck by having intermediate layers that are significantly less than 46-dimensional: for example, 4-dimensional, 32 dimension"
   ]
  },
  {
   "cell_type": "code",
   "execution_count": 58,
   "metadata": {},
   "outputs": [
    {
     "name": "stdout",
     "output_type": "stream",
     "text": [
      "Train on 7982 samples, validate on 1000 samples\n",
      "Epoch 1/9\n",
      "7982/7982 [==============================] - 2s 236us/step - loss: 3.3516 - accuracy: 0.3264 - val_loss: 2.8905 - val_accuracy: 0.3480\n",
      "Epoch 2/9\n",
      "7982/7982 [==============================] - 2s 224us/step - loss: 2.5913 - accuracy: 0.3673 - val_loss: 2.4325 - val_accuracy: 0.3830\n",
      "Epoch 3/9\n",
      "7982/7982 [==============================] - 2s 207us/step - loss: 2.2103 - accuracy: 0.3938 - val_loss: 2.2048 - val_accuracy: 0.3840\n",
      "Epoch 4/9\n",
      "7982/7982 [==============================] - 2s 246us/step - loss: 1.9729 - accuracy: 0.4204 - val_loss: 2.0361 - val_accuracy: 0.4100\n",
      "Epoch 5/9\n",
      "7982/7982 [==============================] - 2s 220us/step - loss: 1.7705 - accuracy: 0.4365 - val_loss: 1.8909 - val_accuracy: 0.4320\n",
      "Epoch 6/9\n",
      "7982/7982 [==============================] - 2s 221us/step - loss: 1.5503 - accuracy: 0.5916 - val_loss: 1.6821 - val_accuracy: 0.6100\n",
      "Epoch 7/9\n",
      "7982/7982 [==============================] - 1s 182us/step - loss: 1.3187 - accuracy: 0.6580 - val_loss: 1.5371 - val_accuracy: 0.6450\n",
      "Epoch 8/9\n",
      "7982/7982 [==============================] - 2s 208us/step - loss: 1.1470 - accuracy: 0.7162 - val_loss: 1.4675 - val_accuracy: 0.6700\n",
      "Epoch 9/9\n",
      "7982/7982 [==============================] - 2s 192us/step - loss: 1.0330 - accuracy: 0.7374 - val_loss: 1.4086 - val_accuracy: 0.6890\n"
     ]
    },
    {
     "data": {
      "image/png": "[encoded data removed]",
      "text/plain": [
       "<Figure size 864x432 with 2 Axes>"
      ]
     },
     "metadata": {
      "needs_background": "light"
     },
     "output_type": "display_data"
    }
   ],
   "source": [
    "epochs=9\n",
    "model=models.Sequential()\n",
    "model.add(layers.Dense(64,activation='relu',input_shape=x_train.shape[1:]))\n",
    "model.add(layers.Dense(32,activation='relu'))\n",
    "model.add(layers.Dense(4,activation='relu'))\n",
    "model.add(layers.Dense(46,activation='softmax'))\n",
    "\n",
    "model.compile(optimizer='rmsprop', loss='categorical_crossentropy',metrics=['accuracy'])\n",
    "\n",
    "history=model.fit(x_train_partial, y_train_partial,epochs=epochs,batch_size=512,\n",
    "         validation_data=(x_val,y_val))\n",
    "\n",
    "plot_train_vs_val(history,epochs)"
   ]
  },
  {
   "cell_type": "markdown",
   "metadata": {},
   "source": [
    "The network now peaks at ~69% validation accuracy, an 11% absolute drop. This drop is mostly due to the fact that you’re trying to compress a lot of information (enough information to recover the separation hyperplanes of 46 classes) into an intermediate space that is too low-dimensional."
   ]
  }
 ],
 "metadata": {
  "kernelspec": {
   "display_name": "Python 3",
   "language": "python",
   "name": "python3"
  },
  "language_info": {
   "codemirror_mode": {
    "name": "ipython",
    "version": 3
   },
   "file_extension": ".py",
   "mimetype": "text/x-python",
   "name": "python",
   "nbconvert_exporter": "python",
   "pygments_lexer": "ipython3",
   "version": "3.6.8"
  }
 },
 "nbformat": 4,
 "nbformat_minor": 2
}
