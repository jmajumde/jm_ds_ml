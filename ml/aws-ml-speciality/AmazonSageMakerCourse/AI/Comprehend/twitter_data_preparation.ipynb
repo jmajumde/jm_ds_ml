{
 "cells": [
  {
   "cell_type": "markdown",
   "metadata": {},
   "source": [
    "# Amazon Comprehend - Classification Example\n",
    "### Classify using Text Features\n",
    "\n",
    "Objective: Train a model to identify tweets that require followup  \n",
    "\n",
    "Input: Tweets  \n",
    "Target: Binary. 0=Normal, 1=Followup\n",
    "\n",
    "\n",
    "\n",
    "#### AWS Twitter Labelled Tweets are available in this bucket: \n",
    "#### https://s3.console.aws.amazon.com/s3/buckets/aml-sample-data/?region=us-east-2\n",
    "####   File:  social-media/aml_training_dataset.csv"
   ]
  },
  {
   "cell_type": "code",
   "execution_count": null,
   "metadata": {},
   "outputs": [],
   "source": []
  },
  {
   "cell_type": "code",
   "execution_count": 1,
   "metadata": {},
   "outputs": [],
   "source": [
    "import numpy as np\n",
    "import pandas as pd\n",
    "import matplotlib.pyplot as plt"
   ]
  },
  {
   "cell_type": "code",
   "execution_count": null,
   "metadata": {},
   "outputs": [],
   "source": []
  },
  {
   "cell_type": "markdown",
   "metadata": {},
   "source": [
    "### Download Twitter training data"
   ]
  },
  {
   "cell_type": "code",
   "execution_count": 2,
   "metadata": {},
   "outputs": [
    {
     "name": "stdout",
     "output_type": "stream",
     "text": [
      "                           PRE social-media/\r\n",
      "2015-01-29 14:21:28     480428 banking-batch.csv\r\n",
      "2015-04-02 09:30:22    4882918 banking.csv\r\n",
      "2015-03-27 15:33:10       2264 banking.csv.schema\r\n",
      "2015-10-07 15:45:48     215225 ev_auc.txt\r\n"
     ]
    }
   ],
   "source": [
    "!aws s3 ls s3://aml-sample-data"
   ]
  },
  {
   "cell_type": "code",
   "execution_count": 3,
   "metadata": {},
   "outputs": [
    {
     "name": "stdout",
     "output_type": "stream",
     "text": [
      "download: s3://aml-sample-data/social-media/aml_training_dataset.csv to ./aml_training_dataset.csv\n"
     ]
    }
   ],
   "source": [
    "!aws s3 cp s3://aml-sample-data/social-media/aml_training_dataset.csv ."
   ]
  },
  {
   "cell_type": "markdown",
   "metadata": {},
   "source": [
    "### Prepare Training and Test data "
   ]
  },
  {
   "cell_type": "code",
   "execution_count": 4,
   "metadata": {},
   "outputs": [
    {
     "data": {
      "text/plain": [
       "(9808, 45)"
      ]
     },
     "execution_count": 4,
     "metadata": {},
     "output_type": "execute_result"
    }
   ],
   "source": [
    "df = pd.read_csv('./aml_training_dataset.csv')\n",
    "df.shape"
   ]
  },
  {
   "cell_type": "code",
   "execution_count": 5,
   "metadata": {},
   "outputs": [
    {
     "name": "stdout",
     "output_type": "stream",
     "text": [
      "Rows: 9808, Cols: 45\n"
     ]
    }
   ],
   "source": [
    "print('Rows: {0}, Cols: {1}'.format(df.shape[0], df.shape[1]))"
   ]
  },
  {
   "cell_type": "code",
   "execution_count": 6,
   "metadata": {
    "scrolled": true
   },
   "outputs": [
    {
     "data": {
      "text/plain": [
       "Index(['created_at_in_seconds', 'description', 'favorite_count', 'favorited',\n",
       "       'favourites_count', 'followers_count', 'friends_count', 'geo_enabled',\n",
       "       'in_reply_to_screen_name', 'in_reply_to_status_id',\n",
       "       'in_reply_to_user_id', 'location', 'r.created_at_in_seconds',\n",
       "       'r.description', 'r.favorite_count', 'r.favorited',\n",
       "       'r.favourites_count', 'r.followers_count', 'r.friends_count',\n",
       "       'r.geo_enabled', 'r.in_reply_to_screen_name', 'r.in_reply_to_status_id',\n",
       "       'r.in_reply_to_user_id', 'r.location', 'r.retweet_count',\n",
       "       'r.screen_name', 'r.sid', 'r.statuses_count', 'r.text', 'r.time_zone',\n",
       "       'r.uid', 'r.user.name', 'r.utc_offset', 'r.verified', 'retweet_count',\n",
       "       'screen_name', 'sid', 'statuses_count', 'text', 'time_zone', 'uid',\n",
       "       'user.name', 'utc_offset', 'verified', 'trainingLabel'],\n",
       "      dtype='object')"
      ]
     },
     "execution_count": 6,
     "metadata": {},
     "output_type": "execute_result"
    }
   ],
   "source": [
    "df.columns"
   ]
  },
  {
   "cell_type": "code",
   "execution_count": 7,
   "metadata": {},
   "outputs": [
    {
     "data": {
      "text/html": [
       "<div>\n",
       "<style scoped>\n",
       "    .dataframe tbody tr th:only-of-type {\n",
       "        vertical-align: middle;\n",
       "    }\n",
       "\n",
       "    .dataframe tbody tr th {\n",
       "        vertical-align: top;\n",
       "    }\n",
       "\n",
       "    .dataframe thead th {\n",
       "        text-align: right;\n",
       "    }\n",
       "</style>\n",
       "<table border=\"1\" class=\"dataframe\">\n",
       "  <thead>\n",
       "    <tr style=\"text-align: right;\">\n",
       "      <th></th>\n",
       "      <th>created_at_in_seconds</th>\n",
       "      <th>description</th>\n",
       "      <th>favorite_count</th>\n",
       "      <th>favorited</th>\n",
       "      <th>favourites_count</th>\n",
       "      <th>followers_count</th>\n",
       "      <th>friends_count</th>\n",
       "      <th>geo_enabled</th>\n",
       "      <th>in_reply_to_screen_name</th>\n",
       "      <th>in_reply_to_status_id</th>\n",
       "      <th>...</th>\n",
       "      <th>screen_name</th>\n",
       "      <th>sid</th>\n",
       "      <th>statuses_count</th>\n",
       "      <th>text</th>\n",
       "      <th>time_zone</th>\n",
       "      <th>uid</th>\n",
       "      <th>user.name</th>\n",
       "      <th>utc_offset</th>\n",
       "      <th>verified</th>\n",
       "      <th>trainingLabel</th>\n",
       "    </tr>\n",
       "  </thead>\n",
       "  <tbody>\n",
       "    <tr>\n",
       "      <td>0</td>\n",
       "      <td>1410411075</td>\n",
       "      <td>GM for @theCUBE, the Leading Interview format ...</td>\n",
       "      <td>0</td>\n",
       "      <td>False</td>\n",
       "      <td>1760</td>\n",
       "      <td>1265</td>\n",
       "      <td>2001</td>\n",
       "      <td>True</td>\n",
       "      <td>JeffBezosAmazon</td>\n",
       "      <td>NaN</td>\n",
       "      <td>...</td>\n",
       "      <td>JeffFrick</td>\n",
       "      <td>509927125139202048</td>\n",
       "      <td>13506</td>\n",
       "      <td>@JeffBezosAmazon @amazon @awscloud -&gt; Jeff get...</td>\n",
       "      <td>Pacific Time (US &amp; Canada)</td>\n",
       "      <td>19747132</td>\n",
       "      <td>Jeff Frick</td>\n",
       "      <td>-25200.0</td>\n",
       "      <td>False</td>\n",
       "      <td>0</td>\n",
       "    </tr>\n",
       "    <tr>\n",
       "      <td>1</td>\n",
       "      <td>1410418911</td>\n",
       "      <td>Everything is Content covers tech #conferences...</td>\n",
       "      <td>0</td>\n",
       "      <td>False</td>\n",
       "      <td>22</td>\n",
       "      <td>183</td>\n",
       "      <td>154</td>\n",
       "      <td>True</td>\n",
       "      <td>NaN</td>\n",
       "      <td>NaN</td>\n",
       "      <td>...</td>\n",
       "      <td>contentpurveyor</td>\n",
       "      <td>509959993781919744</td>\n",
       "      <td>1816</td>\n",
       "      <td>Visit @awscloud Sept 11-16 #Amsterdam to learn...</td>\n",
       "      <td>Eastern Time (US &amp; Canada)</td>\n",
       "      <td>2465523308</td>\n",
       "      <td>ContentPurveyor</td>\n",
       "      <td>-14400.0</td>\n",
       "      <td>False</td>\n",
       "      <td>1</td>\n",
       "    </tr>\n",
       "    <tr>\n",
       "      <td>2</td>\n",
       "      <td>1410422657</td>\n",
       "      <td>Founder CEO @mailcloud, previously @zaggora. G...</td>\n",
       "      <td>6</td>\n",
       "      <td>False</td>\n",
       "      <td>4870</td>\n",
       "      <td>3733</td>\n",
       "      <td>301</td>\n",
       "      <td>True</td>\n",
       "      <td>NaN</td>\n",
       "      <td>NaN</td>\n",
       "      <td>...</td>\n",
       "      <td>malcolmbell</td>\n",
       "      <td>509975703421739008</td>\n",
       "      <td>4244</td>\n",
       "      <td>Super excited to take this selfie at #seedcamp...</td>\n",
       "      <td>NaN</td>\n",
       "      <td>135183746</td>\n",
       "      <td>Malcolm Bell</td>\n",
       "      <td>NaN</td>\n",
       "      <td>False</td>\n",
       "      <td>0</td>\n",
       "    </tr>\n",
       "    <tr>\n",
       "      <td>3</td>\n",
       "      <td>1410424594</td>\n",
       "      <td>Accelerating startups from prototype to IPO wi...</td>\n",
       "      <td>7</td>\n",
       "      <td>False</td>\n",
       "      <td>2393</td>\n",
       "      <td>50783</td>\n",
       "      <td>3259</td>\n",
       "      <td>True</td>\n",
       "      <td>NaN</td>\n",
       "      <td>NaN</td>\n",
       "      <td>...</td>\n",
       "      <td>seedcamp</td>\n",
       "      <td>509983830275407872</td>\n",
       "      <td>5934</td>\n",
       "      <td>The stage is set at @awscloud in Holburn for o...</td>\n",
       "      <td>London</td>\n",
       "      <td>15317462</td>\n",
       "      <td>seedcamp</td>\n",
       "      <td>0.0</td>\n",
       "      <td>False</td>\n",
       "      <td>0</td>\n",
       "    </tr>\n",
       "    <tr>\n",
       "      <td>4</td>\n",
       "      <td>1410425306</td>\n",
       "      <td>Online Investment Manager</td>\n",
       "      <td>0</td>\n",
       "      <td>False</td>\n",
       "      <td>50</td>\n",
       "      <td>86</td>\n",
       "      <td>237</td>\n",
       "      <td>False</td>\n",
       "      <td>NaN</td>\n",
       "      <td>NaN</td>\n",
       "      <td>...</td>\n",
       "      <td>ZenAssets</td>\n",
       "      <td>509986815164813312</td>\n",
       "      <td>120</td>\n",
       "      <td>RT @seedcamp The stage is set at @awscloud in ...</td>\n",
       "      <td>Kyiv</td>\n",
       "      <td>2207428117</td>\n",
       "      <td>Zen Assets</td>\n",
       "      <td>7200.0</td>\n",
       "      <td>False</td>\n",
       "      <td>0</td>\n",
       "    </tr>\n",
       "  </tbody>\n",
       "</table>\n",
       "<p>5 rows × 45 columns</p>\n",
       "</div>"
      ],
      "text/plain": [
       "   created_at_in_seconds                                        description  \\\n",
       "0             1410411075  GM for @theCUBE, the Leading Interview format ...   \n",
       "1             1410418911  Everything is Content covers tech #conferences...   \n",
       "2             1410422657  Founder CEO @mailcloud, previously @zaggora. G...   \n",
       "3             1410424594  Accelerating startups from prototype to IPO wi...   \n",
       "4             1410425306                          Online Investment Manager   \n",
       "\n",
       "   favorite_count  favorited  favourites_count  followers_count  \\\n",
       "0               0      False              1760             1265   \n",
       "1               0      False                22              183   \n",
       "2               6      False              4870             3733   \n",
       "3               7      False              2393            50783   \n",
       "4               0      False                50               86   \n",
       "\n",
       "   friends_count  geo_enabled in_reply_to_screen_name  in_reply_to_status_id  \\\n",
       "0           2001         True         JeffBezosAmazon                    NaN   \n",
       "1            154         True                     NaN                    NaN   \n",
       "2            301         True                     NaN                    NaN   \n",
       "3           3259         True                     NaN                    NaN   \n",
       "4            237        False                     NaN                    NaN   \n",
       "\n",
       "   ...      screen_name                 sid  statuses_count  \\\n",
       "0  ...        JeffFrick  509927125139202048           13506   \n",
       "1  ...  contentpurveyor  509959993781919744            1816   \n",
       "2  ...      malcolmbell  509975703421739008            4244   \n",
       "3  ...         seedcamp  509983830275407872            5934   \n",
       "4  ...        ZenAssets  509986815164813312             120   \n",
       "\n",
       "                                                text  \\\n",
       "0  @JeffBezosAmazon @amazon @awscloud -> Jeff get...   \n",
       "1  Visit @awscloud Sept 11-16 #Amsterdam to learn...   \n",
       "2  Super excited to take this selfie at #seedcamp...   \n",
       "3  The stage is set at @awscloud in Holburn for o...   \n",
       "4  RT @seedcamp The stage is set at @awscloud in ...   \n",
       "\n",
       "                    time_zone         uid        user.name  utc_offset  \\\n",
       "0  Pacific Time (US & Canada)    19747132       Jeff Frick    -25200.0   \n",
       "1  Eastern Time (US & Canada)  2465523308  ContentPurveyor    -14400.0   \n",
       "2                         NaN   135183746     Malcolm Bell         NaN   \n",
       "3                      London    15317462         seedcamp         0.0   \n",
       "4                        Kyiv  2207428117       Zen Assets      7200.0   \n",
       "\n",
       "   verified trainingLabel  \n",
       "0     False             0  \n",
       "1     False             1  \n",
       "2     False             0  \n",
       "3     False             0  \n",
       "4     False             0  \n",
       "\n",
       "[5 rows x 45 columns]"
      ]
     },
     "execution_count": 7,
     "metadata": {},
     "output_type": "execute_result"
    }
   ],
   "source": [
    "df.head()"
   ]
  },
  {
   "cell_type": "code",
   "execution_count": 8,
   "metadata": {},
   "outputs": [],
   "source": [
    "df = df[['text','trainingLabel']]"
   ]
  },
  {
   "cell_type": "code",
   "execution_count": 9,
   "metadata": {},
   "outputs": [
    {
     "data": {
      "text/plain": [
       "0    8424\n",
       "1    1384\n",
       "Name: trainingLabel, dtype: int64"
      ]
     },
     "execution_count": 9,
     "metadata": {},
     "output_type": "execute_result"
    }
   ],
   "source": [
    "# trainingLabel contains the class\n",
    "# Valid values are: \n",
    "#  0 = Normal\n",
    "#  1 = Followup\n",
    "\n",
    "df.trainingLabel.value_counts()"
   ]
  },
  {
   "cell_type": "code",
   "execution_count": 10,
   "metadata": {},
   "outputs": [],
   "source": [
    "tweet_normal = df['trainingLabel'] == 0\n",
    "tweet_followup = df['trainingLabel'] == 1"
   ]
  },
  {
   "cell_type": "code",
   "execution_count": 11,
   "metadata": {},
   "outputs": [
    {
     "data": {
      "text/plain": [
       "(9808,)"
      ]
     },
     "execution_count": 11,
     "metadata": {},
     "output_type": "execute_result"
    }
   ],
   "source": [
    "tweet_followup.shape"
   ]
  },
  {
   "cell_type": "code",
   "execution_count": 14,
   "metadata": {},
   "outputs": [
    {
     "name": "stdout",
     "output_type": "stream",
     "text": [
      "Visit @awscloud Sept 11-16 #Amsterdam to learn how their services can help YOU @IBCShow. http://t.co/110YOIlTbU\n",
      "\n",
      "It's insulting that @awscloud marked an EBS volume limit increase support request as low severity but I can't do anything while I wait.\n",
      "\n",
      "dear @awscloud it would be really great to have custom tabs on the aws console with searches on. I have too many instances already :)\n",
      "\n",
      "@awscloud chat about a future guest spot on #MobileChat to discuss how infrastructure backend is just as important as mobile front end?\n",
      "\n",
      "\"RT @aneel: I wonder how much @eucalyptus's api thing with @awscloud was worth to @hphelioncloud https://t.co/tKUNboFkn1” << $$$\n",
      "\n"
     ]
    }
   ],
   "source": [
    "# Some examples of tweets that are classified as requiring follow-up\n",
    "for i in range(5):\n",
    "    print(df[tweet_followup]['text'].iloc[i])\n",
    "    print()"
   ]
  },
  {
   "cell_type": "code",
   "execution_count": 15,
   "metadata": {},
   "outputs": [
    {
     "name": "stdout",
     "output_type": "stream",
     "text": [
      "@JeffBezosAmazon @amazon @awscloud -> Jeff get's into the Act. http://t.co/QYVgBd8o0b  #ALSIceBucketChallenge\n",
      "\n",
      "Super excited to take this selfie at #seedcamp today - thanks to @awscloud for hosting :) http://t.co/4849U96iJS\n",
      "\n",
      "The stage is set at @awscloud in Holburn for our second day of mentoring, this time with investors #seedcamp http://t.co/868c0aDQNl\n",
      "\n",
      "RT @seedcamp The stage is set at @awscloud in Holburn for our second day of mentoring, this time with investors! http://t.co/y88oKRYW04\n",
      "\n",
      "Warming up for the final pitches at @seedcamp week London #investor day. Thanks to @awscloud for hosting us. http://t.co/7CNRlo9tYa\n",
      "\n",
      "That is one full room at @awscloud as our mentoring day kicks off with an intro from @phylosopher #seedcamp http://t.co/70MEiflur4\n",
      "\n",
      "Cloud Pioneer http://t.co/Kox4nZ8ajx @awscloud @cloudfoundry  @HELPLINE_Corp @JLU122 @Aco63\n",
      "\n",
      "Standing room only @seedcamp London week, hosted at @awscloud. #seedcamp http://t.co/PYUtzSuVtY\n",
      "\n",
      "Thanks to @AWScloud for hosting us today and having @danielgandesha give another presentation for #seedcamp week\n",
      "\n",
      "RT @pablo_tech: Cloud Pioneer http://t.co/4vjW4e4nIM @awscloud @cloudfoundry @HELPLINE_Corp @JLU122 @Aco63\n",
      "\n"
     ]
    }
   ],
   "source": [
    "# Some examples of tweets that are classified as normal\n",
    "for i in range(10):\n",
    "    print(df[tweet_normal]['text'].iloc[i])\n",
    "    print()"
   ]
  },
  {
   "cell_type": "code",
   "execution_count": 13,
   "metadata": {},
   "outputs": [],
   "source": [
    "# Training, Validation and Test Split\n",
    "# Comprehend service automatically splits the provided dataset into 80-20 ratio for training and validation\n",
    "# We need to independently confirm quality of the model using a test set.\n",
    "\n",
    "# So, let's reserve 10% of the data for test and provide the remaining 90% to Comprehend service\n",
    "# Training & Validation   = 90% of the data\n",
    "# Test       = 10% of the data\n",
    "\n",
    "# Randomize the datset\n",
    "#np.random.seed(5)\n",
    "#l = list(df.index)\n",
    "#np.random.shuffle(l)\n",
    "#df = df.iloc[l]"
   ]
  },
  {
   "cell_type": "code",
   "execution_count": 18,
   "metadata": {},
   "outputs": [
    {
     "data": {
      "text/plain": [
       "RangeIndex(start=0, stop=9808, step=1)"
      ]
     },
     "execution_count": 18,
     "metadata": {},
     "output_type": "execute_result"
    }
   ],
   "source": [
    "df.index"
   ]
  },
  {
   "cell_type": "code",
   "execution_count": 20,
   "metadata": {},
   "outputs": [],
   "source": [
    "np.random.seed(10)\n",
    "l = list(df.index)\n",
    "np.random.shuffle(l)\n",
    "df=df.iloc[l]"
   ]
  },
  {
   "cell_type": "code",
   "execution_count": 21,
   "metadata": {},
   "outputs": [],
   "source": [
    "rows = df.shape[0]\n",
    "train = int(.9 * rows)\n",
    "test = rows - train"
   ]
  },
  {
   "cell_type": "code",
   "execution_count": 22,
   "metadata": {},
   "outputs": [
    {
     "data": {
      "text/plain": [
       "(9808, 8827, 981)"
      ]
     },
     "execution_count": 22,
     "metadata": {},
     "output_type": "execute_result"
    }
   ],
   "source": [
    "rows, train, test"
   ]
  },
  {
   "cell_type": "code",
   "execution_count": 23,
   "metadata": {},
   "outputs": [],
   "source": [
    "df_train = df[:train]\n",
    "df_test = df[train:]"
   ]
  },
  {
   "cell_type": "code",
   "execution_count": 24,
   "metadata": {},
   "outputs": [
    {
     "data": {
      "text/plain": [
       "0    7581\n",
       "1    1246\n",
       "Name: trainingLabel, dtype: int64"
      ]
     },
     "execution_count": 24,
     "metadata": {},
     "output_type": "execute_result"
    }
   ],
   "source": [
    "df_train.trainingLabel.value_counts()"
   ]
  },
  {
   "cell_type": "code",
   "execution_count": 25,
   "metadata": {},
   "outputs": [
    {
     "data": {
      "text/plain": [
       "0    843\n",
       "1    138\n",
       "Name: trainingLabel, dtype: int64"
      ]
     },
     "execution_count": 25,
     "metadata": {},
     "output_type": "execute_result"
    }
   ],
   "source": [
    "df_test.trainingLabel.value_counts()"
   ]
  },
  {
   "cell_type": "code",
   "execution_count": 26,
   "metadata": {},
   "outputs": [
    {
     "data": {
      "text/plain": [
       "Index(['text', 'trainingLabel'], dtype='object')"
      ]
     },
     "execution_count": 26,
     "metadata": {},
     "output_type": "execute_result"
    }
   ],
   "source": [
    "df_train.columns"
   ]
  },
  {
   "cell_type": "code",
   "execution_count": 27,
   "metadata": {},
   "outputs": [],
   "source": [
    "df_train.to_csv('twitter_train.csv', index=False, header=False,\n",
    "               columns=['trainingLabel', 'text'])"
   ]
  },
  {
   "cell_type": "code",
   "execution_count": 28,
   "metadata": {},
   "outputs": [],
   "source": [
    "df_test.to_csv('twitter_test_with_label.csv',\n",
    "                index=False,\n",
    "                header=False,\n",
    "                columns=['trainingLabel','text'])"
   ]
  },
  {
   "cell_type": "code",
   "execution_count": 29,
   "metadata": {},
   "outputs": [],
   "source": [
    "df_test.to_csv('twitter_test_without_label.csv',\n",
    "                index=False,\n",
    "                header=False,\n",
    "                columns=['text'])"
   ]
  },
  {
   "cell_type": "markdown",
   "metadata": {},
   "source": [
    "### Upload to S3"
   ]
  },
  {
   "cell_type": "code",
   "execution_count": 30,
   "metadata": {},
   "outputs": [
    {
     "name": "stdout",
     "output_type": "stream",
     "text": [
      "upload: ./twitter_train.csv to s3://jm-ml-sagemaker01/twitter/train/twitter_train.csv\n"
     ]
    }
   ],
   "source": [
    "!aws s3 cp twitter_train.csv s3://jm-ml-sagemaker01/twitter/train/twitter_train.csv"
   ]
  },
  {
   "cell_type": "code",
   "execution_count": 31,
   "metadata": {},
   "outputs": [
    {
     "name": "stdout",
     "output_type": "stream",
     "text": [
      "Completed 110.3 KiB/110.3 KiB (129.9 KiB/s) with 1 file(s) remaining\r",
      "upload: ./twitter_test_without_label.csv to s3://jm-ml-sagemaker01/twitter/test/twitter_test_without_label.csv\r\n"
     ]
    }
   ],
   "source": [
    "!aws s3 cp twitter_test_without_label.csv s3://jm-ml-sagemaker01/twitter/test/twitter_test_without_label.csv"
   ]
  },
  {
   "cell_type": "code",
   "execution_count": 33,
   "metadata": {},
   "outputs": [
    {
     "name": "stdout",
     "output_type": "stream",
     "text": [
      "                           PRE test/\r\n",
      "                           PRE train/\r\n"
     ]
    }
   ],
   "source": [
    "!aws s3 ls s3://jm-ml-sagemaker01/twitter/"
   ]
  }
 ],
 "metadata": {
  "kernelspec": {
   "display_name": "Python 3",
   "language": "python",
   "name": "python3"
  },
  "language_info": {
   "codemirror_mode": {
    "name": "ipython",
    "version": 3
   },
   "file_extension": ".py",
   "mimetype": "text/x-python",
   "name": "python",
   "nbconvert_exporter": "python",
   "pygments_lexer": "ipython3",
   "version": "3.6.8"
  }
 },
 "nbformat": 4,
 "nbformat_minor": 1
}
