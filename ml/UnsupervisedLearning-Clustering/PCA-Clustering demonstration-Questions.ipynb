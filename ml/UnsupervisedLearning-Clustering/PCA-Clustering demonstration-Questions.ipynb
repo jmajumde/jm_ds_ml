{
 "cells": [
  {
   "cell_type": "markdown",
   "metadata": {
    "colab_type": "text",
    "id": "pcS8ksaymJxh"
   },
   "source": [
    "In this demonstration we'll look at a sample example, which would be following the same procedure through which the assignment problem can be solved"
   ]
  },
  {
   "cell_type": "code",
   "execution_count": 1,
   "metadata": {
    "colab": {},
    "colab_type": "code",
    "id": "bq5y2MaKmJxn"
   },
   "outputs": [],
   "source": [
    "#import all the necessary libraries\n",
    "\n",
    "import pandas as pd\n",
    "import numpy as np\n",
    "import pandas as pd\n",
    "\n",
    "# For Visualisation\n",
    "import matplotlib.pyplot as plt\n",
    "import seaborn as sns\n",
    "%matplotlib inline\n",
    "\n",
    "# To Scale our data\n",
    "from sklearn.preprocessing import scale\n",
    "\n",
    "# To perform KMeans clustering \n",
    "from sklearn.cluster import KMeans\n",
    "\n",
    "# To perform Hierarchical clustering\n",
    "from scipy.cluster.hierarchy import linkage\n",
    "from scipy.cluster.hierarchy import dendrogram\n",
    "from scipy.cluster.hierarchy import cut_tree"
   ]
  },
  {
   "cell_type": "code",
   "execution_count": 6,
   "metadata": {
    "colab": {},
    "colab_type": "code",
    "id": "cT-doJbZmJxr"
   },
   "outputs": [
    {
     "data": {
      "text/html": [
       "<div>\n",
       "<style scoped>\n",
       "    .dataframe tbody tr th:only-of-type {\n",
       "        vertical-align: middle;\n",
       "    }\n",
       "\n",
       "    .dataframe tbody tr th {\n",
       "        vertical-align: top;\n",
       "    }\n",
       "\n",
       "    .dataframe thead th {\n",
       "        text-align: right;\n",
       "    }\n",
       "</style>\n",
       "<table border=\"1\" class=\"dataframe\">\n",
       "  <thead>\n",
       "    <tr style=\"text-align: right;\">\n",
       "      <th></th>\n",
       "      <th>sepal_length</th>\n",
       "      <th>sepal_width</th>\n",
       "      <th>petal_length</th>\n",
       "      <th>petal_width</th>\n",
       "      <th>species</th>\n",
       "    </tr>\n",
       "  </thead>\n",
       "  <tbody>\n",
       "    <tr>\n",
       "      <td>0</td>\n",
       "      <td>5.1</td>\n",
       "      <td>3.5</td>\n",
       "      <td>1.4</td>\n",
       "      <td>0.2</td>\n",
       "      <td>setosa</td>\n",
       "    </tr>\n",
       "    <tr>\n",
       "      <td>1</td>\n",
       "      <td>4.9</td>\n",
       "      <td>3.0</td>\n",
       "      <td>1.4</td>\n",
       "      <td>0.2</td>\n",
       "      <td>setosa</td>\n",
       "    </tr>\n",
       "    <tr>\n",
       "      <td>2</td>\n",
       "      <td>4.7</td>\n",
       "      <td>3.2</td>\n",
       "      <td>1.3</td>\n",
       "      <td>0.2</td>\n",
       "      <td>setosa</td>\n",
       "    </tr>\n",
       "    <tr>\n",
       "      <td>3</td>\n",
       "      <td>4.6</td>\n",
       "      <td>3.1</td>\n",
       "      <td>1.5</td>\n",
       "      <td>0.2</td>\n",
       "      <td>setosa</td>\n",
       "    </tr>\n",
       "    <tr>\n",
       "      <td>4</td>\n",
       "      <td>5.0</td>\n",
       "      <td>3.6</td>\n",
       "      <td>1.4</td>\n",
       "      <td>0.2</td>\n",
       "      <td>setosa</td>\n",
       "    </tr>\n",
       "  </tbody>\n",
       "</table>\n",
       "</div>"
      ],
      "text/plain": [
       "   sepal_length  sepal_width  petal_length  petal_width species\n",
       "0           5.1          3.5           1.4          0.2  setosa\n",
       "1           4.9          3.0           1.4          0.2  setosa\n",
       "2           4.7          3.2           1.3          0.2  setosa\n",
       "3           4.6          3.1           1.5          0.2  setosa\n",
       "4           5.0          3.6           1.4          0.2  setosa"
      ]
     },
     "execution_count": 6,
     "metadata": {},
     "output_type": "execute_result"
    }
   ],
   "source": [
    "#Let's read the dataset first\n",
    "dat = pd.read_csv('https://query.data.world/s/fgpmczptzlakpvpcuuoxrotp65hsjl')\n",
    "dat.head()"
   ]
  },
  {
   "cell_type": "code",
   "execution_count": 3,
   "metadata": {},
   "outputs": [
    {
     "data": {
      "text/plain": [
       "versicolor    50\n",
       "setosa        50\n",
       "virginica     50\n",
       "Name: species, dtype: int64"
      ]
     },
     "execution_count": 3,
     "metadata": {},
     "output_type": "execute_result"
    }
   ],
   "source": [
    "dat['species'].value_counts()"
   ]
  },
  {
   "cell_type": "code",
   "execution_count": null,
   "metadata": {},
   "outputs": [],
   "source": [
    "# We will try to cluster the data into some similar types of species"
   ]
  },
  {
   "cell_type": "code",
   "execution_count": 8,
   "metadata": {
    "colab": {},
    "colab_type": "code",
    "id": "Z5qn69v9mJxv"
   },
   "outputs": [
    {
     "data": {
      "text/html": [
       "<div>\n",
       "<style scoped>\n",
       "    .dataframe tbody tr th:only-of-type {\n",
       "        vertical-align: middle;\n",
       "    }\n",
       "\n",
       "    .dataframe tbody tr th {\n",
       "        vertical-align: top;\n",
       "    }\n",
       "\n",
       "    .dataframe thead th {\n",
       "        text-align: right;\n",
       "    }\n",
       "</style>\n",
       "<table border=\"1\" class=\"dataframe\">\n",
       "  <thead>\n",
       "    <tr style=\"text-align: right;\">\n",
       "      <th></th>\n",
       "      <th>sepal_length</th>\n",
       "      <th>sepal_width</th>\n",
       "      <th>petal_length</th>\n",
       "      <th>petal_width</th>\n",
       "    </tr>\n",
       "  </thead>\n",
       "  <tbody>\n",
       "    <tr>\n",
       "      <td>0</td>\n",
       "      <td>5.1</td>\n",
       "      <td>3.5</td>\n",
       "      <td>1.4</td>\n",
       "      <td>0.2</td>\n",
       "    </tr>\n",
       "    <tr>\n",
       "      <td>1</td>\n",
       "      <td>4.9</td>\n",
       "      <td>3.0</td>\n",
       "      <td>1.4</td>\n",
       "      <td>0.2</td>\n",
       "    </tr>\n",
       "    <tr>\n",
       "      <td>2</td>\n",
       "      <td>4.7</td>\n",
       "      <td>3.2</td>\n",
       "      <td>1.3</td>\n",
       "      <td>0.2</td>\n",
       "    </tr>\n",
       "    <tr>\n",
       "      <td>3</td>\n",
       "      <td>4.6</td>\n",
       "      <td>3.1</td>\n",
       "      <td>1.5</td>\n",
       "      <td>0.2</td>\n",
       "    </tr>\n",
       "    <tr>\n",
       "      <td>4</td>\n",
       "      <td>5.0</td>\n",
       "      <td>3.6</td>\n",
       "      <td>1.4</td>\n",
       "      <td>0.2</td>\n",
       "    </tr>\n",
       "  </tbody>\n",
       "</table>\n",
       "</div>"
      ],
      "text/plain": [
       "   sepal_length  sepal_width  petal_length  petal_width\n",
       "0           5.1          3.5           1.4          0.2\n",
       "1           4.9          3.0           1.4          0.2\n",
       "2           4.7          3.2           1.3          0.2\n",
       "3           4.6          3.1           1.5          0.2\n",
       "4           5.0          3.6           1.4          0.2"
      ]
     },
     "execution_count": 8,
     "metadata": {},
     "output_type": "execute_result"
    }
   ],
   "source": [
    "## Let's drop species column as this is a label column and we don't need it in case of unsupervised learning models\n",
    "dat.drop('species',axis=1,inplace=True)\n",
    "dat.head()"
   ]
  },
  {
   "cell_type": "code",
   "execution_count": 9,
   "metadata": {
    "colab": {},
    "colab_type": "code",
    "id": "0im9wNMzmJxz"
   },
   "outputs": [
    {
     "data": {
      "text/html": [
       "<div>\n",
       "<style scoped>\n",
       "    .dataframe tbody tr th:only-of-type {\n",
       "        vertical-align: middle;\n",
       "    }\n",
       "\n",
       "    .dataframe tbody tr th {\n",
       "        vertical-align: top;\n",
       "    }\n",
       "\n",
       "    .dataframe thead th {\n",
       "        text-align: right;\n",
       "    }\n",
       "</style>\n",
       "<table border=\"1\" class=\"dataframe\">\n",
       "  <thead>\n",
       "    <tr style=\"text-align: right;\">\n",
       "      <th></th>\n",
       "      <th>sepal_length</th>\n",
       "      <th>sepal_width</th>\n",
       "      <th>petal_length</th>\n",
       "      <th>petal_width</th>\n",
       "      <th>ID</th>\n",
       "    </tr>\n",
       "  </thead>\n",
       "  <tbody>\n",
       "    <tr>\n",
       "      <td>0</td>\n",
       "      <td>5.1</td>\n",
       "      <td>3.5</td>\n",
       "      <td>1.4</td>\n",
       "      <td>0.2</td>\n",
       "      <td>100</td>\n",
       "    </tr>\n",
       "    <tr>\n",
       "      <td>1</td>\n",
       "      <td>4.9</td>\n",
       "      <td>3.0</td>\n",
       "      <td>1.4</td>\n",
       "      <td>0.2</td>\n",
       "      <td>101</td>\n",
       "    </tr>\n",
       "    <tr>\n",
       "      <td>2</td>\n",
       "      <td>4.7</td>\n",
       "      <td>3.2</td>\n",
       "      <td>1.3</td>\n",
       "      <td>0.2</td>\n",
       "      <td>102</td>\n",
       "    </tr>\n",
       "    <tr>\n",
       "      <td>3</td>\n",
       "      <td>4.6</td>\n",
       "      <td>3.1</td>\n",
       "      <td>1.5</td>\n",
       "      <td>0.2</td>\n",
       "      <td>103</td>\n",
       "    </tr>\n",
       "    <tr>\n",
       "      <td>4</td>\n",
       "      <td>5.0</td>\n",
       "      <td>3.6</td>\n",
       "      <td>1.4</td>\n",
       "      <td>0.2</td>\n",
       "      <td>104</td>\n",
       "    </tr>\n",
       "  </tbody>\n",
       "</table>\n",
       "</div>"
      ],
      "text/plain": [
       "   sepal_length  sepal_width  petal_length  petal_width   ID\n",
       "0           5.1          3.5           1.4          0.2  100\n",
       "1           4.9          3.0           1.4          0.2  101\n",
       "2           4.7          3.2           1.3          0.2  102\n",
       "3           4.6          3.1           1.5          0.2  103\n",
       "4           5.0          3.6           1.4          0.2  104"
      ]
     },
     "execution_count": 9,
     "metadata": {},
     "output_type": "execute_result"
    }
   ],
   "source": [
    "# Now, we need to create a ID columns, without this we will not be able to make necessary conclusions or we will not be able to\n",
    "# identify that which observation goes to which cluster\n",
    "\n",
    "# At the end of the clusterng, I want to know which flower goes into which cluster\n",
    "dat['ID'] = dat.index+100\n",
    "dat.head()"
   ]
  },
  {
   "cell_type": "code",
   "execution_count": 11,
   "metadata": {
    "colab": {},
    "colab_type": "code",
    "id": "QMhdZO54mJx3"
   },
   "outputs": [
    {
     "data": {
      "text/plain": [
       "(150, 5)"
      ]
     },
     "execution_count": 11,
     "metadata": {},
     "output_type": "execute_result"
    }
   ],
   "source": [
    "# Let's check the shape again\n",
    "dat.shape"
   ]
  },
  {
   "cell_type": "code",
   "execution_count": 10,
   "metadata": {
    "colab": {},
    "colab_type": "code",
    "id": "0o6-NZpMmJx7"
   },
   "outputs": [
    {
     "name": "stdout",
     "output_type": "stream",
     "text": [
      "<class 'pandas.core.frame.DataFrame'>\n",
      "RangeIndex: 150 entries, 0 to 149\n",
      "Data columns (total 5 columns):\n",
      "sepal_length    150 non-null float64\n",
      "sepal_width     150 non-null float64\n",
      "petal_length    150 non-null float64\n",
      "petal_width     150 non-null float64\n",
      "ID              150 non-null int64\n",
      "dtypes: float64(4), int64(1)\n",
      "memory usage: 6.0 KB\n"
     ]
    }
   ],
   "source": [
    "# Also, check the info again\n",
    "dat.info()"
   ]
  },
  {
   "cell_type": "markdown",
   "metadata": {
    "colab_type": "text",
    "id": "fB8xD8rymJx-"
   },
   "source": [
    "## Question-1:\n",
    "\n",
    "Check if the data have some null values?"
   ]
  },
  {
   "cell_type": "code",
   "execution_count": 12,
   "metadata": {
    "colab": {},
    "colab_type": "code",
    "id": "YhlgA0ZXmJx_"
   },
   "outputs": [
    {
     "data": {
      "text/plain": [
       "sepal_length    0\n",
       "sepal_width     0\n",
       "petal_length    0\n",
       "petal_width     0\n",
       "ID              0\n",
       "dtype: int64"
      ]
     },
     "execution_count": 12,
     "metadata": {},
     "output_type": "execute_result"
    }
   ],
   "source": [
    "# Number of nulls per column\n",
    "dat.isnull().sum()"
   ]
  },
  {
   "cell_type": "markdown",
   "metadata": {
    "colab_type": "text",
    "id": "9OsDm86BmJyC"
   },
   "source": [
    "### Let's begin with analysis part "
   ]
  },
  {
   "cell_type": "markdown",
   "metadata": {
    "colab_type": "text",
    "id": "gvM6RUwOmJyD"
   },
   "source": [
    "### 1. Principal Component Analysis"
   ]
  },
  {
   "cell_type": "code",
   "execution_count": 13,
   "metadata": {
    "colab": {},
    "colab_type": "code",
    "id": "sKBp3sLImJyH"
   },
   "outputs": [],
   "source": [
    "# Let's preserve the ID column to some variable, so that we can make use of it later after perfroming PCA\n",
    "ID = dat['ID']"
   ]
  },
  {
   "cell_type": "code",
   "execution_count": 14,
   "metadata": {
    "colab": {},
    "colab_type": "code",
    "id": "IvnY8iAbmJyK"
   },
   "outputs": [],
   "source": [
    "# Now let's drop the ID column as it is not a predictor in our data.\n",
    "dat1 = dat.drop('ID',axis=1)"
   ]
  },
  {
   "cell_type": "code",
   "execution_count": 15,
   "metadata": {
    "colab": {},
    "colab_type": "code",
    "id": "FpNeLvGImJyQ"
   },
   "outputs": [
    {
     "name": "stdout",
     "output_type": "stream",
     "text": [
      "<class 'pandas.core.frame.DataFrame'>\n",
      "RangeIndex: 150 entries, 0 to 149\n",
      "Data columns (total 4 columns):\n",
      "sepal_length    150 non-null float64\n",
      "sepal_width     150 non-null float64\n",
      "petal_length    150 non-null float64\n",
      "petal_width     150 non-null float64\n",
      "dtypes: float64(4)\n",
      "memory usage: 4.8 KB\n"
     ]
    }
   ],
   "source": [
    "# Let's check the info about the data\n",
    "dat1.info()"
   ]
  },
  {
   "cell_type": "markdown",
   "metadata": {
    "colab_type": "text",
    "id": "f1XF4VlMmJyX"
   },
   "source": [
    "## Question-2: \n",
    "\n",
    "In the below cell use standard scaler to standardise the data\n",
    "\n",
    "After this, check what is the maximum value in the array we have?"
   ]
  },
  {
   "cell_type": "code",
   "execution_count": 22,
   "metadata": {
    "colab": {},
    "colab_type": "code",
    "id": "7-GJxeN7mJya"
   },
   "outputs": [
    {
     "data": {
      "text/plain": [
       "(150, 5)"
      ]
     },
     "execution_count": 22,
     "metadata": {},
     "output_type": "execute_result"
    }
   ],
   "source": [
    "## Let's scale the data with 4 columns\n",
    "from sklearn.preprocessing import StandardScaler\n",
    "standard_scaler = StandardScaler()\n",
    "dat2 = standard_scaler.fit_transform(dat)\n",
    "dat2.shape"
   ]
  },
  {
   "cell_type": "code",
   "execution_count": 23,
   "metadata": {
    "colab": {},
    "colab_type": "code",
    "id": "-NnB0EhfmJyf"
   },
   "outputs": [
    {
     "data": {
      "text/plain": [
       "3.11"
      ]
     },
     "execution_count": 23,
     "metadata": {},
     "output_type": "execute_result"
    }
   ],
   "source": [
    "# Check maximum value here\n",
    "dat2.max().round(2)"
   ]
  },
  {
   "cell_type": "markdown",
   "metadata": {
    "colab_type": "text",
    "id": "H16AHAtFmJyj"
   },
   "source": [
    "## Question-3 & 4: \n",
    "\n",
    "Now, we will perfrom PCA on the data we have, use svd_solver as randomized and random_state as 42\n",
    "\n",
    "After this, check pca.components_, this will basically give you the all the vectors of the new feature space. Now check the first vector and check the first coponent of it.\n",
    "\n",
    "- What is the first coponent of the first vector obtained from pca.components_?\n",
    "- What is the variance explained by the first principa component?"
   ]
  },
  {
   "cell_type": "code",
   "execution_count": null,
   "metadata": {},
   "outputs": [],
   "source": [
    "# Sampling: 100  --- 50\n",
    "# random state=int\n",
    "# it acts as indicator or tag"
   ]
  },
  {
   "cell_type": "code",
   "execution_count": 24,
   "metadata": {
    "colab": {},
    "colab_type": "code",
    "id": "oDsRpZmymJyk"
   },
   "outputs": [],
   "source": [
    "#Importing the PCA module\n",
    "from sklearn.decomposition import PCA\n",
    "pca = PCA(svd_solver = 'randomized', random_state=42)\n",
    "# PCA: Eigen Decomposition method to get PCA\n",
    "# PCA: another method \"single value decomposition\""
   ]
  },
  {
   "cell_type": "code",
   "execution_count": 25,
   "metadata": {
    "colab": {},
    "colab_type": "code",
    "id": "nqGPGWxgmJyp"
   },
   "outputs": [
    {
     "data": {
      "text/plain": [
       "PCA(copy=True, iterated_power='auto', n_components=None, random_state=42,\n",
       "    svd_solver='randomized', tol=0.0, whiten=False)"
      ]
     },
     "execution_count": 25,
     "metadata": {},
     "output_type": "execute_result"
    }
   ],
   "source": [
    "#Performing the PCA\n",
    "pca.fit(dat2)"
   ]
  },
  {
   "cell_type": "code",
   "execution_count": null,
   "metadata": {},
   "outputs": [],
   "source": [
    "# PCA\n",
    "# Variance \n"
   ]
  },
  {
   "cell_type": "code",
   "execution_count": 31,
   "metadata": {
    "colab": {},
    "colab_type": "code",
    "id": "BO9M-E9wmJys"
   },
   "outputs": [
    {
     "data": {
      "text/plain": [
       "array([[ 0.44844975, -0.23195044,  0.51079205,  0.5024696 ,  0.48136016],\n",
       "       [ 0.38285827,  0.92007839,  0.03074857,  0.07356757, -0.02275157],\n",
       "       [-0.64520569,  0.27427786, -0.13238322,  0.19127876,  0.67406853],\n",
       "       [-0.40999945,  0.09491665,  0.28817343,  0.65305918, -0.55978662],\n",
       "       [-0.26061932,  0.12416613,  0.79848404, -0.52824072,  0.0067323 ]])"
      ]
     },
     "execution_count": 31,
     "metadata": {},
     "output_type": "execute_result"
    }
   ],
   "source": [
    "#first coponent of the first vector obtained from pca.components_\n",
    "pca.components_"
   ]
  },
  {
   "cell_type": "code",
   "execution_count": 32,
   "metadata": {},
   "outputs": [
    {
     "data": {
      "text/plain": [
       "0.44844974920019093"
      ]
     },
     "execution_count": 32,
     "metadata": {},
     "output_type": "execute_result"
    }
   ],
   "source": [
    "pca.components_[0][0]"
   ]
  },
  {
   "cell_type": "code",
   "execution_count": 30,
   "metadata": {
    "colab": {},
    "colab_type": "code",
    "id": "n-HZq3t0mJyu"
   },
   "outputs": [
    {
     "data": {
      "text/plain": [
       "array([0.7470533 , 0.18435257, 0.04682624, 0.01764767, 0.00412021])"
      ]
     },
     "execution_count": 30,
     "metadata": {},
     "output_type": "execute_result"
    }
   ],
   "source": [
    "#What is the variance explained by the first principa component\n",
    "# ratio gives the variance explained by an individual PC over the total variance\n",
    "\n",
    "pca.explained_variance_ratio_"
   ]
  },
  {
   "cell_type": "code",
   "execution_count": 33,
   "metadata": {
    "colab": {},
    "colab_type": "code",
    "id": "DI8u9ngsmJyx"
   },
   "outputs": [
    {
     "data": {
      "text/plain": [
       "Text(0, 0.5, 'Cumulative Variance')"
      ]
     },
     "execution_count": 33,
     "metadata": {},
     "output_type": "execute_result"
    },
    {
     "data": {
      "image/png": "[encoded data removed]",
      "text/plain": [
       "<Figure size 720x576 with 1 Axes>"
      ]
     },
     "metadata": {
      "needs_background": "light"
     },
     "output_type": "display_data"
    }
   ],
   "source": [
    "#Plotting the scree plot\n",
    "%matplotlib inline\n",
    "fig=plt.figure(figsize=(10,8))\n",
    "plt.plot(np.cumsum(pca.explained_variance_ratio_))\n",
    "plt.xlabel(\"No of components\")\n",
    "plt.ylabel('Cumulative Variance')"
   ]
  },
  {
   "cell_type": "markdown",
   "metadata": {
    "colab_type": "text",
    "id": "QecJDZcGmJy1"
   },
   "source": [
    "## Question-5:\n",
    "\n",
    "Choose the correct number of PCA from the cumulative variance plot.\n",
    "\n",
    "What is the number of PCs we can go about?"
   ]
  },
  {
   "cell_type": "code",
   "execution_count": 0,
   "metadata": {
    "colab": {},
    "colab_type": "code",
    "collapsed": true,
    "id": "VR89Re7emJy2"
   },
   "outputs": [],
   "source": [
    "# What is the number of PCs we can go about?\n",
    "\n",
    "# Answer here: 2"
   ]
  },
  {
   "cell_type": "code",
   "execution_count": 47,
   "metadata": {},
   "outputs": [
    {
     "data": {
      "text/plain": [
       "sepal_length    15.006562\n",
       "sepal_width      4.114512\n",
       "petal_length    68.132654\n",
       "petal_width     12.746273\n",
       "dtype: float64"
      ]
     },
     "execution_count": 47,
     "metadata": {},
     "output_type": "execute_result"
    }
   ],
   "source": [
    "100*dat.drop('ID',axis=1).var()/sum(dat.drop('ID',axis=1).var())"
   ]
  },
  {
   "cell_type": "code",
   "execution_count": null,
   "metadata": {},
   "outputs": [],
   "source": [
    "## PCA: You get componets that are linear combination of original features\n",
    "## PC1: combination of some original features\n",
    "## PC1 = ORIGINAL =----WRONG"
   ]
  },
  {
   "cell_type": "markdown",
   "metadata": {
    "colab_type": "text",
    "id": "DU77h6sXmJy_"
   },
   "source": [
    "### Run the PCA with the components choosed above"
   ]
  },
  {
   "cell_type": "code",
   "execution_count": 34,
   "metadata": {
    "colab": {},
    "colab_type": "code",
    "id": "ojbBz-y_mJzA"
   },
   "outputs": [],
   "source": [
    "#Finally let's go ahead and do dimenstionality reduction\n",
    "from sklearn.decomposition import IncrementalPCA\n",
    "pca_final = IncrementalPCA(n_components=2)"
   ]
  },
  {
   "cell_type": "code",
   "execution_count": 35,
   "metadata": {
    "colab": {},
    "colab_type": "code",
    "id": "pCsu7iEfmJzK"
   },
   "outputs": [
    {
     "data": {
      "text/plain": [
       "(150, 2)"
      ]
     },
     "execution_count": 35,
     "metadata": {},
     "output_type": "execute_result"
    }
   ],
   "source": [
    "# Transform the data here\n",
    "df_pca = pca_final.fit_transform(dat2)\n",
    "df_pca.shape"
   ]
  },
  {
   "cell_type": "code",
   "execution_count": 41,
   "metadata": {},
   "outputs": [
    {
     "data": {
      "text/html": [
       "<div>\n",
       "<style scoped>\n",
       "    .dataframe tbody tr th:only-of-type {\n",
       "        vertical-align: middle;\n",
       "    }\n",
       "\n",
       "    .dataframe tbody tr th {\n",
       "        vertical-align: top;\n",
       "    }\n",
       "\n",
       "    .dataframe thead th {\n",
       "        text-align: right;\n",
       "    }\n",
       "</style>\n",
       "<table border=\"1\" class=\"dataframe\">\n",
       "  <thead>\n",
       "    <tr style=\"text-align: right;\">\n",
       "      <th></th>\n",
       "      <th>sepal_length</th>\n",
       "      <th>sepal_width</th>\n",
       "    </tr>\n",
       "  </thead>\n",
       "  <tbody>\n",
       "    <tr>\n",
       "      <td>0</td>\n",
       "      <td>5.1</td>\n",
       "      <td>3.5</td>\n",
       "    </tr>\n",
       "    <tr>\n",
       "      <td>1</td>\n",
       "      <td>4.9</td>\n",
       "      <td>3.0</td>\n",
       "    </tr>\n",
       "    <tr>\n",
       "      <td>2</td>\n",
       "      <td>4.7</td>\n",
       "      <td>3.2</td>\n",
       "    </tr>\n",
       "    <tr>\n",
       "      <td>3</td>\n",
       "      <td>4.6</td>\n",
       "      <td>3.1</td>\n",
       "    </tr>\n",
       "    <tr>\n",
       "      <td>4</td>\n",
       "      <td>5.0</td>\n",
       "      <td>3.6</td>\n",
       "    </tr>\n",
       "  </tbody>\n",
       "</table>\n",
       "</div>"
      ],
      "text/plain": [
       "   sepal_length  sepal_width\n",
       "0           5.1          3.5\n",
       "1           4.9          3.0\n",
       "2           4.7          3.2\n",
       "3           4.6          3.1\n",
       "4           5.0          3.6"
      ]
     },
     "execution_count": 41,
     "metadata": {},
     "output_type": "execute_result"
    }
   ],
   "source": [
    "dat.iloc[:,:2].head()"
   ]
  },
  {
   "cell_type": "code",
   "execution_count": 42,
   "metadata": {},
   "outputs": [
    {
     "data": {
      "text/plain": [
       "array([[-2.81523374,  0.50780148],\n",
       "       [-2.64381157, -0.64904242],\n",
       "       [-2.87840736, -0.32028277],\n",
       "       [-2.80968411, -0.5766571 ],\n",
       "       [-2.87927452,  0.67087841],\n",
       "       [-2.59251492,  1.51984806],\n",
       "       [-2.90108089,  0.06667267],\n",
       "       [-2.7092994 ,  0.24582216],\n",
       "       [-2.78468857, -1.10037753],\n",
       "       [-2.64616924, -0.44936611],\n",
       "       [-2.61997047,  1.06893302],\n",
       "       [-2.74479639,  0.15134096],\n",
       "       [-2.6427054 , -0.71244982],\n",
       "       [-2.9911302 , -0.9529531 ],\n",
       "       [-2.60695676,  1.88596608],\n",
       "       [-2.64614878,  2.71299866],\n",
       "       [-2.58739587,  1.50563887],\n",
       "       [-2.56119963,  0.50663898],\n",
       "       [-2.29776746,  1.43022943],\n",
       "       [-2.6714905 ,  1.14465644],\n",
       "       [-2.28963909,  0.42878254],\n",
       "       [-2.52945124,  0.94047952],\n",
       "       [-3.0144526 ,  0.46470762],\n",
       "       [-2.16763852,  0.10246814],\n",
       "       [-2.51370009,  0.14857635],\n",
       "       [-2.2658033 , -0.61368493],\n",
       "       [-2.3379444 ,  0.25478656],\n",
       "       [-2.43318175,  0.53944877],\n",
       "       [-2.39740759,  0.32451336],\n",
       "       [-2.49252996, -0.33188979],\n",
       "       [-2.37321021, -0.49812471],\n",
       "       [-2.09410144,  0.43735355],\n",
       "       [-2.76704067,  1.8016466 ],\n",
       "       [-2.60959921,  2.16191802],\n",
       "       [-2.36977443, -0.46515611],\n",
       "       [-2.37942413, -0.20228568],\n",
       "       [-2.22866121,  0.67078887],\n",
       "       [-2.33660705, -0.46705091],\n",
       "       [-2.5359805 , -0.90865251],\n",
       "       [-2.30109212,  0.27249605],\n",
       "       [-2.39046199,  0.44341168],\n",
       "       [-2.00541129, -2.34150646],\n",
       "       [-2.59944142, -0.48620207],\n",
       "       [-2.07166671,  0.47568718],\n",
       "       [-2.21251539,  1.14570273],\n",
       "       [-2.14569299, -0.71414322],\n",
       "       [-2.40994607,  1.11984393],\n",
       "       [-2.40619495, -0.39377448],\n",
       "       [-2.25427228,  0.99804711],\n",
       "       [-2.22023774,  0.00499113],\n",
       "       [ 0.68720708,  0.90437761],\n",
       "       [ 0.37956967,  0.62837933],\n",
       "       [ 0.83307176,  0.65694638],\n",
       "       [ 0.11867277, -1.73547194],\n",
       "       [ 0.7116508 , -0.17476866],\n",
       "       [ 0.12603632, -0.57144585],\n",
       "       [ 0.45091764,  0.80403015],\n",
       "       [-0.61960018, -1.84825239],\n",
       "       [ 0.62428258,  0.06292905],\n",
       "       [-0.15666443, -1.02220384],\n",
       "       [-0.25839539, -2.64958499],\n",
       "       [ 0.23833109, -0.0427852 ],\n",
       "       [ 0.34586963, -1.74794338],\n",
       "       [ 0.50266125, -0.16326434],\n",
       "       [-0.14483852, -0.4278655 ],\n",
       "       [ 0.65624926,  0.5363137 ],\n",
       "       [ 0.2177153 , -0.18115231],\n",
       "       [ 0.05221821, -0.78061407],\n",
       "       [ 0.99709472, -1.60101228],\n",
       "       [ 0.08100835, -1.2946804 ],\n",
       "       [ 0.60314805,  0.41612373],\n",
       "       [ 0.37499833, -0.40308805],\n",
       "       [ 1.05070836, -0.91192674],\n",
       "       [ 0.53488995, -0.40121817],\n",
       "       [ 0.60496042, -0.04639294],\n",
       "       [ 0.7662273 ,  0.27062418],\n",
       "       [ 1.11030569, -0.05395248],\n",
       "       [ 1.21575972,  0.35586256],\n",
       "       [ 0.62191452, -0.21367954],\n",
       "       [ 0.00956584, -1.05845918],\n",
       "       [ 0.17291852, -1.56281692],\n",
       "       [ 0.08876501, -1.57483862],\n",
       "       [ 0.29197903, -0.77456946],\n",
       "       [ 1.02570521, -0.6213473 ],\n",
       "       [ 0.30787573, -0.28629131],\n",
       "       [ 0.4961805 ,  0.85391607],\n",
       "       [ 1.04187754,  0.53807099],\n",
       "       [ 1.04643972, -1.37460397],\n",
       "       [ 0.2122768 , -0.2214585 ],\n",
       "       [ 0.40899721, -1.3332327 ],\n",
       "       [ 0.41662   , -1.123689  ],\n",
       "       [ 0.72925773,  0.02972387],\n",
       "       [ 0.48550267, -0.99155849],\n",
       "       [-0.1133277 , -2.03659333],\n",
       "       [ 0.46926134, -0.86089797],\n",
       "       [ 0.3071273 , -0.18675391],\n",
       "       [ 0.43811076, -0.39029923],\n",
       "       [ 0.75039981, -0.15468994],\n",
       "       [-0.13259627, -1.56376087],\n",
       "       [ 0.49599651, -0.60649785],\n",
       "       [ 1.9107509 ,  0.88601222],\n",
       "       [ 1.31412254, -0.69776219],\n",
       "       [ 2.23629774,  0.58225033],\n",
       "       [ 1.58019233, -0.04012077],\n",
       "       [ 1.96883979,  0.30743585],\n",
       "       [ 2.74544038,  0.8274888 ],\n",
       "       [ 0.68037505, -1.5779047 ],\n",
       "       [ 2.37250035,  0.43891159],\n",
       "       [ 2.12677447, -0.70206127],\n",
       "       [ 2.36764783,  1.94157436],\n",
       "       [ 1.59145352,  0.69676591],\n",
       "       [ 1.8094593 , -0.41913681],\n",
       "       [ 2.06709524,  0.42801745],\n",
       "       [ 1.53701618, -1.16944402],\n",
       "       [ 1.73443397, -0.44561105],\n",
       "       [ 1.8488148 ,  0.67907771],\n",
       "       [ 1.74979576,  0.25611165],\n",
       "       [ 2.59700478,  2.57809217],\n",
       "       [ 3.37849804,  0.04080501],\n",
       "       [ 1.59771464, -1.71791711],\n",
       "       [ 2.29269802,  0.91760679],\n",
       "       [ 1.38039081, -0.58573206],\n",
       "       [ 3.05853289,  0.43090055],\n",
       "       [ 1.70512659, -0.4904374 ],\n",
       "       [ 2.04206405,  1.01464921],\n",
       "       [ 2.26818557,  1.01267676],\n",
       "       [ 1.60090634, -0.32854427],\n",
       "       [ 1.4789798 ,  0.05073127],\n",
       "       [ 2.163108  , -0.19278999],\n",
       "       [ 2.22967422,  0.56239332],\n",
       "       [ 2.74288583,  0.26472537],\n",
       "       [ 2.64108743,  2.63842437],\n",
       "       [ 2.27341681, -0.18574169],\n",
       "       [ 1.62183291, -0.30935829],\n",
       "       [ 1.71126165, -0.82923465],\n",
       "       [ 3.118089  ,  0.86549832],\n",
       "       [ 2.07233708,  1.05892674],\n",
       "       [ 1.87370344,  0.40845136],\n",
       "       [ 1.51704793, -0.00491683],\n",
       "       [ 2.33705785,  0.66852237],\n",
       "       [ 2.49577404,  0.60647547],\n",
       "       [ 2.40396969,  0.68096238],\n",
       "       [ 1.76741003, -0.7236578 ],\n",
       "       [ 2.55080666,  0.85982568],\n",
       "       [ 2.52752243,  1.04031601],\n",
       "       [ 2.42231474,  0.37399276],\n",
       "       [ 2.1623032 , -0.91855094],\n",
       "       [ 2.13732559,  0.25023526],\n",
       "       [ 2.0262517 ,  0.99125695],\n",
       "       [ 1.67161074, -0.05330334]])"
      ]
     },
     "execution_count": 42,
     "metadata": {},
     "output_type": "execute_result"
    }
   ],
   "source": [
    "df_pca"
   ]
  },
  {
   "cell_type": "code",
   "execution_count": 36,
   "metadata": {
    "colab": {},
    "colab_type": "code",
    "id": "akzvtVCTmJzO"
   },
   "outputs": [
    {
     "data": {
      "text/plain": [
       "array([[-2.81523374,  0.50780148],\n",
       "       [-2.64381157, -0.64904242],\n",
       "       [-2.87840736, -0.32028277],\n",
       "       [-2.80968411, -0.5766571 ],\n",
       "       [-2.87927452,  0.67087841],\n",
       "       [-2.59251492,  1.51984806],\n",
       "       [-2.90108089,  0.06667267],\n",
       "       [-2.7092994 ,  0.24582216],\n",
       "       [-2.78468857, -1.10037753],\n",
       "       [-2.64616924, -0.44936611]])"
      ]
     },
     "execution_count": 36,
     "metadata": {},
     "output_type": "execute_result"
    }
   ],
   "source": [
    "# Print the resultant PCs here\n",
    "df_pca[:10]"
   ]
  },
  {
   "cell_type": "code",
   "execution_count": 37,
   "metadata": {
    "colab": {},
    "colab_type": "code",
    "id": "N91PqDu7mJzS"
   },
   "outputs": [],
   "source": [
    "#Creating a transpose so that the each column is properly arranged\n",
    "pc=np.transpose(df_pca)"
   ]
  },
  {
   "cell_type": "code",
   "execution_count": 44,
   "metadata": {},
   "outputs": [
    {
     "data": {
      "text/plain": [
       "array([-2.81523374, -2.64381157, -2.87840736, -2.80968411, -2.87927452,\n",
       "       -2.59251492, -2.90108089, -2.7092994 , -2.78468857, -2.64616924,\n",
       "       -2.61997047, -2.74479639, -2.6427054 , -2.9911302 , -2.60695676,\n",
       "       -2.64614878, -2.58739587, -2.56119963, -2.29776746, -2.6714905 ,\n",
       "       -2.28963909, -2.52945124, -3.0144526 , -2.16763852, -2.51370009,\n",
       "       -2.2658033 , -2.3379444 , -2.43318175, -2.39740759, -2.49252996,\n",
       "       -2.37321021, -2.09410144, -2.76704067, -2.60959921, -2.36977443,\n",
       "       -2.37942413, -2.22866121, -2.33660705, -2.5359805 , -2.30109212,\n",
       "       -2.39046199, -2.00541129, -2.59944142, -2.07166671, -2.21251539,\n",
       "       -2.14569299, -2.40994607, -2.40619495, -2.25427228, -2.22023774,\n",
       "        0.68720708,  0.37956967,  0.83307176,  0.11867277,  0.7116508 ,\n",
       "        0.12603632,  0.45091764, -0.61960018,  0.62428258, -0.15666443,\n",
       "       -0.25839539,  0.23833109,  0.34586963,  0.50266125, -0.14483852,\n",
       "        0.65624926,  0.2177153 ,  0.05221821,  0.99709472,  0.08100835,\n",
       "        0.60314805,  0.37499833,  1.05070836,  0.53488995,  0.60496042,\n",
       "        0.7662273 ,  1.11030569,  1.21575972,  0.62191452,  0.00956584,\n",
       "        0.17291852,  0.08876501,  0.29197903,  1.02570521,  0.30787573,\n",
       "        0.4961805 ,  1.04187754,  1.04643972,  0.2122768 ,  0.40899721,\n",
       "        0.41662   ,  0.72925773,  0.48550267, -0.1133277 ,  0.46926134,\n",
       "        0.3071273 ,  0.43811076,  0.75039981, -0.13259627,  0.49599651,\n",
       "        1.9107509 ,  1.31412254,  2.23629774,  1.58019233,  1.96883979,\n",
       "        2.74544038,  0.68037505,  2.37250035,  2.12677447,  2.36764783,\n",
       "        1.59145352,  1.8094593 ,  2.06709524,  1.53701618,  1.73443397,\n",
       "        1.8488148 ,  1.74979576,  2.59700478,  3.37849804,  1.59771464,\n",
       "        2.29269802,  1.38039081,  3.05853289,  1.70512659,  2.04206405,\n",
       "        2.26818557,  1.60090634,  1.4789798 ,  2.163108  ,  2.22967422,\n",
       "        2.74288583,  2.64108743,  2.27341681,  1.62183291,  1.71126165,\n",
       "        3.118089  ,  2.07233708,  1.87370344,  1.51704793,  2.33705785,\n",
       "        2.49577404,  2.40396969,  1.76741003,  2.55080666,  2.52752243,\n",
       "        2.42231474,  2.1623032 ,  2.13732559,  2.0262517 ,  1.67161074])"
      ]
     },
     "execution_count": 44,
     "metadata": {},
     "output_type": "execute_result"
    }
   ],
   "source": [
    "pc[0]"
   ]
  },
  {
   "cell_type": "code",
   "execution_count": 38,
   "metadata": {
    "colab": {},
    "colab_type": "code",
    "id": "EywBYdAqmJzU"
   },
   "outputs": [],
   "source": [
    "# Create a dataframe with the PCs obtained\n",
    "pca_df2 = pd.DataFrame({'PC1':pc[0],'PC2':pc[1]})"
   ]
  },
  {
   "cell_type": "code",
   "execution_count": 48,
   "metadata": {
    "colab": {},
    "colab_type": "code",
    "id": "bFdqRZVimJzY"
   },
   "outputs": [
    {
     "data": {
      "text/html": [
       "<div>\n",
       "<style scoped>\n",
       "    .dataframe tbody tr th:only-of-type {\n",
       "        vertical-align: middle;\n",
       "    }\n",
       "\n",
       "    .dataframe tbody tr th {\n",
       "        vertical-align: top;\n",
       "    }\n",
       "\n",
       "    .dataframe thead th {\n",
       "        text-align: right;\n",
       "    }\n",
       "</style>\n",
       "<table border=\"1\" class=\"dataframe\">\n",
       "  <thead>\n",
       "    <tr style=\"text-align: right;\">\n",
       "      <th></th>\n",
       "      <th>PC1</th>\n",
       "      <th>PC2</th>\n",
       "    </tr>\n",
       "  </thead>\n",
       "  <tbody>\n",
       "    <tr>\n",
       "      <td>0</td>\n",
       "      <td>-2.815234</td>\n",
       "      <td>0.507801</td>\n",
       "    </tr>\n",
       "    <tr>\n",
       "      <td>1</td>\n",
       "      <td>-2.643812</td>\n",
       "      <td>-0.649042</td>\n",
       "    </tr>\n",
       "    <tr>\n",
       "      <td>2</td>\n",
       "      <td>-2.878407</td>\n",
       "      <td>-0.320283</td>\n",
       "    </tr>\n",
       "    <tr>\n",
       "      <td>3</td>\n",
       "      <td>-2.809684</td>\n",
       "      <td>-0.576657</td>\n",
       "    </tr>\n",
       "    <tr>\n",
       "      <td>4</td>\n",
       "      <td>-2.879275</td>\n",
       "      <td>0.670878</td>\n",
       "    </tr>\n",
       "  </tbody>\n",
       "</table>\n",
       "</div>"
      ],
      "text/plain": [
       "        PC1       PC2\n",
       "0 -2.815234  0.507801\n",
       "1 -2.643812 -0.649042\n",
       "2 -2.878407 -0.320283\n",
       "3 -2.809684 -0.576657\n",
       "4 -2.879275  0.670878"
      ]
     },
     "execution_count": 48,
     "metadata": {},
     "output_type": "execute_result"
    }
   ],
   "source": [
    "# Check the head of the resultant data\n",
    "pca_df2.head()"
   ]
  },
  {
   "cell_type": "code",
   "execution_count": 49,
   "metadata": {
    "colab": {},
    "colab_type": "code",
    "id": "VD24etU2mJzc"
   },
   "outputs": [
    {
     "data": {
      "text/html": [
       "<div>\n",
       "<style scoped>\n",
       "    .dataframe tbody tr th:only-of-type {\n",
       "        vertical-align: middle;\n",
       "    }\n",
       "\n",
       "    .dataframe tbody tr th {\n",
       "        vertical-align: top;\n",
       "    }\n",
       "\n",
       "    .dataframe thead th {\n",
       "        text-align: right;\n",
       "    }\n",
       "</style>\n",
       "<table border=\"1\" class=\"dataframe\">\n",
       "  <thead>\n",
       "    <tr style=\"text-align: right;\">\n",
       "      <th></th>\n",
       "      <th>ID</th>\n",
       "      <th>PC1</th>\n",
       "      <th>PC2</th>\n",
       "    </tr>\n",
       "  </thead>\n",
       "  <tbody>\n",
       "    <tr>\n",
       "      <td>0</td>\n",
       "      <td>100</td>\n",
       "      <td>-2.815234</td>\n",
       "      <td>0.507801</td>\n",
       "    </tr>\n",
       "    <tr>\n",
       "      <td>1</td>\n",
       "      <td>101</td>\n",
       "      <td>-2.643812</td>\n",
       "      <td>-0.649042</td>\n",
       "    </tr>\n",
       "    <tr>\n",
       "      <td>2</td>\n",
       "      <td>102</td>\n",
       "      <td>-2.878407</td>\n",
       "      <td>-0.320283</td>\n",
       "    </tr>\n",
       "    <tr>\n",
       "      <td>3</td>\n",
       "      <td>103</td>\n",
       "      <td>-2.809684</td>\n",
       "      <td>-0.576657</td>\n",
       "    </tr>\n",
       "    <tr>\n",
       "      <td>4</td>\n",
       "      <td>104</td>\n",
       "      <td>-2.879275</td>\n",
       "      <td>0.670878</td>\n",
       "    </tr>\n",
       "  </tbody>\n",
       "</table>\n",
       "</div>"
      ],
      "text/plain": [
       "    ID       PC1       PC2\n",
       "0  100 -2.815234  0.507801\n",
       "1  101 -2.643812 -0.649042\n",
       "2  102 -2.878407 -0.320283\n",
       "3  103 -2.809684 -0.576657\n",
       "4  104 -2.879275  0.670878"
      ]
     },
     "execution_count": 49,
     "metadata": {},
     "output_type": "execute_result"
    }
   ],
   "source": [
    "#Let's add back the ID to the given principal components\n",
    "pca_df2 = pd.DataFrame({'ID': list(ID),'PC1':pc[0],'PC2':pc[1]})\n",
    "pca_df2.head()"
   ]
  },
  {
   "cell_type": "markdown",
   "metadata": {
    "colab_type": "text",
    "id": "nbLW4tAumJzf"
   },
   "source": [
    "### Let's perfrom Outlier treatment"
   ]
  },
  {
   "cell_type": "code",
   "execution_count": 51,
   "metadata": {
    "colab": {},
    "colab_type": "code",
    "id": "-Hv_WL2YmJzg",
    "scrolled": true
   },
   "outputs": [
    {
     "data": {
      "text/plain": [
       "<function matplotlib.pyplot.show(*args, **kw)>"
      ]
     },
     "execution_count": 51,
     "metadata": {},
     "output_type": "execute_result"
    },
    {
     "data": {
      "image/png": "[encoded data removed]",
      "text/plain": [
       "<Figure size 432x288 with 1 Axes>"
      ]
     },
     "metadata": {
      "needs_background": "light"
     },
     "output_type": "display_data"
    }
   ],
   "source": [
    "## Let's perform Outlier Analysis\n",
    "#Let's do the outlier analysis before proceeding to clustering\n",
    "# IQR: Inter quntile tange method\n",
    "# For PC1\n",
    "plt.boxplot(pca_df2.PC1)\n",
    "plt.show"
   ]
  },
  {
   "cell_type": "code",
   "execution_count": 61,
   "metadata": {},
   "outputs": [],
   "source": [
    "Q1=pca_df2.PC1.quantile(0.05)\n",
    "Q3=pca_df2.PC1.quantile(0.95)\n",
    "IQR = Q3-Q1\n",
    "pca_df2 = pca_df2[(pca_df2.PC1 >=Q1) & (pca_df2.PC1 <=Q3)]"
   ]
  },
  {
   "cell_type": "code",
   "execution_count": 62,
   "metadata": {
    "colab": {},
    "colab_type": "code",
    "id": "FHR8eq6pmJzi"
   },
   "outputs": [],
   "source": [
    "# For PC2\n",
    "Q1=pca_df2.PC2.quantile(0.05)\n",
    "Q3=pca_df2.PC2.quantile(0.95)\n",
    "IQR = Q3-Q1\n",
    "pca_df2 = pca_df2[(pca_df2.PC2 >=Q1) & (pca_df2.PC2 <=Q3)]"
   ]
  },
  {
   "cell_type": "code",
   "execution_count": 0,
   "metadata": {
    "colab": {},
    "colab_type": "code",
    "id": "iaMWgRkCmJzo",
    "scrolled": true
   },
   "outputs": [],
   "source": [
    "#Let's visualise the resultant PCs\n"
   ]
  },
  {
   "cell_type": "markdown",
   "metadata": {
    "colab_type": "text",
    "id": "MBChFC71mJzu"
   },
   "source": [
    "## Clustering "
   ]
  },
  {
   "cell_type": "code",
   "execution_count": 57,
   "metadata": {
    "colab": {},
    "colab_type": "code",
    "id": "WV7Fj4_JmJzx"
   },
   "outputs": [],
   "source": [
    "#Calculating the Hopkins statistic\n",
    "from sklearn.neighbors import NearestNeighbors\n",
    "from random import sample\n",
    "from numpy.random import uniform\n",
    "import numpy as np\n",
    "from math import isnan\n",
    " \n",
    "def hopkins(X):\n",
    "    d = X.shape[1]\n",
    "    #d = len(vars) # columns\n",
    "    n = len(X) # rows\n",
    "    m = int(0.1 * n) \n",
    "    nbrs = NearestNeighbors(n_neighbors=1).fit(X.values)\n",
    " \n",
    "    rand_X = sample(range(0, n, 1), m)\n",
    " \n",
    "    ujd = []\n",
    "    wjd = []\n",
    "    for j in range(0, m):\n",
    "        u_dist, _ = nbrs.kneighbors(uniform(np.amin(X,axis=0),np.amax(X,axis=0),d).reshape(1, -1), 2, return_distance=True)\n",
    "        ujd.append(u_dist[0][1])\n",
    "        w_dist, _ = nbrs.kneighbors(X.iloc[rand_X[j]].values.reshape(1, -1), 2, return_distance=True)\n",
    "        wjd.append(w_dist[0][1])\n",
    " \n",
    "    H = sum(ujd) / (sum(ujd) + sum(wjd))\n",
    "    if isnan(H):\n",
    "        print(ujd, wjd)\n",
    "        H = 0\n",
    " \n",
    "    return H"
   ]
  },
  {
   "cell_type": "markdown",
   "metadata": {
    "colab_type": "text",
    "id": "XajcbMuhmJz-"
   },
   "source": [
    "## Question 6:\n",
    "\n",
    "Is the given data good for performing Clustering?"
   ]
  },
  {
   "cell_type": "code",
   "execution_count": 66,
   "metadata": {
    "colab": {},
    "colab_type": "code",
    "id": "PF9cfDeEmJz_"
   },
   "outputs": [
    {
     "data": {
      "text/plain": [
       "0.7706114166524389"
      ]
     },
     "execution_count": 66,
     "metadata": {},
     "output_type": "execute_result"
    }
   ],
   "source": [
    "#Let's check the Hopkins measure\n",
    "hopkins(pca_df2.drop('ID',axis=1))"
   ]
  },
  {
   "cell_type": "code",
   "execution_count": 0,
   "metadata": {
    "colab": {},
    "colab_type": "code",
    "collapsed": true,
    "id": "YOuQ_82kmJ0B"
   },
   "outputs": [],
   "source": [
    "#Answer here: "
   ]
  },
  {
   "cell_type": "code",
   "execution_count": 59,
   "metadata": {
    "colab": {},
    "colab_type": "code",
    "id": "DEaaZni9mJ0F"
   },
   "outputs": [],
   "source": [
    "# Now for perfroming clustering, we need to again drop the ID column, Let's drop it\n",
    "dat3_1=pca_df2.drop('ID',axis=1)"
   ]
  },
  {
   "cell_type": "code",
   "execution_count": 60,
   "metadata": {
    "colab": {},
    "colab_type": "code",
    "id": "DVslg0nUmJ0J"
   },
   "outputs": [
    {
     "data": {
      "text/plain": [
       "(120, 2)"
      ]
     },
     "execution_count": 60,
     "metadata": {},
     "output_type": "execute_result"
    }
   ],
   "source": [
    "# Check the shape of the resultant data\n",
    "dat3_1.shape"
   ]
  },
  {
   "cell_type": "markdown",
   "metadata": {
    "colab_type": "text",
    "id": "xoqotZykmJ0R"
   },
   "source": [
    "### K- means Clustering"
   ]
  },
  {
   "cell_type": "markdown",
   "metadata": {
    "colab_type": "text",
    "id": "itH5B80fmJ0S"
   },
   "source": [
    "## Question-7: Look at the silhouette score plot and choose the optimal number of cluster"
   ]
  },
  {
   "cell_type": "code",
   "execution_count": 68,
   "metadata": {
    "colab": {},
    "colab_type": "code",
    "id": "6QvpDpCXmJ0U"
   },
   "outputs": [
    {
     "name": "stdout",
     "output_type": "stream",
     "text": [
      "For n_clusters=2, the silhouette score is 0.6661213527336394\n",
      "For n_clusters=3, the silhouette score is 0.5333925553239417\n",
      "For n_clusters=4, the silhouette score is 0.5156461785792028\n",
      "For n_clusters=5, the silhouette score is 0.5506646057802683\n",
      "For n_clusters=6, the silhouette score is 0.4982860975547413\n",
      "For n_clusters=7, the silhouette score is 0.49640383572347446\n",
      "For n_clusters=8, the silhouette score is 0.505143429867493\n"
     ]
    }
   ],
   "source": [
    "#First we'll do the silhouette score analysis\n",
    "from sklearn.cluster import KMeans\n",
    "from sklearn.metrics import silhouette_score\n",
    "# silhouette analysis\n",
    "range_n_clusters = [2, 3, 4, 5, 6, 7, 8]\n",
    "\n",
    "for num_clusters in range_n_clusters:\n",
    "    \n",
    "    # intialise kmeans\n",
    "    kmeans = KMeans(n_clusters=num_clusters, max_iter=50)\n",
    "    kmeans.fit(dat3_1)\n",
    "    \n",
    "    cluster_labels = kmeans.labels_\n",
    "    \n",
    "    # silhouette score\n",
    "    silhouette_avg = silhouette_score(dat3_1, cluster_labels)\n",
    "    print(\"For n_clusters={0}, the silhouette score is {1}\".format(num_clusters, silhouette_avg))\n",
    "    \n",
    "  "
   ]
  },
  {
   "cell_type": "code",
   "execution_count": 70,
   "metadata": {},
   "outputs": [],
   "source": [
    "ss = []\n",
    "for k in range(2,10):\n",
    "    kmeans = KMeans(n_clusters=k, max_iter=50)\n",
    "    kmeans.fit(dat3_1)\n",
    "    ss.append([k,silhouette_score(dat3_1,kmeans.labels_)])"
   ]
  },
  {
   "cell_type": "code",
   "execution_count": 71,
   "metadata": {
    "colab": {},
    "colab_type": "code",
    "id": "oHAqvZV-mJ0Y"
   },
   "outputs": [
    {
     "data": {
      "image/png": "[encoded data removed]",
      "text/plain": [
       "<Figure size 432x288 with 1 Axes>"
      ]
     },
     "metadata": {
      "needs_background": "light"
     },
     "output_type": "display_data"
    }
   ],
   "source": [
    "plt.plot(pd.DataFrame(ss)[0], pd.DataFrame(ss)[1]);"
   ]
  },
  {
   "cell_type": "code",
   "execution_count": null,
   "metadata": {},
   "outputs": [],
   "source": [
    "# In Silhouette we look for peak,here it is 2"
   ]
  },
  {
   "cell_type": "markdown",
   "metadata": {
    "colab_type": "text",
    "id": "xqfjqFNHmJ0c"
   },
   "source": [
    "## Question-8: Look at the Elbow Curve plot and choose the optimal number of cluster"
   ]
  },
  {
   "cell_type": "code",
   "execution_count": 74,
   "metadata": {
    "colab": {},
    "colab_type": "code",
    "id": "axnJjp3HmJ0e"
   },
   "outputs": [
    {
     "data": {
      "text/plain": [
       "[<matplotlib.lines.Line2D at 0x7f579d6fbef0>]"
      ]
     },
     "execution_count": 74,
     "metadata": {},
     "output_type": "execute_result"
    },
    {
     "data": {
      "image/png": "[encoded data removed]",
      "text/plain": [
       "<Figure size 432x288 with 1 Axes>"
      ]
     },
     "metadata": {
      "needs_background": "light"
     },
     "output_type": "display_data"
    }
   ],
   "source": [
    "#Now let's proceed to the elbow curve method\n",
    "ssd = []\n",
    "for k in list(range(1,10)):\n",
    "    model = KMeans(n_clusters = k, max_iter=50)\n",
    "    model=model.fit(dat3_1)\n",
    "    ssd.append(model.inertia_)\n",
    "   \n",
    "plt.plot(ssd)"
   ]
  },
  {
   "cell_type": "markdown",
   "metadata": {
    "colab_type": "text",
    "id": "ZZErSWmemJ0l"
   },
   "source": [
    "## KMeans with the K the we have choosed"
   ]
  },
  {
   "cell_type": "code",
   "execution_count": 75,
   "metadata": {
    "colab": {},
    "colab_type": "code",
    "id": "0FL8kF78mJ0m"
   },
   "outputs": [
    {
     "data": {
      "text/plain": [
       "KMeans(algorithm='auto', copy_x=True, init='k-means++', max_iter=50,\n",
       "       n_clusters=2, n_init=10, n_jobs=None, precompute_distances='auto',\n",
       "       random_state=50, tol=0.0001, verbose=0)"
      ]
     },
     "execution_count": 75,
     "metadata": {},
     "output_type": "execute_result"
    }
   ],
   "source": [
    "#Let's perform K means using K=\n",
    "model_clus2 = KMeans(n_clusters=2,max_iter=50,random_state=50)\n",
    "model_clus2.fit(dat3_1)\n"
   ]
  },
  {
   "cell_type": "code",
   "execution_count": 78,
   "metadata": {
    "colab": {},
    "colab_type": "code",
    "id": "Gp9CgDCumJ0p"
   },
   "outputs": [
    {
     "data": {
      "text/html": [
       "<div>\n",
       "<style scoped>\n",
       "    .dataframe tbody tr th:only-of-type {\n",
       "        vertical-align: middle;\n",
       "    }\n",
       "\n",
       "    .dataframe tbody tr th {\n",
       "        vertical-align: top;\n",
       "    }\n",
       "\n",
       "    .dataframe thead th {\n",
       "        text-align: right;\n",
       "    }\n",
       "</style>\n",
       "<table border=\"1\" class=\"dataframe\">\n",
       "  <thead>\n",
       "    <tr style=\"text-align: right;\">\n",
       "      <th></th>\n",
       "      <th>ID</th>\n",
       "      <th>PC1</th>\n",
       "      <th>PC2</th>\n",
       "      <th>ClusterID</th>\n",
       "    </tr>\n",
       "  </thead>\n",
       "  <tbody>\n",
       "    <tr>\n",
       "      <td>0</td>\n",
       "      <td>117.0</td>\n",
       "      <td>-2.561200</td>\n",
       "      <td>0.506639</td>\n",
       "      <td>1</td>\n",
       "    </tr>\n",
       "    <tr>\n",
       "      <td>1</td>\n",
       "      <td>120.0</td>\n",
       "      <td>-2.289639</td>\n",
       "      <td>0.428783</td>\n",
       "      <td>1</td>\n",
       "    </tr>\n",
       "    <tr>\n",
       "      <td>2</td>\n",
       "      <td>121.0</td>\n",
       "      <td>-2.529451</td>\n",
       "      <td>0.940480</td>\n",
       "      <td>1</td>\n",
       "    </tr>\n",
       "    <tr>\n",
       "      <td>3</td>\n",
       "      <td>123.0</td>\n",
       "      <td>-2.167639</td>\n",
       "      <td>0.102468</td>\n",
       "      <td>1</td>\n",
       "    </tr>\n",
       "    <tr>\n",
       "      <td>4</td>\n",
       "      <td>124.0</td>\n",
       "      <td>-2.513700</td>\n",
       "      <td>0.148576</td>\n",
       "      <td>1</td>\n",
       "    </tr>\n",
       "  </tbody>\n",
       "</table>\n",
       "</div>"
      ],
      "text/plain": [
       "      ID       PC1       PC2  ClusterID\n",
       "0  117.0 -2.561200  0.506639          1\n",
       "1  120.0 -2.289639  0.428783          1\n",
       "2  121.0 -2.529451  0.940480          1\n",
       "3  123.0 -2.167639  0.102468          1\n",
       "4  124.0 -2.513700  0.148576          1"
      ]
     },
     "execution_count": 78,
     "metadata": {},
     "output_type": "execute_result"
    }
   ],
   "source": [
    "# Let's add the cluster Ids to the PCs data \n",
    "dat_km = pd.concat([pca_df2.reset_index().drop('index',axis=1),pd.Series(model_clus2.labels_)],axis=1)\n",
    "dat_km.columns = ['ID','PC1','PC2','ClusterID']\n",
    "dat_km.head()"
   ]
  },
  {
   "cell_type": "code",
   "execution_count": 79,
   "metadata": {
    "colab": {},
    "colab_type": "code",
    "id": "jaj4lmU4mJ0u"
   },
   "outputs": [
    {
     "data": {
      "text/plain": [
       "0    85\n",
       "1    35\n",
       "Name: ClusterID, dtype: int64"
      ]
     },
     "execution_count": 79,
     "metadata": {},
     "output_type": "execute_result"
    }
   ],
   "source": [
    "# Check the count of observation per cluster\n",
    "dat_km['ClusterID'].value_counts()"
   ]
  },
  {
   "cell_type": "code",
   "execution_count": 86,
   "metadata": {
    "colab": {},
    "colab_type": "code",
    "id": "IsJpcx8UmJ03",
    "scrolled": true
   },
   "outputs": [
    {
     "data": {
      "text/plain": [
       "<function matplotlib.pyplot.show(*args, **kw)>"
      ]
     },
     "execution_count": 86,
     "metadata": {},
     "output_type": "execute_result"
    },
    {
     "data": {
      "image/png": "[encoded data removed]",
      "text/plain": [
       "<Figure size 432x288 with 1 Axes>"
      ]
     },
     "metadata": {
      "needs_background": "light"
     },
     "output_type": "display_data"
    }
   ],
   "source": [
    "# Plot the Cluster with respect to the clusters obtained\n",
    "sns.scatterplot(x='PC1',y='PC2', hue = 'ClusterID',legend='full',data=dat_km)\n",
    "plt.show"
   ]
  },
  {
   "cell_type": "markdown",
   "metadata": {
    "colab_type": "text",
    "id": "G0JuHuIFmJ1F"
   },
   "source": [
    "## Cluster Profiling"
   ]
  },
  {
   "cell_type": "code",
   "execution_count": 91,
   "metadata": {
    "colab": {},
    "colab_type": "code",
    "id": "TBQwQhiqmJ1G"
   },
   "outputs": [
    {
     "data": {
      "text/html": [
       "<div>\n",
       "<style scoped>\n",
       "    .dataframe tbody tr th:only-of-type {\n",
       "        vertical-align: middle;\n",
       "    }\n",
       "\n",
       "    .dataframe tbody tr th {\n",
       "        vertical-align: top;\n",
       "    }\n",
       "\n",
       "    .dataframe thead th {\n",
       "        text-align: right;\n",
       "    }\n",
       "</style>\n",
       "<table border=\"1\" class=\"dataframe\">\n",
       "  <thead>\n",
       "    <tr style=\"text-align: right;\">\n",
       "      <th></th>\n",
       "      <th>sepal_length</th>\n",
       "      <th>sepal_width</th>\n",
       "      <th>petal_length</th>\n",
       "      <th>petal_width</th>\n",
       "      <th>ID</th>\n",
       "      <th>PC1</th>\n",
       "      <th>PC2</th>\n",
       "      <th>ClusterID</th>\n",
       "    </tr>\n",
       "  </thead>\n",
       "  <tbody>\n",
       "    <tr>\n",
       "      <td>0</td>\n",
       "      <td>5.1</td>\n",
       "      <td>3.5</td>\n",
       "      <td>1.4</td>\n",
       "      <td>0.3</td>\n",
       "      <td>117</td>\n",
       "      <td>-2.561200</td>\n",
       "      <td>0.506639</td>\n",
       "      <td>1</td>\n",
       "    </tr>\n",
       "    <tr>\n",
       "      <td>1</td>\n",
       "      <td>5.4</td>\n",
       "      <td>3.4</td>\n",
       "      <td>1.7</td>\n",
       "      <td>0.2</td>\n",
       "      <td>120</td>\n",
       "      <td>-2.289639</td>\n",
       "      <td>0.428783</td>\n",
       "      <td>1</td>\n",
       "    </tr>\n",
       "    <tr>\n",
       "      <td>2</td>\n",
       "      <td>5.1</td>\n",
       "      <td>3.7</td>\n",
       "      <td>1.5</td>\n",
       "      <td>0.4</td>\n",
       "      <td>121</td>\n",
       "      <td>-2.529451</td>\n",
       "      <td>0.940480</td>\n",
       "      <td>1</td>\n",
       "    </tr>\n",
       "    <tr>\n",
       "      <td>3</td>\n",
       "      <td>5.1</td>\n",
       "      <td>3.3</td>\n",
       "      <td>1.7</td>\n",
       "      <td>0.5</td>\n",
       "      <td>123</td>\n",
       "      <td>-2.167639</td>\n",
       "      <td>0.102468</td>\n",
       "      <td>1</td>\n",
       "    </tr>\n",
       "    <tr>\n",
       "      <td>4</td>\n",
       "      <td>4.8</td>\n",
       "      <td>3.4</td>\n",
       "      <td>1.9</td>\n",
       "      <td>0.2</td>\n",
       "      <td>124</td>\n",
       "      <td>-2.513700</td>\n",
       "      <td>0.148576</td>\n",
       "      <td>1</td>\n",
       "    </tr>\n",
       "  </tbody>\n",
       "</table>\n",
       "</div>"
      ],
      "text/plain": [
       "   sepal_length  sepal_width  petal_length  petal_width   ID       PC1  \\\n",
       "0           5.1          3.5           1.4          0.3  117 -2.561200   \n",
       "1           5.4          3.4           1.7          0.2  120 -2.289639   \n",
       "2           5.1          3.7           1.5          0.4  121 -2.529451   \n",
       "3           5.1          3.3           1.7          0.5  123 -2.167639   \n",
       "4           4.8          3.4           1.9          0.2  124 -2.513700   \n",
       "\n",
       "        PC2  ClusterID  \n",
       "0  0.506639          1  \n",
       "1  0.428783          1  \n",
       "2  0.940480          1  \n",
       "3  0.102468          1  \n",
       "4  0.148576          1  "
      ]
     },
     "execution_count": 91,
     "metadata": {},
     "output_type": "execute_result"
    }
   ],
   "source": [
    "# Let's merge the original data with the data(ClusterID)\n",
    "dat5 = pd.merge(dat,dat_km,how='inner',on='ID')\n",
    "dat5.head()"
   ]
  },
  {
   "cell_type": "code",
   "execution_count": 92,
   "metadata": {
    "colab": {},
    "colab_type": "code",
    "id": "gil21sz6mJ1J"
   },
   "outputs": [
    {
     "data": {
      "text/html": [
       "<div>\n",
       "<style scoped>\n",
       "    .dataframe tbody tr th:only-of-type {\n",
       "        vertical-align: middle;\n",
       "    }\n",
       "\n",
       "    .dataframe tbody tr th {\n",
       "        vertical-align: top;\n",
       "    }\n",
       "\n",
       "    .dataframe thead th {\n",
       "        text-align: right;\n",
       "    }\n",
       "</style>\n",
       "<table border=\"1\" class=\"dataframe\">\n",
       "  <thead>\n",
       "    <tr style=\"text-align: right;\">\n",
       "      <th></th>\n",
       "      <th>sepal_length</th>\n",
       "      <th>sepal_width</th>\n",
       "      <th>petal_length</th>\n",
       "      <th>petal_width</th>\n",
       "      <th>ID</th>\n",
       "      <th>ClusterID</th>\n",
       "    </tr>\n",
       "  </thead>\n",
       "  <tbody>\n",
       "    <tr>\n",
       "      <td>0</td>\n",
       "      <td>5.1</td>\n",
       "      <td>3.5</td>\n",
       "      <td>1.4</td>\n",
       "      <td>0.3</td>\n",
       "      <td>117</td>\n",
       "      <td>1</td>\n",
       "    </tr>\n",
       "    <tr>\n",
       "      <td>1</td>\n",
       "      <td>5.4</td>\n",
       "      <td>3.4</td>\n",
       "      <td>1.7</td>\n",
       "      <td>0.2</td>\n",
       "      <td>120</td>\n",
       "      <td>1</td>\n",
       "    </tr>\n",
       "    <tr>\n",
       "      <td>2</td>\n",
       "      <td>5.1</td>\n",
       "      <td>3.7</td>\n",
       "      <td>1.5</td>\n",
       "      <td>0.4</td>\n",
       "      <td>121</td>\n",
       "      <td>1</td>\n",
       "    </tr>\n",
       "    <tr>\n",
       "      <td>3</td>\n",
       "      <td>5.1</td>\n",
       "      <td>3.3</td>\n",
       "      <td>1.7</td>\n",
       "      <td>0.5</td>\n",
       "      <td>123</td>\n",
       "      <td>1</td>\n",
       "    </tr>\n",
       "    <tr>\n",
       "      <td>4</td>\n",
       "      <td>4.8</td>\n",
       "      <td>3.4</td>\n",
       "      <td>1.9</td>\n",
       "      <td>0.2</td>\n",
       "      <td>124</td>\n",
       "      <td>1</td>\n",
       "    </tr>\n",
       "  </tbody>\n",
       "</table>\n",
       "</div>"
      ],
      "text/plain": [
       "   sepal_length  sepal_width  petal_length  petal_width   ID  ClusterID\n",
       "0           5.1          3.5           1.4          0.3  117          1\n",
       "1           5.4          3.4           1.7          0.2  120          1\n",
       "2           5.1          3.7           1.5          0.4  121          1\n",
       "3           5.1          3.3           1.7          0.5  123          1\n",
       "4           4.8          3.4           1.9          0.2  124          1"
      ]
     },
     "execution_count": 92,
     "metadata": {},
     "output_type": "execute_result"
    }
   ],
   "source": [
    "# Let's drop PCs from the data\n",
    "dat5.drop(['PC1','PC2'],axis=1,inplace=True)\n",
    "dat5.head()"
   ]
  },
  {
   "cell_type": "markdown",
   "metadata": {
    "colab_type": "text",
    "collapsed": true,
    "id": "l5d1xNtWmJ1T"
   },
   "source": [
    "#### So we have performed the clustering using the PCs and have now allocated the clusterIDs back to each of the datapoints"
   ]
  },
  {
   "cell_type": "markdown",
   "metadata": {
    "colab_type": "text",
    "id": "VvrdZbq0mJ1U"
   },
   "source": [
    "## Analysis of the clusters"
   ]
  },
  {
   "cell_type": "code",
   "execution_count": 93,
   "metadata": {},
   "outputs": [
    {
     "data": {
      "text/plain": [
       "ClusterID\n",
       "0    6.160656\n",
       "1    5.351429\n",
       "Name: sepal_length, dtype: float64"
      ]
     },
     "execution_count": 93,
     "metadata": {},
     "output_type": "execute_result"
    }
   ],
   "source": [
    "dat5.groupby(['ClusterID']).sepal_length.mean()"
   ]
  },
  {
   "cell_type": "code",
   "execution_count": 94,
   "metadata": {
    "colab": {},
    "colab_type": "code",
    "id": "fC9WLmZgmJ1W"
   },
   "outputs": [],
   "source": [
    "# Let's profile the cluster by taking the mean of various attributes\n",
    "sepal_l = pd.DataFrame(dat5.groupby(['ClusterID']).sepal_length.mean())\n",
    "sepal_w = pd.DataFrame(dat5.groupby(['ClusterID']).sepal_width.mean())\n",
    "petal_l = pd.DataFrame(dat5.groupby(['ClusterID']).petal_length.mean())\n",
    "petal_w = pd.DataFrame(dat5.groupby(['ClusterID']).petal_width.mean())"
   ]
  },
  {
   "cell_type": "code",
   "execution_count": 95,
   "metadata": {
    "colab": {},
    "colab_type": "code",
    "id": "JLBGruipmJ1k"
   },
   "outputs": [
    {
     "data": {
      "text/html": [
       "<div>\n",
       "<style scoped>\n",
       "    .dataframe tbody tr th:only-of-type {\n",
       "        vertical-align: middle;\n",
       "    }\n",
       "\n",
       "    .dataframe tbody tr th {\n",
       "        vertical-align: top;\n",
       "    }\n",
       "\n",
       "    .dataframe thead th {\n",
       "        text-align: right;\n",
       "    }\n",
       "</style>\n",
       "<table border=\"1\" class=\"dataframe\">\n",
       "  <thead>\n",
       "    <tr style=\"text-align: right;\">\n",
       "      <th></th>\n",
       "      <th>sepal_length</th>\n",
       "      <th>sepal_width</th>\n",
       "      <th>petal_length</th>\n",
       "      <th>petal_width</th>\n",
       "    </tr>\n",
       "    <tr>\n",
       "      <th>ClusterID</th>\n",
       "      <th></th>\n",
       "      <th></th>\n",
       "      <th></th>\n",
       "      <th></th>\n",
       "    </tr>\n",
       "  </thead>\n",
       "  <tbody>\n",
       "    <tr>\n",
       "      <td>0</td>\n",
       "      <td>6.160656</td>\n",
       "      <td>2.881967</td>\n",
       "      <td>4.855738</td>\n",
       "      <td>1.659016</td>\n",
       "    </tr>\n",
       "    <tr>\n",
       "      <td>1</td>\n",
       "      <td>5.351429</td>\n",
       "      <td>3.225714</td>\n",
       "      <td>2.357143</td>\n",
       "      <td>0.594286</td>\n",
       "    </tr>\n",
       "  </tbody>\n",
       "</table>\n",
       "</div>"
      ],
      "text/plain": [
       "           sepal_length  sepal_width  petal_length  petal_width\n",
       "ClusterID                                                      \n",
       "0              6.160656     2.881967      4.855738     1.659016\n",
       "1              5.351429     3.225714      2.357143     0.594286"
      ]
     },
     "execution_count": 95,
     "metadata": {},
     "output_type": "execute_result"
    }
   ],
   "source": [
    "# Let's concat the resultant with the Cluster ID columns\n",
    "df = pd.concat([sepal_l,sepal_w,petal_l,petal_w],axis=1)\n",
    "df"
   ]
  },
  {
   "cell_type": "code",
   "execution_count": 0,
   "metadata": {
    "colab": {},
    "colab_type": "code",
    "id": "Hg00GDYMmJ1o"
   },
   "outputs": [],
   "source": [
    "# Let's add column name to it\n"
   ]
  },
  {
   "cell_type": "markdown",
   "metadata": {
    "colab_type": "text",
    "id": "JvRVCgaUmJ1y"
   },
   "source": [
    "## Finding the observations that belong to certain cluster"
   ]
  },
  {
   "cell_type": "code",
   "execution_count": 0,
   "metadata": {
    "colab": {},
    "colab_type": "code",
    "collapsed": true,
    "id": "kHNCD90dmJ10"
   },
   "outputs": [],
   "source": [
    "#Let's say my problem statement here is to just the find the flowers which have a very low petal length and petal width.\n",
    "#Here's how you can make up for the outlier analysis that you did earlier.\n",
    "#So you can choose those cluster means as cut offs and find the final list of flowers."
   ]
  },
  {
   "cell_type": "code",
   "execution_count": 96,
   "metadata": {
    "colab": {},
    "colab_type": "code",
    "id": "kfenrCpGmJ15"
   },
   "outputs": [
    {
     "data": {
      "text/plain": [
       "0     117\n",
       "1     120\n",
       "2     121\n",
       "3     123\n",
       "4     124\n",
       "5     125\n",
       "6     126\n",
       "7     127\n",
       "8     128\n",
       "9     129\n",
       "10    130\n",
       "11    131\n",
       "12    134\n",
       "13    135\n",
       "14    136\n",
       "15    137\n",
       "16    138\n",
       "17    139\n",
       "18    140\n",
       "19    142\n",
       "20    143\n",
       "21    145\n",
       "22    147\n",
       "23    148\n",
       "24    149\n",
       "25    150\n",
       "26    151\n",
       "27    152\n",
       "28    154\n",
       "29    155\n",
       "30    156\n",
       "31    158\n",
       "32    159\n",
       "33    161\n",
       "34    163\n",
       "Name: ID, dtype: int64"
      ]
     },
     "execution_count": 96,
     "metadata": {},
     "output_type": "execute_result"
    }
   ],
   "source": [
    "#Let's use the concept of binning\n",
    "dat5[dat5['ClusterID'] == 1]['ID']"
   ]
  }
 ],
 "metadata": {
  "colab": {
   "name": "PCA-Clustering demonstration-Questions.ipynb",
   "provenance": []
  },
  "kernelspec": {
   "display_name": "Python 3",
   "language": "python",
   "name": "python3"
  },
  "language_info": {
   "codemirror_mode": {
    "name": "ipython",
    "version": 3
   },
   "file_extension": ".py",
   "mimetype": "text/x-python",
   "name": "python",
   "nbconvert_exporter": "python",
   "pygments_lexer": "ipython3",
   "version": "3.6.8"
  }
 },
 "nbformat": 4,
 "nbformat_minor": 1
}
